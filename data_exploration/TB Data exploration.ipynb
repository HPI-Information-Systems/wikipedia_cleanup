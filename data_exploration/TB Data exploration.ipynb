{
 "cells": [
  {
   "cell_type": "code",
   "execution_count": null,
   "id": "6d3443ab",
   "metadata": {},
   "outputs": [],
   "source": [
    "import json\n",
    "from pathlib import Path\n",
    "\n",
    "import numpy as np\n",
    "import pandas as pd\n",
    "from tqdm import tqdm\n",
    "import matplotlib.pyplot as plt"
   ]
  },
  {
   "cell_type": "code",
   "execution_count": null,
   "id": "5de09aca",
   "metadata": {},
   "outputs": [],
   "source": [
    "input_data = Path(\"../matched-infoboxes-extracted/\")\n",
    "inp = list(input_data.rglob('*.json'))\n",
    "files = [x for x in inp if x.is_file()]\n",
    "len(files) # total 580"
   ]
  },
  {
   "cell_type": "code",
   "execution_count": null,
   "id": "e4957d40",
   "metadata": {},
   "outputs": [],
   "source": [
    "num_edits = 0\n",
    "change_tuples = []\n",
    "for file in tqdm(files[:20]):\n",
    "    # print(file)\n",
    "    with open(file, 'r', encoding='utf-8') as f:\n",
    "        for jsonObj in f:\n",
    "            single_edit = json.loads(jsonObj)\n",
    "            num_edits += 1\n",
    "            #entries.append(single_edit)\n",
    "            title = single_edit['pageTitle']\n",
    "            pageID = single_edit['pageID']\n",
    "            key = single_edit['key']\n",
    "            template = single_edit['template'] if 'template' in single_edit.keys() else None\n",
    "            changes = single_edit['changes']\n",
    "            timestamp = single_edit['validFrom']\n",
    "            revisionId = single_edit['revisionId']\n",
    "            attributes = single_edit['attributes'] if 'attributes' in single_edit.keys() else None\n",
    "            # print(single_edit['user'])\n",
    "            user_name = single_edit['user']['username'] if 'username' in single_edit['user'].keys() else None\n",
    "            user_id = single_edit['user']['id'] if 'id' in single_edit['user'].keys() else None\n",
    "            user_ip = single_edit['user']['ip'] if 'ip' in single_edit['user'].keys() else None\n",
    "            for change in changes:\n",
    "                name = change['property']['name']\n",
    "                current_value = change['currentValue'] if 'currentValue' in change.keys() else None\n",
    "                previous_value = change['previousValue'] if 'previousValue' in change.keys() else None\n",
    "                change_tuples.append((title, pageID, key, template, name, previous_value, current_value, timestamp, revisionId, user_name, user_id, user_ip,attributes))\n",
    "print(num_edits) # 1934309 for 50\n",
    "len(change_tuples) # 9715201 for 50"
   ]
  },
  {
   "cell_type": "markdown",
   "id": "9cf0d401",
   "metadata": {},
   "source": [
    "## Duplicate Test"
   ]
  },
  {
   "cell_type": "code",
   "execution_count": null,
   "id": "31d591f5",
   "metadata": {},
   "outputs": [],
   "source": [
    "data = pd.DataFrame(change_tuples, columns=['pageTitle', 'pageID', 'key', 'template', 'name', 'previous_value', 'current_value', 'timestamp', 'revisionId', 'user_name', 'user_id', 'user_ip', 'attributes'])\n",
    "data['timestamp'] = pd.to_datetime(data['timestamp'])"
   ]
  },
  {
   "cell_type": "code",
   "execution_count": null,
   "id": "584dd9c8",
   "metadata": {},
   "outputs": [],
   "source": [
    "data[data[['pageTitle', 'name', 'timestamp']].duplicated(keep=False)].sort_values(['pageTitle', 'name', 'timestamp']).head(50)"
   ]
  },
  {
   "cell_type": "code",
   "execution_count": null,
   "id": "5abbd6a8",
   "metadata": {},
   "outputs": [],
   "source": [
    "idt = 4105031\n",
    "print(data.iloc[idt])\n",
    "data.iloc[idt]['attributes']"
   ]
  },
  {
   "cell_type": "code",
   "execution_count": null,
   "id": "8728ba61",
   "metadata": {},
   "outputs": [],
   "source": [
    "idt = 4105044\n",
    "print(data.iloc[idt])\n",
    "data.iloc[idt]['attributes']"
   ]
  },
  {
   "cell_type": "code",
   "execution_count": null,
   "id": "33a648fa",
   "metadata": {},
   "outputs": [],
   "source": []
  }
 ],
 "metadata": {
  "interpreter": {
   "hash": "9d6890af0e7111529245105513a4571ecfc3e378a026bfe7b711a2eb3eb8eca5"
  },
  "kernelspec": {
   "display_name": "Python 3",
   "language": "python",
   "name": "python3"
  },
  "language_info": {
   "codemirror_mode": {
    "name": "ipython",
    "version": 3
   },
   "file_extension": ".py",
   "mimetype": "text/x-python",
   "name": "python",
   "nbconvert_exporter": "python",
   "pygments_lexer": "ipython3",
   "version": "3.6.15"
  }
 },
 "nbformat": 4,
 "nbformat_minor": 5
}
