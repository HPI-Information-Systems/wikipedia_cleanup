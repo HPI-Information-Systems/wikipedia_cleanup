{
 "cells": [
  {
   "cell_type": "code",
   "execution_count": null,
   "id": "8a573769",
   "metadata": {},
   "outputs": [],
   "source": [
    "import json\n",
    "from pathlib import Path\n",
    "from datetime import timedelta\n",
    "\n",
    "import numpy as np\n",
    "import pandas as pd\n",
    "from tqdm import tqdm\n",
    "import matplotlib.pyplot as plt"
   ]
  },
  {
   "cell_type": "code",
   "execution_count": null,
   "id": "877ed480",
   "metadata": {},
   "outputs": [],
   "source": [
    "mp_drive_dir = Path(\"/media/hpi_share/\")#Path(\"//FS23/projekte$/MP2021/MPWS2021/MPWS2021FN1\")\n",
    "mp_plot_dir = mp_drive_dir / \"plots\"\n",
    "input_data = list(Path(\"../../data\").rglob(\"*.json\"))\n",
    "files = [x for x in input_data if x.is_file()]\n",
    "len(files) # total 580"
   ]
  },
  {
   "cell_type": "code",
   "execution_count": null,
   "id": "8811408a",
   "metadata": {},
   "outputs": [],
   "source": [
    "num_edits = 0\n",
    "change_tuples = []\n",
    "for file in tqdm(files[:50]):\n",
    "    with open(file, 'r', encoding='utf-8') as f:\n",
    "        for jsonObj in f:\n",
    "            single_edit = json.loads(jsonObj)\n",
    "            num_edits += 1\n",
    "            #entries.append(single_edit)\n",
    "            title = single_edit['pageTitle']#['key']\n",
    "            changes = single_edit['changes']\n",
    "            timestamp = single_edit['validFrom']\n",
    "            for change in changes:\n",
    "                name = change['property']['name']\n",
    "                current_value = change['currentValue'] if 'currentValue' in change.keys() else None\n",
    "                previous_value = change['previousValue'] if 'previousValue' in change.keys() else None\n",
    "                change_tuples.append((title, name, previous_value, current_value, timestamp))\n",
    "print(num_edits) # 1934309 for 50\n",
    "len(change_tuples) # 9715201 for 50"
   ]
  },
  {
   "cell_type": "code",
   "execution_count": null,
   "id": "63c6df1c",
   "metadata": {
    "scrolled": false
   },
   "outputs": [],
   "source": [
    "data = pd.DataFrame(change_tuples, columns=['title', 'name', 'previous_value', 'current_value', 'timestamp'])\n",
    "data['timestamp'] = pd.to_datetime(data['timestamp'])"
   ]
  },
  {
   "cell_type": "code",
   "execution_count": null,
   "id": "13b8487a",
   "metadata": {},
   "outputs": [],
   "source": [
    "len(data[['title', 'name', 'timestamp']]) - len(data[['title', 'name', 'timestamp']].drop_duplicates()) \n",
    "# 209344 with title as key\n",
    "# 1794 with key as key"
   ]
  },
  {
   "cell_type": "code",
   "execution_count": null,
   "id": "4fa4e762",
   "metadata": {},
   "outputs": [],
   "source": [
    "data[data[['title', 'name', 'timestamp']].duplicated(keep=False)].sort_values(['title', 'name', 'timestamp']).head(20)"
   ]
  },
  {
   "cell_type": "markdown",
   "id": "ace216ed",
   "metadata": {},
   "source": [
    "# Analyze number of changes"
   ]
  },
  {
   "cell_type": "code",
   "execution_count": null,
   "id": "00c34c4b",
   "metadata": {},
   "outputs": [],
   "source": [
    "changes_per_page = data.groupby(['title'])['timestamp'].count()\n",
    "plt.hist(changes_per_page.to_numpy(), bins=100)\n",
    "plt.yscale('log')\n",
    "plt.title(\"Number of changes per page\")\n",
    "plt.ylabel(\"#Occurances, log\")\n",
    "plt.savefig(mp_plot_dir / 'changes_per_page.png')"
   ]
  },
  {
   "cell_type": "code",
   "execution_count": null,
   "id": "23a2e906",
   "metadata": {},
   "outputs": [],
   "source": [
    "changes_per_attribute = data.groupby(['title', 'name'])['timestamp'].count()\n",
    "plt.hist(changes_per_attribute.to_numpy(), bins=100)\n",
    "plt.yscale('log')\n",
    "plt.title(\"Number of changes per attribute\")\n",
    "plt.ylabel(\"#Occurances, log\")\n",
    "plt.savefig(mp_plot_dir / 'changes_per_attribute.png')"
   ]
  },
  {
   "cell_type": "code",
   "execution_count": null,
   "id": "770da641",
   "metadata": {},
   "outputs": [],
   "source": [
    "data_with_agg = data.join(changes_per_page, on='title', rsuffix='_r').rename(columns={'timestamp_r': 'changes_per_page'})\n",
    "data_with_agg = data_with_agg.join(changes_per_attribute, on=['title', 'name'], rsuffix='_r').rename(columns={'timestamp_r': 'changes_per_attribute'})"
   ]
  },
  {
   "cell_type": "code",
   "execution_count": null,
   "id": "98c96116",
   "metadata": {},
   "outputs": [],
   "source": [
    "sorted_data = data_with_agg.sort_values('changes_per_attribute', ascending=False)\n",
    "sorted_data.head()"
   ]
  },
  {
   "cell_type": "code",
   "execution_count": null,
   "id": "90166c68",
   "metadata": {},
   "outputs": [],
   "source": [
    "sorted_data = data_with_agg.sort_values('changes_per_page', ascending=False)\n",
    "sorted_data.head()"
   ]
  },
  {
   "cell_type": "markdown",
   "id": "290dd54e",
   "metadata": {},
   "source": [
    "## Changes per time"
   ]
  },
  {
   "cell_type": "code",
   "execution_count": null,
   "id": "be96cb8b",
   "metadata": {},
   "outputs": [],
   "source": [
    "changes_per_week = data.groupby(pd.Grouper(key='timestamp', freq='W-MON'))['title'].count()\n",
    "changes_per_week.plot()\n",
    "plt.title('Changes per week')\n",
    "plt.savefig(mp_plot_dir / 'changes_per_week.png')"
   ]
  },
  {
   "cell_type": "code",
   "execution_count": null,
   "id": "3e1d8345",
   "metadata": {},
   "outputs": [],
   "source": [
    "data['timestamp'].dt.day_name()"
   ]
  },
  {
   "cell_type": "code",
   "execution_count": null,
   "id": "47ba5aba",
   "metadata": {},
   "outputs": [],
   "source": [
    "changes_on_weekday = data.groupby(data['timestamp'].dt.day_name())['title'].count()\n",
    "sorted_weekdays = [ 'Monday', 'Tuesday', 'Wednesday', 'Thursday', 'Friday', 'Saturday', 'Sunday']\n",
    "changes_on_weekday = changes_on_weekday.reindex(sorted_weekdays)"
   ]
  },
  {
   "cell_type": "code",
   "execution_count": null,
   "id": "4e8c8f5e",
   "metadata": {},
   "outputs": [],
   "source": [
    "changes_on_weekday.plot.bar()\n",
    "plt.savefig(mp_plot_dir / 'changes_on_weekday.png')"
   ]
  },
  {
   "cell_type": "markdown",
   "id": "0452999d",
   "metadata": {},
   "source": [
    "# Change frequency"
   ]
  },
  {
   "cell_type": "code",
   "execution_count": null,
   "id": "bca3c8c2",
   "metadata": {},
   "outputs": [],
   "source": [
    "changes_per_week_per_item = data.groupby(['title', 'name', pd.Grouper(key='timestamp', freq='W-MON')])['title'].count()"
   ]
  },
  {
   "cell_type": "code",
   "execution_count": null,
   "id": "70d3531e",
   "metadata": {},
   "outputs": [],
   "source": [
    "x = changes_per_week_per_item.to_numpy()\n",
    "print(\"different changes per week\")\n",
    "print(np.unique(x))"
   ]
  },
  {
   "cell_type": "code",
   "execution_count": null,
   "id": "57eb3442",
   "metadata": {},
   "outputs": [],
   "source": [
    "entries = data.groupby(['title', 'name'])\n",
    "total_time_interval = entries['timestamp'].max() - entries['timestamp'].min()\n",
    "total_time_interval_weeks = (total_time_interval.to_numpy() / 10**9).astype(float)  / 60 / 60 / 24 / 7 # weeks"
   ]
  },
  {
   "cell_type": "code",
   "execution_count": null,
   "id": "211f932a",
   "metadata": {},
   "outputs": [],
   "source": [
    "deltas"
   ]
  },
  {
   "cell_type": "code",
   "execution_count": null,
   "id": "0a040dbb",
   "metadata": {},
   "outputs": [],
   "source": [
    "# make a plot for this\n",
    "deltas = [0, 1, 7, 30, 180, 365]\n",
    "deltas.extend([365* i for i in range(2,15)])\n",
    "total_count = len(total_time_interval)\n",
    "long_standing_count = []\n",
    "changes_per_entity = entries.count()['timestamp']\n",
    "for d in deltas:\n",
    "    day_delta = timedelta(days=d)\n",
    "    long_standing_entries = (total_time_interval > day_delta)\n",
    "    long_standing_count.append(long_standing_entries.sum())\n",
    "    print(f\"Number of entries with more than {day_delta} between edits: {long_standing_entries.sum()}, \\t\"\n",
    "          f\"Number without: {(~long_standing_entries).sum()}\")"
   ]
  },
  {
   "cell_type": "code",
   "execution_count": null,
   "id": "d52573c5",
   "metadata": {},
   "outputs": [],
   "source": [
    "x = np.arange(len(long_standing_count))  # the label locations\n",
    "width = 0.35  # the width of the bars\n",
    "\n",
    "fig, ax = plt.subplots()\n",
    "rects1 = ax.bar(x - width/2, long_standing_count, width, label='long standing')\n",
    "rects2 = ax.bar(x + width/2, [total_count - c for c in long_standing_count], width, label='below threshold')\n",
    "\n",
    "# Add some text for labels, title and custom x-axis tick labels, etc.\n",
    "ax.set_ylabel('Counts')\n",
    "ax.set_xlabel('Time in days')\n",
    "ax.set_title('Number of entities with difference between first and last update time > certain time')\n",
    "ax.set_xticks(x)\n",
    "ax.set_xticklabels(deltas, rotation=45)\n",
    "ax.legend()\n",
    "\n",
    "fig.tight_layout()\n",
    "plt.savefig(mp_plot_dir / 'time_difference_first_last.png')\n",
    "plt.show()\n"
   ]
  },
  {
   "cell_type": "code",
   "execution_count": null,
   "id": "c0fa1d08",
   "metadata": {},
   "outputs": [],
   "source": [
    "changes_per_week = (entries.count()['timestamp'] / total_time_interval_weeks)"
   ]
  },
  {
   "cell_type": "code",
   "execution_count": null,
   "id": "7555a42c",
   "metadata": {},
   "outputs": [],
   "source": [
    "entries_within_deltas = []\n",
    "for i in range(len(deltas[1:])):\n",
    "    d0 = timedelta(days=deltas[i])\n",
    "    d1 = timedelta(days=deltas[i+1])\n",
    "    entries_within_deltas.append((total_time_interval > d0) & (total_time_interval < d1))\n",
    "entries_within_deltas.append((total_time_interval > d1))\n",
    "\n",
    "entries_within_deltas = [changes_per_week[entry_group] for entry_group in entries_within_deltas]"
   ]
  },
  {
   "cell_type": "code",
   "execution_count": null,
   "id": "365615e0",
   "metadata": {},
   "outputs": [],
   "source": [
    "plt.xticks(range(len(deltas)),labels=deltas, rotation=45)\n",
    "plt.bar(range(len(entries_within_deltas)), [len(entry) for entry in entries_within_deltas])\n",
    "plt.title(\"Number of entries that fall into ranges\")\n",
    "plt.savefig(mp_plot_dir / 'time_difference_first_last_counts.png')"
   ]
  },
  {
   "cell_type": "code",
   "execution_count": null,
   "id": "d0f7aaf5",
   "metadata": {},
   "outputs": [],
   "source": [
    "len(entries_within_deltas)"
   ]
  },
  {
   "cell_type": "code",
   "execution_count": null,
   "id": "f4a0a23c",
   "metadata": {},
   "outputs": [],
   "source": [
    "entries_within_deltas[5].hist(bins=20)\n"
   ]
  },
  {
   "cell_type": "code",
   "execution_count": null,
   "id": "5f431718",
   "metadata": {
    "scrolled": false
   },
   "outputs": [],
   "source": [
    "fig, ax = plt.subplots(3,5, figsize=(15,10))\n",
    "ax = ax.reshape(-1)\n",
    "for i,entry_group in enumerate(entries_within_deltas[4:]):\n",
    "    entry_group.hist(ax=ax[i], bins=20)\n",
    "    ax[i].set_title(f\"Y:{deltas[i+4]/365:.1f}, Per Year: {entry_group.mean()/7*365:.2f}\")\n",
    "    ax[i].set_xlim(0,2)\n",
    "fig.suptitle(\"Changes per Week for different long-standing entities\")\n",
    "plt.tight_layout()\n",
    "plt.savefig(mp_plot_dir / 'changes_per_week_different_times.png')"
   ]
  },
  {
   "cell_type": "code",
   "execution_count": null,
   "id": "4f792c9f",
   "metadata": {},
   "outputs": [],
   "source": []
  }
 ],
 "metadata": {
  "kernelspec": {
   "display_name": "Python 3",
   "language": "python",
   "name": "python3"
  },
  "language_info": {
   "codemirror_mode": {
    "name": "ipython",
    "version": 3
   },
   "file_extension": ".py",
   "mimetype": "text/x-python",
   "name": "python",
   "nbconvert_exporter": "python",
   "pygments_lexer": "ipython3",
   "version": "3.6.9"
  }
 },
 "nbformat": 4,
 "nbformat_minor": 5
}
