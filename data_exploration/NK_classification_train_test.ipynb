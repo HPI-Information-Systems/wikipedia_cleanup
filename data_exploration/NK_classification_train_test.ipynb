{
 "cells": [
  {
   "cell_type": "code",
   "execution_count": null,
   "id": "7d20b310",
   "metadata": {},
   "outputs": [],
   "source": [
    "%load_ext autoreload\n",
    "%autoreload 2"
   ]
  },
  {
   "cell_type": "code",
   "execution_count": null,
   "id": "c36734d8",
   "metadata": {},
   "outputs": [],
   "source": [
    "import itertools\n",
    "import json\n",
    "from pathlib import Path\n",
    "from datetime import timedelta, datetime\n",
    "\n",
    "import numpy as np\n",
    "import pandas as pd\n",
    "from tqdm.auto import tqdm\n",
    "import matplotlib.pyplot as plt\n",
    "\n",
    "from wikipedia_cleanup.data_processing import read_file, get_data\n",
    "from wikipedia_cleanup.baseline import next_change"
   ]
  },
  {
   "cell_type": "code",
   "execution_count": null,
   "id": "2ded07c5",
   "metadata": {},
   "outputs": [],
   "source": [
    "mp_drive_dir = Path(\"/media/hpi_share/\")#Path(\"//FS23/projekte$/MP2021/MPWS2021/MPWS2021FN1\")\n",
    "mp_plot_dir = mp_drive_dir / \"plots\"\n",
    "input_path = Path(\"../../data\")\n",
    "input_data = list(input_path.rglob(\"*.json\"))\n",
    "files = [x for x in input_data if x.is_file()]\n",
    "len(files) # total 580"
   ]
  },
  {
   "cell_type": "code",
   "execution_count": null,
   "id": "f255f067",
   "metadata": {},
   "outputs": [],
   "source": [
    "data = get_data(input_path, n_files=3, n_jobs=0)\n",
    "data['validFrom'] = data['validFrom'].dt.tz_localize(None)\n",
    "data['validTo'] =  data['validTo'].dt.tz_localize(None)"
   ]
  },
  {
   "cell_type": "code",
   "execution_count": null,
   "id": "b6e7857e",
   "metadata": {},
   "outputs": [],
   "source": [
    "timestamps_per_page_property = train_data.groupby(['pageID', 'property.name'])['validFrom'].count()"
   ]
  },
  {
   "cell_type": "code",
   "execution_count": null,
   "id": "536c3784",
   "metadata": {},
   "outputs": [],
   "source": [
    "testset_start = datetime(2018,9,1)\n",
    "testset_duration = 365\n",
    "total_time_window = timedelta(testset_duration)#days\n",
    "testset_end = testset_start + total_time_window\n",
    "time_offset = timedelta(1)"
   ]
  },
  {
   "cell_type": "code",
   "execution_count": null,
   "id": "48fa8d44",
   "metadata": {},
   "outputs": [],
   "source": [
    "np.searchsorted([1,2,3,4,4,4,5], 4, side=\"right\")"
   ]
  },
  {
   "cell_type": "code",
   "execution_count": null,
   "id": "025622fb",
   "metadata": {},
   "outputs": [],
   "source": [
    "property_change_history = data.groupby(['pageID', 'property.name'])[\"validFrom\"].agg(list)"
   ]
  },
  {
   "cell_type": "code",
   "execution_count": null,
   "id": "363de13c",
   "metadata": {},
   "outputs": [],
   "source": [
    "class DummyPredictor:\n",
    "    def predict_day(data, current_day):\n",
    "        return np.random.randint(0,2)\n",
    "    def predict_week(data, current_day):\n",
    "        return np.random.randint(0,2)\n",
    "    def predict_month(data, current_day):\n",
    "        return np.random.randint(0,2)\n",
    "    def predict_year(data, current_day):\n",
    "        return np.random.randint(0,2)"
   ]
  },
  {
   "cell_type": "code",
   "execution_count": null,
   "id": "3a7e9124",
   "metadata": {},
   "outputs": [],
   "source": []
  },
  {
   "cell_type": "code",
   "execution_count": null,
   "id": "7144bda3",
   "metadata": {},
   "outputs": [],
   "source": [
    "changes[0].date() == current_date.date()"
   ]
  },
  {
   "cell_type": "code",
   "execution_count": null,
   "id": "ba74d128",
   "metadata": {},
   "outputs": [],
   "source": [
    "all_year_predictions = []\n",
    "all_month_predictions = []\n",
    "all_week_predictions = []\n",
    "all_day_predictions = []\n",
    "all_day_labels = []\n",
    "model = DummyPredictor()\n",
    "for key, changes in tqdm(property_change_history.iteritems(), total=len(property_change_history)):\n",
    "    days_evaluated = 0\n",
    "    current_date = testset_start\n",
    "    changes = sorted(changes)\n",
    "    train_data_idx = np.searchsorted(changes, current_date, side=\"right\")\n",
    "    day_predictions = np.empty(testset_duration)\n",
    "    week_predictions = []\n",
    "    month_predictions = []\n",
    "    year_predictions = []\n",
    "    day_labels = []\n",
    "    while current_date < testset_end:        \n",
    "        \n",
    "        #day_predictions.append(model.predict_day(changes[:train_data_idx]))\n",
    "        #if days_evaluated % 7 == 0:\n",
    "        #     week_predictions.append(model.predict_week(changes[:train_data_idx]))\n",
    "        #if days_evaluated % 30 == 0:\n",
    "        #    month_predictions.append(model.predict_month(changes[:train_data_idx]))\n",
    "        #if days_evaluated % 365 == 0:\n",
    "        #    year_predictions.append(model.predict_year(changes[:train_data_idx]))\n",
    "        #day_labels.append(changes[train_data_idx-1].date() == current_date.date())\n",
    "        days_evaluated += 1\n",
    "        current_date += time_offset\n",
    "        while(train_data_idx < len(changes) and changes[train_data_idx] < current_date):\n",
    "            train_data_idx+=1\n",
    "    all_day_predictions.append(day_predictions)\n",
    "    all_week_predictions.append(week_predictions)\n",
    "    all_month_predictions.append(month_predictions)\n",
    "    all_year_predictions.append(year_predictions)"
   ]
  },
  {
   "cell_type": "code",
   "execution_count": null,
   "id": "74ab7875",
   "metadata": {},
   "outputs": [],
   "source": [
    "all_year_predictions = np.array(all_year_predictions)\n",
    "all_month_predictions = np.array(all_month_predictions)\n",
    "all_week_predictions = np.array(all_week_predictions)\n",
    "all_day_predictions = np.array(all_day_predictions)"
   ]
  },
  {
   "cell_type": "code",
   "execution_count": null,
   "id": "997daa24",
   "metadata": {},
   "outputs": [],
   "source": [
    "# cut off general time frame\n",
    "train_data = data[data[\"validFrom\"] < testset_start]\n",
    "test_data = data[(testset_start < data[\"validFrom\"]) & (data[\"validFrom\"] < testset_end)]"
   ]
  },
  {
   "cell_type": "code",
   "execution_count": null,
   "id": "bb11102b",
   "metadata": {},
   "outputs": [],
   "source": [
    "timestamps_per_page_property"
   ]
  },
  {
   "cell_type": "code",
   "execution_count": null,
   "id": "e445ad1e",
   "metadata": {},
   "outputs": [],
   "source": []
  }
 ],
 "metadata": {
  "kernelspec": {
   "display_name": "Python 3",
   "language": "python",
   "name": "python3"
  },
  "language_info": {
   "codemirror_mode": {
    "name": "ipython",
    "version": 3
   },
   "file_extension": ".py",
   "mimetype": "text/x-python",
   "name": "python",
   "nbconvert_exporter": "python",
   "pygments_lexer": "ipython3",
   "version": "3.6.9"
  }
 },
 "nbformat": 4,
 "nbformat_minor": 5
}
