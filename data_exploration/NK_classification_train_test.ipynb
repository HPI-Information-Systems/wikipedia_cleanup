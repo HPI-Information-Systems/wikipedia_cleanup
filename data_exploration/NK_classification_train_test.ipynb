{
 "cells": [
  {
   "cell_type": "code",
   "execution_count": null,
   "id": "7d20b310",
   "metadata": {},
   "outputs": [],
   "source": [
    "%load_ext autoreload\n",
    "%autoreload 2\n",
    "%config Completer.use_jedi = False"
   ]
  },
  {
   "cell_type": "code",
   "execution_count": null,
   "id": "c36734d8",
   "metadata": {},
   "outputs": [],
   "source": [
    "import itertools\n",
    "import json\n",
    "from pathlib import Path\n",
    "from datetime import timedelta, datetime\n",
    "\n",
    "import numpy as np\n",
    "import pandas as pd\n",
    "from tqdm.auto import tqdm\n",
    "import matplotlib.pyplot as plt\n",
    "\n",
    "from wikipedia_cleanup.data_processing import get_data\n",
    "from wikipedia_cleanup.data_filter import KeepAttributesDataFilter, generate_default_filters\n",
    "from wikipedia_cleanup.baseline import TrainAndPredictFramework, Predictor\n",
    "from wikipedia_cleanup.property_correlation import PropertyCorrelationPredictor\n",
    "\n",
    "from sklearn.metrics import precision_recall_fscore_support"
   ]
  },
  {
   "cell_type": "code",
   "execution_count": null,
   "id": "3e1626ec-9b02-423e-8a04-7dc59da2f7d2",
   "metadata": {},
   "outputs": [],
   "source": [
    "n_files = 10\n",
    "n_jobs = 4\n",
    "input_path = Path(\"../../data/custom-format-default-filtered/\")\n",
    "model = PropertyCorrelationPredictor(use_cache=True)\n",
    "framework = TrainAndPredictFramework(model, group_key=['infobox_key', 'property_name'])"
   ]
  },
  {
   "cell_type": "code",
   "execution_count": null,
   "id": "0d688f42-ed87-493a-ab89-888805dee8c6",
   "metadata": {},
   "outputs": [],
   "source": [
    "framework.load_data(input_path, n_files, n_jobs)"
   ]
  },
  {
   "cell_type": "code",
   "execution_count": null,
   "id": "4b978981-a40b-475d-936f-6a8983d740d0",
   "metadata": {},
   "outputs": [],
   "source": [
    "framework.fit_model()"
   ]
  },
  {
   "cell_type": "code",
   "execution_count": null,
   "id": "026aa247-3a30-482c-ab30-dc3c24a883eb",
   "metadata": {},
   "outputs": [],
   "source": [
    "framework.test_model()"
   ]
  },
  {
   "cell_type": "markdown",
   "id": "4ae59451-8798-4f3b-9b36-44c9de517928",
   "metadata": {
    "jp-MarkdownHeadingCollapsed": true,
    "tags": []
   },
   "source": [
    "# Old code"
   ]
  },
  {
   "cell_type": "code",
   "execution_count": null,
   "id": "0a274d74-fe0a-4faf-94c9-a06908d85bfd",
   "metadata": {},
   "outputs": [],
   "source": [
    "n_files=8\n",
    "n_jobs=4\n",
    "input_path = Path(\"../../data/custom-format-default-filtered/\")\n",
    "keep_filter = KeepAttributesDataFilter(['infobox_key', 'property_name', 'page_id', 'value_valid_from'])\n",
    "\n",
    "data = get_data(input_path,n_files=n_files, n_jobs=n_jobs, filters=[keep_filter])"
   ]
  },
  {
   "cell_type": "code",
   "execution_count": null,
   "id": "5a8db5a2-3bbf-451a-a8f9-f57e7e1db206",
   "metadata": {},
   "outputs": [],
   "source": [
    "    "
   ]
  },
  {
   "cell_type": "code",
   "execution_count": null,
   "id": "974aa915-b059-4c75-b005-4374b1f2014f",
   "metadata": {},
   "outputs": [],
   "source": [
    "data['value_valid_from'] = data['value_valid_from'].dt.tz_localize(None)"
   ]
  },
  {
   "cell_type": "code",
   "execution_count": null,
   "id": "d8eee5a7-ac2f-4bad-9775-ced691ae814f",
   "metadata": {},
   "outputs": [],
   "source": [
    "test_dates = pd.date_range(datetime(2015,1,1), datetime(2015,1,20) + timedelta(days=5))\n"
   ]
  },
  {
   "cell_type": "code",
   "execution_count": null,
   "id": "a7e20521-32f8-4c88-a4e1-c6ab91eb618f",
   "metadata": {},
   "outputs": [],
   "source": [
    "[date in data[data['page_id'] == 650095]['value_valid_from'] for date in test_dates]"
   ]
  },
  {
   "cell_type": "code",
   "execution_count": null,
   "id": "7f119607-851b-4494-9da1-5324bd880d25",
   "metadata": {},
   "outputs": [],
   "source": [
    "data[data['page_id'] == 650095]"
   ]
  },
  {
   "cell_type": "code",
   "execution_count": null,
   "id": "133d3ff5",
   "metadata": {},
   "outputs": [],
   "source": [
    "testset_start = datetime(2018,9,1)\n",
    "testset_duration = 365\n",
    "total_time_window = timedelta(testset_duration)#days\n",
    "testset_end = testset_start + total_time_window\n",
    "time_offset = timedelta(1)"
   ]
  },
  {
   "cell_type": "code",
   "execution_count": null,
   "id": "363de13c",
   "metadata": {},
   "outputs": [],
   "source": [
    "class ZeroPredictor:\n",
    "    def predict_day(self, change_data, current_day):\n",
    "        return False\n",
    "    def predict_week(self, change_data, current_day):\n",
    "        return self.predict_day(change_data, current_day)\n",
    "    def predict_month(self, change_data, current_day):\n",
    "        return self.predict_day(change_data, current_day)\n",
    "    def predict_year(self, change_data, current_day):\n",
    "        return self.predict_day(change_data, current_day)\n",
    "\n",
    "class DummyPredictor(ZeroPredictor):\n",
    "    def predict_day(self, change_data, current_day):\n",
    "        pred = next_change(change_data)\n",
    "        if pred is None:\n",
    "            return False\n",
    "        return pred - current_day <= timedelta(1)"
   ]
  },
  {
   "cell_type": "code",
   "execution_count": null,
   "id": "b51838aa-9061-40a9-90e6-f0e4d2b80eef",
   "metadata": {},
   "outputs": [],
   "source": [
    "# number of changes in our testing period\n",
    "((data['value_valid_from'] > testset_start) & (data['value_valid_from'] < (testset_start+total_time_window))).sum()"
   ]
  },
  {
   "cell_type": "code",
   "execution_count": null,
   "id": "877edffa-4d59-467c-9b2c-c29f3ad736cc",
   "metadata": {},
   "outputs": [],
   "source": [
    "class Predictor:\n",
    "    @staticmethod\n",
    "    def get_relevant_attributes():\n",
    "        return\n",
    "    \n",
    "    def fit(self, train_data, last_day):\n",
    "        pass\n",
    "    \n",
    "    def predict_day(self, data, current_day):\n",
    "        return False\n",
    "    \n",
    "    def predict_week(self, data, current_day):\n",
    "        return False\n",
    "\n",
    "    def predict_month(self, data, current_day):\n",
    "        return False\n",
    "\n",
    "    def get_relevant_ids(self, identifier):\n",
    "        return list(identifier)"
   ]
  },
  {
   "cell_type": "code",
   "execution_count": null,
   "id": "a14cb3f7-7afb-48bf-a195-0c22c92b46bb",
   "metadata": {},
   "outputs": [],
   "source": [
    "class TrainAndPredictFramework:\n",
    "    \n",
    "    def start_pipeline(self):\n",
    "        \n",
    "        "
   ]
  },
  {
   "cell_type": "code",
   "execution_count": null,
   "id": "b5b71505-3f79-4d10-a6cc-6ff063bf56e5",
   "metadata": {},
   "outputs": [],
   "source": [
    "data[data['value_valid_from'] < testset_start]"
   ]
  },
  {
   "cell_type": "code",
   "execution_count": null,
   "id": "0894b707-0fd2-404a-97c2-43389dde221a",
   "metadata": {},
   "outputs": [],
   "source": [
    "#property_change_history = data.groupby(['infobox_key', 'property_name'])[\"value_valid_from\"].agg(list)+\n",
    "property_change_history = data.groupby(['page_id'])[\"value_valid_from\"].agg(list)"
   ]
  },
  {
   "cell_type": "code",
   "execution_count": null,
   "id": "fffff816-b865-4bac-b31a-e2ef0678143c",
   "metadata": {},
   "outputs": [],
   "source": [
    "property_change_history"
   ]
  },
  {
   "cell_type": "code",
   "execution_count": null,
   "id": "ba74d128",
   "metadata": {},
   "outputs": [],
   "source": [
    "all_year_predictions = []\n",
    "all_month_predictions = []\n",
    "all_week_predictions = []\n",
    "all_day_predictions = []\n",
    "all_day_labels = []\n",
    "model = DummyPredictor()\n",
    "current_dates = [tes  tset_start + timedelta(days=x) for x in range(testset_duration + 1)]\n",
    "\n",
    "for key, changes in tqdm(property_change_history.iteritems(), total=len(property_change_history)):\n",
    "    days_evaluated = 0\n",
    "    current_date = testset_start\n",
    "    changes = np.sort(changes)\n",
    "    train_data_idx = np.searchsorted(changes, current_date, side=\"right\")\n",
    "    day_predictions = np.empty(testset_duration)\n",
    "    week_predictions = []\n",
    "    month_predictions = []\n",
    "    year_predictions = []\n",
    "    day_labels = []\n",
    "    while current_date < testset_end:        \n",
    "        train_input = changes[:train_data_idx]\n",
    "        #day_predictions[days_evaluated] = model.predict_day(train_input, current_date)\n",
    "        #if days_evaluated % 7 == 0:\n",
    "        #     week_predictions.append(model.predict_week(train_input, current_date))\n",
    "        if days_evaluated % 30 == 0:\n",
    "            month_predictions.append(model.predict_month(train_input, current_date))\n",
    "        if days_evaluated % 365 == 0:\n",
    "            year_predictions.append(model.predict_year(train_input, current_date))\n",
    "        if train_data_idx < len(changes):\n",
    "            day_labels.append(changes[train_data_idx].date() == current_date.date())\n",
    "        else:\n",
    "            day_labels.append(False)\n",
    "        days_evaluated += 1\n",
    "        current_date = current_dates[days_evaluated]\n",
    "        while(train_data_idx < len(changes) and changes[train_data_idx] < current_date):\n",
    "            train_data_idx+=1\n",
    "    all_day_predictions.append(day_predictions)\n",
    "    all_week_predictions.append(week_predictions)\n",
    "    all_month_predictions.append(month_predictions)\n",
    "    all_year_predictions.append(year_predictions)\n",
    "    all_day_labels.append(day_labels)"
   ]
  },
  {
   "cell_type": "code",
   "execution_count": null,
   "id": "74ab7875",
   "metadata": {},
   "outputs": [],
   "source": [
    "all_year_predictions = np.array(all_year_predictions, dtype=np.bool)\n",
    "all_month_predictions = np.array(all_month_predictions, dtype=np.bool)\n",
    "all_week_predictions = np.array(all_week_predictions, dtype=np.bool)\n",
    "all_day_predictions = np.array(all_day_predictions, dtype=np.bool)\n",
    "\n",
    "all_day_labels = np.array(all_day_labels, dtype=np.bool)"
   ]
  },
  {
   "cell_type": "code",
   "execution_count": null,
   "id": "d8eb64d7",
   "metadata": {},
   "outputs": [],
   "source": [
    "def aggregate_labels(data, n):\n",
    "    if testset_duration%n != 0:        \n",
    "        padded_labels = np.pad(data, ((0,0), (0,n - testset_duration%n)))\n",
    "    else:\n",
    "        padded_labels = data\n",
    "    padded_labels = padded_labels.reshape(-1, n, data.shape[0])\n",
    "    return np.any(padded_labels, axis=1).reshape(data.shape[0], -1)\n",
    "\n",
    "all_week_labels = aggregate_labels(all_day_labels, 7)\n",
    "all_month_labels = aggregate_labels(all_day_labels, 30)\n",
    "all_year_labels = aggregate_labels(all_day_labels, 365)"
   ]
  },
  {
   "cell_type": "markdown",
   "id": "a06c183d-965a-4a1e-af43-984d7f1f57e2",
   "metadata": {
    "tags": []
   },
   "source": [
    "## Random prediction"
   ]
  },
  {
   "cell_type": "code",
   "execution_count": null,
   "id": "05dc1977-ec64-4b44-b427-b4613e14ddaf",
   "metadata": {},
   "outputs": [],
   "source": [
    "all_day_predictions = np.random.randint(0,2,all_day_labels.shape)\n",
    "all_week_predictions = np.random.randint(0,2,all_week_labels.shape)\n",
    "all_month_predictions = np.random.randint(0,2,all_month_labels.shape)\n",
    "all_year_predictions = np.random.randint(0,2,all_year_labels.shape)"
   ]
  },
  {
   "cell_type": "markdown",
   "id": "3629e677",
   "metadata": {},
   "source": [
    "## Metrics"
   ]
  },
  {
   "cell_type": "code",
   "execution_count": null,
   "id": "eb0e30c4",
   "metadata": {},
   "outputs": [],
   "source": [
    "def print_stats(pre_rec_f1_stat, title):\n",
    "    print(f\"{title} \\t\\t changes \\t no changes\")\n",
    "    print(f\"Precision:\\t\\t {pre_rec_f1_stat[0][1]:.4} \\t\\t {pre_rec_f1_stat[0][0]:.4}\")\n",
    "    print(f\"Recall:\\t\\t\\t {pre_rec_f1_stat[1][1]:.4} \\t\\t {pre_rec_f1_stat[1][0]:.4}\")\n",
    "    print(f\"F1score:\\t\\t {pre_rec_f1_stat[2][1]:.4} \\t\\t {pre_rec_f1_stat[2][0]:.4}\")\n",
    "    print(f\"Percent of Data:\\t {pre_rec_f1_stat[3][1] / (pre_rec_f1_stat[3][0]+pre_rec_f1_stat[3][1]):.4}, \\tTotal: {pre_rec_f1_stat[3][1]}\")\n",
    "    print()"
   ]
  },
  {
   "cell_type": "code",
   "execution_count": null,
   "id": "db933e33",
   "metadata": {},
   "outputs": [],
   "source": [
    "#day_data = precision_recall_fscore_support(all_day_labels.flatten(), all_day_predictions.flatten())\n",
    "#week_data = precision_recall_fscore_support(all_week_labels.flatten(), all_week_predictions.flatten())\n",
    "month_data = precision_recall_fscore_support(all_month_labels.flatten(), all_month_predictions.flatten())\n",
    "year_data = precision_recall_fscore_support(all_year_labels.flatten(), all_year_predictions.flatten())"
   ]
  },
  {
   "cell_type": "code",
   "execution_count": null,
   "id": "6e3f02b8-c71f-4e81-ac7d-636e1da7b529",
   "metadata": {},
   "outputs": [],
   "source": [
    "#print_stats(day_data, \"Per day data\")\n",
    "#print_stats(week_data, \"Per week data\")\n",
    "print_stats(month_data, \"Per month data\")\n",
    "print_stats(year_data, \"Per year data\")"
   ]
  },
  {
   "cell_type": "code",
   "execution_count": null,
   "id": "d644c8c3",
   "metadata": {},
   "outputs": [],
   "source": [
    "#print_stats(day_data, \"Per day data\")\n",
    "#print_stats(week_data, \"Per week data\")\n",
    "print_stats(month_data, \"Per month data\")\n",
    "print_stats(year_data, \"Per year data\")"
   ]
  },
  {
   "cell_type": "code",
   "execution_count": null,
   "id": "4115a72e",
   "metadata": {},
   "outputs": [],
   "source": []
  }
 ],
 "metadata": {
  "kernelspec": {
   "display_name": "Python 3",
   "language": "python",
   "name": "python3"
  },
  "language_info": {
   "codemirror_mode": {
    "name": "ipython",
    "version": 3
   },
   "file_extension": ".py",
   "mimetype": "text/x-python",
   "name": "python",
   "nbconvert_exporter": "python",
   "pygments_lexer": "ipython3",
   "version": "3.6.9"
  }
 },
 "nbformat": 4,
 "nbformat_minor": 5
}
