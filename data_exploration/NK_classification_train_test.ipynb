{
 "cells": [
  {
   "cell_type": "code",
   "execution_count": null,
   "id": "7d20b310",
   "metadata": {},
   "outputs": [],
   "source": [
    "%load_ext autoreload\n",
    "%autoreload 2"
   ]
  },
  {
   "cell_type": "code",
   "execution_count": null,
   "id": "c36734d8",
   "metadata": {},
   "outputs": [],
   "source": [
    "import itertools\n",
    "import json\n",
    "from pathlib import Path\n",
    "from datetime import timedelta, datetime\n",
    "\n",
    "import numpy as np\n",
    "import pandas as pd\n",
    "from tqdm.auto import tqdm\n",
    "import matplotlib.pyplot as plt\n",
    "\n",
    "from wikipedia_cleanup.data_processing import read_file, get_data\n",
    "from wikipedia_cleanup.baseline import next_change\n",
    "\n",
    "from sklearn.metrics import precision_recall_fscore_support"
   ]
  },
  {
   "cell_type": "code",
   "execution_count": null,
   "id": "2ded07c5",
   "metadata": {},
   "outputs": [],
   "source": [
    "mp_drive_dir = Path(\"/media/hpi_share/\")#Path(\"//FS23/projekte$/MP2021/MPWS2021/MPWS2021FN1\")\n",
    "mp_plot_dir = mp_drive_dir / \"plots\"\n",
    "input_path = Path(\"../../data\")\n",
    "input_data = list(input_path.rglob(\"*.json\"))\n",
    "files = [x for x in input_data if x.is_file()]\n",
    "len(files) # total 580"
   ]
  },
  {
   "cell_type": "code",
   "execution_count": null,
   "id": "f255f067",
   "metadata": {},
   "outputs": [],
   "source": [
    "data = get_data(input_path, n_files=3, n_jobs=0)\n",
    "data['validFrom'] = data['validFrom'].dt.tz_localize(None)\n",
    "data['validTo'] =  data['validTo'].dt.tz_localize(None)"
   ]
  },
  {
   "cell_type": "code",
   "execution_count": null,
   "id": "133d3ff5",
   "metadata": {},
   "outputs": [],
   "source": [
    "testset_start = datetime(2018,9,1)\n",
    "testset_duration = 365\n",
    "total_time_window = timedelta(testset_duration)#days\n",
    "testset_end = testset_start + total_time_window\n",
    "time_offset = timedelta(1)"
   ]
  },
  {
   "cell_type": "code",
   "execution_count": null,
   "id": "025622fb",
   "metadata": {},
   "outputs": [],
   "source": [
    "def to_array(data):\n",
    "    return np.array(data),\n",
    "\n",
    "property_change_history = data.groupby(['key', 'property.name'])[\"validFrom\"].agg(list)"
   ]
  },
  {
   "cell_type": "code",
   "execution_count": null,
   "id": "363de13c",
   "metadata": {},
   "outputs": [],
   "source": [
    "class ZeroPredictor:\n",
    "    def predict_day(self, change_data, current_day):\n",
    "        return 0\n",
    "    def predict_week(self, change_data, current_day):\n",
    "        return self.predict_day(change_data, current_day)\n",
    "    def predict_month(self, change_data, current_day):\n",
    "        return self.predict_day(change_data, current_day)\n",
    "    def predict_year(self, change_data, current_day):\n",
    "        return self.predict_day(change_data, current_day)\n",
    "\n",
    "class DummyPredictor(ZeroPredictor):\n",
    "    def predict_day(self, change_data, current_day):\n",
    "        pred = next_change(change_data)\n",
    "        if pred is None:\n",
    "            return 0\n",
    "        return pred - current_day > timedelta(1)"
   ]
  },
  {
   "cell_type": "code",
   "execution_count": null,
   "id": "ba74d128",
   "metadata": {},
   "outputs": [],
   "source": [
    "all_year_predictions = []\n",
    "all_month_predictions = []\n",
    "all_week_predictions = []\n",
    "all_day_predictions = []\n",
    "all_day_labels = []\n",
    "model = ZeroPredictor()\n",
    "current_dates = [testset_start + timedelta(days=x) for x in range(testset_duration + 1)]\n",
    "\n",
    "for key, changes in tqdm(property_change_history.iteritems(), total=len(property_change_history)):\n",
    "    days_evaluated = 0\n",
    "    current_date = testset_start\n",
    "    changes = np.sort(changes)\n",
    "    train_data_idx = np.searchsorted(changes, current_date, side=\"right\")\n",
    "    day_predictions = np.empty(testset_duration)\n",
    "    week_predictions = []\n",
    "    month_predictions = []\n",
    "    year_predictions = []\n",
    "    day_labels = []\n",
    "    while current_date < testset_end:        \n",
    "        train_input = changes[:train_data_idx]\n",
    "        #day_predictions[days_evaluated] = model.predict_day(train_input, current_date)\n",
    "        #if days_evaluated % 7 == 0:\n",
    "        #     week_predictions.append(model.predict_week(train_input, current_date))\n",
    "        if days_evaluated % 30 == 0:\n",
    "            month_predictions.append(model.predict_month(train_input, current_date))\n",
    "        if days_evaluated % 365 == 0:\n",
    "            year_predictions.append(model.predict_year(train_input, current_date))\n",
    "        day_labels.append(changes[train_data_idx-1].date() == current_date.date())\n",
    "        days_evaluated += 1\n",
    "        current_date = current_dates[days_evaluated]\n",
    "        while(train_data_idx < len(changes) and changes[train_data_idx] < current_date):\n",
    "            train_data_idx+=1\n",
    "    all_day_predictions.append(day_predictions)\n",
    "    all_week_predictions.append(week_predictions)\n",
    "    all_month_predictions.append(month_predictions)\n",
    "    all_year_predictions.append(year_predictions)\n",
    "    all_day_labels.append(day_labels)"
   ]
  },
  {
   "cell_type": "code",
   "execution_count": null,
   "id": "74ab7875",
   "metadata": {},
   "outputs": [],
   "source": [
    "all_year_predictions = np.array(all_year_predictions, dtype=np.bool)\n",
    "all_month_predictions = np.array(all_month_predictions, dtype=np.bool)\n",
    "all_week_predictions = np.array(all_week_predictions, dtype=np.bool)\n",
    "all_day_predictions = np.array(all_day_predictions, dtype=np.bool)\n",
    "\n",
    "all_day_labels = np.array(all_day_labels, dtype=np.bool)"
   ]
  },
  {
   "cell_type": "code",
   "execution_count": null,
   "id": "d8eb64d7",
   "metadata": {},
   "outputs": [],
   "source": [
    "def aggregate_labels(data, n):\n",
    "    if testset_duration%n != 0:        \n",
    "        padded_labels = np.pad(data, ((0,0), (0,n - testset_duration%n)))\n",
    "    else:\n",
    "        padded_labels = data\n",
    "    padded_labels = padded_labels.reshape(-1, n, data.shape[0])\n",
    "    return np.any(padded_labels, axis=1).reshape(data.shape[0], -1)\n",
    "\n",
    "all_week_labels = aggregate_labels(all_day_labels, 7)\n",
    "all_month_labels = aggregate_labels(all_day_labels, 30)\n",
    "all_year_labels = aggregate_labels(all_day_labels, 365)"
   ]
  },
  {
   "cell_type": "markdown",
   "id": "3629e677",
   "metadata": {},
   "source": [
    "# Metrics"
   ]
  },
  {
   "cell_type": "code",
   "execution_count": null,
   "id": "eb0e30c4",
   "metadata": {},
   "outputs": [],
   "source": [
    "def print_stats(pre_rec_f1_stat, title):\n",
    "    print(f\"{title} \\t\\t changes \\t no changes\")\n",
    "    print(f\"Precision:\\t\\t {pre_rec_f1_stat[0][1]:.4} \\t\\t {pre_rec_f1_stat[0][0]:.4}\")\n",
    "    print(f\"Recall:\\t\\t\\t {pre_rec_f1_stat[1][1]:.4} \\t\\t {pre_rec_f1_stat[1][0]:.4}\")\n",
    "    print(f\"F1score:\\t\\t {pre_rec_f1_stat[2][1]:.4} \\t\\t {pre_rec_f1_stat[2][0]:.4}\")\n",
    "    print(f\"Percent of Data:\\t {pre_rec_f1_stat[3][1] / (pre_rec_f1_stat[3][0]+pre_rec_f1_stat[3][1]):.4}, \\tTotal: {pre_rec_f1_stat[3][1]}\")\n",
    "    print()"
   ]
  },
  {
   "cell_type": "code",
   "execution_count": null,
   "id": "db933e33",
   "metadata": {},
   "outputs": [],
   "source": [
    "#day_data = precision_recall_fscore_support(all_day_labels.flatten(), all_day_predictions.flatten())\n",
    "#week_data = precision_recall_fscore_support(all_week_labels.flatten(), all_week_predictions.flatten())\n",
    "month_data = precision_recall_fscore_support(all_month_labels.flatten(), all_month_predictions.flatten())\n",
    "year_data = precision_recall_fscore_support(all_year_labels.flatten(), all_year_predictions.flatten())"
   ]
  },
  {
   "cell_type": "code",
   "execution_count": null,
   "id": "d644c8c3",
   "metadata": {},
   "outputs": [],
   "source": [
    "#print_stats(day_data, \"Per day data\")\n",
    "#print_stats(week_data, \"Per week data\")\n",
    "print_stats(month_data, \"Per month data\")\n",
    "print_stats(year_data, \"Per year data\")"
   ]
  },
  {
   "cell_type": "code",
   "execution_count": null,
   "id": "4115a72e",
   "metadata": {},
   "outputs": [],
   "source": []
  }
 ],
 "metadata": {
  "kernelspec": {
   "display_name": "Python 3",
   "language": "python",
   "name": "python3"
  },
  "language_info": {
   "codemirror_mode": {
    "name": "ipython",
    "version": 3
   },
   "file_extension": ".py",
   "mimetype": "text/x-python",
   "name": "python",
   "nbconvert_exporter": "python",
   "pygments_lexer": "ipython3",
   "version": "3.6.9"
  }
 },
 "nbformat": 4,
 "nbformat_minor": 5
}
