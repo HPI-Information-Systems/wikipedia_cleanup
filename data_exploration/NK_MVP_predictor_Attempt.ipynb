{
 "cells": [
  {
   "cell_type": "code",
   "execution_count": null,
   "id": "324600a5",
   "metadata": {},
   "outputs": [],
   "source": [
    "%load_ext autoreload\n",
    "%autoreload 2"
   ]
  },
  {
   "cell_type": "code",
   "execution_count": null,
   "id": "47c3cb8c",
   "metadata": {},
   "outputs": [],
   "source": [
    "import itertools\n",
    "import json\n",
    "from pathlib import Path\n",
    "from datetime import timedelta, datetime\n",
    "\n",
    "import numpy as np\n",
    "import pandas as pd\n",
    "from tqdm.auto import tqdm\n",
    "import matplotlib.pyplot as plt\n",
    "\n",
    "from wikipedia_cleanup.data_processing import read_file, get_data\n",
    "from wikipedia_cleanup.baseline import next_change"
   ]
  },
  {
   "cell_type": "code",
   "execution_count": null,
   "id": "f2ae569b",
   "metadata": {},
   "outputs": [],
   "source": [
    "mp_drive_dir = Path(\"/media/hpi_share/\")#Path(\"//FS23/projekte$/MP2021/MPWS2021/MPWS2021FN1\")\n",
    "mp_plot_dir = mp_drive_dir / \"plots\"\n",
    "input_path = Path(\"../../data\")\n",
    "input_data = list(input_path.rglob(\"*.json\"))\n",
    "files = [x for x in input_data if x.is_file()]\n",
    "len(files) # total 580"
   ]
  },
  {
   "cell_type": "code",
   "execution_count": null,
   "id": "6bf536c4",
   "metadata": {},
   "outputs": [],
   "source": [
    "data = get_data(input_path, n_files=3, n_jobs=6)"
   ]
  },
  {
   "cell_type": "code",
   "execution_count": null,
   "id": "33558076",
   "metadata": {},
   "outputs": [],
   "source": [
    "data['validFrom'] = data['validFrom'].dt.floor('d').dt.tz_localize(None)\n",
    "data['validTo'] =  data['validTo'].dt.tz_localize(None)"
   ]
  },
  {
   "cell_type": "code",
   "execution_count": null,
   "id": "b13b1c9d",
   "metadata": {},
   "outputs": [],
   "source": [
    "train_data = data[~data['validTo'].isna()]"
   ]
  },
  {
   "cell_type": "markdown",
   "id": "495d3376",
   "metadata": {},
   "source": [
    "# Predict the last timestamp"
   ]
  },
  {
   "cell_type": "code",
   "execution_count": null,
   "id": "cc16b092",
   "metadata": {},
   "outputs": [],
   "source": [
    "timestamps_per_page_property = train_data.groupby(['pageID', 'property.name'])['validFrom']\n",
    "labels = []\n",
    "predicted_values = []\n",
    "for key, values in tqdm(timestamps_per_page_property):\n",
    "    if len(values) > 2:\n",
    "        to_predict = sorted(values)[-1]\n",
    "        labels.append(to_predict)\n",
    "        predicted = next_change(values)\n",
    "        predicted_values.append(predicted)"
   ]
  },
  {
   "cell_type": "code",
   "execution_count": null,
   "id": "900d7c3b",
   "metadata": {},
   "outputs": [],
   "source": [
    "labels = np.array(labels)\n",
    "predicted_values = np.array(predicted_values)\n",
    "no_pred_filter = predicted_values!= None"
   ]
  },
  {
   "cell_type": "code",
   "execution_count": null,
   "id": "1ef20517",
   "metadata": {},
   "outputs": [],
   "source": [
    "r = np.abs(predicted_values[no_pred_filter] - labels.astype(np.datetime64)[no_pred_filter])\n",
    "converted_error = r.astype('timedelta64[D]').astype(np.int)\n",
    "mean_absolute_error = np.mean(converted_error)\n",
    "root_squared_mean_error = np.sqrt(np.mean(np.square(converted_error)))\n",
    "print(f\"Mean days absolute error: {mean_absolute_error}\") \n",
    "print(f\"Root squared mean error: {root_squared_mean_error}\") \n",
    "# With unique\n",
    "#Mean\n",
    "#Mean days absolute error: 481.6636837864201\n",
    "#Root squared mean error: 704.0731080458512\n",
    "\n",
    "# Median\n",
    "#Mean days absolute error: 414.5928156410365\n",
    "#Root squared mean error: 669.8950754439018\n",
    "\n",
    "#With Sort\n",
    "\n",
    "# Median\n",
    "#Mean days absolute error: 224.4591567177933\n",
    "#Root squared mean error: 421.5340919090345\n",
    "\n",
    "# Mean\n",
    "#Mean days absolute error: 325.01978170499456\n",
    "#Root squared mean error: 482.0884751074065\n",
    "\n",
    "#Median unique: 374.2281070831378"
   ]
  },
  {
   "cell_type": "code",
   "execution_count": null,
   "id": "89e057a3",
   "metadata": {},
   "outputs": [],
   "source": [
    "test_data = data[\"validFrom\"] > pd.datetime(2018, 9, 1)"
   ]
  },
  {
   "cell_type": "code",
   "execution_count": null,
   "id": "7a575029",
   "metadata": {},
   "outputs": [],
   "source": [
    "x[\"validFrom\"] = x[\"validFrom\"].dt.tz_localize(None)"
   ]
  },
  {
   "cell_type": "markdown",
   "id": "5be2f564",
   "metadata": {},
   "source": [
    "# Is the value changing next year?"
   ]
  },
  {
   "cell_type": "code",
   "execution_count": null,
   "id": "6d68b406",
   "metadata": {},
   "outputs": [],
   "source": [
    "is_test_data = (data[\"validFrom\"] > datetime(2018, 9, 1)) & (data[\"validFrom\"] < datetime(2019, 9, 1))\n",
    "is_train_data = data[\"validFrom\"] <= datetime(2018, 9, 1)\n",
    "train_data = data[is_train_data]\n",
    "test_data = data[is_test_data]\n",
    "test_data = test_data.set_index(['pageID', 'property.name'])\n",
    "#test_data[test_data.set_index(['pageID', 'property.name']).index.isin(\n",
    "#    train_data.set_index(['pageID', 'property.name']).index)]"
   ]
  },
  {
   "cell_type": "code",
   "execution_count": null,
   "id": "eefc32bf",
   "metadata": {},
   "outputs": [],
   "source": [
    "train_data['next_year'] = (train_data[\"validTo\"] > datetime(2018, 9, 1)) & (data[\"validTo\"] < datetime(2019, 9, 1))"
   ]
  },
  {
   "cell_type": "code",
   "execution_count": null,
   "id": "78ffe23d",
   "metadata": {
    "scrolled": true
   },
   "outputs": [],
   "source": [
    "train_data"
   ]
  },
  {
   "cell_type": "code",
   "execution_count": null,
   "id": "dc75b81f",
   "metadata": {},
   "outputs": [],
   "source": []
  }
 ],
 "metadata": {
  "kernelspec": {
   "display_name": "Python 3",
   "language": "python",
   "name": "python3"
  },
  "language_info": {
   "codemirror_mode": {
    "name": "ipython",
    "version": 3
   },
   "file_extension": ".py",
   "mimetype": "text/x-python",
   "name": "python",
   "nbconvert_exporter": "python",
   "pygments_lexer": "ipython3",
   "version": "3.6.15"
  }
 },
 "nbformat": 4,
 "nbformat_minor": 5
}
