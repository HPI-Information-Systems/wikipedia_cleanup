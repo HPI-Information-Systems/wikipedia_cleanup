{
 "cells": [
  {
   "cell_type": "markdown",
   "id": "b6fa4d3b-d3d0-4852-ac12-bb3196a5f88e",
   "metadata": {},
   "source": [
    "Load full data chunkwise"
   ]
  },
  {
   "cell_type": "code",
   "execution_count": 1,
   "id": "dc904523-90d4-4de6-aa2c-51a2cc9688d1",
   "metadata": {},
   "outputs": [],
   "source": [
    "from wikipedia_cleanup.data_processing import get_data\n",
    "from wikipedia_cleanup.data_filter import generate_default_filters, KeepAttributesDataFilter, OnlyUpdatesDataFilter"
   ]
  },
  {
   "cell_type": "code",
   "execution_count": 2,
   "id": "194bbde6-49c3-4e3b-b504-6069b8a2677e",
   "metadata": {},
   "outputs": [],
   "source": [
    "import pandas as pd\n",
    "import matplotlib.pyplot as plt"
   ]
  },
  {
   "cell_type": "code",
   "execution_count": 3,
   "id": "20d8b910-1851-4e90-8700-d77d5569e80e",
   "metadata": {},
   "outputs": [],
   "source": [
    "# Set RAM Limit\n",
    "import resource\n",
    "  \n",
    "def limit_memory(maxsize):\n",
    "    soft, hard = resource.getrlimit(resource.RLIMIT_AS)\n",
    "    resource.setrlimit(resource.RLIMIT_AS, (maxsize, hard))\n",
    "limit_memory(84000000000)\n",
    "\n",
    "# Enable Code Completion\n",
    "%config Completer.use_jedi = False"
   ]
  },
  {
   "cell_type": "code",
   "execution_count": 4,
   "id": "0d6b7200-30f7-42af-9f1d-ebe0933583a1",
   "metadata": {},
   "outputs": [
    {
     "data": {
      "application/vnd.jupyter.widget-view+json": {
       "model_id": "97ab1f05417c41f59420a688b2648029",
       "version_major": 2,
       "version_minor": 0
      },
      "text/plain": [
       "  0%|          | 0/585 [00:00<?, ?it/s]"
      ]
     },
     "metadata": {},
     "output_type": "display_data"
    }
   ],
   "source": [
    "data = get_data('../../custom-format-default-filtered/', n_jobs=16, filters=[OnlyUpdatesDataFilter(), KeepAttributesDataFilter(['infobox_key', 'page_title', 'property_name', 'template',\\\n",
    "                                                                                                     'previous_value', 'current_value', 'value_valid_from'])])"
   ]
  },
  {
   "cell_type": "code",
   "execution_count": 5,
   "id": "e9f3944b-72e1-49c3-b764-e04bc70feed3",
   "metadata": {},
   "outputs": [
    {
     "data": {
      "text/plain": [
       "(39858258, 7)"
      ]
     },
     "execution_count": 5,
     "metadata": {},
     "output_type": "execute_result"
    }
   ],
   "source": [
    "data.shape"
   ]
  },
  {
   "cell_type": "code",
   "execution_count": 5,
   "id": "36ea548b-196a-46f2-95f3-8c41becccdb5",
   "metadata": {},
   "outputs": [],
   "source": [
    "#data = data.dropna(subset=['previous_value','current_value'])"
   ]
  },
  {
   "cell_type": "code",
   "execution_count": 6,
   "id": "dc75acbf-5514-47c6-8c83-55e9c651d08e",
   "metadata": {},
   "outputs": [],
   "source": [
    "data = data[data['property_name']!='']"
   ]
  },
  {
   "cell_type": "code",
   "execution_count": 7,
   "id": "e7ab52a1-ae1c-427d-a1c4-25d556048235",
   "metadata": {},
   "outputs": [
    {
     "data": {
      "text/plain": [
       "(39858037, 7)"
      ]
     },
     "execution_count": 7,
     "metadata": {},
     "output_type": "execute_result"
    }
   ],
   "source": [
    "data.shape"
   ]
  },
  {
   "cell_type": "code",
   "execution_count": 8,
   "id": "d7acd8a7-5e1e-49ba-b075-13fd0d85c9b0",
   "metadata": {},
   "outputs": [],
   "source": [
    "data = data.rename(columns={\"value_valid_from\": \"timestamp\"})"
   ]
  },
  {
   "cell_type": "markdown",
   "id": "4ebd2982-eaab-414a-a8bc-f5e7f93eddda",
   "metadata": {},
   "source": [
    "## Look at widely used template types"
   ]
  },
  {
   "cell_type": "markdown",
   "id": "558b0d37-2aad-4219-9217-4a6491f5e653",
   "metadata": {},
   "source": [
    "Investigate # of changes per template type"
   ]
  },
  {
   "cell_type": "code",
   "execution_count": null,
   "id": "9224e7cb-054b-447e-aac4-e19e4bb6f31d",
   "metadata": {},
   "outputs": [],
   "source": [
    "popular_template_types = data.groupby(['template'])['page_title'].count().reset_index().rename(columns={'page_title':'count'})"
   ]
  },
  {
   "cell_type": "code",
   "execution_count": null,
   "id": "a5569f3c-d7c3-4cea-8104-f0c49d44c4d7",
   "metadata": {},
   "outputs": [],
   "source": [
    "popular_template_types['percentage'] = popular_template_types['count']*100 / popular_template_types['count'].sum()"
   ]
  },
  {
   "cell_type": "markdown",
   "id": "7e0f84b8-bb31-4a63-912d-877f7628f1da",
   "metadata": {},
   "source": [
    "Only look at the top 20 most popular template types"
   ]
  },
  {
   "cell_type": "code",
   "execution_count": null,
   "id": "2043d914-ac89-4735-9f1f-6b1dd1f549f7",
   "metadata": {},
   "outputs": [],
   "source": [
    "top20_template_types = popular_template_types.sort_values('count', ascending=False)[:20]"
   ]
  },
  {
   "cell_type": "code",
   "execution_count": 33,
   "id": "1edef4bf-419b-41a5-8fa2-fbdcb94b0c50",
   "metadata": {},
   "outputs": [
    {
     "data": {
      "text/html": [
       "<div>\n",
       "<style scoped>\n",
       "    .dataframe tbody tr th:only-of-type {\n",
       "        vertical-align: middle;\n",
       "    }\n",
       "\n",
       "    .dataframe tbody tr th {\n",
       "        vertical-align: top;\n",
       "    }\n",
       "\n",
       "    .dataframe thead th {\n",
       "        text-align: right;\n",
       "    }\n",
       "</style>\n",
       "<table border=\"1\" class=\"dataframe\">\n",
       "  <thead>\n",
       "    <tr style=\"text-align: right;\">\n",
       "      <th></th>\n",
       "      <th>template</th>\n",
       "      <th>count</th>\n",
       "      <th>percentage</th>\n",
       "    </tr>\n",
       "  </thead>\n",
       "  <tbody>\n",
       "    <tr>\n",
       "      <th>3970</th>\n",
       "      <td>infobox football biography</td>\n",
       "      <td>4824780</td>\n",
       "      <td>12.800411</td>\n",
       "    </tr>\n",
       "    <tr>\n",
       "      <th>6223</th>\n",
       "      <td>infobox musical artist</td>\n",
       "      <td>1840368</td>\n",
       "      <td>4.882599</td>\n",
       "    </tr>\n",
       "    <tr>\n",
       "      <th>7733</th>\n",
       "      <td>infobox person</td>\n",
       "      <td>1615415</td>\n",
       "      <td>4.285786</td>\n",
       "    </tr>\n",
       "    <tr>\n",
       "      <th>954</th>\n",
       "      <td>infobox album</td>\n",
       "      <td>1540564</td>\n",
       "      <td>4.087202</td>\n",
       "    </tr>\n",
       "    <tr>\n",
       "      <th>3718</th>\n",
       "      <td>infobox film</td>\n",
       "      <td>1322591</td>\n",
       "      <td>3.508908</td>\n",
       "    </tr>\n",
       "    <tr>\n",
       "      <th>10046</th>\n",
       "      <td>infobox television</td>\n",
       "      <td>1101162</td>\n",
       "      <td>2.921444</td>\n",
       "    </tr>\n",
       "    <tr>\n",
       "      <th>9153</th>\n",
       "      <td>infobox settlement</td>\n",
       "      <td>1066179</td>\n",
       "      <td>2.828633</td>\n",
       "    </tr>\n",
       "    <tr>\n",
       "      <th>9443</th>\n",
       "      <td>infobox single</td>\n",
       "      <td>914804</td>\n",
       "      <td>2.427026</td>\n",
       "    </tr>\n",
       "    <tr>\n",
       "      <th>240</th>\n",
       "      <td>football player infobox</td>\n",
       "      <td>772848</td>\n",
       "      <td>2.050409</td>\n",
       "    </tr>\n",
       "    <tr>\n",
       "      <th>2601</th>\n",
       "      <td>infobox company</td>\n",
       "      <td>626475</td>\n",
       "      <td>1.662073</td>\n",
       "    </tr>\n",
       "    <tr>\n",
       "      <th>4101</th>\n",
       "      <td>infobox football club</td>\n",
       "      <td>588499</td>\n",
       "      <td>1.561321</td>\n",
       "    </tr>\n",
       "    <tr>\n",
       "      <th>5747</th>\n",
       "      <td>infobox military conflict</td>\n",
       "      <td>585671</td>\n",
       "      <td>1.553818</td>\n",
       "    </tr>\n",
       "    <tr>\n",
       "      <th>7077</th>\n",
       "      <td>infobox officeholder</td>\n",
       "      <td>569897</td>\n",
       "      <td>1.511969</td>\n",
       "    </tr>\n",
       "    <tr>\n",
       "      <th>4032</th>\n",
       "      <td>infobox football biography 2</td>\n",
       "      <td>497162</td>\n",
       "      <td>1.318999</td>\n",
       "    </tr>\n",
       "    <tr>\n",
       "      <th>5935</th>\n",
       "      <td>infobox mlb player</td>\n",
       "      <td>480682</td>\n",
       "      <td>1.275276</td>\n",
       "    </tr>\n",
       "    <tr>\n",
       "      <th>8904</th>\n",
       "      <td>infobox school</td>\n",
       "      <td>478678</td>\n",
       "      <td>1.269960</td>\n",
       "    </tr>\n",
       "    <tr>\n",
       "      <th>6813</th>\n",
       "      <td>infobox nfl player</td>\n",
       "      <td>466822</td>\n",
       "      <td>1.238505</td>\n",
       "    </tr>\n",
       "    <tr>\n",
       "      <th>2873</th>\n",
       "      <td>infobox cricketer</td>\n",
       "      <td>400939</td>\n",
       "      <td>1.063714</td>\n",
       "    </tr>\n",
       "    <tr>\n",
       "      <th>1556</th>\n",
       "      <td>infobox baseball biography</td>\n",
       "      <td>343305</td>\n",
       "      <td>0.910807</td>\n",
       "    </tr>\n",
       "    <tr>\n",
       "      <th>721</th>\n",
       "      <td>infobox actor</td>\n",
       "      <td>340529</td>\n",
       "      <td>0.903442</td>\n",
       "    </tr>\n",
       "  </tbody>\n",
       "</table>\n",
       "</div>"
      ],
      "text/plain": [
       "                           template    count  percentage\n",
       "3970     infobox football biography  4824780   12.800411\n",
       "6223         infobox musical artist  1840368    4.882599\n",
       "7733                 infobox person  1615415    4.285786\n",
       "954                   infobox album  1540564    4.087202\n",
       "3718                   infobox film  1322591    3.508908\n",
       "10046            infobox television  1101162    2.921444\n",
       "9153             infobox settlement  1066179    2.828633\n",
       "9443                 infobox single   914804    2.427026\n",
       "240         football player infobox   772848    2.050409\n",
       "2601                infobox company   626475    1.662073\n",
       "4101          infobox football club   588499    1.561321\n",
       "5747      infobox military conflict   585671    1.553818\n",
       "7077           infobox officeholder   569897    1.511969\n",
       "4032   infobox football biography 2   497162    1.318999\n",
       "5935             infobox mlb player   480682    1.275276\n",
       "8904                 infobox school   478678    1.269960\n",
       "6813             infobox nfl player   466822    1.238505\n",
       "2873              infobox cricketer   400939    1.063714\n",
       "1556     infobox baseball biography   343305    0.910807\n",
       "721                   infobox actor   340529    0.903442"
      ]
     },
     "execution_count": 33,
     "metadata": {},
     "output_type": "execute_result"
    }
   ],
   "source": [
    "top20_template_types"
   ]
  },
  {
   "cell_type": "code",
   "execution_count": 34,
   "id": "7082452a-7993-4f3f-83f0-9fd71fa8334d",
   "metadata": {},
   "outputs": [
    {
     "data": {
      "image/png": "[encoded data removed]",
      "text/plain": [
       "<Figure size 576x432 with 1 Axes>"
      ]
     },
     "metadata": {
      "needs_background": "light"
     },
     "output_type": "display_data"
    }
   ],
   "source": [
    "top20_template_types.sort_values('count', ascending=True).plot.barh(x='template', y='percentage', figsize=(8,6))\n",
    "plt.show()"
   ]
  },
  {
   "cell_type": "code",
   "execution_count": null,
   "id": "e9507d2f-884c-451b-a38b-eea7316b6836",
   "metadata": {},
   "outputs": [],
   "source": [
    "top20_template_types_list = top20_template_types['template'].tolist()"
   ]
  },
  {
   "cell_type": "code",
   "execution_count": 45,
   "id": "376192b8-a4d4-4f0b-8eb5-1f8766eb9bad",
   "metadata": {},
   "outputs": [
    {
     "data": {
      "text/plain": [
       "['infobox football biography',\n",
       " 'infobox musical artist',\n",
       " 'infobox person',\n",
       " 'infobox album',\n",
       " 'infobox film',\n",
       " 'infobox television',\n",
       " 'infobox settlement',\n",
       " 'infobox single',\n",
       " 'football player infobox',\n",
       " 'infobox company',\n",
       " 'infobox football club',\n",
       " 'infobox military conflict',\n",
       " 'infobox officeholder',\n",
       " 'infobox football biography 2',\n",
       " 'infobox mlb player',\n",
       " 'infobox school',\n",
       " 'infobox nfl player',\n",
       " 'infobox cricketer',\n",
       " 'infobox baseball biography',\n",
       " 'infobox actor']"
      ]
     },
     "execution_count": 45,
     "metadata": {},
     "output_type": "execute_result"
    }
   ],
   "source": [
    "top20_template_types_list"
   ]
  },
  {
   "cell_type": "code",
   "execution_count": null,
   "id": "794d9203-a64a-4ba9-9b92-b9c98a663497",
   "metadata": {},
   "outputs": [],
   "source": [
    "data_popular_temp = data[data['template'].isin(top20_template_types_list)]"
   ]
  },
  {
   "cell_type": "code",
   "execution_count": null,
   "id": "759f34c1-095d-4125-8adb-be0c46ef4c10",
   "metadata": {},
   "outputs": [],
   "source": [
    "data_popular_temp.to_csv('popular_temps_data.csv')"
   ]
  },
  {
   "cell_type": "code",
   "execution_count": 37,
   "id": "e383b8c6-a616-4e51-b1ee-8c923b1f0ff9",
   "metadata": {},
   "outputs": [
    {
     "data": {
      "text/plain": [
       "54.062302189808484"
      ]
     },
     "execution_count": 37,
     "metadata": {},
     "output_type": "execute_result"
    }
   ],
   "source": [
    "data_popular_temp.shape[0]*100/data.shape[0]"
   ]
  },
  {
   "cell_type": "code",
   "execution_count": 48,
   "id": "d5fe2524-6d52-4f0d-bf2c-7c0761ee4753",
   "metadata": {},
   "outputs": [
    {
     "data": {
      "text/plain": [
       "Sergio Agüero        2212\n",
       "Cyril Northam        2104\n",
       "Karim Benzema        2083\n",
       "Peter Crouch         1992\n",
       "Edin Džeko           1976\n",
       "                     ... \n",
       "Robert Molenaar         1\n",
       "Dmitry Izvekov          1\n",
       "Szymon Kapias           1\n",
       "Paata Jincharadze       1\n",
       "Paul Ellender           1\n",
       "Name: page_title, Length: 75579, dtype: int64"
      ]
     },
     "execution_count": 48,
     "metadata": {},
     "output_type": "execute_result"
    }
   ],
   "source": [
    "data_popular_temp[data_popular_temp['template']=='infobox football biography']['page_title'].value_counts()"
   ]
  },
  {
   "cell_type": "markdown",
   "id": "5c13a693-ed44-4165-982d-4d47ca86f303",
   "metadata": {},
   "source": [
    "## Look at widely used property types"
   ]
  },
  {
   "cell_type": "code",
   "execution_count": 7,
   "id": "73692900-8dc0-4438-aecf-b9fda5e96e84",
   "metadata": {},
   "outputs": [],
   "source": [
    "popular_properties = data.groupby(['property_name'])['page_title'].count().reset_index().rename(columns={'page_title':'count'})"
   ]
  },
  {
   "cell_type": "code",
   "execution_count": 8,
   "id": "a7df81d6-a916-434e-bd6f-ad987281982e",
   "metadata": {},
   "outputs": [],
   "source": [
    "popular_properties['percentage'] = popular_properties['count']*100 / popular_properties['count'].sum()"
   ]
  },
  {
   "cell_type": "code",
   "execution_count": 9,
   "id": "b101982b-a389-49ae-ad08-acc272e1f88f",
   "metadata": {},
   "outputs": [],
   "source": [
    "top20_properties = popular_properties.sort_values('count', ascending=False)[:20]"
   ]
  },
  {
   "cell_type": "code",
   "execution_count": 42,
   "id": "fc42c934-a2c6-4033-88f5-4a5ec52cd289",
   "metadata": {},
   "outputs": [
    {
     "data": {
      "text/html": [
       "<div>\n",
       "<style scoped>\n",
       "    .dataframe tbody tr th:only-of-type {\n",
       "        vertical-align: middle;\n",
       "    }\n",
       "\n",
       "    .dataframe tbody tr th {\n",
       "        vertical-align: top;\n",
       "    }\n",
       "\n",
       "    .dataframe thead th {\n",
       "        text-align: right;\n",
       "    }\n",
       "</style>\n",
       "<table border=\"1\" class=\"dataframe\">\n",
       "  <thead>\n",
       "    <tr style=\"text-align: right;\">\n",
       "      <th></th>\n",
       "      <th>property_name</th>\n",
       "      <th>count</th>\n",
       "      <th>percentage</th>\n",
       "    </tr>\n",
       "  </thead>\n",
       "  <tbody>\n",
       "    <tr>\n",
       "      <th>12798</th>\n",
       "      <td>image</td>\n",
       "      <td>1540181</td>\n",
       "      <td>4.086186</td>\n",
       "    </tr>\n",
       "    <tr>\n",
       "      <th>11326</th>\n",
       "      <td>genre</td>\n",
       "      <td>1187675</td>\n",
       "      <td>3.150968</td>\n",
       "    </tr>\n",
       "    <tr>\n",
       "      <th>17303</th>\n",
       "      <td>name</td>\n",
       "      <td>937635</td>\n",
       "      <td>2.487598</td>\n",
       "    </tr>\n",
       "    <tr>\n",
       "      <th>19911</th>\n",
       "      <td>pcupdate</td>\n",
       "      <td>850659</td>\n",
       "      <td>2.256846</td>\n",
       "    </tr>\n",
       "    <tr>\n",
       "      <th>4140</th>\n",
       "      <td>caption</td>\n",
       "      <td>689170</td>\n",
       "      <td>1.828407</td>\n",
       "    </tr>\n",
       "    <tr>\n",
       "      <th>22795</th>\n",
       "      <td>released</td>\n",
       "      <td>550946</td>\n",
       "      <td>1.461691</td>\n",
       "    </tr>\n",
       "    <tr>\n",
       "      <th>7118</th>\n",
       "      <td>currentclub</td>\n",
       "      <td>483074</td>\n",
       "      <td>1.281622</td>\n",
       "    </tr>\n",
       "    <tr>\n",
       "      <th>3183</th>\n",
       "      <td>birth_place</td>\n",
       "      <td>477089</td>\n",
       "      <td>1.265744</td>\n",
       "    </tr>\n",
       "    <tr>\n",
       "      <th>3167</th>\n",
       "      <td>birth_date</td>\n",
       "      <td>469113</td>\n",
       "      <td>1.244583</td>\n",
       "    </tr>\n",
       "    <tr>\n",
       "      <th>5137</th>\n",
       "      <td>club-update</td>\n",
       "      <td>444944</td>\n",
       "      <td>1.180461</td>\n",
       "    </tr>\n",
       "    <tr>\n",
       "      <th>5169</th>\n",
       "      <td>clubnumber</td>\n",
       "      <td>352686</td>\n",
       "      <td>0.935696</td>\n",
       "    </tr>\n",
       "    <tr>\n",
       "      <th>25573</th>\n",
       "      <td>starring</td>\n",
       "      <td>349624</td>\n",
       "      <td>0.927572</td>\n",
       "    </tr>\n",
       "    <tr>\n",
       "      <th>4058</th>\n",
       "      <td>caps(goals)</td>\n",
       "      <td>328319</td>\n",
       "      <td>0.871049</td>\n",
       "    </tr>\n",
       "    <tr>\n",
       "      <th>20992</th>\n",
       "      <td>position</td>\n",
       "      <td>283326</td>\n",
       "      <td>0.751680</td>\n",
       "    </tr>\n",
       "    <tr>\n",
       "      <th>18565</th>\n",
       "      <td>occupation</td>\n",
       "      <td>274961</td>\n",
       "      <td>0.729487</td>\n",
       "    </tr>\n",
       "    <tr>\n",
       "      <th>23122</th>\n",
       "      <td>reviews</td>\n",
       "      <td>270471</td>\n",
       "      <td>0.717575</td>\n",
       "    </tr>\n",
       "    <tr>\n",
       "      <th>16697</th>\n",
       "      <td>misc</td>\n",
       "      <td>249687</td>\n",
       "      <td>0.662434</td>\n",
       "    </tr>\n",
       "    <tr>\n",
       "      <th>18307</th>\n",
       "      <td>num_episodes</td>\n",
       "      <td>235881</td>\n",
       "      <td>0.625805</td>\n",
       "    </tr>\n",
       "    <tr>\n",
       "      <th>29132</th>\n",
       "      <td>website</td>\n",
       "      <td>231604</td>\n",
       "      <td>0.614458</td>\n",
       "    </tr>\n",
       "    <tr>\n",
       "      <th>25400</th>\n",
       "      <td>spouse</td>\n",
       "      <td>219055</td>\n",
       "      <td>0.581165</td>\n",
       "    </tr>\n",
       "  </tbody>\n",
       "</table>\n",
       "</div>"
      ],
      "text/plain": [
       "      property_name    count  percentage\n",
       "12798         image  1540181    4.086186\n",
       "11326         genre  1187675    3.150968\n",
       "17303          name   937635    2.487598\n",
       "19911      pcupdate   850659    2.256846\n",
       "4140        caption   689170    1.828407\n",
       "22795      released   550946    1.461691\n",
       "7118    currentclub   483074    1.281622\n",
       "3183    birth_place   477089    1.265744\n",
       "3167     birth_date   469113    1.244583\n",
       "5137    club-update   444944    1.180461\n",
       "5169     clubnumber   352686    0.935696\n",
       "25573      starring   349624    0.927572\n",
       "4058    caps(goals)   328319    0.871049\n",
       "20992      position   283326    0.751680\n",
       "18565    occupation   274961    0.729487\n",
       "23122       reviews   270471    0.717575\n",
       "16697          misc   249687    0.662434\n",
       "18307  num_episodes   235881    0.625805\n",
       "29132       website   231604    0.614458\n",
       "25400        spouse   219055    0.581165"
      ]
     },
     "execution_count": 42,
     "metadata": {},
     "output_type": "execute_result"
    }
   ],
   "source": [
    "top20_properties"
   ]
  },
  {
   "cell_type": "code",
   "execution_count": 10,
   "id": "d4749ac5-4f63-464a-8bb2-e40e553bed3e",
   "metadata": {},
   "outputs": [
    {
     "data": {
      "image/png": "[encoded data removed]",
      "text/plain": [
       "<Figure size 576x432 with 1 Axes>"
      ]
     },
     "metadata": {
      "needs_background": "light"
     },
     "output_type": "display_data"
    }
   ],
   "source": [
    "top20_properties.sort_values('count', ascending=True).plot.barh(x='property_name', y='percentage', figsize=(8,6))\n",
    "plt.show()"
   ]
  },
  {
   "cell_type": "code",
   "execution_count": 49,
   "id": "38dff7b7-725a-4da0-a662-38056565cf6a",
   "metadata": {},
   "outputs": [],
   "source": [
    "top20_properties_list = top20_properties['property_name'].tolist()"
   ]
  },
  {
   "cell_type": "code",
   "execution_count": 50,
   "id": "aaf4bbad-191f-4480-bd13-41e79ea3af1a",
   "metadata": {},
   "outputs": [],
   "source": [
    "data_popular_prop = data[data['property_name'].isin(top20_properties_list)]"
   ]
  },
  {
   "cell_type": "code",
   "execution_count": 51,
   "id": "d3b0982d-29c9-4ffe-b29a-523f1c268ea7",
   "metadata": {},
   "outputs": [
    {
     "data": {
      "text/plain": [
       "27.661026367051402"
      ]
     },
     "execution_count": 51,
     "metadata": {},
     "output_type": "execute_result"
    }
   ],
   "source": [
    "data_popular_prop.shape[0]*100/data.shape[0]"
   ]
  },
  {
   "cell_type": "code",
   "execution_count": 55,
   "id": "00aa0d9c-7df0-4261-8b8c-1e2ff3e84a7d",
   "metadata": {},
   "outputs": [
    {
     "data": {
      "text/plain": [
       "21019933   2009-04-11 09:49:40+00:00\n",
       "44666067   2009-04-15 14:43:46+00:00\n",
       "14005170   2009-04-15 19:42:07+00:00\n",
       "14005171   2009-04-18 16:33:18+00:00\n",
       "14005172   2009-04-22 01:48:57+00:00\n",
       "                      ...           \n",
       "52748833   2019-09-02 14:36:20+00:00\n",
       "52753284   2019-09-02 14:36:59+00:00\n",
       "16019305   2019-09-02 14:38:32+00:00\n",
       "16054820   2019-09-02 14:38:51+00:00\n",
       "63038065   2019-09-02 14:39:29+00:00\n",
       "Name: timestamp, Length: 444944, dtype: datetime64[ns, UTC]"
      ]
     },
     "execution_count": 55,
     "metadata": {},
     "output_type": "execute_result"
    }
   ],
   "source": [
    "data_popular_prop[data_popular_prop['property_name']=='club-update']['timestamp'].sort_values()"
   ]
  },
  {
   "attachments": {
    "1bfd121c-dd9e-403c-b4b8-93cff1fbc6be.png": {
     "image/png": "[encoded data removed]"
    }
   },
   "cell_type": "markdown",
   "id": "21a707f2-4aeb-4863-98df-4f73db984387",
   "metadata": {},
   "source": [
    "![Screenshot 2021-11-24 at 14.15.50.png](attachment:1bfd121c-dd9e-403c-b4b8-93cff1fbc6be.png)\n",
    "\n",
    "\"club-update\" means the same as \"pcupdate\" but only exists from 2009. However \"pcupdate still gets updates until the most recent changes in the dataset."
   ]
  },
  {
   "cell_type": "markdown",
   "id": "943e2e19-eda3-42cf-8df5-b43335261f33",
   "metadata": {},
   "source": [
    "## Label static properties"
   ]
  },
  {
   "cell_type": "code",
   "execution_count": 12,
   "id": "7d4681b7-be7a-4506-84dc-df7095d36c79",
   "metadata": {},
   "outputs": [
    {
     "data": {
      "text/html": [
       "<div>\n",
       "<style scoped>\n",
       "    .dataframe tbody tr th:only-of-type {\n",
       "        vertical-align: middle;\n",
       "    }\n",
       "\n",
       "    .dataframe tbody tr th {\n",
       "        vertical-align: top;\n",
       "    }\n",
       "\n",
       "    .dataframe thead th {\n",
       "        text-align: right;\n",
       "    }\n",
       "</style>\n",
       "<table border=\"1\" class=\"dataframe\">\n",
       "  <thead>\n",
       "    <tr style=\"text-align: right;\">\n",
       "      <th></th>\n",
       "      <th>infobox_key</th>\n",
       "      <th>page_title</th>\n",
       "      <th>property_name</th>\n",
       "      <th>template</th>\n",
       "      <th>previous_value</th>\n",
       "      <th>current_value</th>\n",
       "      <th>timestamp</th>\n",
       "    </tr>\n",
       "  </thead>\n",
       "  <tbody>\n",
       "    <tr>\n",
       "      <th>0</th>\n",
       "      <td>216369130-0</td>\n",
       "      <td>NCSoft</td>\n",
       "      <td>assets</td>\n",
       "      <td>infobox company</td>\n",
       "      <td>{{increase}} [[US$]] 1,199.9 million &lt;small&gt;(2...</td>\n",
       "      <td>{{increase}} [[US$]] 1.2 billion &lt;small&gt;(2012)...</td>\n",
       "      <td>2013-05-04 10:03:43+00:00</td>\n",
       "    </tr>\n",
       "    <tr>\n",
       "      <th>4</th>\n",
       "      <td>216369130-0</td>\n",
       "      <td>NCSoft</td>\n",
       "      <td>assets</td>\n",
       "      <td>infobox company</td>\n",
       "      <td>{{increase}} [[US$]] 1.2 billion &lt;small&gt;(2012)...</td>\n",
       "      <td>{{increase}} [[US$]] 3.78 billion &lt;small&gt;(2017...</td>\n",
       "      <td>2018-08-24 09:13:16+00:00</td>\n",
       "    </tr>\n",
       "    <tr>\n",
       "      <th>6</th>\n",
       "      <td>216369130-0</td>\n",
       "      <td>NCSoft</td>\n",
       "      <td>company_logo</td>\n",
       "      <td>infobox company</td>\n",
       "      <td>[[Image:Nclogo leftright.svg|250px|The current...</td>\n",
       "      <td>[[File:Nclogo leftright.svg|250px|The current ...</td>\n",
       "      <td>2013-01-30 22:43:59+00:00</td>\n",
       "    </tr>\n",
       "    <tr>\n",
       "      <th>12</th>\n",
       "      <td>216369130-0</td>\n",
       "      <td>NCSoft</td>\n",
       "      <td>company_name</td>\n",
       "      <td>infobox company</td>\n",
       "      <td>NCsoft Corporation&lt;br /&gt;㈜엔씨소프트</td>\n",
       "      <td>NCsoft Corporation&lt;br/&gt;㈜엔씨소프트</td>\n",
       "      <td>2010-07-01 22:09:40+00:00</td>\n",
       "    </tr>\n",
       "    <tr>\n",
       "      <th>13</th>\n",
       "      <td>216369130-0</td>\n",
       "      <td>NCSoft</td>\n",
       "      <td>company_name</td>\n",
       "      <td>infobox company</td>\n",
       "      <td>NCsoft Corporation&lt;br/&gt;㈜엔씨소프트</td>\n",
       "      <td>NCSOFT Corporation&lt;br/&gt;㈜엔씨소프트</td>\n",
       "      <td>2013-03-28 01:48:22+00:00</td>\n",
       "    </tr>\n",
       "    <tr>\n",
       "      <th>...</th>\n",
       "      <td>...</td>\n",
       "      <td>...</td>\n",
       "      <td>...</td>\n",
       "      <td>...</td>\n",
       "      <td>...</td>\n",
       "      <td>...</td>\n",
       "      <td>...</td>\n",
       "    </tr>\n",
       "    <tr>\n",
       "      <th>64240405</th>\n",
       "      <td>143131922-0</td>\n",
       "      <td>Latin freestyle</td>\n",
       "      <td>regional_scenes</td>\n",
       "      <td>infobox music genre</td>\n",
       "      <td>[[New York City]], [[Northern New Jersey]], [[...</td>\n",
       "      <td>{{hlist|[[New York City]]|[[Northern New Jerse...</td>\n",
       "      <td>2016-04-26 21:29:48+00:00</td>\n",
       "    </tr>\n",
       "    <tr>\n",
       "      <th>64240406</th>\n",
       "      <td>143131922-0</td>\n",
       "      <td>Latin freestyle</td>\n",
       "      <td>regional_scenes</td>\n",
       "      <td>infobox music genre</td>\n",
       "      <td>{{hlist|[[New York City]]|[[Northern New Jerse...</td>\n",
       "      <td>{{hlist|[[New York City]]|[[Northern New Jerse...</td>\n",
       "      <td>2017-08-21 01:49:48+00:00</td>\n",
       "    </tr>\n",
       "    <tr>\n",
       "      <th>64240407</th>\n",
       "      <td>143131922-0</td>\n",
       "      <td>Latin freestyle</td>\n",
       "      <td>regional_scenes</td>\n",
       "      <td>infobox music genre</td>\n",
       "      <td>{{hlist|[[New York City]]|[[Northern New Jerse...</td>\n",
       "      <td>{{hlist|New York City&lt;ref name=Eddys&gt;&lt;/ref&gt;|Mi...</td>\n",
       "      <td>2018-08-10 19:50:59+00:00</td>\n",
       "    </tr>\n",
       "    <tr>\n",
       "      <th>64240408</th>\n",
       "      <td>143131922-0</td>\n",
       "      <td>Latin freestyle</td>\n",
       "      <td>regional_scenes</td>\n",
       "      <td>infobox music genre</td>\n",
       "      <td>{{hlist|New York City&lt;ref name=Eddys&gt;&lt;/ref&gt;|Mi...</td>\n",
       "      <td>{{hlist|New York City&lt;ref name=Eddys&gt;&lt;/ref&gt;|Mi...</td>\n",
       "      <td>2018-09-13 22:21:36+00:00</td>\n",
       "    </tr>\n",
       "    <tr>\n",
       "      <th>64240409</th>\n",
       "      <td>143131922-0</td>\n",
       "      <td>Latin freestyle</td>\n",
       "      <td>regional_scenes</td>\n",
       "      <td>infobox music genre</td>\n",
       "      <td>{{hlist|New York City&lt;ref name=Eddys&gt;&lt;/ref&gt;|Mi...</td>\n",
       "      <td>{{hlist|New York City&lt;ref name=Eddys&gt;&lt;/ref&gt;|Mi...</td>\n",
       "      <td>2019-04-21 03:25:40+00:00</td>\n",
       "    </tr>\n",
       "  </tbody>\n",
       "</table>\n",
       "<p>37692383 rows × 7 columns</p>\n",
       "</div>"
      ],
      "text/plain": [
       "          infobox_key       page_title    property_name             template  \\\n",
       "0         216369130-0           NCSoft           assets      infobox company   \n",
       "4         216369130-0           NCSoft           assets      infobox company   \n",
       "6         216369130-0           NCSoft     company_logo      infobox company   \n",
       "12        216369130-0           NCSoft     company_name      infobox company   \n",
       "13        216369130-0           NCSoft     company_name      infobox company   \n",
       "...               ...              ...              ...                  ...   \n",
       "64240405  143131922-0  Latin freestyle  regional_scenes  infobox music genre   \n",
       "64240406  143131922-0  Latin freestyle  regional_scenes  infobox music genre   \n",
       "64240407  143131922-0  Latin freestyle  regional_scenes  infobox music genre   \n",
       "64240408  143131922-0  Latin freestyle  regional_scenes  infobox music genre   \n",
       "64240409  143131922-0  Latin freestyle  regional_scenes  infobox music genre   \n",
       "\n",
       "                                             previous_value  \\\n",
       "0         {{increase}} [[US$]] 1,199.9 million <small>(2...   \n",
       "4         {{increase}} [[US$]] 1.2 billion <small>(2012)...   \n",
       "6         [[Image:Nclogo leftright.svg|250px|The current...   \n",
       "12                           NCsoft Corporation<br />㈜엔씨소프트   \n",
       "13                            NCsoft Corporation<br/>㈜엔씨소프트   \n",
       "...                                                     ...   \n",
       "64240405  [[New York City]], [[Northern New Jersey]], [[...   \n",
       "64240406  {{hlist|[[New York City]]|[[Northern New Jerse...   \n",
       "64240407  {{hlist|[[New York City]]|[[Northern New Jerse...   \n",
       "64240408  {{hlist|New York City<ref name=Eddys></ref>|Mi...   \n",
       "64240409  {{hlist|New York City<ref name=Eddys></ref>|Mi...   \n",
       "\n",
       "                                              current_value  \\\n",
       "0         {{increase}} [[US$]] 1.2 billion <small>(2012)...   \n",
       "4         {{increase}} [[US$]] 3.78 billion <small>(2017...   \n",
       "6         [[File:Nclogo leftright.svg|250px|The current ...   \n",
       "12                            NCsoft Corporation<br/>㈜엔씨소프트   \n",
       "13                            NCSOFT Corporation<br/>㈜엔씨소프트   \n",
       "...                                                     ...   \n",
       "64240405  {{hlist|[[New York City]]|[[Northern New Jerse...   \n",
       "64240406  {{hlist|[[New York City]]|[[Northern New Jerse...   \n",
       "64240407  {{hlist|New York City<ref name=Eddys></ref>|Mi...   \n",
       "64240408  {{hlist|New York City<ref name=Eddys></ref>|Mi...   \n",
       "64240409  {{hlist|New York City<ref name=Eddys></ref>|Mi...   \n",
       "\n",
       "                         timestamp  \n",
       "0        2013-05-04 10:03:43+00:00  \n",
       "4        2018-08-24 09:13:16+00:00  \n",
       "6        2013-01-30 22:43:59+00:00  \n",
       "12       2010-07-01 22:09:40+00:00  \n",
       "13       2013-03-28 01:48:22+00:00  \n",
       "...                            ...  \n",
       "64240405 2016-04-26 21:29:48+00:00  \n",
       "64240406 2017-08-21 01:49:48+00:00  \n",
       "64240407 2018-08-10 19:50:59+00:00  \n",
       "64240408 2018-09-13 22:21:36+00:00  \n",
       "64240409 2019-04-21 03:25:40+00:00  \n",
       "\n",
       "[37692383 rows x 7 columns]"
      ]
     },
     "execution_count": 12,
     "metadata": {},
     "output_type": "execute_result"
    }
   ],
   "source": [
    "data"
   ]
  },
  {
   "cell_type": "code",
   "execution_count": 9,
   "id": "2dda79d1-dcd5-40ed-a7bd-eba756cf3c2c",
   "metadata": {},
   "outputs": [],
   "source": [
    "properties_template_pairs = data.groupby(['property_name', 'template']).size().reset_index()"
   ]
  },
  {
   "cell_type": "code",
   "execution_count": 10,
   "id": "a8775101-c8c8-4004-889d-761bab27827e",
   "metadata": {},
   "outputs": [],
   "source": [
    "properties_template_pairs = properties_template_pairs.rename(columns={0:'count'})"
   ]
  },
  {
   "cell_type": "code",
   "execution_count": 11,
   "id": "9821da4e-9ced-4cb0-8944-bab91c55881e",
   "metadata": {},
   "outputs": [
    {
     "data": {
      "text/html": [
       "<div>\n",
       "<style scoped>\n",
       "    .dataframe tbody tr th:only-of-type {\n",
       "        vertical-align: middle;\n",
       "    }\n",
       "\n",
       "    .dataframe tbody tr th {\n",
       "        vertical-align: top;\n",
       "    }\n",
       "\n",
       "    .dataframe thead th {\n",
       "        text-align: right;\n",
       "    }\n",
       "</style>\n",
       "<table border=\"1\" class=\"dataframe\">\n",
       "  <thead>\n",
       "    <tr style=\"text-align: right;\">\n",
       "      <th></th>\n",
       "      <th>property_name</th>\n",
       "      <th>template</th>\n",
       "      <th>count</th>\n",
       "    </tr>\n",
       "  </thead>\n",
       "  <tbody>\n",
       "    <tr>\n",
       "      <th>118523</th>\n",
       "      <td>pcupdate</td>\n",
       "      <td>infobox football biography</td>\n",
       "      <td>652390</td>\n",
       "    </tr>\n",
       "    <tr>\n",
       "      <th>29999</th>\n",
       "      <td>club-update</td>\n",
       "      <td>infobox football biography</td>\n",
       "      <td>432126</td>\n",
       "    </tr>\n",
       "    <tr>\n",
       "      <th>62604</th>\n",
       "      <td>genre</td>\n",
       "      <td>infobox album</td>\n",
       "      <td>373310</td>\n",
       "    </tr>\n",
       "    <tr>\n",
       "      <th>40172</th>\n",
       "      <td>currentclub</td>\n",
       "      <td>infobox football biography</td>\n",
       "      <td>356740</td>\n",
       "    </tr>\n",
       "    <tr>\n",
       "      <th>62748</th>\n",
       "      <td>genre</td>\n",
       "      <td>infobox musical artist</td>\n",
       "      <td>352174</td>\n",
       "    </tr>\n",
       "    <tr>\n",
       "      <th>...</th>\n",
       "      <td>...</td>\n",
       "      <td>...</td>\n",
       "      <td>...</td>\n",
       "    </tr>\n",
       "    <tr>\n",
       "      <th>110991</th>\n",
       "      <td>office</td>\n",
       "      <td>infobox indian student</td>\n",
       "      <td>1</td>\n",
       "    </tr>\n",
       "    <tr>\n",
       "      <th>43907</th>\n",
       "      <td>death_date</td>\n",
       "      <td>infobox skateboarder</td>\n",
       "      <td>1</td>\n",
       "    </tr>\n",
       "    <tr>\n",
       "      <th>140068</th>\n",
       "      <td>seat_change2</td>\n",
       "      <td>infobox election result</td>\n",
       "      <td>1</td>\n",
       "    </tr>\n",
       "    <tr>\n",
       "      <th>110990</th>\n",
       "      <td>office</td>\n",
       "      <td>infobox indian politicians</td>\n",
       "      <td>1</td>\n",
       "    </tr>\n",
       "    <tr>\n",
       "      <th>137847</th>\n",
       "      <td>ru_tries6</td>\n",
       "      <td>infobox rugby biography</td>\n",
       "      <td>1</td>\n",
       "    </tr>\n",
       "  </tbody>\n",
       "</table>\n",
       "<p>178959 rows × 3 columns</p>\n",
       "</div>"
      ],
      "text/plain": [
       "       property_name                    template   count\n",
       "118523      pcupdate  infobox football biography  652390\n",
       "29999    club-update  infobox football biography  432126\n",
       "62604          genre               infobox album  373310\n",
       "40172    currentclub  infobox football biography  356740\n",
       "62748          genre      infobox musical artist  352174\n",
       "...              ...                         ...     ...\n",
       "110991        office      infobox indian student       1\n",
       "43907     death_date        infobox skateboarder       1\n",
       "140068  seat_change2     infobox election result       1\n",
       "110990        office  infobox indian politicians       1\n",
       "137847     ru_tries6     infobox rugby biography       1\n",
       "\n",
       "[178959 rows x 3 columns]"
      ]
     },
     "execution_count": 11,
     "metadata": {},
     "output_type": "execute_result"
    }
   ],
   "source": [
    "properties_template_pairs.sort_values('count', ascending=False)"
   ]
  },
  {
   "cell_type": "code",
   "execution_count": 12,
   "id": "f51a9bc8-678c-4c98-a5ee-ec7f95bb9a20",
   "metadata": {},
   "outputs": [],
   "source": [
    "property_stats = properties_template_pairs.groupby(['property_name'])['count'].agg(property_mean='mean', property_median='median')"
   ]
  },
  {
   "cell_type": "code",
   "execution_count": 13,
   "id": "8cfbc86b-9a6c-4e7a-8755-84e2611076d8",
   "metadata": {},
   "outputs": [],
   "source": [
    "property_stats = property_stats.reset_index()"
   ]
  },
  {
   "cell_type": "code",
   "execution_count": 14,
   "id": "b0d3a6a5-6d47-4e90-b752-a2d742c84a0c",
   "metadata": {},
   "outputs": [
    {
     "data": {
      "text/html": [
       "<div>\n",
       "<style scoped>\n",
       "    .dataframe tbody tr th:only-of-type {\n",
       "        vertical-align: middle;\n",
       "    }\n",
       "\n",
       "    .dataframe tbody tr th {\n",
       "        vertical-align: top;\n",
       "    }\n",
       "\n",
       "    .dataframe thead th {\n",
       "        text-align: right;\n",
       "    }\n",
       "</style>\n",
       "<table border=\"1\" class=\"dataframe\">\n",
       "  <thead>\n",
       "    <tr style=\"text-align: right;\">\n",
       "      <th></th>\n",
       "      <th>property_name</th>\n",
       "      <th>property_mean</th>\n",
       "      <th>property_median</th>\n",
       "    </tr>\n",
       "  </thead>\n",
       "  <tbody>\n",
       "    <tr>\n",
       "      <th>0</th>\n",
       "      <td>\"the gypsies\"\\n  founded</td>\n",
       "      <td>4.0</td>\n",
       "      <td>4.0</td>\n",
       "    </tr>\n",
       "    <tr>\n",
       "      <th>1</th>\n",
       "      <td># of seasons</td>\n",
       "      <td>4.0</td>\n",
       "      <td>4.0</td>\n",
       "    </tr>\n",
       "    <tr>\n",
       "      <th>2</th>\n",
       "      <td>#_cities_towns</td>\n",
       "      <td>1.0</td>\n",
       "      <td>1.0</td>\n",
       "    </tr>\n",
       "    <tr>\n",
       "      <th>3</th>\n",
       "      <td>#_district-type_divs</td>\n",
       "      <td>1.0</td>\n",
       "      <td>1.0</td>\n",
       "    </tr>\n",
       "    <tr>\n",
       "      <th>4</th>\n",
       "      <td>#_fuel_elements</td>\n",
       "      <td>1.0</td>\n",
       "      <td>1.0</td>\n",
       "    </tr>\n",
       "    <tr>\n",
       "      <th>...</th>\n",
       "      <td>...</td>\n",
       "      <td>...</td>\n",
       "      <td>...</td>\n",
       "    </tr>\n",
       "    <tr>\n",
       "      <th>32893</th>\n",
       "      <td>‎\\n  caption2</td>\n",
       "      <td>1.0</td>\n",
       "      <td>1.0</td>\n",
       "    </tr>\n",
       "    <tr>\n",
       "      <th>32894</th>\n",
       "      <td>‎ \\n  branding</td>\n",
       "      <td>3.0</td>\n",
       "      <td>3.0</td>\n",
       "    </tr>\n",
       "    <tr>\n",
       "      <th>32895</th>\n",
       "      <td>‎flag_type</td>\n",
       "      <td>3.0</td>\n",
       "      <td>3.0</td>\n",
       "    </tr>\n",
       "    <tr>\n",
       "      <th>32896</th>\n",
       "      <td>—industry</td>\n",
       "      <td>1.0</td>\n",
       "      <td>1.0</td>\n",
       "    </tr>\n",
       "    <tr>\n",
       "      <th>32897</th>\n",
       "      <td>hanja</td>\n",
       "      <td>2.0</td>\n",
       "      <td>2.0</td>\n",
       "    </tr>\n",
       "  </tbody>\n",
       "</table>\n",
       "<p>32898 rows × 3 columns</p>\n",
       "</div>"
      ],
      "text/plain": [
       "                  property_name  property_mean  property_median\n",
       "0      \"the gypsies\"\\n  founded            4.0              4.0\n",
       "1                  # of seasons            4.0              4.0\n",
       "2                #_cities_towns            1.0              1.0\n",
       "3          #_district-type_divs            1.0              1.0\n",
       "4               #_fuel_elements            1.0              1.0\n",
       "...                         ...            ...              ...\n",
       "32893             ‎\\n  caption2            1.0              1.0\n",
       "32894            ‎ \\n  branding            3.0              3.0\n",
       "32895                ‎flag_type            3.0              3.0\n",
       "32896                 —industry            1.0              1.0\n",
       "32897                    　hanja            2.0              2.0\n",
       "\n",
       "[32898 rows x 3 columns]"
      ]
     },
     "execution_count": 14,
     "metadata": {},
     "output_type": "execute_result"
    }
   ],
   "source": [
    "property_stats"
   ]
  },
  {
   "cell_type": "code",
   "execution_count": 77,
   "id": "f3575df1-4527-4a02-b5be-75c2a1dcd985",
   "metadata": {},
   "outputs": [
    {
     "data": {
      "image/png": "[encoded data removed]",
      "text/plain": [
       "<Figure size 432x288 with 1 Axes>"
      ]
     },
     "metadata": {
      "needs_background": "light"
     },
     "output_type": "display_data"
    }
   ],
   "source": [
    "property_stats[property_stats['property_mean']<50]['property_mean'].plot.hist(bins=20)\n",
    "plt.show()"
   ]
  },
  {
   "cell_type": "code",
   "execution_count": 15,
   "id": "755450f2-b9b9-405b-80df-05fb1f407b88",
   "metadata": {},
   "outputs": [],
   "source": [
    "static_properties = property_stats[property_stats['property_median']<15]"
   ]
  },
  {
   "cell_type": "code",
   "execution_count": 16,
   "id": "2dba7072-55ce-456d-9919-da8476cc9548",
   "metadata": {},
   "outputs": [
    {
     "data": {
      "text/html": [
       "<div>\n",
       "<style scoped>\n",
       "    .dataframe tbody tr th:only-of-type {\n",
       "        vertical-align: middle;\n",
       "    }\n",
       "\n",
       "    .dataframe tbody tr th {\n",
       "        vertical-align: top;\n",
       "    }\n",
       "\n",
       "    .dataframe thead th {\n",
       "        text-align: right;\n",
       "    }\n",
       "</style>\n",
       "<table border=\"1\" class=\"dataframe\">\n",
       "  <thead>\n",
       "    <tr style=\"text-align: right;\">\n",
       "      <th></th>\n",
       "      <th>property_name</th>\n",
       "      <th>property_mean</th>\n",
       "      <th>property_median</th>\n",
       "    </tr>\n",
       "  </thead>\n",
       "  <tbody>\n",
       "    <tr>\n",
       "      <th>0</th>\n",
       "      <td>\"the gypsies\"\\n  founded</td>\n",
       "      <td>4.0</td>\n",
       "      <td>4.0</td>\n",
       "    </tr>\n",
       "    <tr>\n",
       "      <th>1</th>\n",
       "      <td># of seasons</td>\n",
       "      <td>4.0</td>\n",
       "      <td>4.0</td>\n",
       "    </tr>\n",
       "    <tr>\n",
       "      <th>2</th>\n",
       "      <td>#_cities_towns</td>\n",
       "      <td>1.0</td>\n",
       "      <td>1.0</td>\n",
       "    </tr>\n",
       "    <tr>\n",
       "      <th>3</th>\n",
       "      <td>#_district-type_divs</td>\n",
       "      <td>1.0</td>\n",
       "      <td>1.0</td>\n",
       "    </tr>\n",
       "    <tr>\n",
       "      <th>4</th>\n",
       "      <td>#_fuel_elements</td>\n",
       "      <td>1.0</td>\n",
       "      <td>1.0</td>\n",
       "    </tr>\n",
       "    <tr>\n",
       "      <th>...</th>\n",
       "      <td>...</td>\n",
       "      <td>...</td>\n",
       "      <td>...</td>\n",
       "    </tr>\n",
       "    <tr>\n",
       "      <th>32893</th>\n",
       "      <td>‎\\n  caption2</td>\n",
       "      <td>1.0</td>\n",
       "      <td>1.0</td>\n",
       "    </tr>\n",
       "    <tr>\n",
       "      <th>32894</th>\n",
       "      <td>‎ \\n  branding</td>\n",
       "      <td>3.0</td>\n",
       "      <td>3.0</td>\n",
       "    </tr>\n",
       "    <tr>\n",
       "      <th>32895</th>\n",
       "      <td>‎flag_type</td>\n",
       "      <td>3.0</td>\n",
       "      <td>3.0</td>\n",
       "    </tr>\n",
       "    <tr>\n",
       "      <th>32896</th>\n",
       "      <td>—industry</td>\n",
       "      <td>1.0</td>\n",
       "      <td>1.0</td>\n",
       "    </tr>\n",
       "    <tr>\n",
       "      <th>32897</th>\n",
       "      <td>hanja</td>\n",
       "      <td>2.0</td>\n",
       "      <td>2.0</td>\n",
       "    </tr>\n",
       "  </tbody>\n",
       "</table>\n",
       "<p>26068 rows × 3 columns</p>\n",
       "</div>"
      ],
      "text/plain": [
       "                  property_name  property_mean  property_median\n",
       "0      \"the gypsies\"\\n  founded            4.0              4.0\n",
       "1                  # of seasons            4.0              4.0\n",
       "2                #_cities_towns            1.0              1.0\n",
       "3          #_district-type_divs            1.0              1.0\n",
       "4               #_fuel_elements            1.0              1.0\n",
       "...                         ...            ...              ...\n",
       "32893             ‎\\n  caption2            1.0              1.0\n",
       "32894            ‎ \\n  branding            3.0              3.0\n",
       "32895                ‎flag_type            3.0              3.0\n",
       "32896                 —industry            1.0              1.0\n",
       "32897                    　hanja            2.0              2.0\n",
       "\n",
       "[26068 rows x 3 columns]"
      ]
     },
     "execution_count": 16,
     "metadata": {},
     "output_type": "execute_result"
    }
   ],
   "source": [
    "static_properties"
   ]
  },
  {
   "cell_type": "code",
   "execution_count": 19,
   "id": "87b7aba2",
   "metadata": {},
   "outputs": [],
   "source": [
    "static_list = static_properties['property_name'].tolist()"
   ]
  },
  {
   "cell_type": "markdown",
   "id": "ee70668c",
   "metadata": {},
   "source": [
    "Save lists for later filtering"
   ]
  },
  {
   "cell_type": "code",
   "execution_count": 21,
   "id": "d8521ed0",
   "metadata": {},
   "outputs": [],
   "source": [
    "import pickle"
   ]
  },
  {
   "cell_type": "code",
   "execution_count": 22,
   "id": "f967265e",
   "metadata": {},
   "outputs": [],
   "source": [
    "with open('static_properties', 'wb') as fp:\n",
    "    pickle.dump(static_list, fp)"
   ]
  },
  {
   "cell_type": "code",
   "execution_count": 17,
   "id": "52ff6190-ba57-4776-9973-893ab618c53b",
   "metadata": {},
   "outputs": [],
   "source": [
    "dynamic_properties = property_stats[property_stats['property_median']>=15]"
   ]
  },
  {
   "cell_type": "code",
   "execution_count": 18,
   "id": "a7f1446f-0a58-4719-b2c7-7a7a2fe26962",
   "metadata": {},
   "outputs": [
    {
     "data": {
      "text/html": [
       "<div>\n",
       "<style scoped>\n",
       "    .dataframe tbody tr th:only-of-type {\n",
       "        vertical-align: middle;\n",
       "    }\n",
       "\n",
       "    .dataframe tbody tr th {\n",
       "        vertical-align: top;\n",
       "    }\n",
       "\n",
       "    .dataframe thead th {\n",
       "        text-align: right;\n",
       "    }\n",
       "</style>\n",
       "<table border=\"1\" class=\"dataframe\">\n",
       "  <thead>\n",
       "    <tr style=\"text-align: right;\">\n",
       "      <th></th>\n",
       "      <th>property_name</th>\n",
       "      <th>property_mean</th>\n",
       "      <th>property_median</th>\n",
       "    </tr>\n",
       "  </thead>\n",
       "  <tbody>\n",
       "    <tr>\n",
       "      <th>10</th>\n",
       "      <td>#_servings</td>\n",
       "      <td>31.000</td>\n",
       "      <td>31.0</td>\n",
       "    </tr>\n",
       "    <tr>\n",
       "      <th>49</th>\n",
       "      <td>'''show_name'''</td>\n",
       "      <td>25.000</td>\n",
       "      <td>25.0</td>\n",
       "    </tr>\n",
       "    <tr>\n",
       "      <th>118</th>\n",
       "      <td>1-min winds</td>\n",
       "      <td>455.000</td>\n",
       "      <td>20.0</td>\n",
       "    </tr>\n",
       "    <tr>\n",
       "      <th>121</th>\n",
       "      <td>10-min winds</td>\n",
       "      <td>243.875</td>\n",
       "      <td>22.5</td>\n",
       "    </tr>\n",
       "    <tr>\n",
       "      <th>131</th>\n",
       "      <td>100s/50s5</td>\n",
       "      <td>166.500</td>\n",
       "      <td>166.5</td>\n",
       "    </tr>\n",
       "    <tr>\n",
       "      <th>...</th>\n",
       "      <td>...</td>\n",
       "      <td>...</td>\n",
       "      <td>...</td>\n",
       "    </tr>\n",
       "    <tr>\n",
       "      <th>32869</th>\n",
       "      <td>zone_medals</td>\n",
       "      <td>176.750</td>\n",
       "      <td>22.5</td>\n",
       "    </tr>\n",
       "    <tr>\n",
       "      <th>32870</th>\n",
       "      <td>zone_medals2</td>\n",
       "      <td>75.000</td>\n",
       "      <td>75.0</td>\n",
       "    </tr>\n",
       "    <tr>\n",
       "      <th>32872</th>\n",
       "      <td>zoo_name</td>\n",
       "      <td>127.500</td>\n",
       "      <td>127.5</td>\n",
       "    </tr>\n",
       "    <tr>\n",
       "      <th>32873</th>\n",
       "      <td>zords</td>\n",
       "      <td>16.000</td>\n",
       "      <td>16.0</td>\n",
       "    </tr>\n",
       "    <tr>\n",
       "      <th>32874</th>\n",
       "      <td>zuiderduin masters</td>\n",
       "      <td>210.000</td>\n",
       "      <td>210.0</td>\n",
       "    </tr>\n",
       "  </tbody>\n",
       "</table>\n",
       "<p>6830 rows × 3 columns</p>\n",
       "</div>"
      ],
      "text/plain": [
       "            property_name  property_mean  property_median\n",
       "10             #_servings         31.000             31.0\n",
       "49        '''show_name'''         25.000             25.0\n",
       "118           1-min winds        455.000             20.0\n",
       "121          10-min winds        243.875             22.5\n",
       "131             100s/50s5        166.500            166.5\n",
       "...                   ...            ...              ...\n",
       "32869         zone_medals        176.750             22.5\n",
       "32870        zone_medals2         75.000             75.0\n",
       "32872            zoo_name        127.500            127.5\n",
       "32873               zords         16.000             16.0\n",
       "32874  zuiderduin masters        210.000            210.0\n",
       "\n",
       "[6830 rows x 3 columns]"
      ]
     },
     "execution_count": 18,
     "metadata": {},
     "output_type": "execute_result"
    }
   ],
   "source": [
    "dynamic_properties"
   ]
  },
  {
   "cell_type": "code",
   "execution_count": 20,
   "id": "7e321b85",
   "metadata": {},
   "outputs": [],
   "source": [
    "dynamic_list = dynamic_properties['property_name'].tolist()"
   ]
  },
  {
   "cell_type": "code",
   "execution_count": 23,
   "id": "9a909bef",
   "metadata": {},
   "outputs": [],
   "source": [
    "with open('dynamic_properties', 'wb') as fp:\n",
    "    pickle.dump(dynamic_list, fp)"
   ]
  },
  {
   "cell_type": "code",
   "execution_count": null,
   "id": "c527ad48",
   "metadata": {},
   "outputs": [],
   "source": []
  }
 ],
 "metadata": {
  "kernelspec": {
   "display_name": "Python 3",
   "language": "python",
   "name": "python3"
  },
  "language_info": {
   "codemirror_mode": {
    "name": "ipython",
    "version": 3
   },
   "file_extension": ".py",
   "mimetype": "text/x-python",
   "name": "python",
   "nbconvert_exporter": "python",
   "pygments_lexer": "ipython3",
   "version": "3.6.9"
  }
 },
 "nbformat": 4,
 "nbformat_minor": 5
}
