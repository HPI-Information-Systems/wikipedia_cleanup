{
 "cells": [
  {
   "cell_type": "code",
   "execution_count": 5,
   "id": "0b76d05d-3a4f-45b1-922f-2c795c81bf41",
   "metadata": {},
   "outputs": [],
   "source": [
    "import numpy as np\n",
    "import pandas as pd\n",
    "from tqdm.notebook import tqdm\n",
    "import matplotlib.pyplot as plt"
   ]
  },
  {
   "cell_type": "code",
   "execution_count": 6,
   "id": "232be176-4647-4a41-8f83-d364d2119194",
   "metadata": {},
   "outputs": [],
   "source": [
    "from wikipedia_cleanup.data_processing import get_data\n",
    "from wikipedia_cleanup.data_filter import generate_default_filters, KeepAttributesDataFilter, OnlyUpdatesDataFilter"
   ]
  },
  {
   "cell_type": "code",
   "execution_count": 7,
   "id": "d77074c1-bcd9-4ad7-84bb-29ae89de2a52",
   "metadata": {},
   "outputs": [],
   "source": [
    "# Set RAM Limit\n",
    "import resource\n",
    "  \n",
    "def limit_memory(maxsize):\n",
    "    soft, hard = resource.getrlimit(resource.RLIMIT_AS)\n",
    "    resource.setrlimit(resource.RLIMIT_AS, (maxsize, hard))\n",
    "limit_memory(84000000000)\n",
    "\n",
    "# Enable Code Completion\n",
    "%config Completer.use_jedi = False"
   ]
  },
  {
   "cell_type": "markdown",
   "id": "bfa9b84a-b5f8-4b53-8080-4098513d50e2",
   "metadata": {},
   "source": [
    "Load data"
   ]
  },
  {
   "cell_type": "code",
   "execution_count": 8,
   "id": "dd668b8c-d77a-4708-8888-73f52c01d533",
   "metadata": {},
   "outputs": [
    {
     "name": "stderr",
     "output_type": "stream",
     "text": [
      "585it [43:03,  4.42s/it]\n"
     ]
    }
   ],
   "source": [
    "data = get_data('../../custom-format-default-filtered/', n_jobs=0, filters=[OnlyUpdatesDataFilter(), KeepAttributesDataFilter(['infobox_key', 'page_title', 'property_name', 'template',\\\n",
    "                                                                                                     'previous_value', 'current_value', 'value_valid_from'])])"
   ]
  },
  {
   "cell_type": "code",
   "execution_count": 9,
   "id": "9e5071b2-2899-42ce-955d-601be858ccd8",
   "metadata": {},
   "outputs": [],
   "source": [
    "data = data[data['property_name']!='']"
   ]
  },
  {
   "cell_type": "code",
   "execution_count": null,
   "id": "9d27b851-4935-40e4-8668-2fba4178df6a",
   "metadata": {},
   "outputs": [],
   "source": [
    "data = data.rename(columns={\"value_valid_from\": \"timestamp\"})\n",
    "data['timestamp'] = pd.to_datetime(data['timestamp'])"
   ]
  },
  {
   "cell_type": "markdown",
   "id": "f019ea7f-00e3-46b1-a785-14af7f5953e7",
   "metadata": {},
   "source": [
    "Groupby property name and template type to get median and avg change frequencies"
   ]
  },
  {
   "cell_type": "code",
   "execution_count": 36,
   "id": "765328c9-3846-41b0-b546-cbe52f5fdd28",
   "metadata": {},
   "outputs": [],
   "source": [
    "tqdm.pandas()"
   ]
  },
  {
   "cell_type": "code",
   "execution_count": 36,
   "id": "3f1f91b9-ff73-42f1-9a73-a550a5b90073",
   "metadata": {},
   "outputs": [
    {
     "data": {
      "text/plain": [
       "MultiIndex([(          'genre',              'infobox album'),\n",
       "            (    'currentclub', 'infobox football biography'),\n",
       "            (          'genre',     'infobox musical artist'),\n",
       "            (          'genre',             'infobox single'),\n",
       "            (     'clubnumber', 'infobox football biography'),\n",
       "            (       'starring',               'infobox film'),\n",
       "            (     'birth_date',             'infobox person'),\n",
       "            ('associated_acts',     'infobox musical artist'),\n",
       "            (           'misc',              'infobox album'),\n",
       "            (    'birth_place',             'infobox person')],\n",
       "           names=['property_name', 'template'])"
      ]
     },
     "execution_count": 36,
     "metadata": {},
     "output_type": "execute_result"
    }
   ],
   "source": [
    "static_data[:10].index"
   ]
  },
  {
   "cell_type": "code",
   "execution_count": 30,
   "id": "c249908d-7882-47c8-9168-50edc7889ca2",
   "metadata": {},
   "outputs": [],
   "source": [
    "g = data.sort_values('timestamp').groupby(['infobox_key','property_name','template'])"
   ]
  },
  {
   "cell_type": "code",
   "execution_count": null,
   "id": "6d794798-d5b1-42c3-b029-a538529e6332",
   "metadata": {},
   "outputs": [
    {
     "data": {
      "application/vnd.jupyter.widget-view+json": {
       "model_id": "e649bafd47d34ebdbb051294a179f5a1",
       "version_major": 2,
       "version_minor": 0
      },
      "text/plain": [
       "  0%|          | 0/6734016 [00:00<?, ?it/s]"
      ]
     },
     "metadata": {},
     "output_type": "display_data"
    }
   ],
   "source": [
    "avg_time_diff = g.progress_apply(lambda x: x['timestamp'].diff().mean()).reset_index()"
   ]
  },
  {
   "cell_type": "code",
   "execution_count": null,
   "id": "cb4cf536-7523-429d-9b77-5389d252fc5b",
   "metadata": {},
   "outputs": [],
   "source": [
    "median_time_diff = g.progress_apply(lambda x: x['timestamp'].diff().median()).reset_index()"
   ]
  },
  {
   "cell_type": "code",
   "execution_count": 41,
   "id": "a74461b4-a6ba-4018-a4d8-483513807111",
   "metadata": {},
   "outputs": [],
   "source": [
    "avg_time_diff.rename(columns={0:'avgChangeFrequ'},inplace=True)\n",
    "median_time_diff.rename(columns={0:'medianChangeFrequ'},inplace=True)"
   ]
  },
  {
   "cell_type": "code",
   "execution_count": 46,
   "id": "181b86e8-75aa-4fff-ae81-4fbe718a174e",
   "metadata": {},
   "outputs": [],
   "source": [
    "ten_years = pd.Timedelta(weeks = 520)"
   ]
  },
  {
   "cell_type": "code",
   "execution_count": 47,
   "id": "b3a46300-7f7b-4d36-a16e-8cdf69072e77",
   "metadata": {},
   "outputs": [],
   "source": [
    "avg_time_diff['avgChangeFrequ'].fillna(ten_years, inplace=True)\n",
    "median_time_diff['medianChangeFrequ'].fillna(ten_years,inplace=True)"
   ]
  },
  {
   "cell_type": "code",
   "execution_count": 54,
   "id": "c52380f4-2c4d-496b-9efb-9d0ab889e2c1",
   "metadata": {},
   "outputs": [],
   "source": [
    "g_avg = avg_time_diff.groupby(['property_name','template'])['avgChangeFrequ'].mean(numeric_only=False)\n",
    "g_med = median_time_diff.groupby(['property_name','template'])['medianChangeFrequ'].median(numeric_only=False)"
   ]
  },
  {
   "cell_type": "code",
   "execution_count": 61,
   "id": "a4e936ff-b47c-4bfb-9f43-3a346dd21666",
   "metadata": {},
   "outputs": [],
   "source": [
    "# label everything with more than 13 months change frequ as static\n",
    "avg_static = g_avg > pd.Timedelta(weeks = 56)\n",
    "median_static = g_med > pd.Timedelta(weeks = 56)"
   ]
  },
  {
   "cell_type": "code",
   "execution_count": 71,
   "id": "0189d714-fae5-4acf-aa25-94e02f331cd6",
   "metadata": {},
   "outputs": [],
   "source": [
    "avg_static_infoboxes = g_avg[avg_static].index.to_frame(index=False)\n",
    "avg_dynamic_infoboxes = g_avg[~avg_static].index.to_frame(index=False)\n",
    "median_static_infoboxes = g_med[median_static].index.to_frame(index=False)\n",
    "median_dynamic_infoboxes = g_med[~median_static].index.to_frame(index=False)"
   ]
  },
  {
   "cell_type": "markdown",
   "id": "7c27b494-a25b-4562-b3ae-3ca593d3b037",
   "metadata": {},
   "source": [
    "Saving"
   ]
  },
  {
   "cell_type": "code",
   "execution_count": 81,
   "id": "224db014-2cf4-4843-9625-076688483f0d",
   "metadata": {},
   "outputs": [],
   "source": [
    "avg_static_infoboxes.to_csv('../data/avg_static.csv',index=False)\n",
    "avg_dynamic_infoboxes.to_csv('../data/avg_dynamic.csv',index=False)\n",
    "median_static_infoboxes.to_csv('../data/median_static.csv',index=False)\n",
    "median_dynamic_infoboxes.to_csv('../data/median_dynamic.csv',index=False)"
   ]
  },
  {
   "cell_type": "markdown",
   "id": "28be7ef0-c1a0-40a6-9f8d-dd93956dd0b6",
   "metadata": {},
   "source": [
    "Plotting"
   ]
  },
  {
   "cell_type": "code",
   "execution_count": 10,
   "id": "cc57f06a-142e-4bb7-9a5f-a5fb634ad697",
   "metadata": {},
   "outputs": [],
   "source": [
    "avg_static_infoboxes = pd.read_csv('../data/avg_static.csv')\n",
    "avg_dynamic_infoboxes = pd.read_csv('../data/avg_dynamic.csv')\n",
    "median_static_infoboxes = pd.read_csv('../data/median_static.csv')\n",
    "median_dynamic_infoboxes = pd.read_csv('../data/median_dynamic.csv')"
   ]
  },
  {
   "cell_type": "code",
   "execution_count": 11,
   "id": "490e067f-63df-466b-b236-3185c4df45e5",
   "metadata": {},
   "outputs": [],
   "source": [
    "avg_static_tuples = [tuple(v) for v in avg_static_infoboxes.values]\n",
    "avg_dynamic_tuples = [tuple(v) for v in avg_dynamic_infoboxes.values]\n",
    "median_static_tuples = [tuple(v) for v in median_static_infoboxes.values]\n",
    "median_dynamic_tuples = [tuple(v) for v in median_dynamic_infoboxes.values]"
   ]
  },
  {
   "cell_type": "code",
   "execution_count": 19,
   "id": "b8e62c4b-c79e-42ad-8a88-3d95e9071a0b",
   "metadata": {},
   "outputs": [],
   "source": [
    "g = data.groupby(['property_name','template'])['infobox_key'].count()"
   ]
  },
  {
   "cell_type": "code",
   "execution_count": 23,
   "id": "55176599-344b-440d-a04e-0cd2cdc37dc3",
   "metadata": {},
   "outputs": [
    {
     "data": {
      "text/plain": [
       "array([ True, False, False, ..., False, False, False])"
      ]
     },
     "execution_count": 23,
     "metadata": {},
     "output_type": "execute_result"
    }
   ],
   "source": [
    "g.index.isin(avg_static_tuples)"
   ]
  },
  {
   "cell_type": "code",
   "execution_count": 24,
   "id": "aacc2b20-6977-41a4-a39b-3ca16a198d88",
   "metadata": {},
   "outputs": [],
   "source": [
    "static_data = g[g.index.isin(avg_static_tuples)]\n",
    "dynamic_data = g[g.index.isin(avg_dynamic_tuples)]"
   ]
  },
  {
   "cell_type": "code",
   "execution_count": 31,
   "id": "1b7171d5-773e-4416-acbb-c1233c817764",
   "metadata": {},
   "outputs": [],
   "source": [
    "static_data = static_data.sort_values(ascending=False)\n",
    "dynamic_data = dynamic_data.sort_values(ascending=False)"
   ]
  },
  {
   "cell_type": "code",
   "execution_count": 34,
   "id": "c71157a3-144a-415d-9e01-46b9fcd2d1fd",
   "metadata": {},
   "outputs": [
    {
     "data": {
      "image/png": "[encoded data removed]",
      "text/plain": [
       "<Figure size 432x288 with 1 Axes>"
      ]
     },
     "metadata": {
      "needs_background": "light"
     },
     "output_type": "display_data"
    }
   ],
   "source": [
    "static_data[:10].plot.bar()\n",
    "plt.show()"
   ]
  },
  {
   "cell_type": "code",
   "execution_count": 35,
   "id": "a360e42f-9c7d-438b-8ae9-c195dd31bf68",
   "metadata": {},
   "outputs": [
    {
     "data": {
      "image/png": "[encoded data removed]",
      "text/plain": [
       "<Figure size 432x288 with 1 Axes>"
      ]
     },
     "metadata": {
      "needs_background": "light"
     },
     "output_type": "display_data"
    }
   ],
   "source": [
    "dynamic_data[:10].plot.bar()\n",
    "plt.show()"
   ]
  },
  {
   "cell_type": "code",
   "execution_count": null,
   "id": "ef320b35-0395-4af1-b1f7-3566fe7baa53",
   "metadata": {},
   "outputs": [],
   "source": [
    "plt.figure(figsize=(12,5))\n",
    "plt.boxplot(avg_static_infoboxes[:10].values,\\\n",
    "           labels=avg_static_infoboxes[:10].index)\n",
    "plt.title('Count of static property, template pairs')\n",
    "plt.ylabel('Count of static infobox occurences')\n",
    "plt.xlabel('Property template pair')\n",
    "plt.show()"
   ]
  },
  {
   "cell_type": "code",
   "execution_count": null,
   "id": "e5dc2056-683f-407d-bfbf-b93df4d4fcb5",
   "metadata": {},
   "outputs": [],
   "source": [
    "plt.figure(figsize=(12,5))\n",
    "plt.bar(avg_dynamic_infoboxes[:10].values,\\\n",
    "        labels=avg_dynamic_infoboxes[:10].index)\n",
    "plt.title('Count of dynamic property, template pairs')\n",
    "plt.ylabel('Count of dynamic infobox occurences')\n",
    "plt.xlabel('Property template pair')\n",
    "plt.show()"
   ]
  }
 ],
 "metadata": {
  "kernelspec": {
   "display_name": "Python 3",
   "language": "python",
   "name": "python3"
  },
  "language_info": {
   "codemirror_mode": {
    "name": "ipython",
    "version": 3
   },
   "file_extension": ".py",
   "mimetype": "text/x-python",
   "name": "python",
   "nbconvert_exporter": "python",
   "pygments_lexer": "ipython3",
   "version": "3.6.9"
  }
 },
 "nbformat": 4,
 "nbformat_minor": 5
}
