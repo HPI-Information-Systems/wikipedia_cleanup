{
 "cells": [
  {
   "cell_type": "code",
   "execution_count": 1,
   "id": "0b76d05d-3a4f-45b1-922f-2c795c81bf41",
   "metadata": {},
   "outputs": [],
   "source": [
    "import numpy as np\n",
    "import pandas as pd\n",
    "from tqdm.notebook import tqdm\n",
    "import matplotlib.pyplot as plt"
   ]
  },
  {
   "cell_type": "code",
   "execution_count": null,
   "id": "232be176-4647-4a41-8f83-d364d2119194",
   "metadata": {},
   "outputs": [],
   "source": [
    "from wikipedia_cleanup.data_processing import get_data\n",
    "from wikipedia_cleanup.data_filter import generate_default_filters, KeepAttributesDataFilter, OnlyUpdatesDataFilter"
   ]
  },
  {
   "cell_type": "code",
   "execution_count": null,
   "id": "d77074c1-bcd9-4ad7-84bb-29ae89de2a52",
   "metadata": {},
   "outputs": [],
   "source": [
    "# Set RAM Limit\n",
    "import resource\n",
    "  \n",
    "def limit_memory(maxsize):\n",
    "    soft, hard = resource.getrlimit(resource.RLIMIT_AS)\n",
    "    resource.setrlimit(resource.RLIMIT_AS, (maxsize, hard))\n",
    "limit_memory(84000000000)\n",
    "\n",
    "# Enable Code Completion\n",
    "%config Completer.use_jedi = False"
   ]
  },
  {
   "cell_type": "markdown",
   "id": "bfa9b84a-b5f8-4b53-8080-4098513d50e2",
   "metadata": {},
   "source": [
    "Load data"
   ]
  },
  {
   "cell_type": "code",
   "execution_count": null,
   "id": "dd668b8c-d77a-4708-8888-73f52c01d533",
   "metadata": {},
   "outputs": [],
   "source": [
    "data = get_data('../../custom-format-default-filtered/', n_jobs=1, filters=[OnlyUpdatesDataFilter(), KeepAttributesDataFilter(['infobox_key', 'page_title', 'property_name', 'template',\\\n",
    "                                                                                                     'previous_value', 'current_value', 'value_valid_from'])])"
   ]
  },
  {
   "cell_type": "code",
   "execution_count": null,
   "id": "9e5071b2-2899-42ce-955d-601be858ccd8",
   "metadata": {},
   "outputs": [],
   "source": [
    "data = data[data['property_name']!='']\n",
    "data = data.rename(columns={\"value_valid_from\": \"timestamp\"})"
   ]
  },
  {
   "cell_type": "markdown",
   "id": "f019ea7f-00e3-46b1-a785-14af7f5953e7",
   "metadata": {},
   "source": [
    "Groupby property name and template type to get median and avg change frequencies"
   ]
  },
  {
   "cell_type": "code",
   "execution_count": null,
   "id": "137df91d-b4f5-433e-999f-9c777e939559",
   "metadata": {},
   "outputs": [],
   "source": [
    "g = data.groupby(['property_name','template'])\n",
    "avg_time_diff = g.progress_apply(lambda x: x['timestamp'].sort_values().diff().mean()).reset_index()\n",
    "median_time_diff = g.progress_apply(lambda x: x['timestamp'].sort_values().diff().median()).reset_index()\n",
    "avg_time_diff.rename(columns={0:'avgChangeFrequ'},inplace=True)\n",
    "median_time_diff.rename(columns={0:'medianChangeFrequ'},inplace=True)\n",
    "# use everything with more than 13 months as change frequ\n",
    "avg_time_diff['static'] = avg_time_diff['avgChangeFrequ'] > pd.Timedelta(weeks = 56)\n",
    "median_time_diff['static'] = median_time_diff['avgChangeFrequ'] > pd.Timedelta(weeks = 56)"
   ]
  },
  {
   "cell_type": "markdown",
   "id": "28be7ef0-c1a0-40a6-9f8d-dd93956dd0b6",
   "metadata": {},
   "source": [
    "Plotting"
   ]
  },
  {
   "cell_type": "code",
   "execution_count": null,
   "id": "0189d714-fae5-4acf-aa25-94e02f331cd6",
   "metadata": {},
   "outputs": [],
   "source": [
    "avg_static_infoboxes = avg_time_diff[avg_time_diff['static']=True][['property_name','template']].value_counts()\n",
    "avg_dynamic_infoboxes = avg_time_diff[avg_time_diff['static']=False][['property_name','template']].value_counts()\n",
    "median_static_infoboxes = median_time_diff[median_time_diff['static']=True][['property_name','template']].value_counts()\n",
    "median_dynamic_infoboxes = median_time_diff[median_time_diff['static']=False][['property_name','template']].value_counts()"
   ]
  },
  {
   "cell_type": "code",
   "execution_count": null,
   "id": "ef320b35-0395-4af1-b1f7-3566fe7baa53",
   "metadata": {},
   "outputs": [],
   "source": [
    "plt.figure(figsize=(12,5))\n",
    "plt.boxplot(avg_static_infoboxes[:10].values,\\\n",
    "           labels=avg_static_infoboxes[:10].index)\n",
    "plt.title('Count of static property, template pairs')\n",
    "plt.ylabel('Count of static infobox occurences')\n",
    "plt.xlabel('Property template pair')\n",
    "plt.show()"
   ]
  },
  {
   "cell_type": "code",
   "execution_count": null,
   "id": "e5dc2056-683f-407d-bfbf-b93df4d4fcb5",
   "metadata": {},
   "outputs": [],
   "source": [
    "plt.figure(figsize=(12,5))\n",
    "plt.bar(avg_dynamic_infoboxes[:10].values,\\\n",
    "        labels=avg_dynamic_infoboxes[:10].index)\n",
    "plt.title('Count of dynamic property, template pairs')\n",
    "plt.ylabel('Count of dynamic infobox occurences')\n",
    "plt.xlabel('Property template pair')\n",
    "plt.show()"
   ]
  }
 ],
 "metadata": {
  "kernelspec": {
   "display_name": "Python 3",
   "language": "python",
   "name": "python3"
  },
  "language_info": {
   "codemirror_mode": {
    "name": "ipython",
    "version": 3
   },
   "file_extension": ".py",
   "mimetype": "text/x-python",
   "name": "python",
   "nbconvert_exporter": "python",
   "pygments_lexer": "ipython3",
   "version": "3.6.9"
  }
 },
 "nbformat": 4,
 "nbformat_minor": 5
}
