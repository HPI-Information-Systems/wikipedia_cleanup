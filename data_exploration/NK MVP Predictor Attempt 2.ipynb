{
 "cells": [
  {
   "cell_type": "code",
   "execution_count": 1,
   "id": "324600a5",
   "metadata": {},
   "outputs": [],
   "source": [
    "%load_ext autoreload\n",
    "%autoreload 2"
   ]
  },
  {
   "cell_type": "code",
   "execution_count": 2,
   "id": "47c3cb8c",
   "metadata": {},
   "outputs": [],
   "source": [
    "import itertools\n",
    "import json\n",
    "from pathlib import Path\n",
    "from datetime import timedelta, datetime\n",
    "\n",
    "import numpy as np\n",
    "import pandas as pd\n",
    "from tqdm.auto import tqdm\n",
    "import matplotlib.pyplot as plt\n",
    "\n",
    "from wikipedia_cleanup.data_processing import read_file, get_data\n",
    "from wikipedia_cleanup.baseline import next_change"
   ]
  },
  {
   "cell_type": "code",
   "execution_count": 3,
   "id": "f2ae569b",
   "metadata": {},
   "outputs": [
    {
     "data": {
      "text/plain": [
       "586"
      ]
     },
     "execution_count": 3,
     "metadata": {},
     "output_type": "execute_result"
    }
   ],
   "source": [
    "mp_drive_dir = Path(\"/media/hpi_share/\")#Path(\"//FS23/projekte$/MP2021/MPWS2021/MPWS2021FN1\")\n",
    "mp_plot_dir = mp_drive_dir / \"plots\"\n",
    "input_path = Path(\"../../data\")\n",
    "input_data = list(input_path.rglob(\"*.json\"))\n",
    "files = [x for x in input_data if x.is_file()]\n",
    "len(files) # total 580"
   ]
  },
  {
   "cell_type": "code",
   "execution_count": 4,
   "id": "6bf536c4",
   "metadata": {},
   "outputs": [
    {
     "data": {
      "application/vnd.jupyter.widget-view+json": {
       "model_id": "7a4a8c31b118444d800b8917b6bb871e",
       "version_major": 2,
       "version_minor": 0
      },
      "text/plain": [
       "  0%|          | 0/3 [00:00<?, ?it/s]"
      ]
     },
     "metadata": {},
     "output_type": "display_data"
    }
   ],
   "source": [
    "data = get_data(input_path, n_files=3, n_jobs=6)"
   ]
  },
  {
   "cell_type": "code",
   "execution_count": 5,
   "id": "33558076",
   "metadata": {},
   "outputs": [],
   "source": [
    "data['validFrom'] = data['validFrom'].dt.floor('d').dt.tz_localize(None)\n",
    "data['validTo'] =  data['validTo'].dt.tz_localize(None)"
   ]
  },
  {
   "cell_type": "code",
   "execution_count": 6,
   "id": "b13b1c9d",
   "metadata": {},
   "outputs": [],
   "source": [
    "train_data = data[~data['validTo'].isna()]"
   ]
  },
  {
   "cell_type": "markdown",
   "id": "495d3376",
   "metadata": {},
   "source": [
    "# Predict the last timestamp"
   ]
  },
  {
   "cell_type": "code",
   "execution_count": 70,
   "id": "cc16b092",
   "metadata": {},
   "outputs": [
    {
     "data": {
      "application/vnd.jupyter.widget-view+json": {
       "model_id": "d0f9bcf4f7e4400f921cafbc44391509",
       "version_major": 2,
       "version_minor": 0
      },
      "text/plain": [
       "  0%|          | 0/187960 [00:00<?, ?it/s]"
      ]
     },
     "metadata": {},
     "output_type": "display_data"
    }
   ],
   "source": [
    "timestamps_per_page_property = train_data.groupby(['pageID', 'property.name'])['validFrom']\n",
    "labels = []\n",
    "predicted_values = []\n",
    "for key, values in tqdm(timestamps_per_page_property):\n",
    "    if len(values) > 2:\n",
    "        to_predict = sorted(values)[-1]\n",
    "        labels.append(to_predict)\n",
    "        predicted = next_change(values)\n",
    "        predicted_values.append(predicted)"
   ]
  },
  {
   "cell_type": "code",
   "execution_count": 71,
   "id": "900d7c3b",
   "metadata": {},
   "outputs": [],
   "source": [
    "labels = np.array(labels)\n",
    "predicted_values = np.array(predicted_values)\n",
    "no_pred_filter = predicted_values!= None"
   ]
  },
  {
   "cell_type": "code",
   "execution_count": 72,
   "id": "1ef20517",
   "metadata": {},
   "outputs": [
    {
     "name": "stdout",
     "output_type": "stream",
     "text": [
      "Mean days absolute error: 325.01978170499456\n",
      "Root squared mean error: 482.0884751074065\n"
     ]
    }
   ],
   "source": [
    "r = np.abs(predicted_values[no_pred_filter] - labels.astype(np.datetime64)[no_pred_filter])\n",
    "converted_error = r.astype('timedelta64[D]').astype(np.int)\n",
    "mean_absolute_error = np.mean(converted_error)\n",
    "root_squared_mean_error = np.sqrt(np.mean(np.square(converted_error)))\n",
    "print(f\"Mean days absolute error: {mean_absolute_error}\") \n",
    "print(f\"Root squared mean error: {root_squared_mean_error}\") \n",
    "# With unique\n",
    "#Mean\n",
    "#Mean days absolute error: 481.6636837864201\n",
    "#Root squared mean error: 704.0731080458512\n",
    "\n",
    "# Median\n",
    "#Mean days absolute error: 414.5928156410365\n",
    "#Root squared mean error: 669.8950754439018\n",
    "\n",
    "#With Sort\n",
    "\n",
    "# Median\n",
    "#Mean days absolute error: 224.4591567177933\n",
    "#Root squared mean error: 421.5340919090345\n",
    "\n",
    "# Mean\n",
    "#Mean days absolute error: 325.01978170499456\n",
    "#Root squared mean error: 482.0884751074065\n",
    "\n",
    "#Median unique: 374.2281070831378"
   ]
  },
  {
   "cell_type": "code",
   "execution_count": 58,
   "id": "89e057a3",
   "metadata": {},
   "outputs": [
    {
     "ename": "NameError",
     "evalue": "name 'data' is not defined",
     "output_type": "error",
     "traceback": [
      "\u001b[0;31m---------------------------------------------------------------------------\u001b[0m",
      "\u001b[0;31mNameError\u001b[0m                                 Traceback (most recent call last)",
      "\u001b[0;32m<ipython-input-58-8588d20f57ce>\u001b[0m in \u001b[0;36m<module>\u001b[0;34m\u001b[0m\n\u001b[0;32m----> 1\u001b[0;31m \u001b[0mtest_data\u001b[0m \u001b[0;34m=\u001b[0m \u001b[0mdata\u001b[0m\u001b[0;34m[\u001b[0m\u001b[0;34m\"validFrom\"\u001b[0m\u001b[0;34m]\u001b[0m \u001b[0;34m>\u001b[0m \u001b[0mpd\u001b[0m\u001b[0;34m.\u001b[0m\u001b[0mdatetime\u001b[0m\u001b[0;34m(\u001b[0m\u001b[0;36m2018\u001b[0m\u001b[0;34m,\u001b[0m \u001b[0;36m9\u001b[0m\u001b[0;34m,\u001b[0m \u001b[0;36m1\u001b[0m\u001b[0;34m)\u001b[0m\u001b[0;34m\u001b[0m\u001b[0;34m\u001b[0m\u001b[0m\n\u001b[0m",
      "\u001b[0;31mNameError\u001b[0m: name 'data' is not defined"
     ]
    }
   ],
   "source": [
    "test_data = data[\"validFrom\"] > pd.datetime(2018, 9, 1)"
   ]
  },
  {
   "cell_type": "code",
   "execution_count": 52,
   "id": "7a575029",
   "metadata": {},
   "outputs": [],
   "source": [
    "x[\"validFrom\"] = x[\"validFrom\"].dt.tz_localize(None)"
   ]
  },
  {
   "cell_type": "markdown",
   "id": "5be2f564",
   "metadata": {},
   "source": [
    "# Is the value changing next year?"
   ]
  },
  {
   "cell_type": "code",
   "execution_count": null,
   "id": "6d68b406",
   "metadata": {},
   "outputs": [],
   "source": [
    "is_test_data = (data[\"validFrom\"] > datetime(2018, 9, 1)) & (data[\"validFrom\"] < datetime(2019, 9, 1))\n",
    "is_train_data = data[\"validFrom\"] <= datetime(2018, 9, 1)\n",
    "train_data = data[is_train_data]\n",
    "test_data = data[is_test_data]\n",
    "test_data = test_data.set_index(['pageID', 'property.name'])\n",
    "#test_data[test_data.set_index(['pageID', 'property.name']).index.isin(\n",
    "#    train_data.set_index(['pageID', 'property.name']).index)]"
   ]
  },
  {
   "cell_type": "code",
   "execution_count": 110,
   "id": "eefc32bf",
   "metadata": {},
   "outputs": [
    {
     "name": "stderr",
     "output_type": "stream",
     "text": [
      "/home/niklaskoehnecke/project/wikipedia_cleanup/.venv/lib/python3.6/site-packages/ipykernel_launcher.py:1: SettingWithCopyWarning: \n",
      "A value is trying to be set on a copy of a slice from a DataFrame.\n",
      "Try using .loc[row_indexer,col_indexer] = value instead\n",
      "\n",
      "See the caveats in the documentation: https://pandas.pydata.org/pandas-docs/stable/user_guide/indexing.html#returning-a-view-versus-a-copy\n",
      "  \"\"\"Entry point for launching an IPython kernel.\n"
     ]
    }
   ],
   "source": [
    "train_data['next_year'] = (train_data[\"validTo\"] > datetime(2018, 9, 1)) & (data[\"validTo\"] < datetime(2019, 9, 1))"
   ]
  },
  {
   "cell_type": "code",
   "execution_count": 111,
   "id": "78ffe23d",
   "metadata": {
    "scrolled": true
   },
   "outputs": [
    {
     "data": {
      "text/html": [
       "<div>\n",
       "<style scoped>\n",
       "    .dataframe tbody tr th:only-of-type {\n",
       "        vertical-align: middle;\n",
       "    }\n",
       "\n",
       "    .dataframe tbody tr th {\n",
       "        vertical-align: top;\n",
       "    }\n",
       "\n",
       "    .dataframe thead th {\n",
       "        text-align: right;\n",
       "    }\n",
       "</style>\n",
       "<table border=\"1\" class=\"dataframe\">\n",
       "  <thead>\n",
       "    <tr style=\"text-align: right;\">\n",
       "      <th></th>\n",
       "      <th>key</th>\n",
       "      <th>revisionId</th>\n",
       "      <th>pageID</th>\n",
       "      <th>pageTitle</th>\n",
       "      <th>property.name</th>\n",
       "      <th>previousValue</th>\n",
       "      <th>currentValue</th>\n",
       "      <th>validFrom</th>\n",
       "      <th>validTo</th>\n",
       "      <th>next_year</th>\n",
       "    </tr>\n",
       "  </thead>\n",
       "  <tbody>\n",
       "    <tr>\n",
       "      <th>0</th>\n",
       "      <td>119505991-0</td>\n",
       "      <td>119505991</td>\n",
       "      <td>26531</td>\n",
       "      <td>Roland Corporation</td>\n",
       "      <td>revenue</td>\n",
       "      <td>None</td>\n",
       "      <td></td>\n",
       "      <td>2007-04-01</td>\n",
       "      <td>2017-10-17 17:02:02</td>\n",
       "      <td>False</td>\n",
       "    </tr>\n",
       "    <tr>\n",
       "      <th>1</th>\n",
       "      <td>119505991-0</td>\n",
       "      <td>119505991</td>\n",
       "      <td>26531</td>\n",
       "      <td>Roland Corporation</td>\n",
       "      <td>homepage</td>\n",
       "      <td>None</td>\n",
       "      <td>http://www.roland.com/</td>\n",
       "      <td>2007-04-01</td>\n",
       "      <td>2007-09-12 19:37:04</td>\n",
       "      <td>False</td>\n",
       "    </tr>\n",
       "    <tr>\n",
       "      <th>2</th>\n",
       "      <td>119505991-0</td>\n",
       "      <td>119505991</td>\n",
       "      <td>26531</td>\n",
       "      <td>Roland Corporation</td>\n",
       "      <td>operating_income</td>\n",
       "      <td>None</td>\n",
       "      <td></td>\n",
       "      <td>2007-04-01</td>\n",
       "      <td>2017-10-17 17:02:02</td>\n",
       "      <td>False</td>\n",
       "    </tr>\n",
       "    <tr>\n",
       "      <th>3</th>\n",
       "      <td>119505991-0</td>\n",
       "      <td>119505991</td>\n",
       "      <td>26531</td>\n",
       "      <td>Roland Corporation</td>\n",
       "      <td>industry</td>\n",
       "      <td>None</td>\n",
       "      <td>Conglomerate</td>\n",
       "      <td>2007-04-01</td>\n",
       "      <td>2007-04-18 02:18:38</td>\n",
       "      <td>False</td>\n",
       "    </tr>\n",
       "    <tr>\n",
       "      <th>4</th>\n",
       "      <td>119505991-0</td>\n",
       "      <td>119505991</td>\n",
       "      <td>26531</td>\n",
       "      <td>Roland Corporation</td>\n",
       "      <td>location_city</td>\n",
       "      <td>None</td>\n",
       "      <td>[[Osaka, Japan|Osaka]]</td>\n",
       "      <td>2007-04-01</td>\n",
       "      <td>2007-04-18 02:18:38</td>\n",
       "      <td>False</td>\n",
       "    </tr>\n",
       "    <tr>\n",
       "      <th>...</th>\n",
       "      <td>...</td>\n",
       "      <td>...</td>\n",
       "      <td>...</td>\n",
       "      <td>...</td>\n",
       "      <td>...</td>\n",
       "      <td>...</td>\n",
       "      <td>...</td>\n",
       "      <td>...</td>\n",
       "      <td>...</td>\n",
       "      <td>...</td>\n",
       "    </tr>\n",
       "    <tr>\n",
       "      <th>2067634</th>\n",
       "      <td>389129013-0</td>\n",
       "      <td>685083433</td>\n",
       "      <td>2535092</td>\n",
       "      <td>Kaveh Golestan</td>\n",
       "      <td>birth_date</td>\n",
       "      <td>July 8, 1950</td>\n",
       "      <td>8 July 1950</td>\n",
       "      <td>2015-10-10</td>\n",
       "      <td>NaT</td>\n",
       "      <td>False</td>\n",
       "    </tr>\n",
       "    <tr>\n",
       "      <th>2067635</th>\n",
       "      <td>389129013-0</td>\n",
       "      <td>764965408</td>\n",
       "      <td>2535092</td>\n",
       "      <td>Kaveh Golestan</td>\n",
       "      <td>family</td>\n",
       "      <td>[[Ebrahim Golestan]]&lt;br /&gt;[[Lili Golestan]]&lt;br...</td>\n",
       "      <td>[[Ebrahim Golestan]]&lt;br /&gt;[[Lili Golestan]]&lt;br...</td>\n",
       "      <td>2017-02-11</td>\n",
       "      <td>2019-03-14 02:26:08</td>\n",
       "      <td>True</td>\n",
       "    </tr>\n",
       "    <tr>\n",
       "      <th>2067636</th>\n",
       "      <td>389129013-0</td>\n",
       "      <td>775242979</td>\n",
       "      <td>2535092</td>\n",
       "      <td>Kaveh Golestan</td>\n",
       "      <td>name</td>\n",
       "      <td>Kaveh Golsetan&lt;br&gt;کاوه گلستان</td>\n",
       "      <td>Kaveh Golestan&lt;br&gt;کاوه گلستان</td>\n",
       "      <td>2017-04-13</td>\n",
       "      <td>2019-03-14 02:26:58</td>\n",
       "      <td>True</td>\n",
       "    </tr>\n",
       "    <tr>\n",
       "      <th>2067637</th>\n",
       "      <td>389129013-0</td>\n",
       "      <td>833859578</td>\n",
       "      <td>2535092</td>\n",
       "      <td>Kaveh Golestan</td>\n",
       "      <td>education</td>\n",
       "      <td>[[Millfield]]&lt;ref&gt;http://www.telegraph.co.uk/n...</td>\n",
       "      <td>[[Millfield]]&lt;ref&gt;https://www.telegraph.co.uk/...</td>\n",
       "      <td>2018-04-02</td>\n",
       "      <td>2018-07-09 13:21:49</td>\n",
       "      <td>False</td>\n",
       "    </tr>\n",
       "    <tr>\n",
       "      <th>2067638</th>\n",
       "      <td>389129013-0</td>\n",
       "      <td>849505072</td>\n",
       "      <td>2535092</td>\n",
       "      <td>Kaveh Golestan</td>\n",
       "      <td>education</td>\n",
       "      <td>[[Millfield]]&lt;ref&gt;https://www.telegraph.co.uk/...</td>\n",
       "      <td>[[Millfield]]&lt;ref name=telegraph&gt;{{cite news|a...</td>\n",
       "      <td>2018-07-09</td>\n",
       "      <td>NaT</td>\n",
       "      <td>False</td>\n",
       "    </tr>\n",
       "  </tbody>\n",
       "</table>\n",
       "<p>1934421 rows × 10 columns</p>\n",
       "</div>"
      ],
      "text/plain": [
       "                 key  revisionId   pageID           pageTitle  \\\n",
       "0        119505991-0   119505991    26531  Roland Corporation   \n",
       "1        119505991-0   119505991    26531  Roland Corporation   \n",
       "2        119505991-0   119505991    26531  Roland Corporation   \n",
       "3        119505991-0   119505991    26531  Roland Corporation   \n",
       "4        119505991-0   119505991    26531  Roland Corporation   \n",
       "...              ...         ...      ...                 ...   \n",
       "2067634  389129013-0   685083433  2535092      Kaveh Golestan   \n",
       "2067635  389129013-0   764965408  2535092      Kaveh Golestan   \n",
       "2067636  389129013-0   775242979  2535092      Kaveh Golestan   \n",
       "2067637  389129013-0   833859578  2535092      Kaveh Golestan   \n",
       "2067638  389129013-0   849505072  2535092      Kaveh Golestan   \n",
       "\n",
       "            property.name                                      previousValue  \\\n",
       "0                 revenue                                               None   \n",
       "1                homepage                                               None   \n",
       "2        operating_income                                               None   \n",
       "3                industry                                               None   \n",
       "4           location_city                                               None   \n",
       "...                   ...                                                ...   \n",
       "2067634        birth_date                                       July 8, 1950   \n",
       "2067635            family  [[Ebrahim Golestan]]<br />[[Lili Golestan]]<br...   \n",
       "2067636              name                      Kaveh Golsetan<br>کاوه گلستان   \n",
       "2067637         education  [[Millfield]]<ref>http://www.telegraph.co.uk/n...   \n",
       "2067638         education  [[Millfield]]<ref>https://www.telegraph.co.uk/...   \n",
       "\n",
       "                                              currentValue  validFrom  \\\n",
       "0                                                          2007-04-01   \n",
       "1                                   http://www.roland.com/ 2007-04-01   \n",
       "2                                                          2007-04-01   \n",
       "3                                             Conglomerate 2007-04-01   \n",
       "4                                   [[Osaka, Japan|Osaka]] 2007-04-01   \n",
       "...                                                    ...        ...   \n",
       "2067634                                        8 July 1950 2015-10-10   \n",
       "2067635  [[Ebrahim Golestan]]<br />[[Lili Golestan]]<br... 2017-02-11   \n",
       "2067636                      Kaveh Golestan<br>کاوه گلستان 2017-04-13   \n",
       "2067637  [[Millfield]]<ref>https://www.telegraph.co.uk/... 2018-04-02   \n",
       "2067638  [[Millfield]]<ref name=telegraph>{{cite news|a... 2018-07-09   \n",
       "\n",
       "                    validTo  next_year  \n",
       "0       2017-10-17 17:02:02      False  \n",
       "1       2007-09-12 19:37:04      False  \n",
       "2       2017-10-17 17:02:02      False  \n",
       "3       2007-04-18 02:18:38      False  \n",
       "4       2007-04-18 02:18:38      False  \n",
       "...                     ...        ...  \n",
       "2067634                 NaT      False  \n",
       "2067635 2019-03-14 02:26:08       True  \n",
       "2067636 2019-03-14 02:26:58       True  \n",
       "2067637 2018-07-09 13:21:49      False  \n",
       "2067638                 NaT      False  \n",
       "\n",
       "[1934421 rows x 10 columns]"
      ]
     },
     "execution_count": 111,
     "metadata": {},
     "output_type": "execute_result"
    }
   ],
   "source": [
    "train_data"
   ]
  },
  {
   "cell_type": "code",
   "execution_count": null,
   "id": "dc75b81f",
   "metadata": {},
   "outputs": [],
   "source": []
  }
 ],
 "metadata": {
  "kernelspec": {
   "display_name": "Python 3",
   "language": "python",
   "name": "python3"
  },
  "language_info": {
   "codemirror_mode": {
    "name": "ipython",
    "version": 3
   },
   "file_extension": ".py",
   "mimetype": "text/x-python",
   "name": "python",
   "nbconvert_exporter": "python",
   "pygments_lexer": "ipython3",
   "version": "3.6.9"
  }
 },
 "nbformat": 4,
 "nbformat_minor": 5
}
