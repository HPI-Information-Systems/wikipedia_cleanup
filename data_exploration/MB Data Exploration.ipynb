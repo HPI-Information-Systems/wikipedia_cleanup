{
 "cells": [
  {
   "cell_type": "code",
   "execution_count": 1,
   "id": "d4f26a48-e8ca-42ba-b795-2b01f00f0e94",
   "metadata": {},
   "outputs": [],
   "source": [
    "import json\n",
    "from pathlib import Path\n",
    "from datetime import timedelta\n",
    "\n",
    "import numpy as np\n",
    "import pandas as pd\n",
    "from tqdm.notebook import tqdm\n",
    "import matplotlib.pyplot as plt"
   ]
  },
  {
   "cell_type": "code",
   "execution_count": 2,
   "id": "b0344895-fb37-4fd3-a462-a31bcb6546e6",
   "metadata": {},
   "outputs": [
    {
     "data": {
      "text/plain": [
       "586"
      ]
     },
     "execution_count": 2,
     "metadata": {},
     "output_type": "execute_result"
    }
   ],
   "source": [
    "input_data = list(Path(\"../matched-infoboxes-extracted/\").rglob(\"*.json\"))\n",
    "files = [x for x in input_data if x.is_file()]\n",
    "len(files) "
   ]
  },
  {
   "cell_type": "code",
   "execution_count": 3,
   "id": "89708efa-8a9b-478b-b886-9ed411b27082",
   "metadata": {},
   "outputs": [
    {
     "data": {
      "application/vnd.jupyter.widget-view+json": {
       "model_id": "cf0ed45b00c241f1888baac6db90f60e",
       "version_major": 2,
       "version_minor": 0
      },
      "text/plain": [
       "  0%|          | 0/50 [00:00<?, ?it/s]"
      ]
     },
     "metadata": {},
     "output_type": "display_data"
    },
    {
     "name": "stdout",
     "output_type": "stream",
     "text": [
      "5016110\n"
     ]
    },
    {
     "data": {
      "text/plain": [
       "22807979"
      ]
     },
     "execution_count": 3,
     "metadata": {},
     "output_type": "execute_result"
    }
   ],
   "source": [
    "num_edits = 0\n",
    "change_tuples = []\n",
    "for file in tqdm(files[:50]):\n",
    "    with open(file, 'r', encoding='utf-8') as f:\n",
    "        for jsonObj in f:\n",
    "            single_edit = json.loads(jsonObj)\n",
    "            num_edits += 1\n",
    "            #entries.append(single_edit)\n",
    "            key = single_edit['key'] # is needed as there could be multiple infoboxes on the same page which could change at the same time\n",
    "            title = single_edit['pageTitle']#['key']\n",
    "            changes = single_edit['changes']\n",
    "            timestamp = single_edit['validFrom']\n",
    "            for change in changes:\n",
    "                name = change['property']['name']\n",
    "                current_value = change['currentValue'] if 'currentValue' in change.keys() else None\n",
    "                previous_value = change['previousValue'] if 'previousValue' in change.keys() else None\n",
    "                change_tuples.append((key, title, name, previous_value, current_value, timestamp))\n",
    "print(num_edits) # 1934309 for 50\n",
    "len(change_tuples) # 9715201 for 50"
   ]
  },
  {
   "cell_type": "code",
   "execution_count": 4,
   "id": "882fa1e0-3e85-4e8f-8ca6-d78a4bd3716d",
   "metadata": {},
   "outputs": [],
   "source": [
    "data = pd.DataFrame(change_tuples, columns=['key', 'title', 'name', 'previous_value', 'current_value', 'timestamp'])\n",
    "data['timestamp'] = pd.to_datetime(data['timestamp'])"
   ]
  },
  {
   "cell_type": "code",
   "execution_count": 27,
   "id": "5582672f-1e89-45f9-91ff-02ed3d9b3be0",
   "metadata": {},
   "outputs": [
    {
     "data": {
      "text/plain": [
       "22807979"
      ]
     },
     "execution_count": 27,
     "metadata": {},
     "output_type": "execute_result"
    }
   ],
   "source": [
    "data.shape[0]"
   ]
  },
  {
   "cell_type": "markdown",
   "id": "c5092088-a8c8-43a1-b9a0-078c525bf8ae",
   "metadata": {},
   "source": [
    "Number of times the same infobox was changed at the same second"
   ]
  },
  {
   "cell_type": "code",
   "execution_count": 6,
   "id": "e91c198e-a5fe-481d-9636-e7176040cc70",
   "metadata": {},
   "outputs": [
    {
     "data": {
      "text/plain": [
       "1004"
      ]
     },
     "execution_count": 6,
     "metadata": {},
     "output_type": "execute_result"
    }
   ],
   "source": [
    "len(data[['key', 'title', 'name', 'timestamp']]) - len(data[['key', 'title', 'name', 'timestamp']].drop_duplicates()) "
   ]
  },
  {
   "cell_type": "markdown",
   "id": "1ce23f92-984d-48cc-97f4-3a87639e0e2b",
   "metadata": {},
   "source": [
    "--> Can be ignored as it is so low"
   ]
  },
  {
   "cell_type": "markdown",
   "id": "50081a75-d928-4076-bf0f-ad1397f11a77",
   "metadata": {},
   "source": [
    "## Filter out creations and deletions"
   ]
  },
  {
   "cell_type": "code",
   "execution_count": 11,
   "id": "e151bc3a-4b0f-46f3-b09b-4c832b2dcb7a",
   "metadata": {},
   "outputs": [
    {
     "data": {
      "text/plain": [
       "3194532"
      ]
     },
     "execution_count": 11,
     "metadata": {},
     "output_type": "execute_result"
    }
   ],
   "source": [
    "#Creations\n",
    "data[data['previous_value'].isna()].shape[0]"
   ]
  },
  {
   "cell_type": "code",
   "execution_count": 8,
   "id": "aac78b78-1fe0-4fd5-b7d2-c411dbd2dedb",
   "metadata": {},
   "outputs": [
    {
     "data": {
      "text/plain": [
       "2996504"
      ]
     },
     "execution_count": 8,
     "metadata": {},
     "output_type": "execute_result"
    }
   ],
   "source": [
    "#Deletions\n",
    "data[data['current_value'].isna()].shape[0]"
   ]
  },
  {
   "cell_type": "markdown",
   "id": "1c0f7ad7-09a2-4075-96b4-31d971822576",
   "metadata": {},
   "source": [
    "--> About three quarters of the changes of the subset are creational or deletional changes"
   ]
  },
  {
   "cell_type": "code",
   "execution_count": 93,
   "id": "84b6915f-3eca-4e0f-b2cb-441e6aba0b2b",
   "metadata": {},
   "outputs": [],
   "source": [
    "data = data.dropna(subset=['previous_value','current_value'])"
   ]
  },
  {
   "cell_type": "code",
   "execution_count": 6,
   "id": "d9d99191-8c08-404d-a223-e8fe1d8e65ab",
   "metadata": {},
   "outputs": [
    {
     "data": {
      "text/plain": [
       "18118106"
      ]
     },
     "execution_count": 6,
     "metadata": {},
     "output_type": "execute_result"
    }
   ],
   "source": [
    "data.shape[0]"
   ]
  },
  {
   "cell_type": "markdown",
   "id": "5c99a992-589c-4f3a-b7bd-1cdac4fe8391",
   "metadata": {},
   "source": [
    "## Look at popular properties "
   ]
  },
  {
   "cell_type": "code",
   "execution_count": 55,
   "id": "9a983efe-4c4c-4f16-b1fa-54e3e6fba764",
   "metadata": {},
   "outputs": [],
   "source": [
    "changes_per_property = data['name'].value_counts()"
   ]
  },
  {
   "cell_type": "code",
   "execution_count": 56,
   "id": "793b7959-7bd5-4823-bbef-0b6b0edd1db9",
   "metadata": {},
   "outputs": [
    {
     "data": {
      "text/plain": [
       "image          382563\n",
       "name           296450\n",
       "template       228672\n",
       "caption        197057\n",
       "genre          184228\n",
       "birth_date     125568\n",
       "birth_place    117947\n",
       "released       105716\n",
       "website         87570\n",
       "pcupdate        84870\n",
       "currentclub     66964\n",
       "occupation      66706\n",
       "country         63423\n",
       "type            62697\n",
       "starring        58246\n",
       "producer        57024\n",
       "death_date      53837\n",
       "position        53649\n",
       "label           53644\n",
       "location        51863\n",
       "spouse          51633\n",
       "caps(goals)     48481\n",
       "nickname        47510\n",
       "height          45585\n",
       "reviews         44870\n",
       "clubnumber      43946\n",
       "death_place     41107\n",
       "writer          40054\n",
       "next album      39673\n",
       "years           39119\n",
       "Name: name, dtype: int64"
      ]
     },
     "execution_count": 56,
     "metadata": {},
     "output_type": "execute_result"
    }
   ],
   "source": [
    "changes_per_property[:30]"
   ]
  },
  {
   "cell_type": "markdown",
   "id": "36d47b26-e0f2-46e7-a21b-074c52543ab8",
   "metadata": {},
   "source": [
    "## Analyze number of changes per key"
   ]
  },
  {
   "cell_type": "code",
   "execution_count": 37,
   "id": "bd185d10-67de-46ee-96af-05c50ec543c6",
   "metadata": {},
   "outputs": [],
   "source": [
    "changes_per_key = data['key'].value_counts()"
   ]
  },
  {
   "cell_type": "code",
   "execution_count": 17,
   "id": "a89bc632-2b28-4f02-ba08-68e185aab9c5",
   "metadata": {},
   "outputs": [
    {
     "data": {
      "text/plain": [
       "100170704-0    11821\n",
       "9022080-0       6087\n",
       "45647758-0      4494\n",
       "133467261-0     4493\n",
       "25597471-0      4208\n",
       "               ...  \n",
       "441686297-2        1\n",
       "468323715-2        1\n",
       "82060526-2         1\n",
       "366096823-1        1\n",
       "79873547-0         1\n",
       "Name: key, Length: 9570, dtype: int64"
      ]
     },
     "execution_count": 17,
     "metadata": {},
     "output_type": "execute_result"
    }
   ],
   "source": [
    "changes_per_key"
   ]
  },
  {
   "cell_type": "code",
   "execution_count": 18,
   "id": "1ef83d45-0f20-44f4-878c-1f7ffb559d0a",
   "metadata": {},
   "outputs": [],
   "source": [
    "frequ_of_changes = changes_per_key.value_counts()"
   ]
  },
  {
   "cell_type": "code",
   "execution_count": 19,
   "id": "c6cad5fe-4c05-4221-832c-d87238c0e894",
   "metadata": {},
   "outputs": [
    {
     "data": {
      "image/png": "[encoded data removed]",
      "text/plain": [
       "<Figure size 432x288 with 1 Axes>"
      ]
     },
     "metadata": {
      "needs_background": "light"
     },
     "output_type": "display_data"
    }
   ],
   "source": [
    "frequ_of_changes.hist(bins=10)\n",
    "plt.xlabel(\"Number of changes per infobox\")\n",
    "plt.ylabel(\"Frequency\")\n",
    "plt.show()"
   ]
  },
  {
   "cell_type": "code",
   "execution_count": 20,
   "id": "85582121-a4a0-4ead-ba22-03855dfd6678",
   "metadata": {},
   "outputs": [
    {
     "data": {
      "image/png": "[encoded data removed]",
      "text/plain": [
       "<Figure size 720x360 with 1 Axes>"
      ]
     },
     "metadata": {
      "needs_background": "light"
     },
     "output_type": "display_data"
    }
   ],
   "source": [
    "frequ_of_changes.sort_index(ascending=True)[:30].plot.bar(figsize=(10,5))\n",
    "plt.xlabel(\"Number of changes per infobox\")\n",
    "plt.ylabel(\"Frequency\")\n",
    "plt.show()"
   ]
  },
  {
   "cell_type": "code",
   "execution_count": 21,
   "id": "0940a4bb-2418-4499-9a3b-807076449f46",
   "metadata": {},
   "outputs": [
    {
     "data": {
      "image/png": "[encoded data removed]",
      "text/plain": [
       "<Figure size 1080x360 with 1 Axes>"
      ]
     },
     "metadata": {
      "needs_background": "light"
     },
     "output_type": "display_data"
    }
   ],
   "source": [
    "frequ_of_changes.sort_index(ascending=True)[:50].plot.bar(figsize=(15,5))\n",
    "plt.xlabel(\"Number of changes per infobox\")\n",
    "plt.ylabel(\"Frequency\")\n",
    "plt.show()"
   ]
  },
  {
   "cell_type": "code",
   "execution_count": 22,
   "id": "dcccd9ed-1d65-4cb0-bd94-e13515dc9436",
   "metadata": {},
   "outputs": [
    {
     "data": {
      "image/png": "[encoded data removed]",
      "text/plain": [
       "<Figure size 2160x360 with 1 Axes>"
      ]
     },
     "metadata": {
      "needs_background": "light"
     },
     "output_type": "display_data"
    }
   ],
   "source": [
    "frequ_of_changes.sort_index(ascending=True)[:100].plot.bar(figsize=(30,5))\n",
    "plt.xlabel(\"Number of changes per infobox\")\n",
    "plt.ylabel(\"Frequency\")\n",
    "plt.show()"
   ]
  },
  {
   "cell_type": "code",
   "execution_count": 23,
   "id": "38109ad5-e60d-4b85-9bc2-2b0dc86a7ba3",
   "metadata": {},
   "outputs": [
    {
     "data": {
      "text/plain": [
       "11821    1\n",
       "6087     1\n",
       "4494     1\n",
       "4493     1\n",
       "4208     1\n",
       "4026     1\n",
       "3858     1\n",
       "3816     1\n",
       "3757     1\n",
       "3458     1\n",
       "3419     1\n",
       "3416     1\n",
       "3390     1\n",
       "3365     1\n",
       "3346     1\n",
       "3281     1\n",
       "3277     1\n",
       "3274     1\n",
       "3167     1\n",
       "3124     1\n",
       "Name: key, dtype: int64"
      ]
     },
     "execution_count": 23,
     "metadata": {},
     "output_type": "execute_result"
    }
   ],
   "source": [
    "frequ_of_changes.sort_index(ascending=False)[:20]"
   ]
  },
  {
   "cell_type": "markdown",
   "id": "0dbcdaa1-372c-4128-989d-70aeb9397b61",
   "metadata": {},
   "source": [
    "## What is a good threshold? How many changes should be our minimum to make reliable predictions?"
   ]
  },
  {
   "cell_type": "markdown",
   "id": "61f0a208-7219-4417-90c1-0b0996e5e0d2",
   "metadata": {},
   "source": [
    "Start with at least 100 changes"
   ]
  },
  {
   "cell_type": "code",
   "execution_count": 38,
   "id": "4d645bfc-799a-44d0-82ea-adb6f8885fba",
   "metadata": {},
   "outputs": [],
   "source": [
    "changes_per_key_many_changes = changes_per_key[changes_per_key>=100]"
   ]
  },
  {
   "cell_type": "code",
   "execution_count": 25,
   "id": "a41d73b8-bc8f-4dcd-b3aa-2aba4e95f30c",
   "metadata": {},
   "outputs": [
    {
     "name": "stdout",
     "output_type": "stream",
     "text": [
      "Only 3614 unique infoboxes left in the subset.\n"
     ]
    }
   ],
   "source": [
    "print('Only {} unique infoboxes left in the subset.'.format(changes_per_key_many_changes.shape[0]))"
   ]
  },
  {
   "cell_type": "code",
   "execution_count": 39,
   "id": "8e4d4e29-cd00-43b2-9421-7cf3cb852736",
   "metadata": {},
   "outputs": [],
   "source": [
    "data = data[data['key'].isin(changes_per_key_many_changes.index)]"
   ]
  },
  {
   "cell_type": "code",
   "execution_count": 27,
   "id": "4b1f6813-5d31-4b92-9142-87fe0c682d9f",
   "metadata": {},
   "outputs": [
    {
     "data": {
      "text/html": [
       "<div>\n",
       "<style scoped>\n",
       "    .dataframe tbody tr th:only-of-type {\n",
       "        vertical-align: middle;\n",
       "    }\n",
       "\n",
       "    .dataframe tbody tr th {\n",
       "        vertical-align: top;\n",
       "    }\n",
       "\n",
       "    .dataframe thead th {\n",
       "        text-align: right;\n",
       "    }\n",
       "</style>\n",
       "<table border=\"1\" class=\"dataframe\">\n",
       "  <thead>\n",
       "    <tr style=\"text-align: right;\">\n",
       "      <th></th>\n",
       "      <th>key</th>\n",
       "      <th>title</th>\n",
       "      <th>name</th>\n",
       "      <th>previous_value</th>\n",
       "      <th>current_value</th>\n",
       "      <th>timestamp</th>\n",
       "    </tr>\n",
       "  </thead>\n",
       "  <tbody>\n",
       "    <tr>\n",
       "      <th>364</th>\n",
       "      <td>11977384-0</td>\n",
       "      <td>Australian Democrats</td>\n",
       "      <td>ideology</td>\n",
       "      <td>[[liberalism|social liberal]]</td>\n",
       "      <td>Social [[Liberalism]]</td>\n",
       "      <td>2005-07-04 22:29:15+00:00</td>\n",
       "    </tr>\n",
       "    <tr>\n",
       "      <th>365</th>\n",
       "      <td>11977384-0</td>\n",
       "      <td>Australian Democrats</td>\n",
       "      <td>ideology</td>\n",
       "      <td>Social [[Liberalism]]</td>\n",
       "      <td>[[liberalism|social liberal]]</td>\n",
       "      <td>2005-07-05 00:56:54+00:00</td>\n",
       "    </tr>\n",
       "    <tr>\n",
       "      <th>366</th>\n",
       "      <td>11977384-0</td>\n",
       "      <td>Australian Democrats</td>\n",
       "      <td>template</td>\n",
       "      <td>infobox_political_party</td>\n",
       "      <td>infobox_australian_political_party</td>\n",
       "      <td>2005-09-23 07:26:21+00:00</td>\n",
       "    </tr>\n",
       "    <tr>\n",
       "      <th>368</th>\n",
       "      <td>11977384-0</td>\n",
       "      <td>Australian Democrats</td>\n",
       "      <td>party_logo</td>\n",
       "      <td>[[Image:Australiandemocratlogo.gif]]</td>\n",
       "      <td>[[Image:Ausdem_newlogo.JPG|200px]]</td>\n",
       "      <td>2005-10-15 06:06:44+00:00</td>\n",
       "    </tr>\n",
       "    <tr>\n",
       "      <th>369</th>\n",
       "      <td>11977384-0</td>\n",
       "      <td>Australian Democrats</td>\n",
       "      <td>foundation</td>\n",
       "      <td>[[1977]]</td>\n",
       "      <td>1977</td>\n",
       "      <td>2005-12-17 13:54:59+00:00</td>\n",
       "    </tr>\n",
       "    <tr>\n",
       "      <th>...</th>\n",
       "      <td>...</td>\n",
       "      <td>...</td>\n",
       "      <td>...</td>\n",
       "      <td>...</td>\n",
       "      <td>...</td>\n",
       "      <td>...</td>\n",
       "    </tr>\n",
       "    <tr>\n",
       "      <th>8087081</th>\n",
       "      <td>65523991-0</td>\n",
       "      <td>Cameron Diaz</td>\n",
       "      <td>years_active</td>\n",
       "      <td>1994–2014</td>\n",
       "      <td>1990–2014</td>\n",
       "      <td>2019-07-30 15:28:45+00:00</td>\n",
       "    </tr>\n",
       "    <tr>\n",
       "      <th>8087082</th>\n",
       "      <td>65523991-0</td>\n",
       "      <td>Cameron Diaz</td>\n",
       "      <td>occupation</td>\n",
       "      <td>Retired actress, writer, former model</td>\n",
       "      <td>Artist, actress, writer, former model</td>\n",
       "      <td>2019-08-11 05:22:26+00:00</td>\n",
       "    </tr>\n",
       "    <tr>\n",
       "      <th>8087083</th>\n",
       "      <td>65523991-0</td>\n",
       "      <td>Cameron Diaz</td>\n",
       "      <td>years_active</td>\n",
       "      <td>1990–2014</td>\n",
       "      <td>1990–2016</td>\n",
       "      <td>2019-08-25 01:25:27+00:00</td>\n",
       "    </tr>\n",
       "    <tr>\n",
       "      <th>8087084</th>\n",
       "      <td>65523991-0</td>\n",
       "      <td>Cameron Diaz</td>\n",
       "      <td>occupation</td>\n",
       "      <td>Artist, actress, writer, former model</td>\n",
       "      <td>{{hlist|Artist|actress|writer|former model}}</td>\n",
       "      <td>2019-08-30 02:56:02+00:00</td>\n",
       "    </tr>\n",
       "    <tr>\n",
       "      <th>8087085</th>\n",
       "      <td>65523991-0</td>\n",
       "      <td>Cameron Diaz</td>\n",
       "      <td>occupation</td>\n",
       "      <td>{{hlist|Artist|actress|writer|former model}}</td>\n",
       "      <td>{{hlist|Artist|writer|former actress|former mo...</td>\n",
       "      <td>2019-09-01 14:31:25+00:00</td>\n",
       "    </tr>\n",
       "  </tbody>\n",
       "</table>\n",
       "<p>1715146 rows × 6 columns</p>\n",
       "</div>"
      ],
      "text/plain": [
       "                key                 title          name  \\\n",
       "364      11977384-0  Australian Democrats      ideology   \n",
       "365      11977384-0  Australian Democrats      ideology   \n",
       "366      11977384-0  Australian Democrats      template   \n",
       "368      11977384-0  Australian Democrats    party_logo   \n",
       "369      11977384-0  Australian Democrats    foundation   \n",
       "...             ...                   ...           ...   \n",
       "8087081  65523991-0          Cameron Diaz  years_active   \n",
       "8087082  65523991-0          Cameron Diaz    occupation   \n",
       "8087083  65523991-0          Cameron Diaz  years_active   \n",
       "8087084  65523991-0          Cameron Diaz    occupation   \n",
       "8087085  65523991-0          Cameron Diaz    occupation   \n",
       "\n",
       "                                       previous_value  \\\n",
       "364                     [[liberalism|social liberal]]   \n",
       "365                             Social [[Liberalism]]   \n",
       "366                           infobox_political_party   \n",
       "368              [[Image:Australiandemocratlogo.gif]]   \n",
       "369                                          [[1977]]   \n",
       "...                                               ...   \n",
       "8087081                                     1994–2014   \n",
       "8087082         Retired actress, writer, former model   \n",
       "8087083                                     1990–2014   \n",
       "8087084         Artist, actress, writer, former model   \n",
       "8087085  {{hlist|Artist|actress|writer|former model}}   \n",
       "\n",
       "                                             current_value  \\\n",
       "364                                  Social [[Liberalism]]   \n",
       "365                          [[liberalism|social liberal]]   \n",
       "366                     infobox_australian_political_party   \n",
       "368                     [[Image:Ausdem_newlogo.JPG|200px]]   \n",
       "369                                                   1977   \n",
       "...                                                    ...   \n",
       "8087081                                          1990–2014   \n",
       "8087082              Artist, actress, writer, former model   \n",
       "8087083                                          1990–2016   \n",
       "8087084       {{hlist|Artist|actress|writer|former model}}   \n",
       "8087085  {{hlist|Artist|writer|former actress|former mo...   \n",
       "\n",
       "                        timestamp  \n",
       "364     2005-07-04 22:29:15+00:00  \n",
       "365     2005-07-05 00:56:54+00:00  \n",
       "366     2005-09-23 07:26:21+00:00  \n",
       "368     2005-10-15 06:06:44+00:00  \n",
       "369     2005-12-17 13:54:59+00:00  \n",
       "...                           ...  \n",
       "8087081 2019-07-30 15:28:45+00:00  \n",
       "8087082 2019-08-11 05:22:26+00:00  \n",
       "8087083 2019-08-25 01:25:27+00:00  \n",
       "8087084 2019-08-30 02:56:02+00:00  \n",
       "8087085 2019-09-01 14:31:25+00:00  \n",
       "\n",
       "[1715146 rows x 6 columns]"
      ]
     },
     "execution_count": 27,
     "metadata": {},
     "output_type": "execute_result"
    }
   ],
   "source": [
    "data"
   ]
  },
  {
   "cell_type": "markdown",
   "id": "9e47a399-0e1b-4949-9be9-e76f80a13235",
   "metadata": {},
   "source": [
    "## Look at changes per (key, propertyName) tuple"
   ]
  },
  {
   "cell_type": "code",
   "execution_count": 14,
   "id": "1103f2de-7643-4436-aa0a-b1c101f88ea3",
   "metadata": {},
   "outputs": [],
   "source": [
    "changes_per_key_and_name = data[['key','name']].value_counts()"
   ]
  },
  {
   "cell_type": "code",
   "execution_count": 15,
   "id": "8f8ce7dc-0506-4969-933d-778f67594441",
   "metadata": {},
   "outputs": [
    {
     "data": {
      "text/plain": [
       "key          name           \n",
       "118964357-0  num_episodes       2962\n",
       "37799480-0   genre              1595\n",
       "528594712-0  current_members    1315\n",
       "95362092-0   judges             1077\n",
       "321925250-0  num_episodes        781\n",
       "                                ... \n",
       "61370503-0   term_end              1\n",
       "             template              1\n",
       "300431242-0  released              1\n",
       "             template              1\n",
       "100002730-0  coordinates           1\n",
       "Length: 2130670, dtype: int64"
      ]
     },
     "execution_count": 15,
     "metadata": {},
     "output_type": "execute_result"
    }
   ],
   "source": [
    "changes_per_key_and_name"
   ]
  },
  {
   "cell_type": "code",
   "execution_count": 21,
   "id": "e52249a1-02f0-4aa3-a9da-b403cb2c8579",
   "metadata": {},
   "outputs": [
    {
     "data": {
      "text/plain": [
       "key          name                \n",
       "118964357-0  num_episodes            2962\n",
       "37799480-0   genre                   1595\n",
       "528594712-0  current_members         1315\n",
       "95362092-0   judges                  1077\n",
       "321925250-0  num_episodes             781\n",
       "24291635-0   genre                    770\n",
       "127788329-0  gross                    762\n",
       "72362254-0   current champions        678\n",
       "31536085-0   genre                    676\n",
       "89677820-0   misc                     664\n",
       "37149965-0   result                   658\n",
       "173468547-0  incumbent                654\n",
       "19402539-3   name                     653\n",
       "269976299-0  awards                   638\n",
       "57793854-0   updated                  638\n",
       "545084225-0  ideology                 621\n",
       "628311504-0  num_episodes             592\n",
       "57793854-0   singlesrecord            586\n",
       "90429869-0   currentclub              586\n",
       "40487670-0   nickname                 564\n",
       "504878331-0  starring                 556\n",
       "134131257-0  years                    556\n",
       "212998861-0  type                     552\n",
       "25245344-0   name                     533\n",
       "532711887-0  gross                    532\n",
       "32788103-0   combatant1               528\n",
       "504878331-0  gross                    515\n",
       "173601983-1  incumbent                506\n",
       "202565199-0  image_map2_caption       504\n",
       "8716842-0    name                     494\n",
       "155855582-0  genre                    489\n",
       "89677820-0   genre                    485\n",
       "653569370-0  combatant1               470\n",
       "160524575-0  result                   464\n",
       "37149965-0   combatant2               463\n",
       "435126722-0  judges                   462\n",
       "72362254-0   most successful club     455\n",
       "25597471-0   government_type          454\n",
       "46033892-0   genre                    452\n",
       "37149965-0   combatant1               442\n",
       "59234899-0   unitssold                442\n",
       "111941944-0  name                     440\n",
       "653335681-0  combatant2               438\n",
       "32788103-0   commander1               438\n",
       "30012831-0   past_members             437\n",
       "9069160-0    genre                    435\n",
       "8881706-0    official_languages       434\n",
       "55057207-0   name                     432\n",
       "367363000-0  starring                 432\n",
       "529501353-0  current_members          431\n",
       "dtype: int64"
      ]
     },
     "execution_count": 21,
     "metadata": {},
     "output_type": "execute_result"
    }
   ],
   "source": [
    "changes_per_key_and_name[:50]"
   ]
  },
  {
   "cell_type": "markdown",
   "id": "b869c008-9e3d-469a-8d5e-0b079dd293dd",
   "metadata": {},
   "source": [
    "Filter out combinations with <100 changes again"
   ]
  },
  {
   "cell_type": "code",
   "execution_count": 16,
   "id": "ae2de1cd-5d00-4fe7-ab88-73e07240f0f5",
   "metadata": {},
   "outputs": [],
   "source": [
    "changes_per_key_and_name_many_changes  = changes_per_key_and_name[changes_per_key_and_name>=100]"
   ]
  },
  {
   "cell_type": "code",
   "execution_count": 17,
   "id": "25513725-c3bf-4bf8-9688-ee8482f775c8",
   "metadata": {},
   "outputs": [
    {
     "name": "stdout",
     "output_type": "stream",
     "text": [
      "Only 2327 unique (infobox, property) combinations left in the subset.\n"
     ]
    }
   ],
   "source": [
    "print('Only {} unique (infobox, property) combinations left in the subset.'.format(changes_per_key_and_name_many_changes.shape[0]))"
   ]
  },
  {
   "cell_type": "code",
   "execution_count": 18,
   "id": "9805c885-29a0-474d-9c2c-8bd2cc1958ff",
   "metadata": {},
   "outputs": [],
   "source": [
    "data = data[data[['key','name']].apply(tuple, axis=1).isin(changes_per_key_and_name_many_changes.index)]"
   ]
  },
  {
   "cell_type": "code",
   "execution_count": 19,
   "id": "59731f0e-6f59-4271-b5d2-6c25fc1af9d1",
   "metadata": {},
   "outputs": [
    {
     "data": {
      "text/plain": [
       "387096"
      ]
     },
     "execution_count": 19,
     "metadata": {},
     "output_type": "execute_result"
    }
   ],
   "source": [
    "data.shape[0]"
   ]
  },
  {
   "cell_type": "markdown",
   "id": "21b1d109-4d03-44b1-a9de-173d08c1c643",
   "metadata": {},
   "source": [
    "## Investigate regularly changing properties"
   ]
  },
  {
   "cell_type": "code",
   "execution_count": 35,
   "id": "c2b29fc2-34df-4d88-bfd6-59c975e2d3cc",
   "metadata": {},
   "outputs": [
    {
     "data": {
      "text/html": [
       "<div>\n",
       "<style scoped>\n",
       "    .dataframe tbody tr th:only-of-type {\n",
       "        vertical-align: middle;\n",
       "    }\n",
       "\n",
       "    .dataframe tbody tr th {\n",
       "        vertical-align: top;\n",
       "    }\n",
       "\n",
       "    .dataframe thead th {\n",
       "        text-align: right;\n",
       "    }\n",
       "</style>\n",
       "<table border=\"1\" class=\"dataframe\">\n",
       "  <thead>\n",
       "    <tr style=\"text-align: right;\">\n",
       "      <th></th>\n",
       "      <th>key</th>\n",
       "      <th>title</th>\n",
       "      <th>name</th>\n",
       "      <th>previous_value</th>\n",
       "      <th>current_value</th>\n",
       "      <th>timestamp</th>\n",
       "    </tr>\n",
       "  </thead>\n",
       "  <tbody>\n",
       "    <tr>\n",
       "      <th>17227</th>\n",
       "      <td>166646306-0</td>\n",
       "      <td>Hope Williams Brady</td>\n",
       "      <td>born</td>\n",
       "      <td></td>\n",
       "      <td>[[December 24]], [[1974]]) (onscreen; SORASed ...</td>\n",
       "      <td>2007-10-28 19:04:36+00:00</td>\n",
       "    </tr>\n",
       "    <tr>\n",
       "      <th>17228</th>\n",
       "      <td>166646306-0</td>\n",
       "      <td>Hope Williams Brady</td>\n",
       "      <td>born</td>\n",
       "      <td>[[December 24]], [[1974]]) (onscreen; SORASed ...</td>\n",
       "      <td>Onscreen [[December 24]], [[1974]]</td>\n",
       "      <td>2007-10-29 12:48:03+00:00</td>\n",
       "    </tr>\n",
       "    <tr>\n",
       "      <th>17263</th>\n",
       "      <td>166646306-0</td>\n",
       "      <td>Hope Williams Brady</td>\n",
       "      <td>born</td>\n",
       "      <td>Onscreen [[December 24]], [[1974]]</td>\n",
       "      <td>Onscreen December 24, 1974</td>\n",
       "      <td>2008-11-07 15:00:41+00:00</td>\n",
       "    </tr>\n",
       "    <tr>\n",
       "      <th>17295</th>\n",
       "      <td>166646306-0</td>\n",
       "      <td>Hope Williams Brady</td>\n",
       "      <td>born</td>\n",
       "      <td>Onscreen December 24, 1974</td>\n",
       "      <td>Onscreen January 10, 1974 (orginial)&lt;br&gt; Decem...</td>\n",
       "      <td>2009-06-19 17:13:53+00:00</td>\n",
       "    </tr>\n",
       "    <tr>\n",
       "      <th>17384</th>\n",
       "      <td>166646306-0</td>\n",
       "      <td>Hope Williams Brady</td>\n",
       "      <td>born</td>\n",
       "      <td>Onscreen January 10, 1974 (orginial)&lt;br&gt; Decem...</td>\n",
       "      <td>Onscreen January 10, 1974 (original)&lt;br&gt; Decem...</td>\n",
       "      <td>2011-01-26 02:54:28+00:00</td>\n",
       "    </tr>\n",
       "    <tr>\n",
       "      <th>...</th>\n",
       "      <td>...</td>\n",
       "      <td>...</td>\n",
       "      <td>...</td>\n",
       "      <td>...</td>\n",
       "      <td>...</td>\n",
       "      <td>...</td>\n",
       "    </tr>\n",
       "    <tr>\n",
       "      <th>22800707</th>\n",
       "      <td>368717948-0</td>\n",
       "      <td>Omar Musa</td>\n",
       "      <td>born</td>\n",
       "      <td>{{birth date|1984|1|09}} (age 25) &lt;br /&gt; [[Que...</td>\n",
       "      <td>{{birth date|1984|1|09}} (age 25) &lt;br /&gt; [[Que...</td>\n",
       "      <td>2010-10-08 05:08:37+00:00</td>\n",
       "    </tr>\n",
       "    <tr>\n",
       "      <th>22800710</th>\n",
       "      <td>368717948-0</td>\n",
       "      <td>Omar Musa</td>\n",
       "      <td>born</td>\n",
       "      <td>{{birth date|1984|1|09}} (age 25) &lt;br /&gt; [[Que...</td>\n",
       "      <td>{{birth date and age|1984|1|09}}  &lt;br /&gt; [[Que...</td>\n",
       "      <td>2011-03-14 10:28:31+00:00</td>\n",
       "    </tr>\n",
       "    <tr>\n",
       "      <th>22800711</th>\n",
       "      <td>368717948-0</td>\n",
       "      <td>Omar Musa</td>\n",
       "      <td>born</td>\n",
       "      <td>{{birth date and age|1984|1|09}}  &lt;br /&gt; [[Que...</td>\n",
       "      <td>{{birth date and age|df=yes|1984|1|09}}  &lt;br /...</td>\n",
       "      <td>2011-07-22 02:55:05+00:00</td>\n",
       "    </tr>\n",
       "    <tr>\n",
       "      <th>22803876</th>\n",
       "      <td>367292223-0</td>\n",
       "      <td>Dylan Mattingly</td>\n",
       "      <td>born</td>\n",
       "      <td>March 18th, 1991</td>\n",
       "      <td>1991</td>\n",
       "      <td>2010-06-11 20:57:37+00:00</td>\n",
       "    </tr>\n",
       "    <tr>\n",
       "      <th>22807508</th>\n",
       "      <td>369373939-0</td>\n",
       "      <td>John Pott (British Army officer)</td>\n",
       "      <td>born</td>\n",
       "      <td>{{Birth date|1919|07|14}}</td>\n",
       "      <td>{{Birth date|1919|07|14|df=yes}}</td>\n",
       "      <td>2010-06-22 11:33:22+00:00</td>\n",
       "    </tr>\n",
       "  </tbody>\n",
       "</table>\n",
       "<p>11614 rows × 6 columns</p>\n",
       "</div>"
      ],
      "text/plain": [
       "                  key                             title  name  \\\n",
       "17227     166646306-0               Hope Williams Brady  born   \n",
       "17228     166646306-0               Hope Williams Brady  born   \n",
       "17263     166646306-0               Hope Williams Brady  born   \n",
       "17295     166646306-0               Hope Williams Brady  born   \n",
       "17384     166646306-0               Hope Williams Brady  born   \n",
       "...               ...                               ...   ...   \n",
       "22800707  368717948-0                         Omar Musa  born   \n",
       "22800710  368717948-0                         Omar Musa  born   \n",
       "22800711  368717948-0                         Omar Musa  born   \n",
       "22803876  367292223-0                   Dylan Mattingly  born   \n",
       "22807508  369373939-0  John Pott (British Army officer)  born   \n",
       "\n",
       "                                             previous_value  \\\n",
       "17227                                                         \n",
       "17228     [[December 24]], [[1974]]) (onscreen; SORASed ...   \n",
       "17263                    Onscreen [[December 24]], [[1974]]   \n",
       "17295                            Onscreen December 24, 1974   \n",
       "17384     Onscreen January 10, 1974 (orginial)<br> Decem...   \n",
       "...                                                     ...   \n",
       "22800707  {{birth date|1984|1|09}} (age 25) <br /> [[Que...   \n",
       "22800710  {{birth date|1984|1|09}} (age 25) <br /> [[Que...   \n",
       "22800711  {{birth date and age|1984|1|09}}  <br /> [[Que...   \n",
       "22803876                                   March 18th, 1991   \n",
       "22807508                          {{Birth date|1919|07|14}}   \n",
       "\n",
       "                                              current_value  \\\n",
       "17227     [[December 24]], [[1974]]) (onscreen; SORASed ...   \n",
       "17228                    Onscreen [[December 24]], [[1974]]   \n",
       "17263                            Onscreen December 24, 1974   \n",
       "17295     Onscreen January 10, 1974 (orginial)<br> Decem...   \n",
       "17384     Onscreen January 10, 1974 (original)<br> Decem...   \n",
       "...                                                     ...   \n",
       "22800707  {{birth date|1984|1|09}} (age 25) <br /> [[Que...   \n",
       "22800710  {{birth date and age|1984|1|09}}  <br /> [[Que...   \n",
       "22800711  {{birth date and age|df=yes|1984|1|09}}  <br /...   \n",
       "22803876                                               1991   \n",
       "22807508                   {{Birth date|1919|07|14|df=yes}}   \n",
       "\n",
       "                         timestamp  \n",
       "17227    2007-10-28 19:04:36+00:00  \n",
       "17228    2007-10-29 12:48:03+00:00  \n",
       "17263    2008-11-07 15:00:41+00:00  \n",
       "17295    2009-06-19 17:13:53+00:00  \n",
       "17384    2011-01-26 02:54:28+00:00  \n",
       "...                            ...  \n",
       "22800707 2010-10-08 05:08:37+00:00  \n",
       "22800710 2011-03-14 10:28:31+00:00  \n",
       "22800711 2011-07-22 02:55:05+00:00  \n",
       "22803876 2010-06-11 20:57:37+00:00  \n",
       "22807508 2010-06-22 11:33:22+00:00  \n",
       "\n",
       "[11614 rows x 6 columns]"
      ]
     },
     "execution_count": 35,
     "metadata": {},
     "output_type": "execute_result"
    }
   ],
   "source": [
    "data[data['name']=='born']"
   ]
  },
  {
   "cell_type": "code",
   "execution_count": 49,
   "id": "dd3cb60c-2ab5-46a6-a1b1-94a84fca6d81",
   "metadata": {},
   "outputs": [
    {
     "data": {
      "text/plain": [
       "1     990\n",
       "2     538\n",
       "3     275\n",
       "4     186\n",
       "5     118\n",
       "6      84\n",
       "7      73\n",
       "8      55\n",
       "9      29\n",
       "10     25\n",
       "Name: key, dtype: int64"
      ]
     },
     "execution_count": 49,
     "metadata": {},
     "output_type": "execute_result"
    }
   ],
   "source": [
    "data[data['name']=='born']['key'].value_counts().value_counts()[:10]"
   ]
  },
  {
   "cell_type": "markdown",
   "id": "364a941b-066e-4232-b214-c4df6d9d8503",
   "metadata": {},
   "source": [
    "Observation: Sometimes \"born\" refers to only the date of birth, but sometimes it includes the age of the person which needs to be updated regularly.\n",
    "Apparently \"Born\" is  not a basic parameter and normally refers to a section of \"birth_date\", \"birth_name\", \"birth_place"
   ]
  },
  {
   "cell_type": "code",
   "execution_count": 50,
   "id": "5b20af77-6365-4f32-bceb-6de379721b36",
   "metadata": {},
   "outputs": [
    {
     "data": {
      "text/plain": [
       "1     2509\n",
       "2     1192\n",
       "3      460\n",
       "4      352\n",
       "5      188\n",
       "6      145\n",
       "8       98\n",
       "7       92\n",
       "9       52\n",
       "11      49\n",
       "Name: key, dtype: int64"
      ]
     },
     "execution_count": 50,
     "metadata": {},
     "output_type": "execute_result"
    }
   ],
   "source": [
    "data[data['name']=='birth_name']['key'].value_counts().value_counts()[:10]"
   ]
  },
  {
   "cell_type": "markdown",
   "id": "4982f18e-13cd-4b38-8726-3a1895691abc",
   "metadata": {},
   "source": [
    "\"Birth name\" seems to be less prone to many changes, as it should be unambigous and stay the same, however there is a long tail to the frequency distribution."
   ]
  },
  {
   "cell_type": "code",
   "execution_count": 60,
   "id": "895ad7bf-9a9a-4614-9777-32e3b360406c",
   "metadata": {},
   "outputs": [
    {
     "data": {
      "text/plain": [
       "1     19682\n",
       "2      7781\n",
       "3      3725\n",
       "4      2001\n",
       "5      1189\n",
       "6       764\n",
       "7       533\n",
       "8       338\n",
       "9       300\n",
       "10      272\n",
       "Name: key, dtype: int64"
      ]
     },
     "execution_count": 60,
     "metadata": {},
     "output_type": "execute_result"
    }
   ],
   "source": [
    "data[data['name']=='birth_date']['key'].value_counts().value_counts()[:10]"
   ]
  },
  {
   "cell_type": "code",
   "execution_count": 63,
   "id": "d2a7f8fc-66d9-439a-a6c7-653cc435548f",
   "metadata": {},
   "outputs": [
    {
     "data": {
      "text/plain": [
       "1     20377\n",
       "2      8006\n",
       "3      3856\n",
       "4      2117\n",
       "5      1223\n",
       "6       796\n",
       "7       539\n",
       "8       374\n",
       "9       301\n",
       "10      234\n",
       "Name: key, dtype: int64"
      ]
     },
     "execution_count": 63,
     "metadata": {},
     "output_type": "execute_result"
    }
   ],
   "source": [
    "data[data['name']=='birth_place']['key'].value_counts().value_counts()[:10]"
   ]
  },
  {
   "cell_type": "markdown",
   "id": "16e6d3f1-71e1-4a3e-823d-362868475699",
   "metadata": {},
   "source": [
    "\"Birth date\" and \"birth place\" are quite stable but again have a very long tails."
   ]
  },
  {
   "cell_type": "code",
   "execution_count": 57,
   "id": "64e13305-780f-4fc8-9b8d-c72941fc0bb2",
   "metadata": {},
   "outputs": [],
   "source": [
    "g = data[data['name']==property_name].groupby(['key','name'])"
   ]
  },
  {
   "cell_type": "code",
   "execution_count": 114,
   "id": "f6a4a55b-6c10-43c1-816a-dcd03c9bd2af",
   "metadata": {},
   "outputs": [],
   "source": [
    "property_list = ['population', 'num_episodes', 'score', 'wins','losses', 'year']"
   ]
  },
  {
   "cell_type": "markdown",
   "id": "f10dbb68-930a-47b5-ab5f-1e5a8c8cdc15",
   "metadata": {},
   "source": [
    "Sort values after group by"
   ]
  },
  {
   "cell_type": "code",
   "execution_count": null,
   "id": "8c6268b4-d61c-4197-8f75-b60903c5aeca",
   "metadata": {
    "collapsed": true,
    "jupyter": {
     "outputs_hidden": true
    },
    "tags": []
   },
   "outputs": [
    {
     "ename": "KeyboardInterrupt",
     "evalue": "",
     "output_type": "error",
     "traceback": [
      "\u001b[0;31m---------------------------------------------------------------------------\u001b[0m",
      "\u001b[0;31mKeyboardInterrupt\u001b[0m                         Traceback (most recent call last)",
      "\u001b[0;32m<ipython-input-59-ce2413e959d0>\u001b[0m in \u001b[0;36m<module>\u001b[0;34m\u001b[0m\n\u001b[0;32m----> 1\u001b[0;31m \u001b[0mg\u001b[0m\u001b[0;34m.\u001b[0m\u001b[0mapply\u001b[0m\u001b[0;34m(\u001b[0m\u001b[0;32mlambda\u001b[0m \u001b[0mx\u001b[0m\u001b[0;34m:\u001b[0m \u001b[0mx\u001b[0m\u001b[0;34m[\u001b[0m\u001b[0;34m'timestamp'\u001b[0m\u001b[0;34m]\u001b[0m\u001b[0;34m.\u001b[0m\u001b[0msort_values\u001b[0m\u001b[0;34m(\u001b[0m\u001b[0mascending\u001b[0m\u001b[0;34m=\u001b[0m\u001b[0;32mTrue\u001b[0m\u001b[0;34m)\u001b[0m\u001b[0;34m)\u001b[0m\u001b[0;34m\u001b[0m\u001b[0;34m\u001b[0m\u001b[0m\n\u001b[0m",
      "\u001b[0;32m~/miniconda3/envs/wikipedia/lib/python3.6/site-packages/pandas/core/groupby/groupby.py\u001b[0m in \u001b[0;36mapply\u001b[0;34m(self, func, *args, **kwargs)\u001b[0m\n\u001b[1;32m    857\u001b[0m         \u001b[0;32mwith\u001b[0m \u001b[0moption_context\u001b[0m\u001b[0;34m(\u001b[0m\u001b[0;34m\"mode.chained_assignment\"\u001b[0m\u001b[0;34m,\u001b[0m \u001b[0;32mNone\u001b[0m\u001b[0;34m)\u001b[0m\u001b[0;34m:\u001b[0m\u001b[0;34m\u001b[0m\u001b[0;34m\u001b[0m\u001b[0m\n\u001b[1;32m    858\u001b[0m             \u001b[0;32mtry\u001b[0m\u001b[0;34m:\u001b[0m\u001b[0;34m\u001b[0m\u001b[0;34m\u001b[0m\u001b[0m\n\u001b[0;32m--> 859\u001b[0;31m                 \u001b[0mresult\u001b[0m \u001b[0;34m=\u001b[0m \u001b[0mself\u001b[0m\u001b[0;34m.\u001b[0m\u001b[0m_python_apply_general\u001b[0m\u001b[0;34m(\u001b[0m\u001b[0mf\u001b[0m\u001b[0;34m,\u001b[0m \u001b[0mself\u001b[0m\u001b[0;34m.\u001b[0m\u001b[0m_selected_obj\u001b[0m\u001b[0;34m)\u001b[0m\u001b[0;34m\u001b[0m\u001b[0;34m\u001b[0m\u001b[0m\n\u001b[0m\u001b[1;32m    860\u001b[0m             \u001b[0;32mexcept\u001b[0m \u001b[0mTypeError\u001b[0m\u001b[0;34m:\u001b[0m\u001b[0;34m\u001b[0m\u001b[0;34m\u001b[0m\u001b[0m\n\u001b[1;32m    861\u001b[0m                 \u001b[0;31m# gh-20949\u001b[0m\u001b[0;34m\u001b[0m\u001b[0;34m\u001b[0m\u001b[0;34m\u001b[0m\u001b[0m\n",
      "\u001b[0;32m~/miniconda3/envs/wikipedia/lib/python3.6/site-packages/pandas/core/groupby/groupby.py\u001b[0m in \u001b[0;36m_python_apply_general\u001b[0;34m(self, f, data)\u001b[0m\n\u001b[1;32m    890\u001b[0m             \u001b[0mdata\u001b[0m \u001b[0mafter\u001b[0m \u001b[0mapplying\u001b[0m \u001b[0mf\u001b[0m\u001b[0;34m\u001b[0m\u001b[0;34m\u001b[0m\u001b[0m\n\u001b[1;32m    891\u001b[0m         \"\"\"\n\u001b[0;32m--> 892\u001b[0;31m         \u001b[0mkeys\u001b[0m\u001b[0;34m,\u001b[0m \u001b[0mvalues\u001b[0m\u001b[0;34m,\u001b[0m \u001b[0mmutated\u001b[0m \u001b[0;34m=\u001b[0m \u001b[0mself\u001b[0m\u001b[0;34m.\u001b[0m\u001b[0mgrouper\u001b[0m\u001b[0;34m.\u001b[0m\u001b[0mapply\u001b[0m\u001b[0;34m(\u001b[0m\u001b[0mf\u001b[0m\u001b[0;34m,\u001b[0m \u001b[0mdata\u001b[0m\u001b[0;34m,\u001b[0m \u001b[0mself\u001b[0m\u001b[0;34m.\u001b[0m\u001b[0maxis\u001b[0m\u001b[0;34m)\u001b[0m\u001b[0;34m\u001b[0m\u001b[0;34m\u001b[0m\u001b[0m\n\u001b[0m\u001b[1;32m    893\u001b[0m \u001b[0;34m\u001b[0m\u001b[0m\n\u001b[1;32m    894\u001b[0m         return self._wrap_applied_output(\n",
      "\u001b[0;32m~/miniconda3/envs/wikipedia/lib/python3.6/site-packages/pandas/core/groupby/ops.py\u001b[0m in \u001b[0;36mapply\u001b[0;34m(self, f, data, axis)\u001b[0m\n\u001b[1;32m    218\u001b[0m             \u001b[0;31m# group might be modified\u001b[0m\u001b[0;34m\u001b[0m\u001b[0;34m\u001b[0m\u001b[0;34m\u001b[0m\u001b[0m\n\u001b[1;32m    219\u001b[0m             \u001b[0mgroup_axes\u001b[0m \u001b[0;34m=\u001b[0m \u001b[0mgroup\u001b[0m\u001b[0;34m.\u001b[0m\u001b[0maxes\u001b[0m\u001b[0;34m\u001b[0m\u001b[0;34m\u001b[0m\u001b[0m\n\u001b[0;32m--> 220\u001b[0;31m             \u001b[0mres\u001b[0m \u001b[0;34m=\u001b[0m \u001b[0mf\u001b[0m\u001b[0;34m(\u001b[0m\u001b[0mgroup\u001b[0m\u001b[0;34m)\u001b[0m\u001b[0;34m\u001b[0m\u001b[0;34m\u001b[0m\u001b[0m\n\u001b[0m\u001b[1;32m    221\u001b[0m             \u001b[0;32mif\u001b[0m \u001b[0;32mnot\u001b[0m \u001b[0m_is_indexed_like\u001b[0m\u001b[0;34m(\u001b[0m\u001b[0mres\u001b[0m\u001b[0;34m,\u001b[0m \u001b[0mgroup_axes\u001b[0m\u001b[0;34m)\u001b[0m\u001b[0;34m:\u001b[0m\u001b[0;34m\u001b[0m\u001b[0;34m\u001b[0m\u001b[0m\n\u001b[1;32m    222\u001b[0m                 \u001b[0mmutated\u001b[0m \u001b[0;34m=\u001b[0m \u001b[0;32mTrue\u001b[0m\u001b[0;34m\u001b[0m\u001b[0;34m\u001b[0m\u001b[0m\n",
      "\u001b[0;32m<ipython-input-59-ce2413e959d0>\u001b[0m in \u001b[0;36m<lambda>\u001b[0;34m(x)\u001b[0m\n\u001b[0;32m----> 1\u001b[0;31m \u001b[0mg\u001b[0m\u001b[0;34m.\u001b[0m\u001b[0mapply\u001b[0m\u001b[0;34m(\u001b[0m\u001b[0;32mlambda\u001b[0m \u001b[0mx\u001b[0m\u001b[0;34m:\u001b[0m \u001b[0mx\u001b[0m\u001b[0;34m[\u001b[0m\u001b[0;34m'timestamp'\u001b[0m\u001b[0;34m]\u001b[0m\u001b[0;34m.\u001b[0m\u001b[0msort_values\u001b[0m\u001b[0;34m(\u001b[0m\u001b[0mascending\u001b[0m\u001b[0;34m=\u001b[0m\u001b[0;32mTrue\u001b[0m\u001b[0;34m)\u001b[0m\u001b[0;34m)\u001b[0m\u001b[0;34m\u001b[0m\u001b[0;34m\u001b[0m\u001b[0m\n\u001b[0m",
      "\u001b[0;32m~/miniconda3/envs/wikipedia/lib/python3.6/site-packages/pandas/core/frame.py\u001b[0m in \u001b[0;36m__getitem__\u001b[0;34m(self, key)\u001b[0m\n\u001b[1;32m   2876\u001b[0m                 \u001b[0;32mif\u001b[0m \u001b[0mself\u001b[0m\u001b[0;34m.\u001b[0m\u001b[0mcolumns\u001b[0m\u001b[0;34m.\u001b[0m\u001b[0mnlevels\u001b[0m \u001b[0;34m>\u001b[0m \u001b[0;36m1\u001b[0m\u001b[0;34m:\u001b[0m\u001b[0;34m\u001b[0m\u001b[0;34m\u001b[0m\u001b[0m\n\u001b[1;32m   2877\u001b[0m                     \u001b[0;32mreturn\u001b[0m \u001b[0mself\u001b[0m\u001b[0;34m.\u001b[0m\u001b[0m_getitem_multilevel\u001b[0m\u001b[0;34m(\u001b[0m\u001b[0mkey\u001b[0m\u001b[0;34m)\u001b[0m\u001b[0;34m\u001b[0m\u001b[0;34m\u001b[0m\u001b[0m\n\u001b[0;32m-> 2878\u001b[0;31m                 \u001b[0;32mreturn\u001b[0m \u001b[0mself\u001b[0m\u001b[0;34m.\u001b[0m\u001b[0m_get_item_cache\u001b[0m\u001b[0;34m(\u001b[0m\u001b[0mkey\u001b[0m\u001b[0;34m)\u001b[0m\u001b[0;34m\u001b[0m\u001b[0;34m\u001b[0m\u001b[0m\n\u001b[0m\u001b[1;32m   2879\u001b[0m \u001b[0;34m\u001b[0m\u001b[0m\n\u001b[1;32m   2880\u001b[0m         \u001b[0;31m# Do we have a slicer (on rows)?\u001b[0m\u001b[0;34m\u001b[0m\u001b[0;34m\u001b[0m\u001b[0;34m\u001b[0m\u001b[0m\n",
      "\u001b[0;32m~/miniconda3/envs/wikipedia/lib/python3.6/site-packages/pandas/core/generic.py\u001b[0m in \u001b[0;36m_get_item_cache\u001b[0;34m(self, item)\u001b[0m\n\u001b[1;32m   3545\u001b[0m \u001b[0;34m\u001b[0m\u001b[0m\n\u001b[1;32m   3546\u001b[0m             \u001b[0mcache\u001b[0m\u001b[0;34m[\u001b[0m\u001b[0mitem\u001b[0m\u001b[0;34m]\u001b[0m \u001b[0;34m=\u001b[0m \u001b[0mres\u001b[0m\u001b[0;34m\u001b[0m\u001b[0;34m\u001b[0m\u001b[0m\n\u001b[0;32m-> 3547\u001b[0;31m             \u001b[0mres\u001b[0m\u001b[0;34m.\u001b[0m\u001b[0m_set_as_cached\u001b[0m\u001b[0;34m(\u001b[0m\u001b[0mitem\u001b[0m\u001b[0;34m,\u001b[0m \u001b[0mself\u001b[0m\u001b[0;34m)\u001b[0m\u001b[0;34m\u001b[0m\u001b[0;34m\u001b[0m\u001b[0m\n\u001b[0m\u001b[1;32m   3548\u001b[0m \u001b[0;34m\u001b[0m\u001b[0m\n\u001b[1;32m   3549\u001b[0m             \u001b[0;31m# for a chain\u001b[0m\u001b[0;34m\u001b[0m\u001b[0;34m\u001b[0m\u001b[0;34m\u001b[0m\u001b[0m\n",
      "\u001b[0;31mKeyboardInterrupt\u001b[0m: "
     ]
    }
   ],
   "source": [
    "g.apply(lambda x: x['timestamp'].sort_values(ascending=True))"
   ]
  },
  {
   "cell_type": "code",
   "execution_count": 82,
   "id": "7b328f23-f563-4bb1-a3e0-bf1bbf08b0fc",
   "metadata": {},
   "outputs": [],
   "source": [
    "bins = [\n",
    "    pd.Timedelta(minutes = 0),\n",
    "    pd.Timedelta(days = 1),\n",
    "    pd.Timedelta(days = 7),\n",
    "    pd.Timedelta(days = 30),\n",
    "    pd.Timedelta(days = 356),\n",
    "    pd.Timedelta(days = 712),\n",
    "    pd.Timedelta(days = 1750),\n",
    "    pd.Timedelta(days=35600)\n",
    "]"
   ]
  },
  {
   "cell_type": "code",
   "execution_count": 83,
   "id": "01112567-c6cf-4020-bde5-bce65a0b0bf7",
   "metadata": {},
   "outputs": [],
   "source": [
    "labels = ['0-1day', '1-7days', '7-30days', '30-356days', '1-2years', '2-5years', '5years+']"
   ]
  },
  {
   "cell_type": "code",
   "execution_count": 34,
   "id": "a863c4b4-6d7e-4cec-b437-3e8770537383",
   "metadata": {},
   "outputs": [],
   "source": [
    "avg_time_diff_pop = g.apply(lambda x: x['timestamp'].diff().mean())"
   ]
  },
  {
   "cell_type": "code",
   "execution_count": 35,
   "id": "feae1b6e-7ef7-4208-b3f7-e10c70bc0296",
   "metadata": {},
   "outputs": [
    {
     "data": {
      "text/plain": [
       "key          name      \n",
       "100142209-0  population      405 days 18:07:38.200000\n",
       "10026100-0   population             623 days 13:18:18\n",
       "10026107-0   population             935 days 07:54:47\n",
       "10026111-0   population             935 days 07:51:57\n",
       "10026118-0   population   623 days 04:19:05.666666664\n",
       "                                      ...            \n",
       "98770238-0   population      208 days 09:25:00.100000\n",
       "99099388-0   population            1364 days 19:09:51\n",
       "9936565-0    population             693 days 20:15:25\n",
       "99635527-0   population            3020 days 23:51:09\n",
       "99872403-0   population                           NaT\n",
       "Length: 8281, dtype: timedelta64[ns]"
      ]
     },
     "execution_count": 35,
     "metadata": {},
     "output_type": "execute_result"
    }
   ],
   "source": [
    "avg_time_diff_pop"
   ]
  },
  {
   "cell_type": "code",
   "execution_count": 38,
   "id": "d9292732-5c9b-4f7d-bce6-c739cbac2f35",
   "metadata": {},
   "outputs": [],
   "source": [
    "deltas = pd.cut(avg_time_diff_pop, bins, labels = labels)"
   ]
  },
  {
   "cell_type": "code",
   "execution_count": 52,
   "id": "874a3fac-4259-416d-b320-4f3396118d09",
   "metadata": {},
   "outputs": [
    {
     "data": {
      "text/plain": [
       "<AxesSubplot:>"
      ]
     },
     "execution_count": 52,
     "metadata": {},
     "output_type": "execute_result"
    },
    {
     "data": {
      "image/png": "[encoded data removed]",
      "text/plain": [
       "<Figure size 432x288 with 1 Axes>"
      ]
     },
     "metadata": {
      "needs_background": "light"
     },
     "output_type": "display_data"
    }
   ],
   "source": [
    "deltas.value_counts(normalize=True, sort=False).plot.bar(rot=0, color=\"b\", figsize=(6,4), title='Property: {}'.format(property_name))"
   ]
  },
  {
   "cell_type": "code",
   "execution_count": 115,
   "id": "c10ba94b-abad-4654-92db-988184f4fb9b",
   "metadata": {},
   "outputs": [],
   "source": [
    "import math\n",
    "def plot_time_to_changes(df, property_list):\n",
    "    height = math.ceil(len(property_list) / 2)\n",
    "    fig, axs = plt.subplots(height, 2, figsize=(16,16))\n",
    "    \n",
    "    for i,property_name in enumerate(property_list):\n",
    "        g = data[data['name']==property_name].groupby(['key','name'])\n",
    "        avg_time_diff = g.apply(lambda x: x['timestamp'].diff().median())\n",
    "        deltas = pd.cut(avg_time_diff_pop, bins, labels = labels)\n",
    "        binned_counts = deltas.value_counts(normalize=True, sort=False)\n",
    "        \n",
    "        axs[i//2, i%2].bar(binned_counts.index.astype(str), binned_counts.values)\n",
    "        axs[i//2, i%2].set_title('Property: {}'.format(property_name))\n",
    "        axs[i//2, i%2].set_ylabel('% of all changes of the property')\n",
    "        axs[i//2, i%2].set_xlabel('Avg time until next change')\n",
    "    plt.savefig('test.png')\n",
    "    plt.show()\n",
    "    "
   ]
  },
  {
   "cell_type": "code",
   "execution_count": 116,
   "id": "5166f586-32a2-4e44-a7de-4b94ec03ae93",
   "metadata": {},
   "outputs": [
    {
     "data": {
      "image/png": "[encoded data removed]",
      "text/plain": [
       "<Figure size 1152x1152 with 6 Axes>"
      ]
     },
     "metadata": {
      "needs_background": "light"
     },
     "output_type": "display_data"
    }
   ],
   "source": [
    "plot_time_to_changes(data,property_list)"
   ]
  },
  {
   "cell_type": "code",
   "execution_count": null,
   "id": "f775bb68-413a-4275-9f6e-fdbedd311d49",
   "metadata": {},
   "outputs": [],
   "source": []
  }
 ],
 "metadata": {
  "kernelspec": {
   "display_name": "Python 3",
   "language": "python",
   "name": "python3"
  },
  "language_info": {
   "codemirror_mode": {
    "name": "ipython",
    "version": 3
   },
   "file_extension": ".py",
   "mimetype": "text/x-python",
   "name": "python",
   "nbconvert_exporter": "python",
   "pygments_lexer": "ipython3",
   "version": "3.6.9"
  }
 },
 "nbformat": 4,
 "nbformat_minor": 5
}
