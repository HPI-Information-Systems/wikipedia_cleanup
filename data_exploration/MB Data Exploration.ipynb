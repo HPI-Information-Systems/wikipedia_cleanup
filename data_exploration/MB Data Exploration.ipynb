{
 "cells": [
  {
   "cell_type": "code",
   "execution_count": 1,
   "id": "d4f26a48-e8ca-42ba-b795-2b01f00f0e94",
   "metadata": {},
   "outputs": [],
   "source": [
    "import json\n",
    "from pathlib import Path\n",
    "from datetime import timedelta\n",
    "\n",
    "import numpy as np\n",
    "import pandas as pd\n",
    "from tqdm import tqdm\n",
    "import matplotlib.pyplot as plt"
   ]
  },
  {
   "cell_type": "code",
   "execution_count": 2,
   "id": "b0344895-fb37-4fd3-a462-a31bcb6546e6",
   "metadata": {},
   "outputs": [
    {
     "data": {
      "text/plain": [
       "43"
      ]
     },
     "execution_count": 2,
     "metadata": {},
     "output_type": "execute_result"
    }
   ],
   "source": [
    "input_data = list(Path(\"../data/output-infobox\").rglob(\"*.json\"))\n",
    "files = [x for x in input_data if x.is_file()]\n",
    "len(files) "
   ]
  },
  {
   "cell_type": "code",
   "execution_count": 3,
   "id": "89708efa-8a9b-478b-b886-9ed411b27082",
   "metadata": {},
   "outputs": [
    {
     "name": "stderr",
     "output_type": "stream",
     "text": [
      "100%|██████████| 43/43 [03:30<00:00,  4.89s/it]"
     ]
    },
    {
     "name": "stdout",
     "output_type": "stream",
     "text": [
      "1571494\n"
     ]
    },
    {
     "name": "stderr",
     "output_type": "stream",
     "text": [
      "\n"
     ]
    },
    {
     "data": {
      "text/plain": [
       "8087086"
      ]
     },
     "execution_count": 3,
     "metadata": {},
     "output_type": "execute_result"
    }
   ],
   "source": [
    "num_edits = 0\n",
    "change_tuples = []\n",
    "for file in tqdm(files[:43]):\n",
    "    with open(file, 'r', encoding='utf-8') as f:\n",
    "        for jsonObj in f:\n",
    "            single_edit = json.loads(jsonObj)\n",
    "            num_edits += 1\n",
    "            #entries.append(single_edit)\n",
    "            key = single_edit['key'] # is needed as there could be multiple infoboxes on the same page which could change at the same time\n",
    "            title = single_edit['pageTitle']#['key']\n",
    "            changes = single_edit['changes']\n",
    "            timestamp = single_edit['validFrom']\n",
    "            for change in changes:\n",
    "                name = change['property']['name']\n",
    "                current_value = change['currentValue'] if 'currentValue' in change.keys() else None\n",
    "                previous_value = change['previousValue'] if 'previousValue' in change.keys() else None\n",
    "                change_tuples.append((key, title, name, previous_value, current_value, timestamp))\n",
    "print(num_edits) # 1934309 for 50\n",
    "len(change_tuples) # 9715201 for 50"
   ]
  },
  {
   "cell_type": "code",
   "execution_count": 35,
   "id": "882fa1e0-3e85-4e8f-8ca6-d78a4bd3716d",
   "metadata": {},
   "outputs": [],
   "source": [
    "data = pd.DataFrame(change_tuples, columns=['key', 'title', 'name', 'previous_value', 'current_value', 'timestamp'])\n",
    "data['timestamp'] = pd.to_datetime(data['timestamp'])"
   ]
  },
  {
   "cell_type": "code",
   "execution_count": 15,
   "id": "5582672f-1e89-45f9-91ff-02ed3d9b3be0",
   "metadata": {},
   "outputs": [
    {
     "data": {
      "text/plain": [
       "8087086"
      ]
     },
     "execution_count": 15,
     "metadata": {},
     "output_type": "execute_result"
    }
   ],
   "source": [
    "data.shape[0]"
   ]
  },
  {
   "cell_type": "markdown",
   "id": "c5092088-a8c8-43a1-b9a0-078c525bf8ae",
   "metadata": {},
   "source": [
    "Number of times the same infobox was changed at the same second"
   ]
  },
  {
   "cell_type": "code",
   "execution_count": 16,
   "id": "e91c198e-a5fe-481d-9636-e7176040cc70",
   "metadata": {},
   "outputs": [
    {
     "data": {
      "text/plain": [
       "1521"
      ]
     },
     "execution_count": 16,
     "metadata": {},
     "output_type": "execute_result"
    }
   ],
   "source": [
    "len(data[['key', 'title', 'name', 'timestamp']]) - len(data[['key', 'title', 'name', 'timestamp']].drop_duplicates()) "
   ]
  },
  {
   "cell_type": "markdown",
   "id": "1ce23f92-984d-48cc-97f4-3a87639e0e2b",
   "metadata": {},
   "source": [
    "--> Can be ignored as it is so low"
   ]
  },
  {
   "cell_type": "markdown",
   "id": "50081a75-d928-4076-bf0f-ad1397f11a77",
   "metadata": {},
   "source": [
    "## Filter out creations and deletions"
   ]
  },
  {
   "cell_type": "code",
   "execution_count": 11,
   "id": "e151bc3a-4b0f-46f3-b09b-4c832b2dcb7a",
   "metadata": {},
   "outputs": [
    {
     "data": {
      "text/plain": [
       "3194532"
      ]
     },
     "execution_count": 11,
     "metadata": {},
     "output_type": "execute_result"
    }
   ],
   "source": [
    "data[data['previous_value'].isna()].shape[0]"
   ]
  },
  {
   "cell_type": "code",
   "execution_count": 8,
   "id": "aac78b78-1fe0-4fd5-b7d2-c411dbd2dedb",
   "metadata": {},
   "outputs": [
    {
     "data": {
      "text/plain": [
       "2996504"
      ]
     },
     "execution_count": 8,
     "metadata": {},
     "output_type": "execute_result"
    }
   ],
   "source": [
    "data[data['current_value'].isna()].shape[0]"
   ]
  },
  {
   "cell_type": "markdown",
   "id": "1c0f7ad7-09a2-4075-96b4-31d971822576",
   "metadata": {},
   "source": [
    "--> About three quarters of the changes of the subset are creational or deletional changes"
   ]
  },
  {
   "cell_type": "code",
   "execution_count": 36,
   "id": "84b6915f-3eca-4e0f-b2cb-441e6aba0b2b",
   "metadata": {},
   "outputs": [],
   "source": [
    "data = data.dropna(subset=['previous_value', 'current_value'])"
   ]
  },
  {
   "cell_type": "code",
   "execution_count": 15,
   "id": "d9d99191-8c08-404d-a223-e8fe1d8e65ab",
   "metadata": {},
   "outputs": [
    {
     "data": {
      "text/plain": [
       "1896050"
      ]
     },
     "execution_count": 15,
     "metadata": {},
     "output_type": "execute_result"
    }
   ],
   "source": [
    "data.shape[0]"
   ]
  },
  {
   "cell_type": "markdown",
   "id": "36d47b26-e0f2-46e7-a21b-074c52543ab8",
   "metadata": {},
   "source": [
    "## Analyze number of changes per key"
   ]
  },
  {
   "cell_type": "code",
   "execution_count": 37,
   "id": "bd185d10-67de-46ee-96af-05c50ec543c6",
   "metadata": {},
   "outputs": [],
   "source": [
    "changes_per_key = data['key'].value_counts()"
   ]
  },
  {
   "cell_type": "code",
   "execution_count": 17,
   "id": "a89bc632-2b28-4f02-ba08-68e185aab9c5",
   "metadata": {},
   "outputs": [
    {
     "data": {
      "text/plain": [
       "100170704-0    11821\n",
       "9022080-0       6087\n",
       "45647758-0      4494\n",
       "133467261-0     4493\n",
       "25597471-0      4208\n",
       "               ...  \n",
       "441686297-2        1\n",
       "468323715-2        1\n",
       "82060526-2         1\n",
       "366096823-1        1\n",
       "79873547-0         1\n",
       "Name: key, Length: 9570, dtype: int64"
      ]
     },
     "execution_count": 17,
     "metadata": {},
     "output_type": "execute_result"
    }
   ],
   "source": [
    "changes_per_key"
   ]
  },
  {
   "cell_type": "code",
   "execution_count": 18,
   "id": "1ef83d45-0f20-44f4-878c-1f7ffb559d0a",
   "metadata": {},
   "outputs": [],
   "source": [
    "frequ_of_changes = changes_per_key.value_counts()"
   ]
  },
  {
   "cell_type": "code",
   "execution_count": 19,
   "id": "c6cad5fe-4c05-4221-832c-d87238c0e894",
   "metadata": {},
   "outputs": [
    {
     "data": {
      "image/png": "[encoded data removed]",
      "text/plain": [
       "<Figure size 432x288 with 1 Axes>"
      ]
     },
     "metadata": {
      "needs_background": "light"
     },
     "output_type": "display_data"
    }
   ],
   "source": [
    "frequ_of_changes.hist(bins=10)\n",
    "plt.xlabel(\"Number of changes per infobox\")\n",
    "plt.ylabel(\"Frequency\")\n",
    "plt.show()"
   ]
  },
  {
   "cell_type": "code",
   "execution_count": 20,
   "id": "85582121-a4a0-4ead-ba22-03855dfd6678",
   "metadata": {},
   "outputs": [
    {
     "data": {
      "image/png": "[encoded data removed]",
      "text/plain": [
       "<Figure size 720x360 with 1 Axes>"
      ]
     },
     "metadata": {
      "needs_background": "light"
     },
     "output_type": "display_data"
    }
   ],
   "source": [
    "frequ_of_changes.sort_index(ascending=True)[:30].plot.bar(figsize=(10,5))\n",
    "plt.xlabel(\"Number of changes per infobox\")\n",
    "plt.ylabel(\"Frequency\")\n",
    "plt.show()"
   ]
  },
  {
   "cell_type": "code",
   "execution_count": 21,
   "id": "0940a4bb-2418-4499-9a3b-807076449f46",
   "metadata": {},
   "outputs": [
    {
     "data": {
      "image/png": "[encoded data removed]",
      "text/plain": [
       "<Figure size 1080x360 with 1 Axes>"
      ]
     },
     "metadata": {
      "needs_background": "light"
     },
     "output_type": "display_data"
    }
   ],
   "source": [
    "frequ_of_changes.sort_index(ascending=True)[:50].plot.bar(figsize=(15,5))\n",
    "plt.xlabel(\"Number of changes per infobox\")\n",
    "plt.ylabel(\"Frequency\")\n",
    "plt.show()"
   ]
  },
  {
   "cell_type": "code",
   "execution_count": 22,
   "id": "dcccd9ed-1d65-4cb0-bd94-e13515dc9436",
   "metadata": {},
   "outputs": [
    {
     "data": {
      "image/png": "[encoded data removed]",
      "text/plain": [
       "<Figure size 2160x360 with 1 Axes>"
      ]
     },
     "metadata": {
      "needs_background": "light"
     },
     "output_type": "display_data"
    }
   ],
   "source": [
    "frequ_of_changes.sort_index(ascending=True)[:100].plot.bar(figsize=(30,5))\n",
    "plt.xlabel(\"Number of changes per infobox\")\n",
    "plt.ylabel(\"Frequency\")\n",
    "plt.show()"
   ]
  },
  {
   "cell_type": "code",
   "execution_count": 23,
   "id": "38109ad5-e60d-4b85-9bc2-2b0dc86a7ba3",
   "metadata": {},
   "outputs": [
    {
     "data": {
      "text/plain": [
       "11821    1\n",
       "6087     1\n",
       "4494     1\n",
       "4493     1\n",
       "4208     1\n",
       "4026     1\n",
       "3858     1\n",
       "3816     1\n",
       "3757     1\n",
       "3458     1\n",
       "3419     1\n",
       "3416     1\n",
       "3390     1\n",
       "3365     1\n",
       "3346     1\n",
       "3281     1\n",
       "3277     1\n",
       "3274     1\n",
       "3167     1\n",
       "3124     1\n",
       "Name: key, dtype: int64"
      ]
     },
     "execution_count": 23,
     "metadata": {},
     "output_type": "execute_result"
    }
   ],
   "source": [
    "frequ_of_changes.sort_index(ascending=False)[:20]"
   ]
  },
  {
   "cell_type": "markdown",
   "id": "0dbcdaa1-372c-4128-989d-70aeb9397b61",
   "metadata": {},
   "source": [
    "## What is a good threshold? How many changes should be our minimum to make reliable predictions?"
   ]
  },
  {
   "cell_type": "markdown",
   "id": "61f0a208-7219-4417-90c1-0b0996e5e0d2",
   "metadata": {},
   "source": [
    "Start with at least 100 changes"
   ]
  },
  {
   "cell_type": "code",
   "execution_count": 38,
   "id": "4d645bfc-799a-44d0-82ea-adb6f8885fba",
   "metadata": {},
   "outputs": [],
   "source": [
    "changes_per_key_many_changes = changes_per_key[changes_per_key>=100]"
   ]
  },
  {
   "cell_type": "code",
   "execution_count": 25,
   "id": "a41d73b8-bc8f-4dcd-b3aa-2aba4e95f30c",
   "metadata": {},
   "outputs": [
    {
     "name": "stdout",
     "output_type": "stream",
     "text": [
      "Only 3614 unique infoboxes left in the subset.\n"
     ]
    }
   ],
   "source": [
    "print('Only {} unique infoboxes left in the subset.'.format(changes_per_key_many_changes.shape[0]))"
   ]
  },
  {
   "cell_type": "code",
   "execution_count": 39,
   "id": "8e4d4e29-cd00-43b2-9421-7cf3cb852736",
   "metadata": {},
   "outputs": [],
   "source": [
    "data = data[data['key'].isin(changes_per_key_many_changes.index)]"
   ]
  },
  {
   "cell_type": "code",
   "execution_count": 27,
   "id": "4b1f6813-5d31-4b92-9142-87fe0c682d9f",
   "metadata": {},
   "outputs": [
    {
     "data": {
      "text/html": [
       "<div>\n",
       "<style scoped>\n",
       "    .dataframe tbody tr th:only-of-type {\n",
       "        vertical-align: middle;\n",
       "    }\n",
       "\n",
       "    .dataframe tbody tr th {\n",
       "        vertical-align: top;\n",
       "    }\n",
       "\n",
       "    .dataframe thead th {\n",
       "        text-align: right;\n",
       "    }\n",
       "</style>\n",
       "<table border=\"1\" class=\"dataframe\">\n",
       "  <thead>\n",
       "    <tr style=\"text-align: right;\">\n",
       "      <th></th>\n",
       "      <th>key</th>\n",
       "      <th>title</th>\n",
       "      <th>name</th>\n",
       "      <th>previous_value</th>\n",
       "      <th>current_value</th>\n",
       "      <th>timestamp</th>\n",
       "    </tr>\n",
       "  </thead>\n",
       "  <tbody>\n",
       "    <tr>\n",
       "      <th>364</th>\n",
       "      <td>11977384-0</td>\n",
       "      <td>Australian Democrats</td>\n",
       "      <td>ideology</td>\n",
       "      <td>[[liberalism|social liberal]]</td>\n",
       "      <td>Social [[Liberalism]]</td>\n",
       "      <td>2005-07-04 22:29:15+00:00</td>\n",
       "    </tr>\n",
       "    <tr>\n",
       "      <th>365</th>\n",
       "      <td>11977384-0</td>\n",
       "      <td>Australian Democrats</td>\n",
       "      <td>ideology</td>\n",
       "      <td>Social [[Liberalism]]</td>\n",
       "      <td>[[liberalism|social liberal]]</td>\n",
       "      <td>2005-07-05 00:56:54+00:00</td>\n",
       "    </tr>\n",
       "    <tr>\n",
       "      <th>366</th>\n",
       "      <td>11977384-0</td>\n",
       "      <td>Australian Democrats</td>\n",
       "      <td>template</td>\n",
       "      <td>infobox_political_party</td>\n",
       "      <td>infobox_australian_political_party</td>\n",
       "      <td>2005-09-23 07:26:21+00:00</td>\n",
       "    </tr>\n",
       "    <tr>\n",
       "      <th>368</th>\n",
       "      <td>11977384-0</td>\n",
       "      <td>Australian Democrats</td>\n",
       "      <td>party_logo</td>\n",
       "      <td>[[Image:Australiandemocratlogo.gif]]</td>\n",
       "      <td>[[Image:Ausdem_newlogo.JPG|200px]]</td>\n",
       "      <td>2005-10-15 06:06:44+00:00</td>\n",
       "    </tr>\n",
       "    <tr>\n",
       "      <th>369</th>\n",
       "      <td>11977384-0</td>\n",
       "      <td>Australian Democrats</td>\n",
       "      <td>foundation</td>\n",
       "      <td>[[1977]]</td>\n",
       "      <td>1977</td>\n",
       "      <td>2005-12-17 13:54:59+00:00</td>\n",
       "    </tr>\n",
       "    <tr>\n",
       "      <th>...</th>\n",
       "      <td>...</td>\n",
       "      <td>...</td>\n",
       "      <td>...</td>\n",
       "      <td>...</td>\n",
       "      <td>...</td>\n",
       "      <td>...</td>\n",
       "    </tr>\n",
       "    <tr>\n",
       "      <th>8087081</th>\n",
       "      <td>65523991-0</td>\n",
       "      <td>Cameron Diaz</td>\n",
       "      <td>years_active</td>\n",
       "      <td>1994–2014</td>\n",
       "      <td>1990–2014</td>\n",
       "      <td>2019-07-30 15:28:45+00:00</td>\n",
       "    </tr>\n",
       "    <tr>\n",
       "      <th>8087082</th>\n",
       "      <td>65523991-0</td>\n",
       "      <td>Cameron Diaz</td>\n",
       "      <td>occupation</td>\n",
       "      <td>Retired actress, writer, former model</td>\n",
       "      <td>Artist, actress, writer, former model</td>\n",
       "      <td>2019-08-11 05:22:26+00:00</td>\n",
       "    </tr>\n",
       "    <tr>\n",
       "      <th>8087083</th>\n",
       "      <td>65523991-0</td>\n",
       "      <td>Cameron Diaz</td>\n",
       "      <td>years_active</td>\n",
       "      <td>1990–2014</td>\n",
       "      <td>1990–2016</td>\n",
       "      <td>2019-08-25 01:25:27+00:00</td>\n",
       "    </tr>\n",
       "    <tr>\n",
       "      <th>8087084</th>\n",
       "      <td>65523991-0</td>\n",
       "      <td>Cameron Diaz</td>\n",
       "      <td>occupation</td>\n",
       "      <td>Artist, actress, writer, former model</td>\n",
       "      <td>{{hlist|Artist|actress|writer|former model}}</td>\n",
       "      <td>2019-08-30 02:56:02+00:00</td>\n",
       "    </tr>\n",
       "    <tr>\n",
       "      <th>8087085</th>\n",
       "      <td>65523991-0</td>\n",
       "      <td>Cameron Diaz</td>\n",
       "      <td>occupation</td>\n",
       "      <td>{{hlist|Artist|actress|writer|former model}}</td>\n",
       "      <td>{{hlist|Artist|writer|former actress|former mo...</td>\n",
       "      <td>2019-09-01 14:31:25+00:00</td>\n",
       "    </tr>\n",
       "  </tbody>\n",
       "</table>\n",
       "<p>1715146 rows × 6 columns</p>\n",
       "</div>"
      ],
      "text/plain": [
       "                key                 title          name  \\\n",
       "364      11977384-0  Australian Democrats      ideology   \n",
       "365      11977384-0  Australian Democrats      ideology   \n",
       "366      11977384-0  Australian Democrats      template   \n",
       "368      11977384-0  Australian Democrats    party_logo   \n",
       "369      11977384-0  Australian Democrats    foundation   \n",
       "...             ...                   ...           ...   \n",
       "8087081  65523991-0          Cameron Diaz  years_active   \n",
       "8087082  65523991-0          Cameron Diaz    occupation   \n",
       "8087083  65523991-0          Cameron Diaz  years_active   \n",
       "8087084  65523991-0          Cameron Diaz    occupation   \n",
       "8087085  65523991-0          Cameron Diaz    occupation   \n",
       "\n",
       "                                       previous_value  \\\n",
       "364                     [[liberalism|social liberal]]   \n",
       "365                             Social [[Liberalism]]   \n",
       "366                           infobox_political_party   \n",
       "368              [[Image:Australiandemocratlogo.gif]]   \n",
       "369                                          [[1977]]   \n",
       "...                                               ...   \n",
       "8087081                                     1994–2014   \n",
       "8087082         Retired actress, writer, former model   \n",
       "8087083                                     1990–2014   \n",
       "8087084         Artist, actress, writer, former model   \n",
       "8087085  {{hlist|Artist|actress|writer|former model}}   \n",
       "\n",
       "                                             current_value  \\\n",
       "364                                  Social [[Liberalism]]   \n",
       "365                          [[liberalism|social liberal]]   \n",
       "366                     infobox_australian_political_party   \n",
       "368                     [[Image:Ausdem_newlogo.JPG|200px]]   \n",
       "369                                                   1977   \n",
       "...                                                    ...   \n",
       "8087081                                          1990–2014   \n",
       "8087082              Artist, actress, writer, former model   \n",
       "8087083                                          1990–2016   \n",
       "8087084       {{hlist|Artist|actress|writer|former model}}   \n",
       "8087085  {{hlist|Artist|writer|former actress|former mo...   \n",
       "\n",
       "                        timestamp  \n",
       "364     2005-07-04 22:29:15+00:00  \n",
       "365     2005-07-05 00:56:54+00:00  \n",
       "366     2005-09-23 07:26:21+00:00  \n",
       "368     2005-10-15 06:06:44+00:00  \n",
       "369     2005-12-17 13:54:59+00:00  \n",
       "...                           ...  \n",
       "8087081 2019-07-30 15:28:45+00:00  \n",
       "8087082 2019-08-11 05:22:26+00:00  \n",
       "8087083 2019-08-25 01:25:27+00:00  \n",
       "8087084 2019-08-30 02:56:02+00:00  \n",
       "8087085 2019-09-01 14:31:25+00:00  \n",
       "\n",
       "[1715146 rows x 6 columns]"
      ]
     },
     "execution_count": 27,
     "metadata": {},
     "output_type": "execute_result"
    }
   ],
   "source": [
    "data"
   ]
  },
  {
   "cell_type": "markdown",
   "id": "9e47a399-0e1b-4949-9be9-e76f80a13235",
   "metadata": {},
   "source": [
    "## Look at changes per (key, propertyName) tuple"
   ]
  },
  {
   "cell_type": "code",
   "execution_count": 40,
   "id": "1103f2de-7643-4436-aa0a-b1c101f88ea3",
   "metadata": {},
   "outputs": [],
   "source": [
    "changes_per_key_and_name = data[['key','name']].value_counts()"
   ]
  },
  {
   "cell_type": "code",
   "execution_count": 29,
   "id": "8f8ce7dc-0506-4969-933d-778f67594441",
   "metadata": {},
   "outputs": [
    {
     "data": {
      "text/plain": [
       "key         name              \n",
       "23487584-0  genre                 1839\n",
       "25883713-0  genre                 1281\n",
       "24492859-0  genre                 1182\n",
       "12724021-0  ideology              1144\n",
       "48610185-1  genre                 1106\n",
       "                                  ... \n",
       "54506549-0  crew_photo_caption       1\n",
       "            crew_callsign            1\n",
       "15065952-0  blank1_info_sec2         1\n",
       "            blank2_name              1\n",
       "32508632-0  death date               1\n",
       "Length: 122697, dtype: int64"
      ]
     },
     "execution_count": 29,
     "metadata": {},
     "output_type": "execute_result"
    }
   ],
   "source": [
    "changes_per_key_and_name"
   ]
  },
  {
   "cell_type": "markdown",
   "id": "b869c008-9e3d-469a-8d5e-0b079dd293dd",
   "metadata": {},
   "source": [
    "Filter out combinations with <100 changes again"
   ]
  },
  {
   "cell_type": "code",
   "execution_count": 41,
   "id": "ae2de1cd-5d00-4fe7-ab88-73e07240f0f5",
   "metadata": {},
   "outputs": [],
   "source": [
    "changes_per_key_and_name_many_changes  = changes_per_key_and_name[changes_per_key_and_name>=100]"
   ]
  },
  {
   "cell_type": "code",
   "execution_count": 31,
   "id": "25513725-c3bf-4bf8-9688-ee8482f775c8",
   "metadata": {},
   "outputs": [
    {
     "name": "stdout",
     "output_type": "stream",
     "text": [
      "Only 2047 unique (infobox, property) combinations left in the subset.\n"
     ]
    }
   ],
   "source": [
    "print('Only {} unique (infobox, property) combinations left in the subset.'.format(changes_per_key_and_name_many_changes.shape[0]))"
   ]
  },
  {
   "cell_type": "code",
   "execution_count": 47,
   "id": "9805c885-29a0-474d-9c2c-8bd2cc1958ff",
   "metadata": {},
   "outputs": [],
   "source": [
    "data = data[data[['key','name']].apply(tuple, axis=1).isin(changes_per_key_and_name_many_changes.index)]"
   ]
  },
  {
   "cell_type": "code",
   "execution_count": 49,
   "id": "59731f0e-6f59-4271-b5d2-6c25fc1af9d1",
   "metadata": {},
   "outputs": [
    {
     "data": {
      "text/plain": [
       "364760"
      ]
     },
     "execution_count": 49,
     "metadata": {},
     "output_type": "execute_result"
    }
   ],
   "source": [
    "data.shape[0]"
   ]
  },
  {
   "cell_type": "code",
   "execution_count": null,
   "id": "7cd4e375-d366-4e1e-b7c7-d968ae5eea0e",
   "metadata": {},
   "outputs": [],
   "source": []
  }
 ],
 "metadata": {
  "kernelspec": {
   "display_name": "Python 3",
   "language": "python",
   "name": "python3"
  },
  "language_info": {
   "codemirror_mode": {
    "name": "ipython",
    "version": 3
   },
   "file_extension": ".py",
   "mimetype": "text/x-python",
   "name": "python",
   "nbconvert_exporter": "python",
   "pygments_lexer": "ipython3",
   "version": "3.6.9"
  }
 },
 "nbformat": 4,
 "nbformat_minor": 5
}
