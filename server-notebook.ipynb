{
 "cells": [
  {
   "cell_type": "code",
   "execution_count": 1,
   "id": "1c9601c6-f345-48ef-807f-6bb1f70524df",
   "metadata": {
    "tags": []
   },
   "outputs": [],
   "source": [
    "# Set RAM Limit\n",
    "import resource\n",
    "  \n",
    "def limit_memory(maxsize):\n",
    "    soft, hard = resource.getrlimit(resource.RLIMIT_AS)\n",
    "    resource.setrlimit(resource.RLIMIT_AS, (maxsize, hard))\n",
    "limit_memory(64000000000)\n",
    "\n",
    "# Enable Code Completion\n",
    "%config Completer.use_jedi = False\n"
   ]
  },
  {
   "cell_type": "code",
   "execution_count": null,
   "id": "40e655c9-9c90-4ddb-9e73-386d6505a21f",
   "metadata": {},
   "outputs": [],
   "source": []
  },
  {
   "cell_type": "code",
   "execution_count": null,
   "id": "17365e10-913c-420b-a9bb-50663730626a",
   "metadata": {},
   "outputs": [],
   "source": []
  }
 ],
 "metadata": {
  "kernelspec": {
   "display_name": "Python 3",
   "language": "python",
   "name": "python3"
  },
  "language_info": {
   "codemirror_mode": {
    "name": "ipython",
    "version": 3
   },
   "file_extension": ".py",
   "mimetype": "text/x-python",
   "name": "python",
   "nbconvert_exporter": "python",
   "pygments_lexer": "ipython3",
   "version": "3.6.9"
  }
 },
 "nbformat": 4,
 "nbformat_minor": 5
}
