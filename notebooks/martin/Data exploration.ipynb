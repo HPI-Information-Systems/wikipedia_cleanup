{
 "cells": [
  {
   "cell_type": "code",
   "execution_count": 1,
   "id": "8a573769",
   "metadata": {
    "tags": []
   },
   "outputs": [],
   "source": [
    "import json\n",
    "from pathlib import Path\n",
    "\n",
    "import numpy as np\n",
    "import pandas as pd\n",
    "from tqdm import tqdm\n",
    "import matplotlib.pyplot as plt\n",
    "import libarchive.public\n",
    "import pickle\n",
    "import random\n",
    "import Levenshtein"
   ]
  },
  {
   "cell_type": "code",
   "execution_count": 2,
   "id": "8c889cda-7f3d-411e-979f-2096a593aee4",
   "metadata": {},
   "outputs": [],
   "source": [
    "PERCENTAGE = 5"
   ]
  },
  {
   "cell_type": "code",
   "execution_count": 3,
   "id": "e165ccbc-174d-414a-a643-aed653885a27",
   "metadata": {},
   "outputs": [],
   "source": [
    "def input_file_size(file_path: Path):\n",
    "    with libarchive.public.file_reader(str(file_path)) as archive:\n",
    "        size = 0\n",
    "        for entry in archive:\n",
    "            size += entry.size\n",
    "    return size"
   ]
  },
  {
   "cell_type": "code",
   "execution_count": 4,
   "id": "43b8c700-b418-4148-93d5-22e619e1779a",
   "metadata": {},
   "outputs": [
    {
     "data": {
      "text/plain": [
       "586"
      ]
     },
     "execution_count": 4,
     "metadata": {},
     "output_type": "execute_result"
    }
   ],
   "source": [
    "input_folder = Path('../../../data/matched-infoboxes-raw')\n",
    "input_files = list(input_folder.rglob('*.7z'))\n",
    "len(input_files)"
   ]
  },
  {
   "cell_type": "code",
   "execution_count": null,
   "id": "ba0078fa-27f2-4507-a0e9-87ca5dfbdbe6",
   "metadata": {},
   "outputs": [
    {
     "name": "stdout",
     "output_type": "stream",
     "text": [
      "reading 0 to 29\n"
     ]
    },
    {
     "name": "stderr",
     "output_type": "stream",
     "text": [
      "100%|██████████| 29/29 [02:36<00:00,  5.38s/it]\n"
     ]
    },
    {
     "name": "stdout",
     "output_type": "stream",
     "text": [
      "writing file\n",
      "successfully wrote file\n",
      "reading 29 to 58\n"
     ]
    },
    {
     "name": "stderr",
     "output_type": "stream",
     "text": [
      " 31%|███       | 9/29 [00:52<01:58,  5.92s/it]"
     ]
    }
   ],
   "source": [
    "# SAVE change tuples partially on disk.\n",
    "num_iterations = 100 // PERCENTAGE\n",
    "for i in range(num_iterations):\n",
    "    partial_input_files = partial_input_files = input_files[int(len(input_files) / num_iterations * i): int(len(input_files) / num_iterations * (i + 1))]\n",
    "    print(f'reading {int(len(input_files) / num_iterations * i)} to {int(len(input_files) / num_iterations * (i + 1))}')\n",
    "    change_tuples = []\n",
    "    for archive_path in tqdm(partial_input_files):\n",
    "        with libarchive.public.file_reader(str(archive_path)) as archive:\n",
    "            for entry in archive:\n",
    "                content_bytes = bytearray('', encoding='utf_8')\n",
    "                for block in entry.get_blocks():\n",
    "                    content_bytes += block\n",
    "                content = content_bytes.decode(encoding='utf_8')\n",
    "                jsonObjs = content.split('\\n')\n",
    "                for jsonObj in filter(lambda x: x, jsonObjs):\n",
    "                    obj = json.loads(jsonObj)\n",
    "                    title = obj['pageTitle']\n",
    "                    subject = obj['pageID']\n",
    "                    changes = obj['changes']\n",
    "                    valid_from = obj['validFrom']\n",
    "                    for change in changes:\n",
    "                        current_value = change['currentValue'] if 'currentValue' in change.keys() else None\n",
    "                        previous_value = change['previousValue'] if 'previousValue' in change.keys() else None\n",
    "                        name = change['property']['name']\n",
    "                        valid_to = change['valueValidTo'] if 'valueValidTo' in change.keys() else None\n",
    "                        change_tuples.append((subject, title, name, previous_value, current_value, valid_from, valid_to))\n",
    "    \n",
    "    print('writing file')\n",
    "    with open(f'../../../data/raw_change_tuples/partial_change_tuples_part_{i}.pickle', 'wb') as file:\n",
    "        pickle.dump(change_tuples, file)\n",
    "    print('successfully wrote file')"
   ]
  },
  {
   "cell_type": "code",
   "execution_count": 5,
   "id": "183a7103-e6dd-414b-8d20-ddb6433a3288",
   "metadata": {
    "tags": []
   },
   "outputs": [],
   "source": [
    "with open(f'../../../data/raw_change_tuples/partial_change_tuples_part_{0}.pickle', 'rb') as file:\n",
    "        change_tuples = pickle.load(file)"
   ]
  },
  {
   "cell_type": "code",
   "execution_count": 6,
   "id": "71cbb174-711f-4140-9a47-68c3dd939778",
   "metadata": {},
   "outputs": [],
   "source": [
    "data = pd.DataFrame(change_tuples, columns=['subject', 'title', 'name', 'previous_value', 'current_value', 'valid_from', 'valid_to'])\n",
    "del change_tuples\n",
    "data['valid_from'] = pd.to_datetime(data['valid_from'])\n",
    "data['valid_to'] = pd.to_datetime(data['valid_to'])\n",
    "data['valid_time'] = data['valid_to'] - data['valid_from']\n",
    "data"
   ]
  },
  {
   "cell_type": "code",
   "execution_count": 7,
   "id": "ec15a782-d1d5-4678-acfb-011f9d138ac3",
   "metadata": {},
   "outputs": [
    {
     "data": {
      "text/html": [
       "<div>\n",
       "<style scoped>\n",
       "    .dataframe tbody tr th:only-of-type {\n",
       "        vertical-align: middle;\n",
       "    }\n",
       "\n",
       "    .dataframe tbody tr th {\n",
       "        vertical-align: top;\n",
       "    }\n",
       "\n",
       "    .dataframe thead th {\n",
       "        text-align: right;\n",
       "    }\n",
       "</style>\n",
       "<table border=\"1\" class=\"dataframe\">\n",
       "  <thead>\n",
       "    <tr style=\"text-align: right;\">\n",
       "      <th></th>\n",
       "      <th>subject</th>\n",
       "      <th>title</th>\n",
       "      <th>name</th>\n",
       "      <th>previous_value</th>\n",
       "      <th>current_value</th>\n",
       "      <th>valid_from</th>\n",
       "      <th>valid_to</th>\n",
       "      <th>valid_time</th>\n",
       "    </tr>\n",
       "  </thead>\n",
       "  <tbody>\n",
       "    <tr>\n",
       "      <th>0</th>\n",
       "      <td>58839507</td>\n",
       "      <td>Smita Thackeray</td>\n",
       "      <td>image</td>\n",
       "      <td>None</td>\n",
       "      <td>Smita Thackeray.jpg</td>\n",
       "      <td>2018-10-21 13:21:34+00:00</td>\n",
       "      <td>2018-12-26 19:56:22+00:00</td>\n",
       "      <td>66 days 06:34:48</td>\n",
       "    </tr>\n",
       "    <tr>\n",
       "      <th>1</th>\n",
       "      <td>58839507</td>\n",
       "      <td>Smita Thackeray</td>\n",
       "      <td>birth_place</td>\n",
       "      <td>None</td>\n",
       "      <td>[[Mumbai]], [[Maharashtra]], [[India]]</td>\n",
       "      <td>2018-10-21 13:21:34+00:00</td>\n",
       "      <td>NaT</td>\n",
       "      <td>NaT</td>\n",
       "    </tr>\n",
       "    <tr>\n",
       "      <th>2</th>\n",
       "      <td>58839507</td>\n",
       "      <td>Smita Thackeray</td>\n",
       "      <td>nationality</td>\n",
       "      <td>None</td>\n",
       "      <td>[[India]]n</td>\n",
       "      <td>2018-10-21 13:21:34+00:00</td>\n",
       "      <td>NaT</td>\n",
       "      <td>NaT</td>\n",
       "    </tr>\n",
       "    <tr>\n",
       "      <th>3</th>\n",
       "      <td>58839507</td>\n",
       "      <td>Smita Thackeray</td>\n",
       "      <td>children</td>\n",
       "      <td>None</td>\n",
       "      <td>Rahul Thackeray &lt;ref&gt;{{cite web |title=Bollywo...</td>\n",
       "      <td>2018-10-21 13:21:34+00:00</td>\n",
       "      <td>2018-10-23 07:54:07+00:00</td>\n",
       "      <td>1 days 18:32:33</td>\n",
       "    </tr>\n",
       "    <tr>\n",
       "      <th>4</th>\n",
       "      <td>58839507</td>\n",
       "      <td>Smita Thackeray</td>\n",
       "      <td>parents</td>\n",
       "      <td>None</td>\n",
       "      <td>Madhukar Chitre &lt;br&gt; Kunda Chitre</td>\n",
       "      <td>2018-10-21 13:21:34+00:00</td>\n",
       "      <td>NaT</td>\n",
       "      <td>NaT</td>\n",
       "    </tr>\n",
       "    <tr>\n",
       "      <th>...</th>\n",
       "      <td>...</td>\n",
       "      <td>...</td>\n",
       "      <td>...</td>\n",
       "      <td>...</td>\n",
       "      <td>...</td>\n",
       "      <td>...</td>\n",
       "      <td>...</td>\n",
       "      <td>...</td>\n",
       "    </tr>\n",
       "    <tr>\n",
       "      <th>15500755</th>\n",
       "      <td>4159282</td>\n",
       "      <td>Spotswood (film)</td>\n",
       "      <td>released</td>\n",
       "      <td>{{flagicon|Australia}} 23 January 1992</td>\n",
       "      <td>{{Film date|1992|01|23|df=y}}</td>\n",
       "      <td>2016-01-15 05:27:55+00:00</td>\n",
       "      <td>NaT</td>\n",
       "      <td>NaT</td>\n",
       "    </tr>\n",
       "    <tr>\n",
       "      <th>15500756</th>\n",
       "      <td>4159282</td>\n",
       "      <td>Spotswood (film)</td>\n",
       "      <td>starring</td>\n",
       "      <td>[[Anthony Hopkins]]&lt;br&gt;[[Ben Mendelsohn]]&lt;br&gt;[...</td>\n",
       "      <td>{{plainlist|\\n* [[Anthony Hopkins]]\\n* [[Ben M...</td>\n",
       "      <td>2016-07-05 13:50:53+00:00</td>\n",
       "      <td>NaT</td>\n",
       "      <td>NaT</td>\n",
       "    </tr>\n",
       "    <tr>\n",
       "      <th>15500757</th>\n",
       "      <td>4159282</td>\n",
       "      <td>Spotswood (film)</td>\n",
       "      <td>writer</td>\n",
       "      <td>Max Dann, [[Andrew Knight (writer)|Andrew Knig...</td>\n",
       "      <td>Max Dann&lt;br&gt;[[Andrew Knight (writer)|Andrew Kn...</td>\n",
       "      <td>2016-12-01 22:38:40+00:00</td>\n",
       "      <td>NaT</td>\n",
       "      <td>NaT</td>\n",
       "    </tr>\n",
       "    <tr>\n",
       "      <th>15500758</th>\n",
       "      <td>4159282</td>\n",
       "      <td>Spotswood (film)</td>\n",
       "      <td>distributor</td>\n",
       "      <td></td>\n",
       "      <td>[[Miramax]]</td>\n",
       "      <td>2017-08-14 08:13:00+00:00</td>\n",
       "      <td>NaT</td>\n",
       "      <td>NaT</td>\n",
       "    </tr>\n",
       "    <tr>\n",
       "      <th>15500759</th>\n",
       "      <td>4159282</td>\n",
       "      <td>Spotswood (film)</td>\n",
       "      <td>studio</td>\n",
       "      <td>None</td>\n",
       "      <td>[[The Australian Film Commission]], [[Australi...</td>\n",
       "      <td>2017-08-14 08:13:00+00:00</td>\n",
       "      <td>NaT</td>\n",
       "      <td>NaT</td>\n",
       "    </tr>\n",
       "  </tbody>\n",
       "</table>\n",
       "<p>15500760 rows × 8 columns</p>\n",
       "</div>"
      ],
      "text/plain": [
       "           subject             title         name  \\\n",
       "0         58839507   Smita Thackeray        image   \n",
       "1         58839507   Smita Thackeray  birth_place   \n",
       "2         58839507   Smita Thackeray  nationality   \n",
       "3         58839507   Smita Thackeray     children   \n",
       "4         58839507   Smita Thackeray      parents   \n",
       "...            ...               ...          ...   \n",
       "15500755   4159282  Spotswood (film)     released   \n",
       "15500756   4159282  Spotswood (film)     starring   \n",
       "15500757   4159282  Spotswood (film)       writer   \n",
       "15500758   4159282  Spotswood (film)  distributor   \n",
       "15500759   4159282  Spotswood (film)       studio   \n",
       "\n",
       "                                             previous_value  \\\n",
       "0                                                      None   \n",
       "1                                                      None   \n",
       "2                                                      None   \n",
       "3                                                      None   \n",
       "4                                                      None   \n",
       "...                                                     ...   \n",
       "15500755             {{flagicon|Australia}} 23 January 1992   \n",
       "15500756  [[Anthony Hopkins]]<br>[[Ben Mendelsohn]]<br>[...   \n",
       "15500757  Max Dann, [[Andrew Knight (writer)|Andrew Knig...   \n",
       "15500758                                                      \n",
       "15500759                                               None   \n",
       "\n",
       "                                              current_value  \\\n",
       "0                                       Smita Thackeray.jpg   \n",
       "1                    [[Mumbai]], [[Maharashtra]], [[India]]   \n",
       "2                                                [[India]]n   \n",
       "3         Rahul Thackeray <ref>{{cite web |title=Bollywo...   \n",
       "4                         Madhukar Chitre <br> Kunda Chitre   \n",
       "...                                                     ...   \n",
       "15500755                      {{Film date|1992|01|23|df=y}}   \n",
       "15500756  {{plainlist|\\n* [[Anthony Hopkins]]\\n* [[Ben M...   \n",
       "15500757  Max Dann<br>[[Andrew Knight (writer)|Andrew Kn...   \n",
       "15500758                                        [[Miramax]]   \n",
       "15500759  [[The Australian Film Commission]], [[Australi...   \n",
       "\n",
       "                        valid_from                  valid_to       valid_time  \n",
       "0        2018-10-21 13:21:34+00:00 2018-12-26 19:56:22+00:00 66 days 06:34:48  \n",
       "1        2018-10-21 13:21:34+00:00                       NaT              NaT  \n",
       "2        2018-10-21 13:21:34+00:00                       NaT              NaT  \n",
       "3        2018-10-21 13:21:34+00:00 2018-10-23 07:54:07+00:00  1 days 18:32:33  \n",
       "4        2018-10-21 13:21:34+00:00                       NaT              NaT  \n",
       "...                            ...                       ...              ...  \n",
       "15500755 2016-01-15 05:27:55+00:00                       NaT              NaT  \n",
       "15500756 2016-07-05 13:50:53+00:00                       NaT              NaT  \n",
       "15500757 2016-12-01 22:38:40+00:00                       NaT              NaT  \n",
       "15500758 2017-08-14 08:13:00+00:00                       NaT              NaT  \n",
       "15500759 2017-08-14 08:13:00+00:00                       NaT              NaT  \n",
       "\n",
       "[15500760 rows x 8 columns]"
      ]
     },
     "execution_count": 7,
     "metadata": {},
     "output_type": "execute_result"
    }
   ],
   "source": [
    "data"
   ]
  },
  {
   "cell_type": "code",
   "execution_count": 22,
   "id": "8474d1c2-2b36-4199-af71-5a3d421fd983",
   "metadata": {},
   "outputs": [
    {
     "data": {
      "text/plain": [
       "Text(0, 0.5, 'Valid time, log')"
      ]
     },
     "execution_count": 22,
     "metadata": {},
     "output_type": "execute_result"
    },
    {
     "data": {
      "image/png": "[encoded data removed]",
      "text/plain": [
       "<Figure size 432x288 with 1 Axes>"
      ]
     },
     "metadata": {
      "needs_background": "light"
     },
     "output_type": "display_data"
    }
   ],
   "source": [
    "valid_times = data['valid_time'][data['valid_time'].notnull()].to_numpy().astype('int64')\n",
    "plt.hist(valid_times, bins=100)\n",
    "plt.yscale('log')\n",
    "plt.title(\"Number of changes per page\")\n",
    "plt.ylabel(\"Valid time, log\")"
   ]
  },
  {
   "cell_type": "code",
   "execution_count": null,
   "id": "e7d5b8ae-72e5-44e3-9405-2f97a6a486f4",
   "metadata": {},
   "outputs": [],
   "source": [
    "counted_changes = {}\n",
    "for archive_path in tqdm(input_files):\n",
    "    with libarchive.public.file_reader(str(archive_path)) as archive:\n",
    "        for entry in archive:\n",
    "            content_bytes = bytearray('', encoding='utf_8')\n",
    "            for block in entry.get_blocks():\n",
    "                content_bytes += block\n",
    "            content = content_bytes.decode(encoding='utf_8')\n",
    "            jsonObjs = content.split('\\n')\n",
    "            for jsonObj in filter(lambda x: x, jsonObjs):\n",
    "                obj = json.loads(jsonObj)\n",
    "                subject = obj['pageTitle']\n",
    "                changes = obj['changes']\n",
    "                timestamp = obj['validFrom']\n",
    "                if subject not in counted_changes.keys():\n",
    "                    counted_changes[subject] = {}\n",
    "                curr_counted_changes = counted_changes[subject]\n",
    "                for change in changes:\n",
    "                    name = change['property']['name']\n",
    "                    curr_counted_changes[name] = curr_counted_changes[name] + 1 if name in curr_counted_changes.keys() else 1"
   ]
  },
  {
   "cell_type": "code",
   "execution_count": null,
   "id": "a3a31ca3-e29b-488e-bda6-0aaeeeaa717e",
   "metadata": {},
   "outputs": [],
   "source": [
    "change_tuples = []\n",
    "for archive_path in tqdm(partial_input_files):\n",
    "    with libarchive.public.file_reader(str(archive_path)) as archive:\n",
    "        for entry in archive:\n",
    "            content_bytes = bytearray('', encoding='utf_8')\n",
    "            for block in entry.get_blocks():\n",
    "                content_bytes += block\n",
    "            content = content_bytes.decode(encoding='utf_8')\n",
    "            jsonObjs = content.split('\\n')\n",
    "            for jsonObj in filter(lambda x: x, jsonObjs):\n",
    "                obj = json.loads(jsonObj)\n",
    "                subject = obj['pageTitle']\n",
    "                changes = obj['changes']\n",
    "                timestamp = obj['validFrom']\n",
    "                for change in changes:\n",
    "                    current_value = change['currentValue'] if 'currentValue' in change.keys() else None\n",
    "                    previous_value = change['previousValue'] if 'previousValue' in change.keys() else None\n",
    "                    name = change['property']['name']\n",
    "                    change_tuples.append((subject, name, previous_value, current_value, timestamp))"
   ]
  },
  {
   "cell_type": "code",
   "execution_count": null,
   "id": "8811408a",
   "metadata": {},
   "outputs": [
    {
     "ename": "NameError",
     "evalue": "name 'files' is not defined",
     "output_type": "error",
     "traceback": [
      "\u001b[0;31m---------------------------------------------------------------------------\u001b[0m",
      "\u001b[0;31mNameError\u001b[0m                                 Traceback (most recent call last)",
      "\u001b[0;32m<ipython-input-7-ad7960fb4de9>\u001b[0m in \u001b[0;36m<module>\u001b[0;34m\u001b[0m\n\u001b[1;32m      1\u001b[0m \u001b[0mnum_edits\u001b[0m \u001b[0;34m=\u001b[0m \u001b[0;36m0\u001b[0m\u001b[0;34m\u001b[0m\u001b[0;34m\u001b[0m\u001b[0m\n\u001b[1;32m      2\u001b[0m \u001b[0mchange_tuples\u001b[0m \u001b[0;34m=\u001b[0m \u001b[0;34m[\u001b[0m\u001b[0;34m]\u001b[0m\u001b[0;34m\u001b[0m\u001b[0;34m\u001b[0m\u001b[0m\n\u001b[0;32m----> 3\u001b[0;31m \u001b[0;32mfor\u001b[0m \u001b[0mfile\u001b[0m \u001b[0;32min\u001b[0m \u001b[0mtqdm\u001b[0m\u001b[0;34m(\u001b[0m\u001b[0mfiles\u001b[0m\u001b[0;34m[\u001b[0m\u001b[0;34m:\u001b[0m\u001b[0;36m50\u001b[0m\u001b[0;34m]\u001b[0m\u001b[0;34m)\u001b[0m\u001b[0;34m:\u001b[0m\u001b[0;34m\u001b[0m\u001b[0;34m\u001b[0m\u001b[0m\n\u001b[0m\u001b[1;32m      4\u001b[0m     \u001b[0;32mwith\u001b[0m \u001b[0mopen\u001b[0m\u001b[0;34m(\u001b[0m\u001b[0mfile\u001b[0m\u001b[0;34m,\u001b[0m \u001b[0;34m'r'\u001b[0m\u001b[0;34m,\u001b[0m \u001b[0mencoding\u001b[0m\u001b[0;34m=\u001b[0m\u001b[0;34m'utf-8'\u001b[0m\u001b[0;34m)\u001b[0m \u001b[0;32mas\u001b[0m \u001b[0mf\u001b[0m\u001b[0;34m:\u001b[0m\u001b[0;34m\u001b[0m\u001b[0;34m\u001b[0m\u001b[0m\n\u001b[1;32m      5\u001b[0m         \u001b[0;32mfor\u001b[0m \u001b[0mjsonObj\u001b[0m \u001b[0;32min\u001b[0m \u001b[0mf\u001b[0m\u001b[0;34m:\u001b[0m\u001b[0;34m\u001b[0m\u001b[0;34m\u001b[0m\u001b[0m\n",
      "\u001b[0;31mNameError\u001b[0m: name 'files' is not defined"
     ]
    }
   ],
   "source": [
    "num_edits = 0\n",
    "change_tuples = []\n",
    "for file in tqdm(files[:50]):\n",
    "    with open(file, 'r', encoding='utf-8') as f:\n",
    "        for jsonObj in f:\n",
    "            single_edit = json.loads(jsonObj)\n",
    "            num_edits += 1\n",
    "            #entries.append(single_edit)\n",
    "            title = single_edit['pageTitle']\n",
    "            changes = single_edit['changes']\n",
    "            timestamp = single_edit['validFrom']\n",
    "            for change in changes:\n",
    "                name = change['property']['name']\n",
    "                current_value = change['currentValue'] if 'currentValue' in change.keys() else None\n",
    "                previous_value = change['previousValue'] if 'previousValue' in change.keys() else None\n",
    "                change_tuples.append((title, name, previous_value, current_value, timestamp))\n",
    "print(num_edits) # 1934309 for 50\n",
    "len(change_tuples) # 9715201 for 50"
   ]
  },
  {
   "cell_type": "code",
   "execution_count": null,
   "id": "5bd38918-fd8e-44de-be9e-86c4b2fb0cba",
   "metadata": {},
   "outputs": [],
   "source": [
    "# Analyse Size of Changes"
   ]
  },
  {
   "cell_type": "code",
   "execution_count": 5,
   "id": "8e92f747-3065-4edd-b2b4-d67c4e95f371",
   "metadata": {
    "tags": []
   },
   "outputs": [],
   "source": [
    "# SAVE change tuples partially on disk.\n",
    "num_iterations = 100 // PERCENTAGE\n",
    "for i in range(num_iterations):\n",
    "    partial_input_files = partial_input_files = input_files[int(len(input_files) / num_iterations * i): int(len(input_files) / num_iterations * (i + 1))]\n",
    "    print(f'reading {int(len(input_files) / num_iterations * i)} to {int(len(input_files) / num_iterations * (i + 1))}')\n",
    "    change_tuples = []\n",
    "    for archive_path in tqdm(partial_input_files):\n",
    "        with libarchive.public.file_reader(str(archive_path)) as archive:\n",
    "            for entry in archive:\n",
    "                content_bytes = bytearray('', encoding='utf_8')\n",
    "                for block in entry.get_blocks():\n",
    "                    content_bytes += block\n",
    "                content = content_bytes.decode(encoding='utf_8')\n",
    "                jsonObjs = content.split('\\n')\n",
    "                for jsonObj in filter(lambda x: x, jsonObjs):\n",
    "                    obj = json.loads(jsonObj)\n",
    "                    title = obj['pageTitle']\n",
    "                    subject = obj['pageID']\n",
    "                    changes = obj['changes']\n",
    "                    valid_from = obj['validFrom']\n",
    "                    for change in changes:\n",
    "                        current_value = change['currentValue'] if 'currentValue' in change.keys() else None\n",
    "                        previous_value = change['previousValue'] if 'previousValue' in change.keys() else None\n",
    "                        name = change['property']['name']\n",
    "                        valid_to = change['valueValidTo'] if 'valueValidTo' in change.keys() else None\n",
    "                        change_tuples.append((subject, title, name, previous_value, current_value, valid_from, valid_to))\n",
    "    \n",
    "    print('writing file')\n",
    "    with open(f'../../../data/raw_change_tuples/partial_change_tuples_part_{i}.pickle', 'wb') as file:\n",
    "        pickle.dump(change_tuples, file)\n",
    "    print('successfully wrote file')ta/raw_change_tuples/partial_change_tuples_part_{0}.pickle', 'rb') as file:\n",
    "        change_tuples = pickle.load(file)"
   ]
  },
  {
   "cell_type": "code",
   "execution_count": 6,
   "id": "63c6df1c",
   "metadata": {
    "tags": []
   },
   "outputs": [],
   "source": [
    "data = pd.DataFrame(change_tuples, columns=['subject', 'title', 'name', 'previous_value', 'current_value', 'valid_from', 'valid_to'])\n",
    "del change_tuples\n",
    "data['valid_from'] = pd.to_datetime(data['valid_from'])\n",
    "data['valid_to'] = pd.to_datetime(data['valid_to'])\n",
    "data['valid_time'] = data['valid_to'] - data['valid_from']\n",
    "data['valid_time'] = data['valid_time'] / np.timedelta64(1, 's')\n"
   ]
  },
  {
   "cell_type": "code",
   "execution_count": 7,
   "id": "b1c1c57d-1c13-4c1e-9ac8-939cbcf36964",
   "metadata": {
    "tags": []
   },
   "outputs": [],
   "source": [
    "del data['title']\n",
    "del data['name']\n",
    "del data['valid_from']\n",
    "del data['valid_to']"
   ]
  },
  {
   "cell_type": "code",
   "execution_count": 8,
   "id": "525721e6-f1e0-46e7-948b-300491830a3e",
   "metadata": {},
   "outputs": [],
   "source": [
    "# data['change_size'] = data[['previous_value', 'current_value']].agg(lambda x:print(x.__class__), axis=1)\n",
    "data['change_size'] = data['previous_value'].combine(data['current_value'], lambda x, y: Levenshtein.distance(x, y) if x and y else None, fill_value=None)"
   ]
  },
  {
   "cell_type": "code",
   "execution_count": 10,
   "id": "605575fa-aead-4201-929e-5507a62a250c",
   "metadata": {
    "tags": []
   },
   "outputs": [],
   "source": [
    "data.sort_values(by=['valid_time'], inplace=True)"
   ]
  },
  {
   "cell_type": "code",
   "execution_count": 11,
   "id": "64753704-2cd0-4f06-847b-45c6942fd435",
   "metadata": {
    "tags": []
   },
   "outputs": [],
   "source": [
    "def seconds_to_day(sec):\n",
    "    return sec / (60 * 60 * 24)\n",
    "\n",
    "def day_to_seconds(sec):\n",
    "    return sec * (60 * 60 * 24)"
   ]
  },
  {
   "cell_type": "code",
   "execution_count": 12,
   "id": "1ecee6ef-5686-4d05-bfb5-040e38b721b6",
   "metadata": {},
   "outputs": [
    {
     "data": {
      "text/plain": [
       "(0.0, 5394.290543981481, 474.5231526381266, 859.7989578742371)"
      ]
     },
     "execution_count": 12,
     "metadata": {},
     "output_type": "execute_result"
    }
   ],
   "source": [
    "valid_time = seconds_to_day(data['valid_time'].dropna().to_numpy())\n",
    "valid_time.min(), valid_time.max(), valid_time.mean(), valid_time.std()"
   ]
  },
  {
   "cell_type": "code",
   "execution_count": 20,
   "id": "0f8dd7f2-8bdf-494e-a803-9c85cc8848a8",
   "metadata": {
    "tags": []
   },
   "outputs": [
    {
     "data": {
      "text/plain": [
       "Text(0, 0.5, '#Occurances, log')"
      ]
     },
     "execution_count": 20,
     "metadata": {},
     "output_type": "execute_result"
    },
    {
     "data": {
      "image/png": "[encoded data removed]",
      "text/plain": [
       "<Figure size 432x288 with 1 Axes>"
      ]
     },
     "metadata": {
      "needs_background": "light"
     },
     "output_type": "display_data"
    }
   ],
   "source": [
    "recent_changes = data[data['valid_time'] <= day_to_seconds(1)]\n",
    "plt.hist(recent_changes['change_size'].to_numpy(), bins=list(range(20)))\n",
    "plt.title(\"Size of changes (Levenshtein) for changes that held for less than a day\")\n",
    "plt.ylabel(\"#Occurances, log\")"
   ]
  },
  {
   "cell_type": "code",
   "execution_count": 19,
   "id": "f94c119b-10dd-4a8e-b111-07bbcb9f8474",
   "metadata": {
    "tags": []
   },
   "outputs": [
    {
     "data": {
      "text/html": [
       "<div>\n",
       "<style scoped>\n",
       "    .dataframe tbody tr th:only-of-type {\n",
       "        vertical-align: middle;\n",
       "    }\n",
       "\n",
       "    .dataframe tbody tr th {\n",
       "        vertical-align: top;\n",
       "    }\n",
       "\n",
       "    .dataframe thead th {\n",
       "        text-align: right;\n",
       "    }\n",
       "</style>\n",
       "<table border=\"1\" class=\"dataframe\">\n",
       "  <thead>\n",
       "    <tr style=\"text-align: right;\">\n",
       "      <th></th>\n",
       "      <th>subject</th>\n",
       "      <th>previous_value</th>\n",
       "      <th>current_value</th>\n",
       "      <th>valid_time</th>\n",
       "      <th>change_size</th>\n",
       "    </tr>\n",
       "  </thead>\n",
       "  <tbody>\n",
       "  </tbody>\n",
       "</table>\n",
       "</div>"
      ],
      "text/plain": [
       "Empty DataFrame\n",
       "Columns: [subject, previous_value, current_value, valid_time, change_size]\n",
       "Index: []"
      ]
     },
     "execution_count": 19,
     "metadata": {},
     "output_type": "execute_result"
    }
   ],
   "source": [
    "data[data['change_size'] <= 0]"
   ]
  },
  {
   "cell_type": "code",
   "execution_count": 21,
   "id": "2347aa40-ca8e-472b-8d34-6a938e06b818",
   "metadata": {
    "tags": []
   },
   "outputs": [
    {
     "data": {
      "text/plain": [
       "Text(0, 0.5, '#Occurances, log')"
      ]
     },
     "execution_count": 21,
     "metadata": {},
     "output_type": "execute_result"
    },
    {
     "data": {
      "image/png": "[encoded data removed]",
      "text/plain": [
       "<Figure size 432x288 with 1 Axes>"
      ]
     },
     "metadata": {
      "needs_background": "light"
     },
     "output_type": "display_data"
    }
   ],
   "source": [
    "recent_changes = data[data['valid_time'] >= day_to_seconds(356)]\n",
    "plt.hist(recent_changes['change_size'].to_numpy(), bins=list(range(100)))\n",
    "plt.title(\"Size of changes (Levenshtein) for changes that held at least a year\")\n",
    "plt.ylabel(\"#Occurances, log\")"
   ]
  },
  {
   "cell_type": "code",
   "execution_count": null,
   "id": "553ccf12-e63a-46e2-a405-28252a4339d6",
   "metadata": {
    "tags": []
   },
   "outputs": [],
   "source": [
    "# File Tests"
   ]
  },
  {
   "cell_type": "code",
   "execution_count": 5,
   "id": "ec68f0ce-77b3-4df9-bdbc-c3af7e6a3f61",
   "metadata": {},
   "outputs": [
    {
     "name": "stderr",
     "output_type": "stream",
     "text": [
      "100%|██████████| 586/586 [42:09<00:00,  4.32s/it] \n"
     ]
    },
    {
     "data": {
      "text/plain": [
       "{'attribute', 'meta'}"
      ]
     },
     "execution_count": 5,
     "metadata": {},
     "output_type": "execute_result"
    }
   ],
   "source": [
    "# Does ['property']['type'] have another value as 'attribute'\n",
    "types = set()\n",
    "for archive_path in tqdm(input_files):\n",
    "    with libarchive.public.file_reader(str(archive_path)) as archive:\n",
    "        for entry in archive:\n",
    "            content_bytes = bytearray('', encoding='utf_8')\n",
    "            for block in entry.get_blocks():\n",
    "                content_bytes += block\n",
    "            content = content_bytes.decode(encoding='utf_8')\n",
    "            jsonObjs = content.split('\\n')\n",
    "            for jsonObj in filter(lambda x: x, jsonObjs):\n",
    "                obj = json.loads(jsonObj)\n",
    "                changes = obj['changes']\n",
    "                for change in changes:\n",
    "                    prop_type = change['property']['type']\n",
    "                    types.add(prop_type)\n",
    "types"
   ]
  },
  {
   "cell_type": "code",
   "execution_count": null,
   "id": "ba6250db-a7a6-465b-b49c-6f9d61c1ef67",
   "metadata": {
    "tags": []
   },
   "outputs": [],
   "source": [
    "# How many numeric values\n",
    "numeric = 0\n",
    "string = 0\n",
    "numeric_to_string = 0\n",
    "string_to_numeric = 0\n",
    "for archive_path in tqdm(input_files):\n",
    "    with libarchive.public.file_reader(str(archive_path)) as archive:\n",
    "        for entry in archive:\n",
    "            content_bytes = bytearray('', encoding='utf_8')\n",
    "            for block in entry.get_blocks():\n",
    "                content_bytes += block\n",
    "            content = content_bytes.decode(encoding='utf_8')\n",
    "            jsonObjs = content.split('\\n')\n",
    "            for jsonObj in filter(lambda x: x, jsonObjs):\n",
    "                obj = json.loads(jsonObj)\n",
    "                changes = obj['changes']\n",
    "                for change in changes:\n",
    "                    curr_val_number = None\n",
    "                    prev_val_number = None\n",
    "                    if 'previousValue' in change:\n",
    "                        try:\n",
    "                            float(change['previousValue'])\n",
    "                            prev_val_number = True\n",
    "                        except ValueError:\n",
    "                            prev_val_number = False\n",
    "                    if 'currentValue' in change:iterate\n",
    "                        try:\n",
    "                            float(change['currentValue'])\n",
    "                            curr_val_number = True\n",
    "                        except ValueError:\n",
    "                            curr_val_number = False\n",
    "                    if curr_val_number is not None:\n",
    "                        numeric += int(curr_val_number)\n",
    "                        string += int(not curr_val_number)\n",
    "                        if prev_val_number is not None:\n",
    "                            if curr_val_number and not prev_val_number:\n",
    "                                string_to_numeric += 1\n",
    "                            if not curr_val_number and prev_val_number:\n",
    "                                numeric_to_string += 1\n",
    "                                    \n",
    "print(f'numeric: {numeric} \\t\\t % {numeric / (numeric + string)}')\n",
    "print(f'string: {string} \\t\\t % {string / (numeric + string)}')\n",
    "print('\\n\\nType Changes\\n\\n')\n",
    "print(f'numeric to string: {numeric_to_string} \\t\\t % {numeric_to_string / (numeric + string)}')\n",
    "print(f'string to numeric: {string_to_numeric} \\t\\t % {string_to_numeric / (numeric + string)}')"
   ]
  },
  {
   "cell_type": "code",
   "execution_count": null,
   "id": "0c52da6f-8159-428d-8faa-963e98403b4c",
   "metadata": {
    "tags": []
   },
   "outputs": [],
   "source": [
    "# Analyse bot reverts"
   ]
  },
  {
   "cell_type": "code",
   "execution_count": 5,
   "id": "0dee5f0b-e082-497f-bd6f-dd96b1e1aa06",
   "metadata": {
    "tags": []
   },
   "outputs": [
    {
     "name": "stderr",
     "output_type": "stream",
     "text": [
      "100%|██████████| 29/29 [02:36<00:00,  5.40s/it]\n"
     ]
    },
    {
     "name": "stdout",
     "output_type": "stream",
     "text": [
      "writing file\n"
     ]
    }
   ],
   "source": [
    "partial_input_files = partial_input_files = input_files[: int(len(input_files) * (PERCENTAGE / 100))]\n",
    "change_tuples = []\n",
    "for archive_path in tqdm(partial_input_files):\n",
    "    with libarchive.public.file_reader(str(archive_path)) as archive:\n",
    "        for entry in archive:\n",
    "            content_bytes = bytearray('', encoding='utf_8')\n",
    "            for block in entry.get_blocks():\n",
    "                content_bytes += block\n",
    "            content = content_bytes.decode(encoding='utf_8')\n",
    "            jsonObjs = content.split('\\n')\n",
    "            for jsonObj in filter(lambda x: x, jsonObjs):\n",
    "                obj = json.loads(jsonObj)\n",
    "                key = obj['key']\n",
    "                revisionID = obj['revisionId']\n",
    "                valid_from = obj['validFrom']\n",
    "                changes = obj['changes']\n",
    "                for change in changes:\n",
    "                    current_value = change['currentValue'] if 'currentValue' in change.keys() else None\n",
    "                    previous_value = change['previousValue'] if 'previousValue' in change.keys() else None\n",
    "                    name = change['property']['name']\n",
    "                    valid_to = change['valueValidTo'] if 'valueValidTo' in change.keys() else None\n",
    "                    change_tuples.append((key, revisionID, name, previous_value, current_value, valid_from, valid_to))\n",
    "\n",
    "print('writing file')\n",
    "with open(f'../../../data/raw_change_tuples/partial_change_tuples_part_key_{0}.pickle', 'wb') as file:\n",
    "    pickle.dump(change_tuples, file)"
   ]
  },
  {
   "cell_type": "code",
   "execution_count": 5,
   "id": "e4793719-b99e-4d28-974b-5e458954fe27",
   "metadata": {
    "tags": []
   },
   "outputs": [],
   "source": [
    "with open(f'../../../data/raw_change_tuples/partial_change_tuples_part_key_{0}.pickle', 'rb') as file:\n",
    "        change_tuples = pickle.load(file)"
   ]
  },
  {
   "cell_type": "code",
   "execution_count": 6,
   "id": "ab6d3133-ae7d-43e9-b512-11b73f62de5a",
   "metadata": {
    "tags": []
   },
   "outputs": [],
   "source": [
    "data = pd.DataFrame(change_tuples, columns=['key', 'revisionId', 'name', 'previous_value', 'current_value', 'valid_from', 'valid_to'])\n",
    "del change_tuples\n",
    "data['valid_from'] = pd.to_datetime(data['valid_from'])\n",
    "data['valid_to'] = pd.to_datetime(data['valid_to'])\n",
    "data['valid_time'] = data['valid_to'] - data['valid_from']\n",
    "data['valid_time'] = data['valid_time'] / np.timedelta64(1, 's')"
   ]
  },
  {
   "cell_type": "code",
   "execution_count": null,
   "id": "ebe1cdb5-81e2-43a3-94d1-e9b27ea5e2ed",
   "metadata": {
    "tags": []
   },
   "outputs": [],
   "source": [
    "groups = data.groupby(by=['key', 'revisionId', 'name'])\n",
    "groups.filter(lambda x: x.shape[0] > 1)"
   ]
  },
  {
   "cell_type": "code",
   "execution_count": null,
   "id": "cd0f5aeb-5166-4b20-bfab-a0a05a2bc567",
   "metadata": {},
   "outputs": [],
   "source": []
  },
  {
   "cell_type": "code",
   "execution_count": null,
   "id": "bf8eed5c-b4fe-4ecc-b491-068634bc99e1",
   "metadata": {},
   "outputs": [],
   "source": [
    "for key, values in list(groups.groups.iteritems())[:20]:\n",
    "    print(df.ix[values], \"\\n\\n\")"
   ]
  },
  {
   "cell_type": "code",
   "execution_count": null,
   "id": "e4b8ba49-93fb-4e23-bf6c-9d499bd28a68",
   "metadata": {
    "tags": []
   },
   "outputs": [],
   "source": [
    "groups.describe()"
   ]
  },
  {
   "cell_type": "code",
   "execution_count": null,
   "id": "98e272f2-2182-4a18-be66-7b955f30a09d",
   "metadata": {},
   "outputs": [],
   "source": [
    "# Analyse Creations and Deletions"
   ]
  },
  {
   "cell_type": "code",
   "execution_count": 6,
   "id": "a209e50f-8db1-471c-a448-2bd3c9888fed",
   "metadata": {},
   "outputs": [],
   "source": [
    "with open(input_folder.joinpath('change_sizes.pickle'), 'rb') as file:\n",
    "    change_sizes = pickle.load(file)"
   ]
  },
  {
   "cell_type": "code",
   "execution_count": 14,
   "id": "30905706-7bb1-41a2-bed8-b5e84ad8f779",
   "metadata": {
    "tags": []
   },
   "outputs": [
    {
     "data": {
      "text/plain": [
       "Text(0, 0.5, '#Occurances')"
      ]
     },
     "execution_count": 14,
     "metadata": {},
     "output_type": "execute_result"
    },
    {
     "data": {
      "image/png": "[encoded data removed]",
      "text/plain": [
       "<Figure size 432x288 with 1 Axes>"
      ]
     },
     "metadata": {
      "needs_background": "light"
     },
     "output_type": "display_data"
    }
   ],
   "source": [
    "change_sizes = np.array(change_sizes)\n",
    "plt.hist(np.array(change_sizes), bins=list(range(100)))\n",
    "#plt.yscale('log')\n",
    "plt.title(\"Size of changes (Levenstein Distance)\")\n",
    "plt.ylabel(\"#Occurances\")"
   ]
  },
  {
   "cell_type": "code",
   "execution_count": 15,
   "id": "e05105f9-40ef-47dc-9c73-ac10c91fbeed",
   "metadata": {},
   "outputs": [
    {
     "data": {
      "text/plain": [
       "(1, 1371692, 25.681415443426022, 744.5005279287761)"
      ]
     },
     "execution_count": 15,
     "metadata": {},
     "output_type": "execute_result"
    }
   ],
   "source": [
    "change_sizes.min(), change_sizes.max(), change_sizes.mean(), change_sizes.std()"
   ]
  },
  {
   "cell_type": "markdown",
   "id": "2776df3d",
   "metadata": {
    "tags": []
   },
   "source": [
    "# Analyse changes"
   ]
  },
  {
   "cell_type": "code",
   "execution_count": 30,
   "id": "00c34c4b",
   "metadata": {
    "tags": []
   },
   "outputs": [
    {
     "data": {
      "text/plain": [
       "Text(0, 0.5, '#Occurances, log')"
      ]
     },
     "execution_count": 30,
     "metadata": {},
     "output_type": "execute_result"
    },
    {
     "data": {
      "image/png": "[encoded data removed]",
      "text/plain": [
       "<Figure size 432x288 with 1 Axes>"
      ]
     },
     "metadata": {
      "needs_background": "light"
     },
     "output_type": "display_data"
    }
   ],
   "source": [
    "changes_per_page = data.groupby(['title'])['timestamp'].count()\n",
    "plt.hist(changes_per_page.to_numpy(), bins=100)\n",
    "plt.yscale('log')\n",
    "plt.title(\"Number of changes per page\")\n",
    "plt.ylabel(\"#Occurances, log\")"
   ]
  },
  {
   "cell_type": "code",
   "execution_count": 31,
   "id": "23a2e906",
   "metadata": {},
   "outputs": [
    {
     "data": {
      "text/plain": [
       "Text(0, 0.5, '#Occurances, log')"
      ]
     },
     "execution_count": 31,
     "metadata": {},
     "output_type": "execute_result"
    },
    {
     "data": {
      "image/png": "[encoded data removed]",
      "text/plain": [
       "<Figure size 432x288 with 1 Axes>"
      ]
     },
     "metadata": {
      "needs_background": "light"
     },
     "output_type": "display_data"
    }
   ],
   "source": [
    "changes_per_attribute = data.groupby(['title', 'name'])['timestamp'].count()\n",
    "plt.hist(changes_per_attribute.to_numpy(), bins=100)\n",
    "plt.yscale('log')\n",
    "plt.title(\"Number of changes per attribute\")\n",
    "plt.ylabel(\"#Occurances, log\")"
   ]
  },
  {
   "cell_type": "code",
   "execution_count": 53,
   "id": "770da641",
   "metadata": {},
   "outputs": [],
   "source": [
    "data_with_agg = data.join(changes_per_page, on='title', rsuffix='_r').rename(columns={'timestamp_r': 'changes_per_page'})\n",
    "data_with_agg = data_with_agg.join(changes_per_attribute, on=['title', 'name'], rsuffix='_r').rename(columns={'timestamp_r': 'changes_per_attribute'})"
   ]
  },
  {
   "cell_type": "code",
   "execution_count": 54,
   "id": "67aa5e3f",
   "metadata": {},
   "outputs": [
    {
     "data": {
      "text/html": [
       "<div>\n",
       "<style scoped>\n",
       "    .dataframe tbody tr th:only-of-type {\n",
       "        vertical-align: middle;\n",
       "    }\n",
       "\n",
       "    .dataframe tbody tr th {\n",
       "        vertical-align: top;\n",
       "    }\n",
       "\n",
       "    .dataframe thead th {\n",
       "        text-align: right;\n",
       "    }\n",
       "</style>\n",
       "<table border=\"1\" class=\"dataframe\">\n",
       "  <thead>\n",
       "    <tr style=\"text-align: right;\">\n",
       "      <th></th>\n",
       "      <th>title</th>\n",
       "      <th>name</th>\n",
       "      <th>previous_value</th>\n",
       "      <th>current_value</th>\n",
       "      <th>timestamp</th>\n",
       "      <th>changes_per_page</th>\n",
       "      <th>changes_per_attribute</th>\n",
       "    </tr>\n",
       "  </thead>\n",
       "  <tbody>\n",
       "    <tr>\n",
       "      <th>7774519</th>\n",
       "      <td>OS/390</td>\n",
       "      <td>version of</td>\n",
       "      <td>None</td>\n",
       "      <td></td>\n",
       "      <td>2019-06-20 11:30:14+00:00</td>\n",
       "      <td>40</td>\n",
       "      <td>1</td>\n",
       "    </tr>\n",
       "    <tr>\n",
       "      <th>2757766</th>\n",
       "      <td>Abu al-Faraj al-Isfahani</td>\n",
       "      <td>education</td>\n",
       "      <td>None</td>\n",
       "      <td></td>\n",
       "      <td>2015-11-02 20:29:31+00:00</td>\n",
       "      <td>50</td>\n",
       "      <td>1</td>\n",
       "    </tr>\n",
       "    <tr>\n",
       "      <th>3814937</th>\n",
       "      <td>Pope Honorius I</td>\n",
       "      <td>caption</td>\n",
       "      <td>None</td>\n",
       "      <td>Mosaic of Pope Honorius I - Sant'Agnese fuori ...</td>\n",
       "      <td>2017-10-27 03:37:11+00:00</td>\n",
       "      <td>66</td>\n",
       "      <td>1</td>\n",
       "    </tr>\n",
       "    <tr>\n",
       "      <th>2757765</th>\n",
       "      <td>Abu al-Faraj al-Isfahani</td>\n",
       "      <td>doctoral_advisor</td>\n",
       "      <td>None</td>\n",
       "      <td></td>\n",
       "      <td>2015-11-02 20:29:31+00:00</td>\n",
       "      <td>50</td>\n",
       "      <td>1</td>\n",
       "    </tr>\n",
       "    <tr>\n",
       "      <th>2757764</th>\n",
       "      <td>Abu al-Faraj al-Isfahani</td>\n",
       "      <td>thesis_title</td>\n",
       "      <td>None</td>\n",
       "      <td></td>\n",
       "      <td>2015-11-02 20:29:31+00:00</td>\n",
       "      <td>50</td>\n",
       "      <td>1</td>\n",
       "    </tr>\n",
       "    <tr>\n",
       "      <th>...</th>\n",
       "      <td>...</td>\n",
       "      <td>...</td>\n",
       "      <td>...</td>\n",
       "      <td>...</td>\n",
       "      <td>...</td>\n",
       "      <td>...</td>\n",
       "      <td>...</td>\n",
       "    </tr>\n",
       "    <tr>\n",
       "      <th>4608475</th>\n",
       "      <td>System of a Down</td>\n",
       "      <td>genre</td>\n",
       "      <td>[[alternative metal]],[[avant-garde music|expe...</td>\n",
       "      <td>[[Rock music|Rock]], [[Heavy metal music|heavy...</td>\n",
       "      <td>2009-08-18 06:07:22+00:00</td>\n",
       "      <td>8886</td>\n",
       "      <td>2170</td>\n",
       "    </tr>\n",
       "    <tr>\n",
       "      <th>4608476</th>\n",
       "      <td>System of a Down</td>\n",
       "      <td>genre</td>\n",
       "      <td>[[Rock music|Rock]], [[Heavy metal music|heavy...</td>\n",
       "      <td>[[Alternative metal]], [[Experimental metal]]</td>\n",
       "      <td>2009-09-02 18:02:45+00:00</td>\n",
       "      <td>8886</td>\n",
       "      <td>2170</td>\n",
       "    </tr>\n",
       "    <tr>\n",
       "      <th>4608477</th>\n",
       "      <td>System of a Down</td>\n",
       "      <td>genre</td>\n",
       "      <td>[[Alternative metal]], [[Experimental metal]]</td>\n",
       "      <td>[[Alternative metal]], [[Experimental music|Ex...</td>\n",
       "      <td>2009-09-02 18:04:58+00:00</td>\n",
       "      <td>8886</td>\n",
       "      <td>2170</td>\n",
       "    </tr>\n",
       "    <tr>\n",
       "      <th>4608468</th>\n",
       "      <td>System of a Down</td>\n",
       "      <td>genre</td>\n",
       "      <td>[[Alternative metal]], [[Heavy metal music|hea...</td>\n",
       "      <td>[[Rock music|Rock]], [[Heavy metal music|heavy...</td>\n",
       "      <td>2009-08-09 18:40:15+00:00</td>\n",
       "      <td>8886</td>\n",
       "      <td>2170</td>\n",
       "    </tr>\n",
       "    <tr>\n",
       "      <th>4604283</th>\n",
       "      <td>System of a Down</td>\n",
       "      <td>genre</td>\n",
       "      <td>[[Hard rock]]&lt;ref name=AOL&gt;http://music.aol.co...</td>\n",
       "      <td>[[Experimental rock]]&lt;ref name=Pure Volume&gt;htt...</td>\n",
       "      <td>2007-04-06 22:26:30+00:00</td>\n",
       "      <td>8886</td>\n",
       "      <td>2170</td>\n",
       "    </tr>\n",
       "  </tbody>\n",
       "</table>\n",
       "<p>9715201 rows × 7 columns</p>\n",
       "</div>"
      ],
      "text/plain": [
       "                            title              name  \\\n",
       "7774519                    OS/390        version of   \n",
       "2757766  Abu al-Faraj al-Isfahani         education   \n",
       "3814937           Pope Honorius I           caption   \n",
       "2757765  Abu al-Faraj al-Isfahani  doctoral_advisor   \n",
       "2757764  Abu al-Faraj al-Isfahani      thesis_title   \n",
       "...                           ...               ...   \n",
       "4608475          System of a Down             genre   \n",
       "4608476          System of a Down             genre   \n",
       "4608477          System of a Down             genre   \n",
       "4608468          System of a Down             genre   \n",
       "4604283          System of a Down             genre   \n",
       "\n",
       "                                            previous_value  \\\n",
       "7774519                                               None   \n",
       "2757766                                               None   \n",
       "3814937                                               None   \n",
       "2757765                                               None   \n",
       "2757764                                               None   \n",
       "...                                                    ...   \n",
       "4608475  [[alternative metal]],[[avant-garde music|expe...   \n",
       "4608476  [[Rock music|Rock]], [[Heavy metal music|heavy...   \n",
       "4608477      [[Alternative metal]], [[Experimental metal]]   \n",
       "4608468  [[Alternative metal]], [[Heavy metal music|hea...   \n",
       "4604283  [[Hard rock]]<ref name=AOL>http://music.aol.co...   \n",
       "\n",
       "                                             current_value  \\\n",
       "7774519                                                      \n",
       "2757766                                                      \n",
       "3814937  Mosaic of Pope Honorius I - Sant'Agnese fuori ...   \n",
       "2757765                                                      \n",
       "2757764                                                      \n",
       "...                                                    ...   \n",
       "4608475  [[Rock music|Rock]], [[Heavy metal music|heavy...   \n",
       "4608476      [[Alternative metal]], [[Experimental metal]]   \n",
       "4608477  [[Alternative metal]], [[Experimental music|Ex...   \n",
       "4608468  [[Rock music|Rock]], [[Heavy metal music|heavy...   \n",
       "4604283  [[Experimental rock]]<ref name=Pure Volume>htt...   \n",
       "\n",
       "                        timestamp  changes_per_page  changes_per_attribute  \n",
       "7774519 2019-06-20 11:30:14+00:00                40                      1  \n",
       "2757766 2015-11-02 20:29:31+00:00                50                      1  \n",
       "3814937 2017-10-27 03:37:11+00:00                66                      1  \n",
       "2757765 2015-11-02 20:29:31+00:00                50                      1  \n",
       "2757764 2015-11-02 20:29:31+00:00                50                      1  \n",
       "...                           ...               ...                    ...  \n",
       "4608475 2009-08-18 06:07:22+00:00              8886                   2170  \n",
       "4608476 2009-09-02 18:02:45+00:00              8886                   2170  \n",
       "4608477 2009-09-02 18:04:58+00:00              8886                   2170  \n",
       "4608468 2009-08-09 18:40:15+00:00              8886                   2170  \n",
       "4604283 2007-04-06 22:26:30+00:00              8886                   2170  \n",
       "\n",
       "[9715201 rows x 7 columns]"
      ]
     },
     "execution_count": 54,
     "metadata": {},
     "output_type": "execute_result"
    }
   ],
   "source": [
    "data_with_agg.sort_values('changes_per_attribute')"
   ]
  },
  {
   "cell_type": "code",
   "execution_count": null,
   "id": "adb68c87",
   "metadata": {},
   "outputs": [],
   "source": []
  }
 ],
 "metadata": {
  "kernelspec": {
   "display_name": "Python 3",
   "language": "python",
   "name": "python3"
  },
  "language_info": {
   "codemirror_mode": {
    "name": "ipython",
    "version": 3
   },
   "file_extension": ".py",
   "mimetype": "text/x-python",
   "name": "python",
   "nbconvert_exporter": "python",
   "pygments_lexer": "ipython3",
   "version": "3.9.7"
  }
 },
 "nbformat": 4,
 "nbformat_minor": 5
}
