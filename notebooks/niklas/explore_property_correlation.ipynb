{
 "cells": [
  {
   "cell_type": "code",
   "execution_count": 1,
   "id": "36f32186",
   "metadata": {},
   "outputs": [],
   "source": [
    "%load_ext autoreload\n",
    "%autoreload 2"
   ]
  },
  {
   "cell_type": "code",
   "execution_count": 2,
   "id": "0788bfc9",
   "metadata": {},
   "outputs": [],
   "source": [
    "import itertools\n",
    "import json\n",
    "from pathlib import Path\n",
    "from datetime import timedelta, datetime\n",
    "from scipy.sparse import csr_matrix, vstack\n",
    "\n",
    "\n",
    "import numpy as np\n",
    "import pandas as pd\n",
    "from tqdm.auto import tqdm\n",
    "import matplotlib.pyplot as plt"
   ]
  },
  {
   "cell_type": "code",
   "execution_count": 3,
   "id": "0657a143",
   "metadata": {},
   "outputs": [
    {
     "data": {
      "text/plain": [
       "586"
      ]
     },
     "execution_count": 3,
     "metadata": {},
     "output_type": "execute_result"
    }
   ],
   "source": [
    "mp_drive_dir = Path(\"/media/hpi_share/\")#Path(\"//FS23/projekte$/MP2021/MPWS2021/MPWS2021FN1\")\n",
    "mp_plot_dir = mp_drive_dir / \"plots\"\n",
    "input_path = Path(\"../../../data\")\n",
    "input_data = list(input_path.rglob(\"*.json\"))\n",
    "files = [x for x in input_data if x.is_file()]\n",
    "len(files) # total 580"
   ]
  },
  {
   "cell_type": "code",
   "execution_count": 4,
   "id": "b2cbfc17",
   "metadata": {},
   "outputs": [
    {
     "data": {
      "application/vnd.jupyter.widget-view+json": {
       "model_id": "7ed2e8e900b14e6d8dac80ab1117b797",
       "version_major": 2,
       "version_minor": 0
      },
      "text/plain": [
       "  0%|          | 0/70 [00:00<?, ?it/s]"
      ]
     },
     "metadata": {},
     "output_type": "display_data"
    }
   ],
   "source": [
    "num_edits = 0\n",
    "change_tuples = []\n",
    "#np.random.seed(42)\n",
    "for file in tqdm(np.random.choice(files, 70, replace=False)):\n",
    "    with open(file, 'r', encoding='utf-8') as f:\n",
    "        for jsonObj in f:\n",
    "            single_edit = json.loads(jsonObj)\n",
    "            #entries.append(single_edit)\n",
    "            key = single_edit['key']\n",
    "            pid = single_edit['pageID']\n",
    "            user = single_edit['username'] if 'username' in single_edit.keys() else None\n",
    "            title = single_edit['pageTitle']#['key']\n",
    "            changes = single_edit['changes']\n",
    "            timestamp = single_edit['validFrom']\n",
    "            edit_type = single_edit['type']\n",
    "            for change in changes:\n",
    "                name = change['property']['name']\n",
    "                if 'currentValue' in change.keys() and 'previousValue' in change.keys():\n",
    "                    current_value = change['currentValue'] if 'currentValue' in change.keys() else None\n",
    "                    previous_value = change['previousValue'] if 'previousValue' in change.keys() else None\n",
    "                    if current_value != '' and previous_value != '':\n",
    "                        change_tuples.append((key, pid, title, user, name, previous_value, current_value, timestamp, edit_type))"
   ]
  },
  {
   "cell_type": "code",
   "execution_count": 5,
   "id": "c4f1e708",
   "metadata": {},
   "outputs": [],
   "source": [
    "data = pd.DataFrame(change_tuples, columns=['key', 'pageID', 'title', 'user','name', 'previous_value', 'current_value', 'timestamp', 'edit_type'])\n",
    "data['timestamp'] = pd.to_datetime(data['timestamp']).dt.tz_localize(None)"
   ]
  },
  {
   "cell_type": "code",
   "execution_count": 6,
   "id": "0f0f08db",
   "metadata": {},
   "outputs": [],
   "source": [
    "bins = pd.date_range(data['timestamp'].min().date(), data['timestamp'].max().date()+timedelta(1))\n",
    "total_days = len(bins)\n",
    "bins = pd.cut(data['timestamp'], bins, labels=False)\n",
    "data['bin_idx'] = bins"
   ]
  },
  {
   "cell_type": "code",
   "execution_count": 7,
   "id": "9d2d13ef",
   "metadata": {},
   "outputs": [],
   "source": [
    "def create_time_series(a, duration):\n",
    "    series = np.zeros(duration)\n",
    "    uniques, counts = np.unique(a, return_counts=True)\n",
    "    series[uniques] = counts\n",
    "    return csr_matrix(series)\n",
    "\n",
    "def create_bool_time_series(a, duration):\n",
    "    series = np.zeros(duration, dtype=bool)\n",
    "    uniques, counts = np.unique(a, return_counts=True)\n",
    "    series[uniques] = 1\n",
    "    return series"
   ]
  },
  {
   "cell_type": "code",
   "execution_count": 8,
   "id": "c7ffbf79-d627-49f9-bc41-884739eecc90",
   "metadata": {},
   "outputs": [
    {
     "name": "stdout",
     "output_type": "stream",
     "text": [
      "Num data points: 8002985\n"
     ]
    }
   ],
   "source": [
    "print(f\"Num data points: {len(data)}\")"
   ]
  },
  {
   "cell_type": "code",
   "execution_count": 9,
   "id": "63f398f4-c11f-4c3e-a6f5-a37082dcc78d",
   "metadata": {},
   "outputs": [],
   "source": [
    "num_required_changes = 10\n",
    "groups = data.groupby(['key', 'name'])\n",
    "min_support_groups = data[groups['bin_idx'].transform('count') > num_required_changes].groupby(['key', 'name'])"
   ]
  },
  {
   "cell_type": "code",
   "execution_count": 10,
   "id": "8310ba04",
   "metadata": {},
   "outputs": [
    {
     "name": "stdout",
     "output_type": "stream",
     "text": [
      "CPU times: user 38.6 s, sys: 177 ms, total: 38.8 s\n",
      "Wall time: 38.9 s\n"
     ]
    }
   ],
   "source": [
    "%%time\n",
    "min_support_groups = min_support_groups['bin_idx'].apply(create_time_series, duration=total_days)"
   ]
  },
  {
   "cell_type": "code",
   "execution_count": 11,
   "id": "4bee6f20-7772-4752-aa22-7af08fc4c10e",
   "metadata": {},
   "outputs": [
    {
     "name": "stdout",
     "output_type": "stream",
     "text": [
      "Number of properties: 2389174\n",
      "Len min support groups : 115486\n"
     ]
    }
   ],
   "source": [
    "print(f\"Number of properties: {len(groups)}\")\n",
    "group_index = min_support_groups.index\n",
    "#x = groups.loc[\"100593997-0\"].values\n",
    "x = vstack(min_support_groups.to_numpy())\n",
    "print(f\"Len min support groups : {x.shape[0]}\")\n",
    "#x = csr_matrix(x)"
   ]
  },
  {
   "cell_type": "markdown",
   "id": "ab6e5db3-9510-45ff-9001-fa03f58db0bf",
   "metadata": {},
   "source": [
    "## Nearest Neighbors\n",
    "Probably more suited than clustering methods"
   ]
  },
  {
   "cell_type": "code",
   "execution_count": 26,
   "id": "0a50ae4c-eaec-4f8a-9497-295f6b163f0e",
   "metadata": {},
   "outputs": [],
   "source": [
    "from sklearn.metrics import pairwise_distances"
   ]
  },
  {
   "cell_type": "code",
   "execution_count": 73,
   "id": "5f171332-0f49-4149-991e-156764842f25",
   "metadata": {},
   "outputs": [],
   "source": [
    "def percentage_eucledian(arr1, arr2):\n",
    "    arr1 = arr1.toarray()\n",
    "    arr2 = arr2.toarray()\n",
    "    return  np.sum(np.absolute(arr1 - arr2)) / max(arr1.sum(), arr2.sum())"
   ]
  },
  {
   "cell_type": "code",
   "execution_count": 67,
   "id": "ffc47c06-cf6a-42a2-bfce-615576aeafa7",
   "metadata": {},
   "outputs": [
    {
     "name": "stdout",
     "output_type": "stream",
     "text": [
      "186 µs ± 1.22 µs per loop (mean ± std. dev. of 7 runs, 10000 loops each)\n"
     ]
    }
   ],
   "source": [
    "%%timeit\n",
    "percentage_eucledian(x[312], x[311])"
   ]
  },
  {
   "cell_type": "code",
   "execution_count": 75,
   "id": "482ddd0c-4a24-4d54-b966-22e8cbc6b871",
   "metadata": {},
   "outputs": [
    {
     "name": "stdout",
     "output_type": "stream",
     "text": [
      "7.54 ms ± 92.1 µs per loop (mean ± std. dev. of 7 runs, 100 loops each)\n"
     ]
    }
   ],
   "source": [
    "%%timeit\n",
    "pairwise_distances(x, metric='manhattan')"
   ]
  },
  {
   "cell_type": "code",
   "execution_count": 74,
   "id": "250c6364-b1c3-45c2-951f-4bd35eb10ea5",
   "metadata": {},
   "outputs": [
    {
     "name": "stdout",
     "output_type": "stream",
     "text": [
      "24.1 s ± 115 ms per loop (mean ± std. dev. of 7 runs, 1 loop each)\n"
     ]
    }
   ],
   "source": [
    "%%timeit\n",
    "pairwise_distances(x, metric=percentage_eucledian)"
   ]
  },
  {
   "cell_type": "code",
   "execution_count": 46,
   "id": "3bd5d7b2-aaa6-4299-93ca-3a9d9ee1e51d",
   "metadata": {},
   "outputs": [
    {
     "name": "stdout",
     "output_type": "stream",
     "text": [
      "727 µs ± 28.7 µs per loop (mean ± std. dev. of 7 runs, 1000 loops each)\n"
     ]
    }
   ],
   "source": [
    "%%timeit\n",
    "percentage_eucledian(x[312], x[311])"
   ]
  },
  {
   "cell_type": "code",
   "execution_count": 36,
   "id": "19ca8333-b45b-4f91-84bc-4464933d0cc6",
   "metadata": {},
   "outputs": [],
   "source": [
    "x = x[:500]"
   ]
  },
  {
   "cell_type": "code",
   "execution_count": 44,
   "id": "a04c1f19-1bcf-4fd6-85b5-283b81d11ab3",
   "metadata": {},
   "outputs": [
    {
     "data": {
      "text/plain": [
       "NearestNeighbors(p=1, radius=0.2)"
      ]
     },
     "execution_count": 44,
     "metadata": {},
     "output_type": "execute_result"
    }
   ],
   "source": [
    "import numpy as np\n",
    "from sklearn.neighbors import NearestNeighbors\n",
    "#max_dist = 2\n",
    "max_dist = 0.2\n",
    "neigh = NearestNeighbors(radius=max_dist, p=1)\n",
    "#neigh = NearestNeighbors(radius=max_dist, metric=percentage_eucledian)\n",
    "neigh.fit(x)"
   ]
  },
  {
   "cell_type": "code",
   "execution_count": 45,
   "id": "b3b5ca04-89b7-46aa-a074-c2828fb86cd3",
   "metadata": {},
   "outputs": [
    {
     "name": "stdout",
     "output_type": "stream",
     "text": [
      "CPU times: user 78.7 ms, sys: 0 ns, total: 78.7 ms\n",
      "Wall time: 15.6 ms\n"
     ]
    }
   ],
   "source": [
    "%%time\n",
    "dist, ind = neigh.radius_neighbors()"
   ]
  },
  {
   "cell_type": "code",
   "execution_count": 39,
   "id": "ae0f147c-a7be-4217-86ff-19c6142fa403",
   "metadata": {
    "tags": []
   },
   "outputs": [],
   "source": [
    "a = group_index.values\n",
    "same_infobox = []\n",
    "for i, indices in enumerate(ind):\n",
    "    infobox = group_index[i][0]\n",
    "    if len(indices) > 0:\n",
    "        matching_pages = np.array([key[0] for key in group_index[indices]])\n",
    "        same_infobox.append(infobox == matching_pages)\n",
    "n_total = len(ind)\n",
    "n_matched = len(same_infobox)"
   ]
  },
  {
   "cell_type": "code",
   "execution_count": 40,
   "id": "762a1548-f99a-44a6-9d17-a4fffd45e6eb",
   "metadata": {},
   "outputs": [
    {
     "name": "stdout",
     "output_type": "stream",
     "text": [
      "number of pages considered: 303523\n"
     ]
    }
   ],
   "source": [
    "print(f\"number of pages considered: {data['pageID'].nunique()}\")"
   ]
  },
  {
   "cell_type": "code",
   "execution_count": 41,
   "id": "81c19497-0882-4359-b2a8-2f47a9308d42",
   "metadata": {},
   "outputs": [
    {
     "name": "stderr",
     "output_type": "stream",
     "text": [
      "/home/niklaskoehnecke/project/wikipedia_cleanup/.venv/lib/python3.6/site-packages/numpy/core/fromnumeric.py:3373: RuntimeWarning: Mean of empty slice.\n",
      "  out=out, **kwargs)\n",
      "/home/niklaskoehnecke/project/wikipedia_cleanup/.venv/lib/python3.6/site-packages/numpy/core/_methods.py:170: RuntimeWarning: invalid value encountered in double_scalars\n",
      "  ret = ret.dtype.type(ret / rcount)\n"
     ]
    },
    {
     "data": {
      "text/plain": [
       "Text(0.1, 0, 'Color represents the % of matches that are not from the same infobox')"
      ]
     },
     "execution_count": 41,
     "metadata": {},
     "output_type": "execute_result"
    },
    {
     "data": {
      "image/png": "[encoded data removed]",
      "text/plain": [
       "<Figure size 432x288 with 1 Axes>"
      ]
     },
     "metadata": {
      "needs_background": "light"
     },
     "output_type": "display_data"
    }
   ],
   "source": [
    "num_matches = []\n",
    "percent_same_matched = []\n",
    "max_num_matches = 100\n",
    "for i in range(1, max_num_matches):\n",
    "    num_matches.append(np.sum(np.fromiter( (len(a) for a in same_infobox), dtype=int) == i))\n",
    "    percent_same_matched.append(np.mean([np.sum(entry) / i for entry in same_infobox if len(entry) == i]))\n",
    "percent_same_infobox = np.multiply(num_matches, percent_same_matched)\n",
    "plt.bar(range(1, max_num_matches), percent_same_infobox, label='Same infobox')\n",
    "plt.bar(range(1, max_num_matches), num_matches-percent_same_infobox, bottom = percent_same_infobox, label='Different Infobox')\n",
    "plt.legend(loc='upper right')\n",
    "plt.title(f\"Number of properties with #matches == x (#considered: {len(groups)})\")\n",
    "plt.figtext(0.1, 0, \"Color represents the % of matches that are not from the same infobox\")"
   ]
  },
  {
   "cell_type": "code",
   "execution_count": null,
   "id": "ee472fd9-d6a1-4c69-8165-ad25956cb057",
   "metadata": {},
   "outputs": [],
   "source": [
    "#0.963084495488105\n",
    "# 95 93 87 87 95\n",
    "# 93 91 84 93 87\n",
    "# 94 91 80 90 88\n",
    "percent_same_matched"
   ]
  },
  {
   "cell_type": "markdown",
   "id": "b9bfd249-ec74-47d4-8ddd-5b8f0aba867d",
   "metadata": {},
   "source": [
    "Look at some of the examples\n",
    " - Many examples have just creation / deletion\n",
    " - When filtering these out, some examples are:\n",
    "     - batting averages (247568784-0), box2..., Statistics in general\n",
    "     - Temperature reading for cities (infoboxes that are basically plots) - https://de.wikipedia.org/wiki/Ottawa\n",
    "     - Uniforms for soccer games and stuff https://en.wikipedia.org/wiki/FC_Bayern_Munich_(women)\n",
    "     - Perfect synchronous data https://en.wikipedia.org/wiki/Delta_County_Airport\n",
    "     - Career listings and other list elements - https://en.wikipedia.org/wiki/Akaki_Khubutia\n",
    "     - Stuff that is updated real time, once (Elections https://en.wikipedia.org/wiki/2019_European_Parliament_election_in_the_United_Kingdom)\n",
    "     - railway stations , passenger numbers (https://en.wikipedia.org/wiki/Windsor_station_(Vermont))\n",
    "     - Vandalism"
   ]
  },
  {
   "cell_type": "code",
   "execution_count": null,
   "id": "4175f3fc-34e5-4f07-a4ff-d62d81b41215",
   "metadata": {
    "tags": []
   },
   "outputs": [],
   "source": [
    "a = group_index[ind[np.array([len(g) for g in ind]) > 2][70]]\n",
    "print(a)\n",
    "a = a[6]\n",
    "data[(data['name'] == a[1]) & (data['key'] == a[0])]"
   ]
  },
  {
   "cell_type": "code",
   "execution_count": null,
   "id": "ff7a19a1-70c3-4b7d-9e01-453757bf64cd",
   "metadata": {},
   "outputs": [],
   "source": [
    "data[data['key'] == '131458332-1']"
   ]
  },
  {
   "cell_type": "code",
   "execution_count": null,
   "id": "ac1823b5-1b32-4594-a96b-7f58b934efd4",
   "metadata": {},
   "outputs": [],
   "source": [
    "data[data['key'] == '131458332-2']"
   ]
  },
  {
   "cell_type": "code",
   "execution_count": null,
   "id": "5d114918-24bd-4868-86ab-b3e3426362fd",
   "metadata": {},
   "outputs": [],
   "source": [
    "data[(data['name'] == 'ability') & (data['key'] == '131458332-2')]"
   ]
  },
  {
   "cell_type": "code",
   "execution_count": null,
   "id": "193f0dd9-8ee7-4824-a3f6-742ccc616e9c",
   "metadata": {},
   "outputs": [],
   "source": [
    "ind[np.array([len(g) for g in ind]) > 20]"
   ]
  },
  {
   "cell_type": "code",
   "execution_count": null,
   "id": "d4971b3f-2b4d-4cb6-8797-e84c3b8bbfa9",
   "metadata": {},
   "outputs": [],
   "source": [
    "group_index[ind[np.array([len(g) for g in ind]) > 20][123]]\n",
    "data[(data['key'] == '110474295-0') & (data['name'] == 'area_rank')]"
   ]
  },
  {
   "cell_type": "markdown",
   "id": "0e736a85",
   "metadata": {},
   "source": [
    "## KShape, apparently good fast clustering\n",
    "Seems to be ill-suited for the job"
   ]
  },
  {
   "cell_type": "code",
   "execution_count": null,
   "id": "85b83b26",
   "metadata": {},
   "outputs": [],
   "source": [
    "plt.figure(figsize=(100,2))\n",
    "for k, row in groups.loc[\"100593997-0\"].items():\n",
    "    plt.plot(row)"
   ]
  },
  {
   "cell_type": "code",
   "execution_count": null,
   "id": "4b9deeb8",
   "metadata": {},
   "outputs": [],
   "source": [
    "from tslearn.clustering import KShape\n",
    "n_clusters = 4\n",
    "classifier = KShape(n_clusters)\n",
    "classifier.fit(x)\n",
    "predictions = classifier.predict(x)"
   ]
  },
  {
   "cell_type": "code",
   "execution_count": null,
   "id": "a0f5de12",
   "metadata": {},
   "outputs": [],
   "source": [
    "for i in range(n_clusters):\n",
    "    selected_data = x[predictions==i]\n",
    "    plt.figure(figsize=(100,2))\n",
    "    for j in range(len(selected_data)):\n",
    "        plt.plot(selected_data[j])\n",
    "    plt.show()"
   ]
  },
  {
   "cell_type": "markdown",
   "id": "959ed26f",
   "metadata": {},
   "source": [
    "## DBScan"
   ]
  },
  {
   "cell_type": "code",
   "execution_count": null,
   "id": "e18ef29a",
   "metadata": {},
   "outputs": [],
   "source": [
    "from sklearn.cluster import DBSCAN"
   ]
  },
  {
   "cell_type": "code",
   "execution_count": null,
   "id": "83ec290a",
   "metadata": {},
   "outputs": [],
   "source": [
    "from dtaidistance import dtw"
   ]
  },
  {
   "cell_type": "code",
   "execution_count": null,
   "id": "c40da82a",
   "metadata": {},
   "outputs": [],
   "source": [
    "print(dtw.distance.__doc__)"
   ]
  },
  {
   "cell_type": "code",
   "execution_count": null,
   "id": "e9d9e04d",
   "metadata": {},
   "outputs": [],
   "source": [
    "def change_distance(a, b):\n",
    "    return dtw.distance(a, b, window=14, use_pruning=True, use_c=True)"
   ]
  },
  {
   "cell_type": "code",
   "execution_count": null,
   "id": "080708c2-0e24-4fb4-8d1a-977edb4652bb",
   "metadata": {},
   "outputs": [],
   "source": [
    "x.shape"
   ]
  },
  {
   "cell_type": "code",
   "execution_count": null,
   "id": "eb787ec4",
   "metadata": {},
   "outputs": [],
   "source": [
    "%%time\n",
    "clustering = DBSCAN(eps=1, min_samples=2, n_jobs=6, metric=change_distance).fit(x)"
   ]
  },
  {
   "cell_type": "code",
   "execution_count": null,
   "id": "adaa212a",
   "metadata": {},
   "outputs": [],
   "source": [
    "clusters = np.unique(clustering.labels_)\n",
    "n_clusters = len(clusters)\n",
    "if -1 in clusters:\n",
    "    n_clusters -=1"
   ]
  },
  {
   "cell_type": "code",
   "execution_count": null,
   "id": "ee970c7e",
   "metadata": {},
   "outputs": [],
   "source": [
    "for i in range(n_clusters):\n",
    "    selected_data = x[clustering.labels_==i]\n",
    "    plt.figure(figsize=(100,2))\n",
    "    for j in range(len(selected_data)):\n",
    "        plt.plot(selected_data[j])\n",
    "    plt.show()"
   ]
  }
 ],
 "metadata": {
  "kernelspec": {
   "display_name": "Python 3",
   "language": "python",
   "name": "python3"
  },
  "language_info": {
   "codemirror_mode": {
    "name": "ipython",
    "version": 3
   },
   "file_extension": ".py",
   "mimetype": "text/x-python",
   "name": "python",
   "nbconvert_exporter": "python",
   "pygments_lexer": "ipython3",
   "version": "3.6.9"
  }
 },
 "nbformat": 4,
 "nbformat_minor": 5
}
