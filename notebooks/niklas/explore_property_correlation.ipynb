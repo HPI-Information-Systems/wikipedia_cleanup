{
 "cells": [
  {
   "cell_type": "code",
   "execution_count": null,
   "id": "36f32186",
   "metadata": {
    "tags": []
   },
   "outputs": [],
   "source": [
    "%load_ext autoreload\n",
    "%autoreload 2\n",
    "%config Completer.use_jedi = False"
   ]
  },
  {
   "cell_type": "code",
   "execution_count": null,
   "id": "07cea731-d4ad-481a-8565-5b188f1a7f35",
   "metadata": {},
   "outputs": [],
   "source": [
    "if None:\n",
    "    print(\"True\")"
   ]
  },
  {
   "cell_type": "code",
   "execution_count": null,
   "id": "0788bfc9",
   "metadata": {},
   "outputs": [],
   "source": [
    "import itertools\n",
    "import json\n",
    "from pathlib import Path\n",
    "from datetime import timedelta, datetime\n",
    "from scipy.sparse import csr_matrix, vstack\n",
    "\n",
    "\n",
    "\n",
    "from sklearn.metrics import pairwise_distances\n",
    "from sklearn.neighbors import NearestNeighbors\n",
    "import numpy as np\n",
    "import pandas as pd\n",
    "from tqdm.auto import tqdm\n",
    "import matplotlib.pyplot as plt\n",
    "from wikipedia_cleanup.data_processing import get_data\n",
    "from wikipedia_cleanup.data_filter import KeepAttributesDataFilter, generate_default_filters"
   ]
  },
  {
   "cell_type": "code",
   "execution_count": null,
   "id": "0657a143",
   "metadata": {},
   "outputs": [],
   "source": [
    "mp_drive_dir = Path(\"/media/hpi_share/\")#Path(\"//FS23/projekte$/MP2021/MPWS2021/MPWS2021FN1\")\n",
    "mp_plot_dir = mp_drive_dir / \"plots\"\n",
    "#input_path = Path(\"../../../data/custom-format-default-filtered/\")\n",
    "input_path = Path(\"/run/media/secret/manjaro-home/secret/mp-data/custom-format-default-filtered\")"
   ]
  },
  {
   "cell_type": "code",
   "execution_count": null,
   "id": "c2b36b3a-a346-4528-a986-89ab7131a280",
   "metadata": {},
   "outputs": [],
   "source": [
    "n_files=20\n",
    "n_jobs=0\n",
    "filters = generate_default_filters()\n",
    "keep_filter = KeepAttributesDataFilter(['page_id', 'infobox_key', 'page_title', 'property_name', 'previous_value' ,'current_value', 'value_valid_from', 'value_valid_to'])\n",
    "filters.append(keep_filter)\n",
    "df = get_data(input_path,n_files=n_files, n_jobs=n_jobs, filters=filters)"
   ]
  },
  {
   "cell_type": "code",
   "execution_count": null,
   "id": "1109ec94-4704-45a6-8858-cb782b3643c2",
   "metadata": {},
   "outputs": [],
   "source": [
    "data = df"
   ]
  },
  {
   "cell_type": "code",
   "execution_count": null,
   "id": "8a98304d-568d-45f0-b266-33e50d73999f",
   "metadata": {},
   "outputs": [],
   "source": [
    "data = data[data['previous_value'] != '']\n",
    "data = data[data['current_value'] != '']"
   ]
  },
  {
   "cell_type": "code",
   "execution_count": null,
   "id": "28efc620-7c32-4c1f-8869-6822f9ae4381",
   "metadata": {},
   "outputs": [],
   "source": [
    "data = data[~data['previous_value'].isnull()]\n",
    "data = data[~data['current_value'].isnull()]\n",
    "data = data.copy()"
   ]
  },
  {
   "cell_type": "code",
   "execution_count": null,
   "id": "ab6fa983-1f6d-4133-81c4-d3f4b264ac29",
   "metadata": {
    "tags": []
   },
   "outputs": [],
   "source": [
    "import re\n",
    "regex_str = \"\\\\[\\\\[((?:\\\\w+:)?[^<>\\\\[\\\\]\\\"\\\\|]+)(?:\\\\|[^\\\\n\\\\]]+)?\\\\]\\\\]\"\n",
    "regex = re.compile(regex_str)\n",
    "\n",
    "infobox_key_to_related_page_titles = {}\n",
    "\n",
    "grouped_infoboxes = data.groupby('infobox_key')['current_value'].unique()\n",
    "\n",
    "for key, row in tqdm(grouped_infoboxes.iteritems(), total=len(grouped_infoboxes)):\n",
    "    infobox_key_to_related_page_titles[key] = list(set(match.groups()[0] for value in row if value for match in regex.finditer(value)))"
   ]
  },
  {
   "cell_type": "markdown",
   "id": "df3ef845-fda3-44a7-8376-729938d8480f",
   "metadata": {},
   "source": [
    "# Working with sparse arrays"
   ]
  },
  {
   "cell_type": "code",
   "execution_count": null,
   "id": "2bfd03d3-af42-42b9-9f1b-938035607c78",
   "metadata": {},
   "outputs": [],
   "source": [
    "def create_time_series(a, duration):\n",
    "    series = np.zeros(duration)\n",
    "    uniques, counts = np.unique(a, return_counts=True)\n",
    "    series[uniques] = counts\n",
    "    return csr_matrix(series)\n",
    "\n",
    "def create_bool_time_series(a, duration):\n",
    "    series = np.zeros(duration, dtype=bool)\n",
    "    uniques, counts = np.unique(a, return_counts=True)\n",
    "    series[uniques] = 1\n",
    "    return series"
   ]
  },
  {
   "cell_type": "code",
   "execution_count": null,
   "id": "0f0f08db",
   "metadata": {},
   "outputs": [],
   "source": [
    "%%time\n",
    "bins = pd.date_range(data['value_valid_from'].min().date(), data['value_valid_from'].max().date()+timedelta(1))\n",
    "total_days = len(bins)\n",
    "bins = pd.cut(data['value_valid_from'], bins, labels=False)\n",
    "data['bin_idx'] = bins\n",
    "\n",
    "num_required_changes = 5\n",
    "groups = data.groupby(['infobox_key', 'property_name'])\n",
    "min_support_groups = data[groups['bin_idx'].transform('count') > num_required_changes].groupby(['infobox_key', 'page_id', 'property_name'])\n",
    "min_support_groups = min_support_groups['bin_idx'].apply(create_time_series, duration=total_days)"
   ]
  },
  {
   "cell_type": "code",
   "execution_count": null,
   "id": "960c21d0-382c-4635-8b27-e429b4133dd3",
   "metadata": {},
   "outputs": [],
   "source": [
    "print(f\"Number of properties: {len(groups)}\")\n",
    "group_index = min_support_groups.index\n",
    "#x = groups.loc[\"100593997-0\"].values\n",
    "x = vstack(min_support_groups.to_numpy())\n",
    "print(f\"Len min support groups : {x.shape[0]}\")\n",
    "#x = csr_matrix(x)"
   ]
  },
  {
   "cell_type": "markdown",
   "id": "88373153-0ceb-4b91-8447-07e94062b0fa",
   "metadata": {
    "jp-MarkdownHeadingCollapsed": true,
    "tags": []
   },
   "source": [
    "## Working just with lists"
   ]
  },
  {
   "cell_type": "code",
   "execution_count": null,
   "id": "108456f4-d902-40a7-bd86-07525e27d95f",
   "metadata": {},
   "outputs": [],
   "source": [
    "groups = data.groupby(['infobox_key', 'property_name', 'page_id'])\n",
    "num_required_changes = 5\n",
    "min_support_groups = data[groups['value_valid_from'].transform('count') > num_required_changes]#.groupby(['infobox_key', 'property_name'])\n",
    "min_support_groups['value_valid_from'] = min_support_groups['value_valid_from'].dt.date\n",
    "min_support_groups = min_support_groups.groupby(['infobox_key', 'property_name', 'page_id'])['value_valid_from'].apply(list)"
   ]
  },
  {
   "cell_type": "code",
   "execution_count": null,
   "id": "4ebba236-4f51-4d1a-9feb-35133c5f7b0e",
   "metadata": {},
   "outputs": [],
   "source": [
    "x = min_support_groups.to_numpy()"
   ]
  },
  {
   "cell_type": "code",
   "execution_count": null,
   "id": "e45cf058-9655-4fc1-b194-b359ae59f219",
   "metadata": {},
   "outputs": [],
   "source": [
    "%load_ext Cython"
   ]
  },
  {
   "cell_type": "code",
   "execution_count": null,
   "id": "702022cc-0dd0-4542-8eed-1e02438224e6",
   "metadata": {},
   "outputs": [],
   "source": [
    "func(x[i], x[j])"
   ]
  },
  {
   "cell_type": "markdown",
   "id": "ab6e5db3-9510-45ff-9001-fa03f58db0bf",
   "metadata": {},
   "source": [
    "## Nearest Neighbors\n",
    "Probably more suited than clustering methods"
   ]
  },
  {
   "cell_type": "code",
   "execution_count": null,
   "id": "5f171332-0f49-4149-991e-156764842f25",
   "metadata": {},
   "outputs": [],
   "source": [
    "def percentage_manhatten(arr1, arr2):\n",
    "    arr1 = arr1.toarray()\n",
    "    arr2 = arr2.toarray()\n",
    "    return np.sum(np.absolute(arr1 - arr2)) / max(arr1.sum(), arr2.sum())"
   ]
  },
  {
   "cell_type": "code",
   "execution_count": null,
   "id": "52002ab5-62ae-4170-95f1-66209e053bb8",
   "metadata": {},
   "outputs": [],
   "source": [
    "def percentage_manhatten_improved(arr1, arr2):\n",
    "    arr1 = arr1.toarray()\n",
    "    arr2 = arr2.toarray()\n",
    "    mask = np.nonzero(arr1)\n",
    "    return np.sum(np.absolute(arr1[mask] - arr2[mask])) / arr1.sum()"
   ]
  },
  {
   "cell_type": "code",
   "execution_count": null,
   "id": "56701666-2c6d-4c64-b246-639c0471761a",
   "metadata": {
    "tags": []
   },
   "outputs": [],
   "source": [
    "def percentage_manhatten_exact_time_lag(arr1, arr2):\n",
    "    arr1 = arr1.toarray()\n",
    "    arr2 = arr2.toarray()\n",
    "    max_changes = max(arr1.sum(), arr2.sum())\n",
    "    time_lagged_distances = [np.sum(np.absolute(arr1 - np.pad(arr2,((0,0),(i,0)), mode='constant')[:, :-i])) for i in range(1,8)]\n",
    "    time_lagged_distances.append(np.sum(np.absolute(arr1 - arr2)))\n",
    "    return np.min(time_lagged_distances) / max_changes"
   ]
  },
  {
   "cell_type": "code",
   "execution_count": null,
   "id": "cad08437-c566-459a-be96-4c458cbbe57a",
   "metadata": {
    "tags": []
   },
   "outputs": [],
   "source": [
    "def percentage_manhatten_exact_time_lag_martin(arr1, arr2):\n",
    "    arr1 = arr1.toarray()\n",
    "    arr2 = arr2.toarray()\n",
    "    max_changes = arr1.sum()\n",
    "    mask = np.nonzero(arr1)            \n",
    "    \n",
    "    time_lagged_distances = [np.absolute(arr1[mask] - (np.pad(arr2,((0,0),(i,0)), mode='constant')[:, :-i])[mask]) for i in range(1,8)]\n",
    "    time_lagged_distances.append(np.absolute(arr1[mask] - arr2[mask]))\n",
    "    \n",
    "    return np.sum(np.min(time_lagged_distances, axis=0)) / max_changes"
   ]
  },
  {
   "cell_type": "code",
   "execution_count": null,
   "id": "d1141d9a-e338-42c3-a0b6-c02b508eec52",
   "metadata": {
    "tags": []
   },
   "outputs": [],
   "source": [
    "def percentage_manhatten_adaptive_time_lag(arr1, arr2):\n",
    "    DELAY_RANGE = 3\n",
    "    MAX_PERCENTAGE_CHANGES_DIFF = 0.8\n",
    "    \n",
    "    arr1 = arr1.toarray()\n",
    "    arr2 = arr2.toarray()\n",
    "    max_changes = arr1.sum()\n",
    "    mask = np.nonzero(arr1)\n",
    "    error = 0\n",
    "    \n",
    "    #if max_changes < MAX_PERCENTAGE_CHANGES_DIFF * arr2.sum():\n",
    "        #return 1\n",
    "    \n",
    "    \n",
    "    for idx in mask[1]:\n",
    "        needed_num_changes = arr1[0, idx]\n",
    "        for off in range(-min(DELAY_RANGE, idx), min(DELAY_RANGE, arr2.shape[1] - idx)):\n",
    "            used_changes = min(needed_num_changes, arr2[0, idx + off])\n",
    "            arr2[0, idx + off] -= used_changes\n",
    "            needed_num_changes -= used_changes\n",
    "        error += needed_num_changes\n",
    "    \n",
    "    return error / max_changes"
   ]
  },
  {
   "cell_type": "code",
   "execution_count": null,
   "id": "8f1721d0-35d3-402a-afbe-8801a92dfbdf",
   "metadata": {},
   "outputs": [],
   "source": [
    "def percentage_manhatten_adaptive_time_lag_support(arr1, arr2):\n",
    "    return max(percentage_manhatten_adaptive_time_lag(arr1, arr2), percentage_manhatten_adaptive_time_lag(arr2, arr1))"
   ]
  },
  {
   "cell_type": "code",
   "execution_count": null,
   "id": "e8d5d4f8-b9b3-43f9-a554-24279a0d1c01",
   "metadata": {},
   "outputs": [],
   "source": [
    "temp = min_support_groups.reset_index()\n",
    "temp = temp.groupby(['page_id'])[['property_name', 'bin_idx', 'infobox_key']].agg(list)"
   ]
  },
  {
   "cell_type": "code",
   "execution_count": null,
   "id": "89881dd8-c4f7-484f-ae72-c897b1b4b448",
   "metadata": {},
   "outputs": [],
   "source": [
    "from tqdm.auto import tqdm"
   ]
  },
  {
   "cell_type": "code",
   "execution_count": null,
   "id": "500164de-7962-4997-a00b-62c38c213769",
   "metadata": {},
   "outputs": [],
   "source": [
    "len(same_infoboxes), len(temp)"
   ]
  },
  {
   "cell_type": "code",
   "execution_count": null,
   "id": "7544fe8e-b445-4615-ba24-19a6b20326c1",
   "metadata": {},
   "outputs": [],
   "source": [
    "%%time\n",
    "\n",
    "max_dist = 0.05\n",
    "\n",
    "same_infoboxes = []\n",
    "matches = []\n",
    "for key, row in tqdm(temp.iterrows(), total=len(temp)):\n",
    "    if len(row[1]) > 1:\n",
    "        input_data = vstack(row[1])\n",
    "        neighbor_indices = []\n",
    "        for i in range(input_data.shape[0]):\n",
    "            current_neighbors = []\n",
    "            for j in range(i+1, input_data.shape[0]):\n",
    "                current_dist = percentage_manhatten_adaptive_time_lag(input_data[i], input_data[j])\n",
    "                if current_dist <= max_dist:\n",
    "                    current_neighbors.append(j)\n",
    "            neighbor_indices.append(current_neighbors)\n",
    "        #neigh = NearestNeighbors(radius=max_dist, metric=percentage_manhatten_adaptive_time_lag_support)#\n",
    "        #neigh.fit(input_data)\n",
    "        #neighbor_indices = neigh.radius_neighbors(return_distance=False)\n",
    "        for i, neighbors in enumerate(neighbor_indices):\n",
    "            infobox = row[2][i]\n",
    "            if len(neighbors) > 0:\n",
    "                infobox_keys = np.array(row[2])[neighbors]\n",
    "                same_infobox = infobox_keys == infobox\n",
    "                same_infoboxes.append(same_infobox)\n",
    "                \n",
    "                property_names = np.array(row[0])[neighbors]\n",
    "                match = list(zip(infobox_keys, property_names))\n",
    "                match.append((infobox, row[0][i]))\n",
    "                matches.append(match)\n",
    "                \n",
    "            \n"
   ]
  },
  {
   "cell_type": "code",
   "execution_count": null,
   "id": "a3b65a80-5a05-4eb2-aee6-f45a74cdc271",
   "metadata": {},
   "outputs": [],
   "source": [
    "matches"
   ]
  },
  {
   "cell_type": "code",
   "execution_count": null,
   "id": "2bcd5667-cd76-4360-a6a6-8d4b400a0c30",
   "metadata": {},
   "outputs": [],
   "source": [
    "def rule_to_data_entries(data, info_keys, property_names):\n",
    "    idx = data['infobox_key'].isin(info_keys) & data['property_name'].isin(property_names)\n",
    "    return data[idx].sort_values('value_valid_from')"
   ]
  },
  {
   "cell_type": "code",
   "execution_count": null,
   "id": "b3de6bd3-e76e-45f9-879d-7be46a233536",
   "metadata": {},
   "outputs": [],
   "source": [
    "*zip(*matches[0])"
   ]
  },
  {
   "cell_type": "code",
   "execution_count": null,
   "id": "64173742-2911-4d01-b11a-38e5b603529a",
   "metadata": {},
   "outputs": [],
   "source": [
    "\n",
    "match = matches[100]\n",
    "with pd.option_context('display.max_rows', None, 'display.max_columns', None, 'display.precision', 3, ):\n",
    "    display(match[-1])\n",
    "    display(rule_to_data_entries(data, *zip(*match)))"
   ]
  },
  {
   "cell_type": "code",
   "execution_count": null,
   "id": "eec91a00-3053-4565-96e0-592532054a9e",
   "metadata": {
    "tags": []
   },
   "outputs": [],
   "source": [
    "num_matches = []\n",
    "percent_same_matched = []\n",
    "max_num_matches = 100\n",
    "for i in range(1, max_num_matches):\n",
    "    num_matches.append(np.sum(np.fromiter( (len(a) for a in same_infoboxes), dtype=int) == i))\n",
    "    percent_same_matched.append(np.mean([np.mean(entry) for entry in same_infoboxes if len(entry) == i]))\n",
    "percent_same_infobox = np.multiply(num_matches, percent_same_matched)"
   ]
  },
  {
   "cell_type": "code",
   "execution_count": null,
   "id": "a691fbe5-e3be-4229-a023-ea681b7933a3",
   "metadata": {},
   "outputs": [],
   "source": [
    "num_matches[:10]"
   ]
  },
  {
   "cell_type": "code",
   "execution_count": null,
   "id": "ba9a7c2e-768d-42ba-969b-48a6aab43d41",
   "metadata": {
    "tags": []
   },
   "outputs": [],
   "source": [
    "num_matches[:10]"
   ]
  },
  {
   "cell_type": "code",
   "execution_count": null,
   "id": "0dc380d2-7aef-4794-a900-42d247b31931",
   "metadata": {
    "tags": []
   },
   "outputs": [],
   "source": [
    "num_matches[:10]"
   ]
  },
  {
   "cell_type": "code",
   "execution_count": null,
   "id": "c843766a-3fd0-44ac-9200-f5f61a16b562",
   "metadata": {},
   "outputs": [],
   "source": [
    "num_matches[:10]"
   ]
  },
  {
   "cell_type": "code",
   "execution_count": null,
   "id": "6adaefe5-fd83-4c85-a16a-decd0d3bd020",
   "metadata": {},
   "outputs": [],
   "source": [
    "min_over_time_lag_for_mask = num_matches[:10]\n",
    "min_over_time_lag_for_mask"
   ]
  },
  {
   "cell_type": "code",
   "execution_count": null,
   "id": "992735dc-6abc-4bd2-94e2-8c1c977e0798",
   "metadata": {},
   "outputs": [],
   "source": [
    "min_over_time_lag = num_matches[:10]\n",
    "min_over_time_lag"
   ]
  },
  {
   "cell_type": "code",
   "execution_count": null,
   "id": "1e3ea02f-33f7-4fd1-87fb-f340557221a9",
   "metadata": {},
   "outputs": [],
   "source": [
    "num_matches[:10]"
   ]
  },
  {
   "cell_type": "code",
   "execution_count": null,
   "id": "d50fe937-5475-4ef8-8dfd-2a695589a385",
   "metadata": {
    "tags": []
   },
   "outputs": [],
   "source": [
    "baseline = num_matches[:10]\n",
    "baseline"
   ]
  },
  {
   "cell_type": "code",
   "execution_count": null,
   "id": "e0b7b755-9bee-4694-85b7-a8fecd76fb80",
   "metadata": {},
   "outputs": [],
   "source": []
  },
  {
   "cell_type": "code",
   "execution_count": null,
   "id": "34d841d3-5040-4fc3-bd45-c3ce2b8a5261",
   "metadata": {},
   "outputs": [],
   "source": [
    "baseline = num_matches[:10]"
   ]
  },
  {
   "cell_type": "code",
   "execution_count": null,
   "id": "f730f10c-b864-4c5c-96dd-6f612f118d54",
   "metadata": {},
   "outputs": [],
   "source": [
    "plt.bar(range(1, max_num_matches), percent_same_infobox, label='Same infobox')\n",
    "plt.bar(range(1, max_num_matches), num_matches-percent_same_infobox, bottom = percent_same_infobox, label='Different Infobox')\n",
    "plt.legend(loc='upper right')\n",
    "plt.title(f\"Number of properties with #matches == x (#considered: {len(groups)})\")\n",
    "plt.figtext(0.1, 0, \"Color represents the % of matches that are not from the same infobox\")"
   ]
  },
  {
   "cell_type": "code",
   "execution_count": null,
   "id": "511c80ae-9727-4925-8e75-8c9b9a282dd3",
   "metadata": {},
   "outputs": [],
   "source": [
    "percent_same_infobox"
   ]
  },
  {
   "cell_type": "markdown",
   "id": "94284500-b188-481f-88c5-49cea4516121",
   "metadata": {},
   "source": [
    "# Old nearest neighbor code"
   ]
  },
  {
   "cell_type": "code",
   "execution_count": null,
   "id": "a04c1f19-1bcf-4fd6-85b5-283b81d11ab3",
   "metadata": {},
   "outputs": [],
   "source": [
    "max_dist = 2\n",
    "#max_dist = 0.2\n",
    "neigh = NearestNeighbors(radius=max_dist, p=1)\n",
    "#neigh = NearestNeighbors(radius=max_dist, metric=percentage_eucledian)\n",
    "neigh.fit(x)"
   ]
  },
  {
   "cell_type": "code",
   "execution_count": null,
   "id": "b3b5ca04-89b7-46aa-a074-c2828fb86cd3",
   "metadata": {},
   "outputs": [],
   "source": [
    "%%time\n",
    "dist, ind = neigh.radius_neighbors()"
   ]
  },
  {
   "cell_type": "code",
   "execution_count": null,
   "id": "ae0f147c-a7be-4217-86ff-19c6142fa403",
   "metadata": {
    "tags": []
   },
   "outputs": [],
   "source": [
    "a = group_index.values\n",
    "same_infobox = []\n",
    "for i, indices in enumerate(ind):\n",
    "    infobox = group_index[i][0]\n",
    "    if len(indices) > 0:\n",
    "        matching_pages = np.array([key[0] for key in group_index[indices]])\n",
    "        same_infobox.append(infobox == matching_pages)\n",
    "n_total = len(ind)\n",
    "n_matched = len(same_infobox)"
   ]
  },
  {
   "cell_type": "code",
   "execution_count": null,
   "id": "762a1548-f99a-44a6-9d17-a4fffd45e6eb",
   "metadata": {},
   "outputs": [],
   "source": [
    "print(f\"number of pages considered: {data['page_id'].nunique()}\")"
   ]
  },
  {
   "cell_type": "code",
   "execution_count": null,
   "id": "81c19497-0882-4359-b2a8-2f47a9308d42",
   "metadata": {},
   "outputs": [],
   "source": [
    "num_matches = []\n",
    "percent_same_matched = []\n",
    "max_num_matches = 100\n",
    "for i in range(1, max_num_matches):\n",
    "    num_matches.append(np.sum(np.fromiter( (len(a) for a in same_infobox), dtype=int) == i))\n",
    "    percent_same_matched.append(np.mean([np.sum(entry) / i for entry in same_infobox if len(entry) == i]))\n",
    "percent_same_infobox = np.multiply(num_matches, percent_same_matched)\n",
    "plt.bar(range(1, max_num_matches), percent_same_infobox, label='Same infobox')\n",
    "plt.bar(range(1, max_num_matches), num_matches-percent_same_infobox, bottom = percent_same_infobox, label='Different Infobox')\n",
    "plt.legend(loc='upper right')\n",
    "plt.title(f\"Number of properties with #matches == x (#considered: {len(groups)})\")\n",
    "plt.figtext(0.1, 0, \"Color represents the % of matches that are not from the same infobox\")"
   ]
  },
  {
   "cell_type": "code",
   "execution_count": null,
   "id": "ee472fd9-d6a1-4c69-8165-ad25956cb057",
   "metadata": {},
   "outputs": [],
   "source": [
    "#0.963084495488105\n",
    "# 95 93 87 87 95\n",
    "# 93 91 84 93 87\n",
    "# 94 91 80 90 88\n",
    "percent_same_matched"
   ]
  },
  {
   "cell_type": "markdown",
   "id": "b9bfd249-ec74-47d4-8ddd-5b8f0aba867d",
   "metadata": {},
   "source": [
    "Look at some of the examples\n",
    " - Many examples have just creation / deletion\n",
    " - When filtering these out, some examples are:\n",
    "     - batting averages (247568784-0), box2..., Statistics in general\n",
    "     - Temperature reading for cities (infoboxes that are basically plots) - https://de.wikipedia.org/wiki/Ottawa\n",
    "     - Uniforms for soccer games and stuff https://en.wikipedia.org/wiki/FC_Bayern_Munich_(women)\n",
    "     - Perfect synchronous data https://en.wikipedia.org/wiki/Delta_County_Airport\n",
    "     - Career listings and other list elements - https://en.wikipedia.org/wiki/Akaki_Khubutia\n",
    "     - Stuff that is updated real time, once (Elections https://en.wikipedia.org/wiki/2019_European_Parliament_election_in_the_United_Kingdom)\n",
    "     - railway stations , passenger numbers (https://en.wikipedia.org/wiki/Windsor_station_(Vermont))\n",
    "     - Vandalism"
   ]
  },
  {
   "cell_type": "code",
   "execution_count": null,
   "id": "4175f3fc-34e5-4f07-a4ff-d62d81b41215",
   "metadata": {
    "tags": []
   },
   "outputs": [],
   "source": [
    "a = group_index[ind[np.array([len(g) for g in ind]) > 2][70]]\n",
    "print(a)\n",
    "a = a[6]\n",
    "data[(data['name'] == a[1]) & (data['key'] == a[0])]"
   ]
  },
  {
   "cell_type": "code",
   "execution_count": null,
   "id": "ff7a19a1-70c3-4b7d-9e01-453757bf64cd",
   "metadata": {},
   "outputs": [],
   "source": [
    "data[data['key'] == '131458332-1']"
   ]
  },
  {
   "cell_type": "code",
   "execution_count": null,
   "id": "ac1823b5-1b32-4594-a96b-7f58b934efd4",
   "metadata": {},
   "outputs": [],
   "source": [
    "data[data['key'] == '131458332-2']"
   ]
  },
  {
   "cell_type": "code",
   "execution_count": null,
   "id": "5d114918-24bd-4868-86ab-b3e3426362fd",
   "metadata": {},
   "outputs": [],
   "source": [
    "data[(data['name'] == 'ability') & (data['key'] == '131458332-2')]"
   ]
  },
  {
   "cell_type": "code",
   "execution_count": null,
   "id": "193f0dd9-8ee7-4824-a3f6-742ccc616e9c",
   "metadata": {},
   "outputs": [],
   "source": [
    "ind[np.array([len(g) for g in ind]) > 20]"
   ]
  },
  {
   "cell_type": "code",
   "execution_count": null,
   "id": "d4971b3f-2b4d-4cb6-8797-e84c3b8bbfa9",
   "metadata": {},
   "outputs": [],
   "source": [
    "group_index[ind[np.array([len(g) for g in ind]) > 20][123]]\n",
    "data[(data['key'] == '110474295-0') & (data['name'] == 'area_rank')]"
   ]
  },
  {
   "cell_type": "markdown",
   "id": "0e736a85",
   "metadata": {},
   "source": [
    "## KShape, apparently good fast clustering\n",
    "Seems to be ill-suited for the job"
   ]
  },
  {
   "cell_type": "code",
   "execution_count": null,
   "id": "85b83b26",
   "metadata": {},
   "outputs": [],
   "source": [
    "plt.figure(figsize=(100,2))\n",
    "for k, row in groups.loc[\"100593997-0\"].items():\n",
    "    plt.plot(row)"
   ]
  },
  {
   "cell_type": "code",
   "execution_count": null,
   "id": "4b9deeb8",
   "metadata": {},
   "outputs": [],
   "source": [
    "from tslearn.clustering import KShape\n",
    "n_clusters = 4\n",
    "classifier = KShape(n_clusters)\n",
    "classifier.fit(x)\n",
    "predictions = classifier.predict(x)"
   ]
  },
  {
   "cell_type": "code",
   "execution_count": null,
   "id": "a0f5de12",
   "metadata": {},
   "outputs": [],
   "source": [
    "for i in range(n_clusters):\n",
    "    selected_data = x[predictions==i]\n",
    "    plt.figure(figsize=(100,2))\n",
    "    for j in range(len(selected_data)):\n",
    "        plt.plot(selected_data[j])\n",
    "    plt.show()"
   ]
  },
  {
   "cell_type": "markdown",
   "id": "959ed26f",
   "metadata": {},
   "source": [
    "## DBScan"
   ]
  },
  {
   "cell_type": "code",
   "execution_count": null,
   "id": "e18ef29a",
   "metadata": {},
   "outputs": [],
   "source": [
    "from sklearn.cluster import DBSCAN"
   ]
  },
  {
   "cell_type": "code",
   "execution_count": null,
   "id": "83ec290a",
   "metadata": {},
   "outputs": [],
   "source": [
    "from dtaidistance import dtw"
   ]
  },
  {
   "cell_type": "code",
   "execution_count": null,
   "id": "c40da82a",
   "metadata": {},
   "outputs": [],
   "source": [
    "print(dtw.distance.__doc__)"
   ]
  },
  {
   "cell_type": "code",
   "execution_count": null,
   "id": "e9d9e04d",
   "metadata": {},
   "outputs": [],
   "source": [
    "def change_distance(a, b):\n",
    "    return dtw.distance(a, b, window=14, use_pruning=True, use_c=True)"
   ]
  },
  {
   "cell_type": "code",
   "execution_count": null,
   "id": "080708c2-0e24-4fb4-8d1a-977edb4652bb",
   "metadata": {},
   "outputs": [],
   "source": [
    "x.shape"
   ]
  },
  {
   "cell_type": "code",
   "execution_count": null,
   "id": "eb787ec4",
   "metadata": {},
   "outputs": [],
   "source": [
    "%%time\n",
    "clustering = DBSCAN(eps=1, min_samples=2, n_jobs=6, metric=change_distance).fit(x)"
   ]
  },
  {
   "cell_type": "code",
   "execution_count": null,
   "id": "adaa212a",
   "metadata": {},
   "outputs": [],
   "source": [
    "clusters = np.unique(clustering.labels_)\n",
    "n_clusters = len(clusters)\n",
    "if -1 in clusters:\n",
    "    n_clusters -=1"
   ]
  },
  {
   "cell_type": "code",
   "execution_count": null,
   "id": "ee970c7e",
   "metadata": {},
   "outputs": [],
   "source": [
    "for i in range(n_clusters):\n",
    "    selected_data = x[clustering.labels_==i]\n",
    "    plt.figure(figsize=(100,2))\n",
    "    for j in range(len(selected_data)):\n",
    "        plt.plot(selected_data[j])\n",
    "    plt.show()"
   ]
  }
 ],
 "metadata": {
  "kernelspec": {
   "display_name": "Python 3",
   "language": "python",
   "name": "python3"
  },
  "language_info": {
   "codemirror_mode": {
    "name": "ipython",
    "version": 3
   },
   "file_extension": ".py",
   "mimetype": "text/x-python",
   "name": "python",
   "nbconvert_exporter": "python",
   "pygments_lexer": "ipython3",
   "version": "3.9.7"
  }
 },
 "nbformat": 4,
 "nbformat_minor": 5
}
