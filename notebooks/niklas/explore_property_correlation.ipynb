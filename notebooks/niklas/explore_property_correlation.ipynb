{
 "cells": [
  {
   "cell_type": "code",
   "execution_count": null,
   "id": "36f32186",
   "metadata": {},
   "outputs": [],
   "source": [
    "%load_ext autoreload\n",
    "%autoreload 2"
   ]
  },
  {
   "cell_type": "code",
   "execution_count": null,
   "id": "0788bfc9",
   "metadata": {},
   "outputs": [],
   "source": [
    "import itertools\n",
    "import json\n",
    "from pathlib import Path\n",
    "from datetime import timedelta, datetime\n",
    "from scipy.sparse import csr_matrix, vstack\n",
    "\n",
    "\n",
    "import numpy as np\n",
    "import pandas as pd\n",
    "from tqdm.auto import tqdm\n",
    "import matplotlib.pyplot as plt"
   ]
  },
  {
   "cell_type": "code",
   "execution_count": null,
   "id": "0657a143",
   "metadata": {},
   "outputs": [],
   "source": [
    "mp_drive_dir = Path(\"/media/hpi_share/\")#Path(\"//FS23/projekte$/MP2021/MPWS2021/MPWS2021FN1\")\n",
    "mp_plot_dir = mp_drive_dir / \"plots\"\n",
    "input_path = Path(\"../../../data\")\n",
    "input_data = list(input_path.rglob(\"*.json\"))\n",
    "files = [x for x in input_data if x.is_file()]\n",
    "len(files) # total 580"
   ]
  },
  {
   "cell_type": "code",
   "execution_count": null,
   "id": "b2cbfc17",
   "metadata": {},
   "outputs": [],
   "source": [
    "num_edits = 0\n",
    "change_tuples = []\n",
    "for file in tqdm(files[:10]):\n",
    "    with open(file, 'r', encoding='utf-8') as f:\n",
    "        for jsonObj in f:\n",
    "            single_edit = json.loads(jsonObj)\n",
    "            #entries.append(single_edit)\n",
    "            key = single_edit['key']\n",
    "            pid = single_edit['pageID']\n",
    "            user = single_edit['username'] if 'username' in single_edit.keys() else None\n",
    "            title = single_edit['pageTitle']#['key']\n",
    "            changes = single_edit['changes']\n",
    "            timestamp = single_edit['validFrom']\n",
    "            edit_type = single_edit['type']\n",
    "            for change in changes:\n",
    "                name = change['property']['name']\n",
    "                current_value = change['currentValue'] if 'currentValue' in change.keys() else None\n",
    "                previous_value = change['previousValue'] if 'previousValue' in change.keys() else None\n",
    "                change_tuples.append((key, pid, title, user, name, previous_value, current_value, timestamp, edit_type))\n"
   ]
  },
  {
   "cell_type": "code",
   "execution_count": null,
   "id": "c4f1e708",
   "metadata": {},
   "outputs": [],
   "source": [
    "data = pd.DataFrame(change_tuples, columns=['key', 'pageID', 'title', 'user','name', 'previous_value', 'current_value', 'timestamp', 'edit_type'])\n",
    "data['timestamp'] = pd.to_datetime(data['timestamp']).dt.tz_localize(None)"
   ]
  },
  {
   "cell_type": "code",
   "execution_count": null,
   "id": "0f0f08db",
   "metadata": {},
   "outputs": [],
   "source": [
    "bins = pd.date_range(data['timestamp'].min().date(), data['timestamp'].max().date()+timedelta(1))\n",
    "total_days = len(bins)\n",
    "bins = pd.cut(data['timestamp'], bins, labels=False)\n",
    "data['bin_idx'] = bins"
   ]
  },
  {
   "cell_type": "code",
   "execution_count": null,
   "id": "9d2d13ef",
   "metadata": {},
   "outputs": [],
   "source": [
    "def create_time_series(a, duration):\n",
    "    series = np.zeros(duration)\n",
    "    uniques, counts = np.unique(a, return_counts=True)\n",
    "    series[uniques] = counts\n",
    "    return csr_matrix(series)\n",
    "\n",
    "def create_bool_time_series(a, duration):\n",
    "    series = np.zeros(duration, dtype=bool)\n",
    "    uniques, counts = np.unique(a, return_counts=True)\n",
    "    series[uniques] = 1\n",
    "    return series"
   ]
  },
  {
   "cell_type": "code",
   "execution_count": null,
   "id": "c7ffbf79-d627-49f9-bc41-884739eecc90",
   "metadata": {},
   "outputs": [],
   "source": [
    "print(f\"Num data points: {len(data)}\")"
   ]
  },
  {
   "cell_type": "code",
   "execution_count": null,
   "id": "8310ba04",
   "metadata": {},
   "outputs": [],
   "source": [
    "groups = data.groupby(['key', 'name'])['bin_idx'].apply(create_time_series, duration=total_days)"
   ]
  },
  {
   "cell_type": "code",
   "execution_count": null,
   "id": "4bee6f20-7772-4752-aa22-7af08fc4c10e",
   "metadata": {},
   "outputs": [],
   "source": [
    "print(f\"Number of properties: {len(groups)}\")\n",
    "num_required_changes = 10\n",
    "x = groups[groups.apply(lambda x: np.sum(x.toarray())) > num_required_changes].values\n",
    "#x = groups.loc[\"100593997-0\"].values\n",
    "x = vstack(x)\n",
    "print(x.shape)\n",
    "#x = csr_matrix(x)"
   ]
  },
  {
   "cell_type": "markdown",
   "id": "ab6e5db3-9510-45ff-9001-fa03f58db0bf",
   "metadata": {},
   "source": [
    "## Nearest Neighbors\n",
    "Probably more suited than clustering methods"
   ]
  },
  {
   "cell_type": "code",
   "execution_count": null,
   "id": "a04c1f19-1bcf-4fd6-85b5-283b81d11ab3",
   "metadata": {},
   "outputs": [],
   "source": [
    "import numpy as np\n",
    "from sklearn.neighbors import NearestNeighbors\n",
    "max_dist = 2\n",
    "neigh = NearestNeighbors(radius=max_dist, p=1)\n",
    "neigh.fit(x)"
   ]
  },
  {
   "cell_type": "code",
   "execution_count": null,
   "id": "b3b5ca04-89b7-46aa-a074-c2828fb86cd3",
   "metadata": {},
   "outputs": [],
   "source": [
    "%%time\n",
    "dist, ind = neigh.radius_neighbors()"
   ]
  },
  {
   "cell_type": "code",
   "execution_count": null,
   "id": "65b4c3ea-fc4a-4b03-9765-8d233311556d",
   "metadata": {},
   "outputs": [],
   "source": [
    "num_matches = []\n",
    "max_num_matches = 50\n",
    "for i in range(max_num_matches):\n",
    "    num_matches.append(np.sum(np.fromiter( (len(a) for a in ind), dtype=int) >= i))"
   ]
  },
  {
   "cell_type": "code",
   "execution_count": null,
   "id": "4f0e93d3-7639-43eb-9018-720e8a8e4ad4",
   "metadata": {
    "tags": []
   },
   "outputs": [],
   "source": [
    "plt.bar(range(max_num_matches), num_matches)"
   ]
  },
  {
   "cell_type": "markdown",
   "id": "0e736a85",
   "metadata": {},
   "source": [
    "## KShape, apparently good fast clustering\n",
    "Seems to be ill-suited for the job"
   ]
  },
  {
   "cell_type": "code",
   "execution_count": null,
   "id": "85b83b26",
   "metadata": {},
   "outputs": [],
   "source": [
    "plt.figure(figsize=(100,2))\n",
    "for k, row in groups.loc[\"100593997-0\"].items():\n",
    "    plt.plot(row)"
   ]
  },
  {
   "cell_type": "code",
   "execution_count": null,
   "id": "4b9deeb8",
   "metadata": {},
   "outputs": [],
   "source": [
    "from tslearn.clustering import KShape\n",
    "n_clusters = 4\n",
    "classifier = KShape(n_clusters)\n",
    "classifier.fit(x)\n",
    "predictions = classifier.predict(x)"
   ]
  },
  {
   "cell_type": "code",
   "execution_count": null,
   "id": "a0f5de12",
   "metadata": {},
   "outputs": [],
   "source": [
    "for i in range(n_clusters):\n",
    "    selected_data = x[predictions==i]\n",
    "    plt.figure(figsize=(100,2))\n",
    "    for j in range(len(selected_data)):\n",
    "        plt.plot(selected_data[j])\n",
    "    plt.show()"
   ]
  },
  {
   "cell_type": "markdown",
   "id": "959ed26f",
   "metadata": {},
   "source": [
    "## DBScan"
   ]
  },
  {
   "cell_type": "code",
   "execution_count": null,
   "id": "e18ef29a",
   "metadata": {},
   "outputs": [],
   "source": [
    "from sklearn.cluster import DBSCAN"
   ]
  },
  {
   "cell_type": "code",
   "execution_count": null,
   "id": "83ec290a",
   "metadata": {},
   "outputs": [],
   "source": [
    "from dtaidistance import dtw"
   ]
  },
  {
   "cell_type": "code",
   "execution_count": null,
   "id": "c40da82a",
   "metadata": {},
   "outputs": [],
   "source": [
    "print(dtw.distance.__doc__)"
   ]
  },
  {
   "cell_type": "code",
   "execution_count": null,
   "id": "e9d9e04d",
   "metadata": {},
   "outputs": [],
   "source": [
    "def change_distance(a, b):\n",
    "    return dtw.distance(a, b, window=14, use_pruning=True, use_c=True)"
   ]
  },
  {
   "cell_type": "code",
   "execution_count": null,
   "id": "080708c2-0e24-4fb4-8d1a-977edb4652bb",
   "metadata": {},
   "outputs": [],
   "source": [
    "x.shape"
   ]
  },
  {
   "cell_type": "code",
   "execution_count": null,
   "id": "eb787ec4",
   "metadata": {},
   "outputs": [],
   "source": [
    "%%time\n",
    "clustering = DBSCAN(eps=1, min_samples=2, n_jobs=6, metric=change_distance).fit(x)"
   ]
  },
  {
   "cell_type": "code",
   "execution_count": null,
   "id": "adaa212a",
   "metadata": {},
   "outputs": [],
   "source": [
    "clusters = np.unique(clustering.labels_)\n",
    "n_clusters = len(clusters)\n",
    "if -1 in clusters:\n",
    "    n_clusters -=1"
   ]
  },
  {
   "cell_type": "code",
   "execution_count": null,
   "id": "ee970c7e",
   "metadata": {},
   "outputs": [],
   "source": [
    "for i in range(n_clusters):\n",
    "    selected_data = x[clustering.labels_==i]\n",
    "    plt.figure(figsize=(100,2))\n",
    "    for j in range(len(selected_data)):\n",
    "        plt.plot(selected_data[j])\n",
    "    plt.show()"
   ]
  }
 ],
 "metadata": {
  "kernelspec": {
   "display_name": "Python 3",
   "language": "python",
   "name": "python3"
  },
  "language_info": {
   "codemirror_mode": {
    "name": "ipython",
    "version": 3
   },
   "file_extension": ".py",
   "mimetype": "text/x-python",
   "name": "python",
   "nbconvert_exporter": "python",
   "pygments_lexer": "ipython3",
   "version": "3.6.9"
  }
 },
 "nbformat": 4,
 "nbformat_minor": 5
}
