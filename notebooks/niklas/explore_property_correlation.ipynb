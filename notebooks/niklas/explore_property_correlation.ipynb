{
 "cells": [
  {
   "cell_type": "code",
   "execution_count": null,
   "id": "36f32186",
   "metadata": {},
   "outputs": [],
   "source": [
    "%load_ext autoreload\n",
    "%autoreload 2\n",
    "%config Completer.use_jedi = False"
   ]
  },
  {
   "cell_type": "code",
   "execution_count": null,
   "id": "07cea731-d4ad-481a-8565-5b188f1a7f35",
   "metadata": {},
   "outputs": [],
   "source": [
    "if None:\n",
    "    print(\"True\")"
   ]
  },
  {
   "cell_type": "code",
   "execution_count": null,
   "id": "0788bfc9",
   "metadata": {},
   "outputs": [],
   "source": [
    "import itertools\n",
    "import json\n",
    "from pathlib import Path\n",
    "from datetime import timedelta, datetime\n",
    "from scipy.sparse import csr_matrix, vstack\n",
    "\n",
    "\n",
    "import numpy as np\n",
    "import pandas as pd\n",
    "from tqdm.auto import tqdm\n",
    "import matplotlib.pyplot as plt\n",
    "from wikipedia_cleanup.data_processing import get_data\n",
    "from wikipedia_cleanup.data_filter import KeepAttributesDataFilter, generate_default_filters"
   ]
  },
  {
   "cell_type": "code",
   "execution_count": null,
   "id": "0657a143",
   "metadata": {},
   "outputs": [],
   "source": [
    "mp_drive_dir = Path(\"/media/hpi_share/\")#Path(\"//FS23/projekte$/MP2021/MPWS2021/MPWS2021FN1\")\n",
    "mp_plot_dir = mp_drive_dir / \"plots\"\n",
    "input_path = Path(\"../../../data\")\n",
    "input_data = list(input_path.rglob(\"*.json\"))\n",
    "files = [x for x in input_data if x.is_file()]\n",
    "len(files) # total 580"
   ]
  },
  {
   "cell_type": "code",
   "execution_count": null,
   "id": "c2b36b3a-a346-4528-a986-89ab7131a280",
   "metadata": {},
   "outputs": [],
   "source": [
    "n_files=40\n",
    "n_jobs=0\n",
    "filters = generate_default_filters()\n",
    "keep_filter = KeepAttributesDataFilter(['page_id', 'infobox_key', 'page_title', 'property_name', 'previous_value' ,'current_value', 'value_valid_from', 'value_valid_to'])\n",
    "filters.append(keep_filter)\n",
    "df = get_data(input_path,n_files=n_files, n_jobs=n_jobs, filters=generate_default_filters())"
   ]
  },
  {
   "cell_type": "code",
   "execution_count": null,
   "id": "1109ec94-4704-45a6-8858-cb782b3643c2",
   "metadata": {},
   "outputs": [],
   "source": [
    "data = df"
   ]
  },
  {
   "cell_type": "code",
   "execution_count": null,
   "id": "df94d175-3b14-46f7-91cf-3aa3e30a5887",
   "metadata": {},
   "outputs": [],
   "source": [
    "data = data[data['previous_value'] != '']"
   ]
  },
  {
   "cell_type": "code",
   "execution_count": null,
   "id": "8a98304d-568d-45f0-b266-33e50d73999f",
   "metadata": {},
   "outputs": [],
   "source": [
    "data = data[data['current_value'] != '']"
   ]
  },
  {
   "cell_type": "code",
   "execution_count": null,
   "id": "28efc620-7c32-4c1f-8869-6822f9ae4381",
   "metadata": {},
   "outputs": [],
   "source": [
    "data = data[~data['previous_value'].isnull()]\n",
    "data = data[~data['current_value'].isnull()]\n",
    "data = data.copy()"
   ]
  },
  {
   "cell_type": "code",
   "execution_count": null,
   "id": "b2cbfc17",
   "metadata": {},
   "outputs": [],
   "source": [
    "num_edits = 0\n",
    "change_tuples = []\n",
    "#np.random.seed(42)\n",
    "for file in tqdm(np.random.choice(files, 3, replace=False)):\n",
    "    with open(file, 'r', encoding='utf-8') as f:\n",
    "        for jsonObj in f:\n",
    "            single_edit = json.loads(jsonObj)\n",
    "            #entries.append(single_edit)\n",
    "            key = single_edit['key']\n",
    "            pid = single_edit['pageID']\n",
    "            user = single_edit['username'] if 'username' in single_edit.keys() else None\n",
    "            title = single_edit['pageTitle']#['key']\n",
    "            changes = single_edit['changes']\n",
    "            valid_from = single_edit['validFrom']\n",
    "            edit_type = single_edit['type']\n",
    "            for change in changes:\n",
    "                name = change['property']['name']\n",
    "                if 'currentValue' in change.keys() and 'previousValue' in change.keys():\n",
    "                    current_value = change['currentValue'] if 'currentValue' in change.keys() else None\n",
    "                    previous_value = change['previousValue'] if 'previousValue' in change.keys() else None\n",
    "                    valid_to = change['valueValidTo'] if 'valueValidTo' in change.keys() else None\n",
    "                    if current_value != '' and previous_value != '':\n",
    "                        change_tuples.append((key, pid, title, user, name, previous_value, current_value, valid_from, valid_to))"
   ]
  },
  {
   "cell_type": "code",
   "execution_count": null,
   "id": "42c2cb5e-53ba-40a8-97f2-c55eb215de0c",
   "metadata": {},
   "outputs": [],
   "source": [
    "data = pd.DataFrame(change_tuples, columns=['key', 'pageID', 'title', 'user','name', 'previous_value', 'current_value', 'value_valid_from', 'valid_to'])\n",
    "data['value_valid_from'] = pd.to_datetime(data['value_valid_from']).dt.tz_localize(None)\n",
    "data['valid_to'] = pd.to_datetime(data['valid_to']).dt.tz_localize(None)\n",
    "\n",
    "print(f\"Num data points: {len(data)}\")"
   ]
  },
  {
   "cell_type": "markdown",
   "id": "df3ef845-fda3-44a7-8376-729938d8480f",
   "metadata": {},
   "source": [
    "# Working with sparse arrays"
   ]
  },
  {
   "cell_type": "code",
   "execution_count": null,
   "id": "2bfd03d3-af42-42b9-9f1b-938035607c78",
   "metadata": {},
   "outputs": [],
   "source": [
    "def create_time_series(a, duration):\n",
    "    series = np.zeros(duration)\n",
    "    uniques, counts = np.unique(a, return_counts=True)\n",
    "    series[uniques] = counts\n",
    "    return csr_matrix(series)\n",
    "\n",
    "def create_bool_time_series(a, duration):\n",
    "    series = np.zeros(duration, dtype=bool)\n",
    "    uniques, counts = np.unique(a, return_counts=True)\n",
    "    series[uniques] = 1\n",
    "    return series"
   ]
  },
  {
   "cell_type": "code",
   "execution_count": null,
   "id": "0f0f08db",
   "metadata": {},
   "outputs": [],
   "source": [
    "%%time\n",
    "bins = pd.date_range(data['value_valid_from'].min().date(), data['value_valid_from'].max().date()+timedelta(1))\n",
    "total_days = len(bins)\n",
    "bins = pd.cut(data['value_valid_from'], bins, labels=False)\n",
    "data['bin_idx'] = bins\n",
    "\n",
    "num_required_changes = 5\n",
    "groups = data.groupby(['infobox_key', 'property_name'])\n",
    "min_support_groups = data[groups['bin_idx'].transform('count') > num_required_changes].groupby(['infobox_key', 'property_name'])\n",
    "min_support_groups = min_support_groups['bin_idx'].apply(create_time_series, duration=total_days)"
   ]
  },
  {
   "cell_type": "markdown",
   "id": "524c9984-b36e-4825-b983-7980667133fa",
   "metadata": {},
   "source": [
    "print(f\"Number of properties: {len(groups)}\")\n",
    "group_index = min_support_groups.index\n",
    "#x = groups.loc[\"100593997-0\"].values\n",
    "x = vstack(min_support_groups.to_numpy())\n",
    "print(f\"Len min support groups : {x.shape[0]}\")\n",
    "#x = csr_matrix(x)"
   ]
  },
  {
   "cell_type": "markdown",
   "id": "88373153-0ceb-4b91-8447-07e94062b0fa",
   "metadata": {
    "tags": []
   },
   "source": [
    "## Working just with lists"
   ]
  },
  {
   "cell_type": "code",
   "execution_count": null,
   "id": "108456f4-d902-40a7-bd86-07525e27d95f",
   "metadata": {},
   "outputs": [],
   "source": [
    "groups = data.groupby(['infobox_key', 'property_name'])\n",
    "num_required_changes = 5\n",
    "min_support_groups = data[groups['value_valid_from'].transform('count') > num_required_changes]#.groupby(['infobox_key', 'property_name'])\n",
    "min_support_groups['value_valid_from'] = min_support_groups['value_valid_from'].dt.date\n",
    "min_support_groups = min_support_groups.groupby(['infobox_key', 'property_name'])['value_valid_from'].apply(list)"
   ]
  },
  {
   "cell_type": "code",
   "execution_count": null,
   "id": "4ebba236-4f51-4d1a-9feb-35133c5f7b0e",
   "metadata": {},
   "outputs": [],
   "source": [
    "x = min_support_groups.to_numpy()"
   ]
  },
  {
   "cell_type": "code",
   "execution_count": null,
   "id": "6151b5e7-958d-4d4b-a6f4-76c102930e94",
   "metadata": {},
   "outputs": [],
   "source": [
    "%%timeit\n",
    "func(x[i], x[j])"
   ]
  },
  {
   "cell_type": "code",
   "execution_count": null,
   "id": "e45cf058-9655-4fc1-b194-b359ae59f219",
   "metadata": {},
   "outputs": [],
   "source": [
    "%load_ext Cython"
   ]
  },
  {
   "cell_type": "code",
   "execution_count": null,
   "id": "702022cc-0dd0-4542-8eed-1e02438224e6",
   "metadata": {},
   "outputs": [],
   "source": [
    "func(x[i], x[j])"
   ]
  },
  {
   "cell_type": "markdown",
   "id": "ab6e5db3-9510-45ff-9001-fa03f58db0bf",
   "metadata": {},
   "source": [
    "## Nearest Neighbors\n",
    "Probably more suited than clustering methods"
   ]
  },
  {
   "cell_type": "code",
   "execution_count": null,
   "id": "0a50ae4c-eaec-4f8a-9497-295f6b163f0e",
   "metadata": {},
   "outputs": [],
   "source": [
    "from sklearn.metrics import pairwise_distances"
   ]
  },
  {
   "cell_type": "code",
   "execution_count": null,
   "id": "5f171332-0f49-4149-991e-156764842f25",
   "metadata": {},
   "outputs": [],
   "source": [
    "def percentage_eucledian(arr1, arr2):\n",
    "    arr1 = arr1.toarray()\n",
    "    arr2 = arr2.toarray()\n",
    "    return  np.sum(np.absolute(arr1 - arr2)) / max(arr1.sum(), arr2.sum())"
   ]
  },
  {
   "cell_type": "code",
   "execution_count": null,
   "id": "ffc47c06-cf6a-42a2-bfce-615576aeafa7",
   "metadata": {},
   "outputs": [],
   "source": [
    "%%timeit\n",
    "percentage_eucledian(x[32], x[11])"
   ]
  },
  {
   "cell_type": "code",
   "execution_count": null,
   "id": "971d93c1-d780-4aab-8cbc-b11f39573686",
   "metadata": {},
   "outputs": [],
   "source": [
    "%%timeit\n",
    "pairwise_distances(x[32], x[11], metric='manhattan')"
   ]
  },
  {
   "cell_type": "code",
   "execution_count": null,
   "id": "482ddd0c-4a24-4d54-b966-22e8cbc6b871",
   "metadata": {},
   "outputs": [],
   "source": [
    "%%timeit\n",
    "pairwise_distances(x, metric='manhattan')"
   ]
  },
  {
   "cell_type": "code",
   "execution_count": null,
   "id": "250c6364-b1c3-45c2-951f-4bd35eb10ea5",
   "metadata": {},
   "outputs": [],
   "source": [
    "%%timeit\n",
    "pairwise_distances(x, metric=percentage_eucledian)"
   ]
  },
  {
   "cell_type": "code",
   "execution_count": null,
   "id": "3bd5d7b2-aaa6-4299-93ca-3a9d9ee1e51d",
   "metadata": {},
   "outputs": [],
   "source": [
    "%%timeit\n",
    "percentage_eucledian(x[312], x[311])"
   ]
  },
  {
   "cell_type": "code",
   "execution_count": null,
   "id": "a04c1f19-1bcf-4fd6-85b5-283b81d11ab3",
   "metadata": {},
   "outputs": [],
   "source": [
    "import numpy as np\n",
    "from sklearn.neighbors import NearestNeighbors\n",
    "max_dist = 2\n",
    "#max_dist = 0.2\n",
    "neigh = NearestNeighbors(radius=max_dist, p=1)\n",
    "#neigh = NearestNeighbors(radius=max_dist, metric=percentage_eucledian)\n",
    "neigh.fit(x)"
   ]
  },
  {
   "cell_type": "code",
   "execution_count": null,
   "id": "b3b5ca04-89b7-46aa-a074-c2828fb86cd3",
   "metadata": {},
   "outputs": [],
   "source": [
    "%%time\n",
    "dist, ind = neigh.radius_neighbors()"
   ]
  },
  {
   "cell_type": "code",
   "execution_count": null,
   "id": "ae0f147c-a7be-4217-86ff-19c6142fa403",
   "metadata": {
    "tags": []
   },
   "outputs": [],
   "source": [
    "a = group_index.values\n",
    "same_infobox = []\n",
    "for i, indices in enumerate(ind):\n",
    "    infobox = group_index[i][0]\n",
    "    if len(indices) > 0:\n",
    "        matching_pages = np.array([key[0] for key in group_index[indices]])\n",
    "        same_infobox.append(infobox == matching_pages)\n",
    "n_total = len(ind)\n",
    "n_matched = len(same_infobox)"
   ]
  },
  {
   "cell_type": "code",
   "execution_count": null,
   "id": "762a1548-f99a-44a6-9d17-a4fffd45e6eb",
   "metadata": {},
   "outputs": [],
   "source": [
    "print(f\"number of pages considered: {data['page_id'].nunique()}\")"
   ]
  },
  {
   "cell_type": "code",
   "execution_count": null,
   "id": "81c19497-0882-4359-b2a8-2f47a9308d42",
   "metadata": {},
   "outputs": [],
   "source": [
    "num_matches = []\n",
    "percent_same_matched = []\n",
    "max_num_matches = 100\n",
    "for i in range(1, max_num_matches):\n",
    "    num_matches.append(np.sum(np.fromiter( (len(a) for a in same_infobox), dtype=int) == i))\n",
    "    percent_same_matched.append(np.mean([np.sum(entry) / i for entry in same_infobox if len(entry) == i]))\n",
    "percent_same_infobox = np.multiply(num_matches, percent_same_matched)\n",
    "plt.bar(range(1, max_num_matches), percent_same_infobox, label='Same infobox')\n",
    "plt.bar(range(1, max_num_matches), num_matches-percent_same_infobox, bottom = percent_same_infobox, label='Different Infobox')\n",
    "plt.legend(loc='upper right')\n",
    "plt.title(f\"Number of properties with #matches == x (#considered: {len(groups)})\")\n",
    "plt.figtext(0.1, 0, \"Color represents the % of matches that are not from the same infobox\")"
   ]
  },
  {
   "cell_type": "code",
   "execution_count": null,
   "id": "ee472fd9-d6a1-4c69-8165-ad25956cb057",
   "metadata": {},
   "outputs": [],
   "source": [
    "#0.963084495488105\n",
    "# 95 93 87 87 95\n",
    "# 93 91 84 93 87\n",
    "# 94 91 80 90 88\n",
    "percent_same_matched"
   ]
  },
  {
   "cell_type": "markdown",
   "id": "b9bfd249-ec74-47d4-8ddd-5b8f0aba867d",
   "metadata": {},
   "source": [
    "Look at some of the examples\n",
    " - Many examples have just creation / deletion\n",
    " - When filtering these out, some examples are:\n",
    "     - batting averages (247568784-0), box2..., Statistics in general\n",
    "     - Temperature reading for cities (infoboxes that are basically plots) - https://de.wikipedia.org/wiki/Ottawa\n",
    "     - Uniforms for soccer games and stuff https://en.wikipedia.org/wiki/FC_Bayern_Munich_(women)\n",
    "     - Perfect synchronous data https://en.wikipedia.org/wiki/Delta_County_Airport\n",
    "     - Career listings and other list elements - https://en.wikipedia.org/wiki/Akaki_Khubutia\n",
    "     - Stuff that is updated real time, once (Elections https://en.wikipedia.org/wiki/2019_European_Parliament_election_in_the_United_Kingdom)\n",
    "     - railway stations , passenger numbers (https://en.wikipedia.org/wiki/Windsor_station_(Vermont))\n",
    "     - Vandalism"
   ]
  },
  {
   "cell_type": "code",
   "execution_count": null,
   "id": "4175f3fc-34e5-4f07-a4ff-d62d81b41215",
   "metadata": {
    "tags": []
   },
   "outputs": [],
   "source": [
    "a = group_index[ind[np.array([len(g) for g in ind]) > 2][70]]\n",
    "print(a)\n",
    "a = a[6]\n",
    "data[(data['name'] == a[1]) & (data['key'] == a[0])]"
   ]
  },
  {
   "cell_type": "code",
   "execution_count": null,
   "id": "ff7a19a1-70c3-4b7d-9e01-453757bf64cd",
   "metadata": {},
   "outputs": [],
   "source": [
    "data[data['key'] == '131458332-1']"
   ]
  },
  {
   "cell_type": "code",
   "execution_count": null,
   "id": "ac1823b5-1b32-4594-a96b-7f58b934efd4",
   "metadata": {},
   "outputs": [],
   "source": [
    "data[data['key'] == '131458332-2']"
   ]
  },
  {
   "cell_type": "code",
   "execution_count": null,
   "id": "5d114918-24bd-4868-86ab-b3e3426362fd",
   "metadata": {},
   "outputs": [],
   "source": [
    "data[(data['name'] == 'ability') & (data['key'] == '131458332-2')]"
   ]
  },
  {
   "cell_type": "code",
   "execution_count": null,
   "id": "193f0dd9-8ee7-4824-a3f6-742ccc616e9c",
   "metadata": {},
   "outputs": [],
   "source": [
    "ind[np.array([len(g) for g in ind]) > 20]"
   ]
  },
  {
   "cell_type": "code",
   "execution_count": null,
   "id": "d4971b3f-2b4d-4cb6-8797-e84c3b8bbfa9",
   "metadata": {},
   "outputs": [],
   "source": [
    "group_index[ind[np.array([len(g) for g in ind]) > 20][123]]\n",
    "data[(data['key'] == '110474295-0') & (data['name'] == 'area_rank')]"
   ]
  },
  {
   "cell_type": "markdown",
   "id": "0e736a85",
   "metadata": {},
   "source": [
    "## KShape, apparently good fast clustering\n",
    "Seems to be ill-suited for the job"
   ]
  },
  {
   "cell_type": "code",
   "execution_count": null,
   "id": "85b83b26",
   "metadata": {},
   "outputs": [],
   "source": [
    "plt.figure(figsize=(100,2))\n",
    "for k, row in groups.loc[\"100593997-0\"].items():\n",
    "    plt.plot(row)"
   ]
  },
  {
   "cell_type": "code",
   "execution_count": null,
   "id": "4b9deeb8",
   "metadata": {},
   "outputs": [],
   "source": [
    "from tslearn.clustering import KShape\n",
    "n_clusters = 4\n",
    "classifier = KShape(n_clusters)\n",
    "classifier.fit(x)\n",
    "predictions = classifier.predict(x)"
   ]
  },
  {
   "cell_type": "code",
   "execution_count": null,
   "id": "a0f5de12",
   "metadata": {},
   "outputs": [],
   "source": [
    "for i in range(n_clusters):\n",
    "    selected_data = x[predictions==i]\n",
    "    plt.figure(figsize=(100,2))\n",
    "    for j in range(len(selected_data)):\n",
    "        plt.plot(selected_data[j])\n",
    "    plt.show()"
   ]
  },
  {
   "cell_type": "markdown",
   "id": "959ed26f",
   "metadata": {},
   "source": [
    "## DBScan"
   ]
  },
  {
   "cell_type": "code",
   "execution_count": null,
   "id": "e18ef29a",
   "metadata": {},
   "outputs": [],
   "source": [
    "from sklearn.cluster import DBSCAN"
   ]
  },
  {
   "cell_type": "code",
   "execution_count": null,
   "id": "83ec290a",
   "metadata": {},
   "outputs": [],
   "source": [
    "from dtaidistance import dtw"
   ]
  },
  {
   "cell_type": "code",
   "execution_count": null,
   "id": "c40da82a",
   "metadata": {},
   "outputs": [],
   "source": [
    "print(dtw.distance.__doc__)"
   ]
  },
  {
   "cell_type": "code",
   "execution_count": null,
   "id": "e9d9e04d",
   "metadata": {},
   "outputs": [],
   "source": [
    "def change_distance(a, b):\n",
    "    return dtw.distance(a, b, window=14, use_pruning=True, use_c=True)"
   ]
  },
  {
   "cell_type": "code",
   "execution_count": null,
   "id": "080708c2-0e24-4fb4-8d1a-977edb4652bb",
   "metadata": {},
   "outputs": [],
   "source": [
    "x.shape"
   ]
  },
  {
   "cell_type": "code",
   "execution_count": null,
   "id": "eb787ec4",
   "metadata": {},
   "outputs": [],
   "source": [
    "%%time\n",
    "clustering = DBSCAN(eps=1, min_samples=2, n_jobs=6, metric=change_distance).fit(x)"
   ]
  },
  {
   "cell_type": "code",
   "execution_count": null,
   "id": "adaa212a",
   "metadata": {},
   "outputs": [],
   "source": [
    "clusters = np.unique(clustering.labels_)\n",
    "n_clusters = len(clusters)\n",
    "if -1 in clusters:\n",
    "    n_clusters -=1"
   ]
  },
  {
   "cell_type": "code",
   "execution_count": null,
   "id": "ee970c7e",
   "metadata": {},
   "outputs": [],
   "source": [
    "for i in range(n_clusters):\n",
    "    selected_data = x[clustering.labels_==i]\n",
    "    plt.figure(figsize=(100,2))\n",
    "    for j in range(len(selected_data)):\n",
    "        plt.plot(selected_data[j])\n",
    "    plt.show()"
   ]
  }
 ],
 "metadata": {
  "kernelspec": {
   "display_name": "Python 3",
   "language": "python",
   "name": "python3"
  },
  "language_info": {
   "codemirror_mode": {
    "name": "ipython",
    "version": 3
   },
   "file_extension": ".py",
   "mimetype": "text/x-python",
   "name": "python",
   "nbconvert_exporter": "python",
   "pygments_lexer": "ipython3",
   "version": "3.6.9"
  }
 },
 "nbformat": 4,
 "nbformat_minor": 5
}
