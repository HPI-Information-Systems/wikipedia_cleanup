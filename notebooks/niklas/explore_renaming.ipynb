{
 "cells": [
  {
   "cell_type": "markdown",
   "id": "f637c384",
   "metadata": {},
   "source": [
    "# This was only a first idea"
   ]
  },
  {
   "cell_type": "code",
   "execution_count": null,
   "id": "002edfe5",
   "metadata": {},
   "outputs": [],
   "source": [
    "%load_ext autoreload\n",
    "%autoreload 2"
   ]
  },
  {
   "cell_type": "code",
   "execution_count": null,
   "id": "e1edbd53",
   "metadata": {},
   "outputs": [],
   "source": [
    "import itertools\n",
    "import json\n",
    "from pathlib import Path\n",
    "from datetime import timedelta, datetime\n",
    "\n",
    "import numpy as np\n",
    "import pandas as pd\n",
    "from tqdm.auto import tqdm\n",
    "import matplotlib.pyplot as plt\n",
    "\n",
    "from wikipedia_cleanup.data_processing import read_file, get_data\n",
    "from wikipedia_cleanup.baseline import next_change\n",
    "\n",
    "from sklearn.metrics import precision_recall_fscore_support"
   ]
  },
  {
   "cell_type": "code",
   "execution_count": null,
   "id": "523176f5",
   "metadata": {},
   "outputs": [],
   "source": [
    "mp_drive_dir = Path(\"/media/hpi_share/\")#Path(\"//FS23/projekte$/MP2021/MPWS2021/MPWS2021FN1\")\n",
    "mp_plot_dir = mp_drive_dir / \"plots\"\n",
    "input_path = Path(\"../../../data\")\n",
    "input_data = list(input_path.rglob(\"*.json\"))\n",
    "files = [x for x in input_data if x.is_file()]\n",
    "len(files) # total 580"
   ]
  },
  {
   "cell_type": "code",
   "execution_count": null,
   "id": "9231557a",
   "metadata": {},
   "outputs": [],
   "source": [
    "num_edits = 0\n",
    "change_tuples = []\n",
    "for file in tqdm(files[:2]):\n",
    "    with open(file, 'r', encoding='utf-8') as f:\n",
    "        for jsonObj in f:\n",
    "            single_edit = json.loads(jsonObj)\n",
    "            #entries.append(single_edit)\n",
    "            key = single_edit['key']\n",
    "            pid = single_edit['pageID']\n",
    "            user = single_edit['username'] if 'username' in single_edit.keys() else None\n",
    "            title = single_edit['pageTitle']#['key']\n",
    "            changes = single_edit['changes']\n",
    "            timestamp = single_edit['validFrom']\n",
    "            edit_type = single_edit['type']\n",
    "            for change in changes:\n",
    "                name = change['property']['name']\n",
    "                current_value = change['currentValue'] if 'currentValue' in change.keys() else None\n",
    "                previous_value = change['previousValue'] if 'previousValue' in change.keys() else None\n",
    "                change_tuples.append((key, pid, title, user, name, previous_value, current_value, timestamp, edit_type))\n"
   ]
  },
  {
   "cell_type": "code",
   "execution_count": null,
   "id": "93534854",
   "metadata": {},
   "outputs": [],
   "source": [
    "data = pd.DataFrame(change_tuples, columns=['key', 'pageID', 'title', 'user','name', 'previous_value', 'current_value', 'timestamp', 'edit_type'])\n",
    "data['timestamp'] = pd.to_datetime(data['timestamp']).dt.tz_localize(None)\n",
    "cd_data = data[data['edit_type'] != 'UPDATE'].copy()\n",
    "#cd_data['timestamp'] = cd_data['timestamp'].dt.date"
   ]
  },
  {
   "cell_type": "code",
   "execution_count": null,
   "id": "70d03356",
   "metadata": {},
   "outputs": [],
   "source": [
    "x = cd_data.groupby([\"key\"])"
   ]
  },
  {
   "cell_type": "code",
   "execution_count": null,
   "id": "f7db5ec0",
   "metadata": {
    "scrolled": false
   },
   "outputs": [],
   "source": [
    "for key, group in x:\n",
    "    deletes = group[group['edit_type'] == 'DELETE']\n",
    "    creates = group[group['edit_type'] != 'DELETE']\n",
    "    if any(deletes['title'] != 'Kazakhs') and len(deletes) > 0:\n",
    "        t = deletes.merge(creates, on='key')\n",
    "        possible_candidates = t[(t['previous_value_x'] == t['current_value_y']) &\n",
    "          (t['name_x'] != t['name_y']) & \n",
    "          (t['name_x'] != t['name_y']) & \n",
    "          (t['timestamp_x'] < t['timestamp_y']) &\n",
    "          (t['timestamp_x'].dt.date == t['timestamp_y'].dt.date) & \n",
    "          (t['previous_value_x'] != '')\n",
    "         ]\n",
    "        print(possible_candidates)\n",
    "        print()\n",
    "    #for delete in deletes.iterrows():\n",
    "\n"
   ]
  }
 ],
 "metadata": {
  "kernelspec": {
   "display_name": "Python 3",
   "language": "python",
   "name": "python3"
  },
  "language_info": {
   "codemirror_mode": {
    "name": "ipython",
    "version": 3
   },
   "file_extension": ".py",
   "mimetype": "text/x-python",
   "name": "python",
   "nbconvert_exporter": "python",
   "pygments_lexer": "ipython3",
   "version": "3.6.9"
  }
 },
 "nbformat": 4,
 "nbformat_minor": 5
}
