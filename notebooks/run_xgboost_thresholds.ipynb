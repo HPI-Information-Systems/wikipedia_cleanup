{
 "cells": [
  {
   "cell_type": "code",
   "execution_count": null,
   "id": "7d20b310",
   "metadata": {},
   "outputs": [],
   "source": [
    "%load_ext autoreload\n",
    "%autoreload 2\n",
    "%config Completer.use_jedi = False"
   ]
  },
  {
   "cell_type": "code",
   "execution_count": null,
   "id": "72f39bff-8724-408d-9b55-5585959c5d05",
   "metadata": {},
   "outputs": [],
   "source": [
    "from pathlib import Path\n",
    "\n",
    "from wikipedia_cleanup.data_filter import KeepAttributesDataFilter, generate_default_filters\n",
    "from wikipedia_cleanup.predict import TrainAndPredictFramework\n",
    "from wikipedia_cleanup.predictor import ZeroPredictor, OnePredictor, MeanPredictor, RandomPredictor\n",
    "from wikipedia_cleanup.property_correlation import PropertyCorrelationPredictor\n",
    "from wikipedia_cleanup.random_forest import RandomForestPredictor\n",
    "from datetime import datetime\n",
    "\n",
    "import pandas as pd\n",
    "from tqdm import tqdm"
   ]
  },
  {
   "cell_type": "code",
   "execution_count": null,
   "id": "3e1626ec-9b02-423e-8a04-7dc59da2f7d2",
   "metadata": {},
   "outputs": [],
   "source": [
    "model = RandomForestPredictor(use_cache=False)\n",
    "framework = TrainAndPredictFramework(model, group_key=['infobox_key', 'property_name'],test_start_date=datetime(2017, 9, 1))"
   ]
  },
  {
   "cell_type": "code",
   "execution_count": null,
   "id": "baea55e0-87c1-41e2-bc34-554488c3339e",
   "metadata": {},
   "outputs": [],
   "source": [
    "import os\n",
    "import glob\n",
    "csv_files = glob.glob(os.path.join(\"../../custom-format-default-filtered-features/\", \"*.pickle\"))"
   ]
  },
  {
   "cell_type": "code",
   "execution_count": null,
   "id": "db8aa2f8-5a86-4cf8-ad8b-9b5d7a59908a",
   "metadata": {},
   "outputs": [],
   "source": [
    "lst=[]\n",
    "for f in tqdm(csv_files):\n",
    "    df_tmp=pd.read_pickle(f)\n",
    "    lst.append(df_tmp)\n",
    "data_df=pd.concat(lst)"
   ]
  },
  {
   "cell_type": "code",
   "execution_count": null,
   "id": "5f5b75d9-8d6f-4be9-82b3-61e92c42d555",
   "metadata": {},
   "outputs": [],
   "source": [
    "from datetime import datetime\n",
    "df_counts = data_df.groupby(['infobox_key', 'property_name'],sort=False).count()[\"timestamp\"]"
   ]
  },
  {
   "cell_type": "code",
   "execution_count": null,
   "id": "5d8cb97e-4659-41d3-b31c-539a86168a01",
   "metadata": {},
   "outputs": [],
   "source": [
    "lst=[]\n",
    "start=0\n",
    "for key,count in tqdm(df_counts.iteritems()):\n",
    "    if count>=250:\n",
    "        lst.append(data_df[start:start+count])\n",
    "    start+=count\n",
    "data_df_small=pd.concat(lst)\n",
    "data_df_small.shape"
   ]
  },
  {
   "cell_type": "code",
   "execution_count": null,
   "id": "33176ab1-20cf-4772-988e-f6cba602cc08",
   "metadata": {},
   "outputs": [],
   "source": [
    "#number of keys\n",
    "data_df_small.groupby(['infobox_key', 'property_name'],sort=False).count()[\"timestamp\"].shape"
   ]
  },
  {
   "cell_type": "code",
   "execution_count": null,
   "id": "1a1506fa",
   "metadata": {},
   "outputs": [],
   "source": [
    "framework.data = data_df_small"
   ]
  },
  {
   "cell_type": "code",
   "execution_count": null,
   "id": "f65913d5",
   "metadata": {},
   "outputs": [],
   "source": [
    "framework.data[\"value_valid_from\"] = pd.to_datetime(framework.data[\"timestamp\"]).dt.tz_localize(None)"
   ]
  },
  {
   "cell_type": "code",
   "execution_count": null,
   "id": "b6542500",
   "metadata": {},
   "outputs": [],
   "source": [
    "group_key=['infobox_key', 'property_name']\n",
    "framework.data[\"key\"] = list(\n",
    "            zip(*[framework.data[group_key] for group_key in framework.group_key])\n",
    "        )"
   ]
  },
  {
   "cell_type": "code",
   "execution_count": null,
   "id": "4b978981-a40b-475d-936f-6a8983d740d0",
   "metadata": {
    "scrolled": true,
    "tags": []
   },
   "outputs": [],
   "source": [
    "framework.fit_model()"
   ]
  },
  {
   "cell_type": "code",
   "execution_count": null,
   "id": "026aa247-3a30-482c-ab30-dc3c24a883eb",
   "metadata": {},
   "outputs": [],
   "source": [
    "# print(framework.test_model(randomize=False, predict_subset=1))"
   ]
  },
  {
   "cell_type": "code",
   "execution_count": null,
   "id": "a84a90de",
   "metadata": {},
   "outputs": [],
   "source": [
    "# framework.generate_plots()"
   ]
  },
  {
   "cell_type": "code",
   "execution_count": null,
   "id": "1619c914",
   "metadata": {},
   "outputs": [],
   "source": [
    "import numpy as np\n",
    "thresholds = np.linspace(0,1,11)\n",
    "print(thresholds)\n",
    "stats={\"daily\":{\"prec\":[],\"rec\":[],\"y_hat_sum\":[]},\n",
    "      \"weekly\":{\"prec\":[],\"rec\":[],\"y_hat_sum\":[]},\n",
    "      \"monthly\":{\"prec\":[],\"rec\":[],\"y_hat_sum\":[]},\n",
    "      \"yearly\":{\"prec\":[],\"rec\":[],\"y_hat_sum\":[]}}\n",
    "for threshold in thresholds:\n",
    "    framework.predictor.threshold=threshold\n",
    "    framework.test_model(randomize=False, predict_subset=1,save_results=False)\n",
    "    for key,dic in zip(stats.keys(),framework.pred_stats):\n",
    "        stats[key][\"prec\"].append(dic[\"prec_recall\"][0][1])\n",
    "        stats[key][\"rec\"].append(dic[\"prec_recall\"][1][1])\n",
    "        stats[key][\"y_hat_sum\"].append(np.array(dic[\"y_hat\"]).sum())"
   ]
  },
  {
   "cell_type": "code",
   "execution_count": null,
   "id": "25fd2e36-3df3-45af-b057-b250ffe49e70",
   "metadata": {},
   "outputs": [],
   "source": [
    "import seaborn as sns\n",
    "import matplotlib.pyplot as plt\n",
    "key=\"daily\"\n",
    "\n",
    "title = key+\" precision and recall\"\n",
    "fig=sns.lineplot(data=pd.DataFrame(stats[key],thresholds).drop([\"y_hat_sum\"],axis=1))\n",
    "fig.set_title(title)\n",
    "fig.set_xlabel(\"threshold\")\n",
    "plt.savefig(title.replace(\" \",\"_\")+'.png')"
   ]
  },
  {
   "cell_type": "code",
   "execution_count": null,
   "id": "5c15ee3d-c531-437f-a03d-48b587b855f0",
   "metadata": {},
   "outputs": [],
   "source": [
    "fig=sns.barplot(x=np.around(thresholds,2),y=stats[key][\"y_hat_sum\"])\n",
    "title = key+\" absolute predictions\"\n",
    "fig.set_title(title)\n",
    "fig.set_xlabel(\"threshold\")\n",
    "plt.savefig(title.replace(\" \",\"_\")+'.png')"
   ]
  },
  {
   "cell_type": "code",
   "execution_count": null,
   "id": "b892ffe8-ddde-4fba-9656-50fbc34abac1",
   "metadata": {},
   "outputs": [],
   "source": [
    "import seaborn as sns\n",
    "key=\"weekly\"\n",
    "\n",
    "title = key+\" precision and recall\"\n",
    "fig=sns.lineplot(data=pd.DataFrame(stats[key],thresholds).drop([\"y_hat_sum\"],axis=1))\n",
    "fig.set_title(title)\n",
    "fig.set_xlabel(\"threshold\")\n",
    "plt.savefig(title.replace(\" \",\"_\")+'.png')"
   ]
  },
  {
   "cell_type": "code",
   "execution_count": null,
   "id": "c536ee03-37c8-4fe7-b75b-46124178f41f",
   "metadata": {},
   "outputs": [],
   "source": [
    "fig=sns.barplot(x=np.around(thresholds,2),y=stats[key][\"y_hat_sum\"])\n",
    "title = key+\" absolute predictions\"\n",
    "fig.set_title(title)\n",
    "fig.set_xlabel(\"threshold\")\n",
    "plt.savefig(title.replace(\" \",\"_\")+'.png')"
   ]
  },
  {
   "cell_type": "code",
   "execution_count": null,
   "id": "e3bce016-4534-4c4b-a117-8572c6438534",
   "metadata": {},
   "outputs": [],
   "source": [
    "import seaborn as sns\n",
    "key=\"monthly\"\n",
    "\n",
    "title = key+\" precision and recall\"\n",
    "fig=sns.lineplot(data=pd.DataFrame(stats[key],thresholds).drop([\"y_hat_sum\"],axis=1))\n",
    "fig.set_title(title)\n",
    "fig.set_xlabel(\"threshold\")\n",
    "plt.savefig(title.replace(\" \",\"_\")+'.png')"
   ]
  },
  {
   "cell_type": "code",
   "execution_count": null,
   "id": "35bad81f-45fa-410e-bbff-1418bdb8753b",
   "metadata": {},
   "outputs": [],
   "source": [
    "fig=sns.barplot(x=np.around(thresholds,2),y=stats[key][\"y_hat_sum\"])\n",
    "title = key+\" absolute predictions\"\n",
    "fig.set_title(title)\n",
    "fig.set_xlabel(\"threshold\")\n",
    "plt.savefig(title.replace(\" \",\"_\")+'.png')"
   ]
  },
  {
   "cell_type": "code",
   "execution_count": null,
   "id": "fe416158-af7b-4e56-97d8-5f5070c7f3e0",
   "metadata": {},
   "outputs": [],
   "source": [
    "import seaborn as sns\n",
    "key=\"yearly\"\n",
    "\n",
    "title = key+\" precision and recall\"\n",
    "fig=sns.lineplot(data=pd.DataFrame(stats[key],thresholds).drop([\"y_hat_sum\"],axis=1))\n",
    "fig.set_title(title)\n",
    "fig.set_xlabel(\"threshold\")\n",
    "plt.savefig(title.replace(\" \",\"_\")+'.png')"
   ]
  },
  {
   "cell_type": "code",
   "execution_count": null,
   "id": "2dc77854-ed34-40a8-9f6d-6b266234f300",
   "metadata": {},
   "outputs": [],
   "source": [
    "fig=sns.barplot(x=np.around(thresholds,2),y=stats[key][\"y_hat_sum\"])\n",
    "title = key+\" absolute predictions\"\n",
    "fig.set_title(title)\n",
    "fig.set_xlabel(\"threshold\")\n",
    "plt.savefig(title.replace(\" \",\"_\")+'.png')"
   ]
  },
  {
   "cell_type": "code",
   "execution_count": null,
   "id": "d50c2e97-f9d7-42ce-b31b-f2893afe3707",
   "metadata": {},
   "outputs": [],
   "source": [
    "framework.predictor.threshold=1.0\n",
    "framework.predictor.min_number_changes=300\n",
    "print(framework.test_model(randomize=False, predict_subset=1,save_results=False))"
   ]
  },
  {
   "cell_type": "code",
   "execution_count": null,
   "id": "8248e42b-0e37-47c6-8a8e-624e59adc24d",
   "metadata": {},
   "outputs": [],
   "source": []
  }
 ],
 "metadata": {
  "kernelspec": {
   "display_name": "Python 3",
   "language": "python",
   "name": "python3"
  },
  "language_info": {
   "codemirror_mode": {
    "name": "ipython",
    "version": 3
   },
   "file_extension": ".py",
   "mimetype": "text/x-python",
   "name": "python",
   "nbconvert_exporter": "python",
   "pygments_lexer": "ipython3",
   "version": "3.6.9"
  }
 },
 "nbformat": 4,
 "nbformat_minor": 5
}
