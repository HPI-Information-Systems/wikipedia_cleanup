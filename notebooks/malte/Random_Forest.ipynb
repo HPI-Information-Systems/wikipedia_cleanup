{
 "cells": [
  {
   "cell_type": "markdown",
   "id": "34c7623d-aace-4c48-bd7f-59d837d4fdf6",
   "metadata": {},
   "source": [
    "# Random Forest"
   ]
  },
  {
   "cell_type": "code",
   "execution_count": null,
   "id": "b7ac590d-d8d1-4237-a135-0664553fb40b",
   "metadata": {},
   "outputs": [],
   "source": [
    "from sklearn.ensemble import RandomForestClassifier\n",
    "import pandas as pd\n",
    "import numpy as np"
   ]
  },
  {
   "cell_type": "markdown",
   "id": "d7ea10ad-c7ca-4d04-8cff-9f5f9a8a2797",
   "metadata": {},
   "source": [
    "Using build-in sklean dataset"
   ]
  },
  {
   "cell_type": "code",
   "execution_count": null,
   "id": "f8176e05-1b81-49c1-b05e-f15855e9894c",
   "metadata": {},
   "outputs": [],
   "source": [
    "from sklearn.datasets import make_classification\n",
    "X, y = make_classification(n_samples=1000, n_features=4,\n",
    "                           n_informative=2, n_redundant=0,\n",
    "                           random_state=0, shuffle=False)"
   ]
  },
  {
   "cell_type": "code",
   "execution_count": null,
   "id": "35c9366c-9146-4d37-9076-207723fd4b3f",
   "metadata": {
    "collapsed": true,
    "jupyter": {
     "outputs_hidden": true
    },
    "tags": []
   },
   "outputs": [],
   "source": [
    "y"
   ]
  },
  {
   "cell_type": "code",
   "execution_count": null,
   "id": "ec0e8bd3-d3d4-491a-80aa-bdd4898d8f0a",
   "metadata": {},
   "outputs": [],
   "source": [
    "clf = RandomForestClassifier(max_depth=2, random_state=0)\n",
    "clf.fit(X, y)"
   ]
  },
  {
   "cell_type": "code",
   "execution_count": null,
   "id": "485ec80e-3ba6-4ba3-bbb7-e64e9aafd27f",
   "metadata": {},
   "outputs": [],
   "source": [
    "print(clf.predict([[0, 0, 0, 0]]))"
   ]
  },
  {
   "cell_type": "markdown",
   "id": "08503ece-fb06-44d6-b596-283bb7b673dd",
   "metadata": {},
   "source": [
    "Using our data"
   ]
  },
  {
   "cell_type": "code",
   "execution_count": null,
   "id": "603a112a-b569-49cd-9dd9-b3ed740c08cd",
   "metadata": {},
   "outputs": [],
   "source": [
    "df_pop_no_features = pd.read_csv('../../data/popular_data.csv')"
   ]
  },
  {
   "cell_type": "code",
   "execution_count": null,
   "id": "3765d6f9",
   "metadata": {},
   "outputs": [],
   "source": [
    "from wikipedia_cleanup.data_processing import get_data_single, feature_generation"
   ]
  },
  {
   "cell_type": "code",
   "execution_count": null,
   "id": "4d260a1a",
   "metadata": {},
   "outputs": [],
   "source": [
    "df_pop_no_features[(df_pop_no_features['infobox_key']=='254442624-0') & (df_pop_no_features['property_name']=='num_episodes')]"
   ]
  },
  {
   "cell_type": "code",
   "execution_count": null,
   "id": "030de062",
   "metadata": {},
   "outputs": [],
   "source": [
    "df_pop['timestamp'] = pd.to_datetime(df_pop['timestamp'])"
   ]
  },
  {
   "cell_type": "code",
   "execution_count": null,
   "id": "0b01424e",
   "metadata": {},
   "outputs": [],
   "source": [
    "df_pop = feature_generation(df_pop)"
   ]
  },
  {
   "cell_type": "code",
   "execution_count": null,
   "id": "f3de6c0a",
   "metadata": {},
   "outputs": [],
   "source": [
    "df_pop.columns"
   ]
  },
  {
   "cell_type": "code",
   "execution_count": null,
   "id": "aecd413b",
   "metadata": {},
   "outputs": [],
   "source": [
    "df_pop.drop(columns=['Unnamed: 0','previous_value', 'current_value', 'days_diff', 'page_title'], inplace=True)"
   ]
  },
  {
   "cell_type": "code",
   "execution_count": null,
   "id": "e096fc42-09b7-4a05-8900-816a5dfbf269",
   "metadata": {},
   "outputs": [],
   "source": [
    "df_pop.replace(' ', '_', regex=True, inplace=True)"
   ]
  },
  {
   "cell_type": "code",
   "execution_count": null,
   "id": "31b3befc",
   "metadata": {},
   "outputs": [],
   "source": [
    "df_pop = pd.get_dummies(df_pop,columns=['property_name', 'template'])"
   ]
  },
  {
   "cell_type": "code",
   "execution_count": null,
   "id": "d2959e34",
   "metadata": {},
   "outputs": [],
   "source": [
    "df_pop"
   ]
  },
  {
   "cell_type": "code",
   "execution_count": null,
   "id": "b2be655f",
   "metadata": {},
   "outputs": [],
   "source": [
    "df_pop.to_csv('../../data/popular_data_with_features.csv')"
   ]
  },
  {
   "cell_type": "code",
   "execution_count": null,
   "id": "646e3628-b4c8-4ad5-8fd8-52136ae8b4f2",
   "metadata": {},
   "outputs": [],
   "source": [
    "sample = df_pop[(df_pop['infobox_key']=='254442624-0') & (df_pop['property_name_num_episodes'])]"
   ]
  },
  {
   "cell_type": "code",
   "execution_count": null,
   "id": "2666e8ef",
   "metadata": {},
   "outputs": [],
   "source": [
    "sample.drop(columns='infobox_key', inplace=True)"
   ]
  },
  {
   "cell_type": "code",
   "execution_count": null,
   "id": "73b784ee",
   "metadata": {},
   "outputs": [],
   "source": [
    "sample"
   ]
  },
  {
   "cell_type": "code",
   "execution_count": null,
   "id": "71511eb1",
   "metadata": {},
   "outputs": [],
   "source": [
    "train = sample[sample['timestamp']<'2019-01-01']"
   ]
  },
  {
   "cell_type": "code",
   "execution_count": null,
   "id": "17d1a456",
   "metadata": {},
   "outputs": [],
   "source": [
    "test = sample[sample['timestamp']>='2019-01-01']"
   ]
  },
  {
   "cell_type": "code",
   "execution_count": null,
   "id": "4651e7a3",
   "metadata": {},
   "outputs": [],
   "source": [
    "train.drop(columns='timestamp', inplace=True)"
   ]
  },
  {
   "cell_type": "code",
   "execution_count": null,
   "id": "b76bcddf",
   "metadata": {},
   "outputs": [],
   "source": [
    "test.drop(columns='timestamp', inplace=True)"
   ]
  },
  {
   "cell_type": "code",
   "execution_count": null,
   "id": "f0859cce",
   "metadata": {},
   "outputs": [],
   "source": [
    "X_train = train.drop(columns='days_until_next_change')\n",
    "X_test = test.drop(columns='days_until_next_change')\n",
    "y_train = train['days_until_next_change']\n",
    "y_test = test['days_until_next_change']"
   ]
  },
  {
   "cell_type": "code",
   "execution_count": null,
   "id": "d9fa67bc",
   "metadata": {},
   "outputs": [],
   "source": [
    "train.columns"
   ]
  },
  {
   "cell_type": "markdown",
   "id": "77f9d739",
   "metadata": {},
   "source": [
    "Fitting + predictions"
   ]
  },
  {
   "cell_type": "code",
   "execution_count": null,
   "id": "42f774dd",
   "metadata": {},
   "outputs": [],
   "source": [
    "clf = RandomForestClassifier(random_state=0, n_estimators=1000)\n",
    "clf.fit(X_train, y_train)"
   ]
  },
  {
   "cell_type": "code",
   "execution_count": null,
   "id": "3cb37a9d",
   "metadata": {},
   "outputs": [],
   "source": [
    "preds = clf.predict(X_test)"
   ]
  },
  {
   "cell_type": "code",
   "execution_count": null,
   "id": "bb8a2014",
   "metadata": {},
   "outputs": [],
   "source": [
    "preds"
   ]
  },
  {
   "cell_type": "code",
   "execution_count": null,
   "id": "75d1a703",
   "metadata": {},
   "outputs": [],
   "source": [
    "y_test.values\n"
   ]
  },
  {
   "cell_type": "code",
   "execution_count": null,
   "id": "e9227a03",
   "metadata": {},
   "outputs": [],
   "source": [
    "precision = sum(preds == y_test.values)/len(preds)"
   ]
  },
  {
   "cell_type": "code",
   "execution_count": null,
   "id": "e3a6416e",
   "metadata": {},
   "outputs": [],
   "source": [
    "precision"
   ]
  },
  {
   "cell_type": "code",
   "execution_count": null,
   "id": "dcea0350",
   "metadata": {},
   "outputs": [],
   "source": []
  }
 ],
 "metadata": {
  "kernelspec": {
   "display_name": "Python 3",
   "language": "python",
   "name": "python3"
  },
  "language_info": {
   "codemirror_mode": {
    "name": "ipython",
    "version": 3
   },
   "file_extension": ".py",
   "mimetype": "text/x-python",
   "name": "python",
   "nbconvert_exporter": "python",
   "pygments_lexer": "ipython3",
   "version": "3.6.9"
  }
 },
 "nbformat": 4,
 "nbformat_minor": 5
}
