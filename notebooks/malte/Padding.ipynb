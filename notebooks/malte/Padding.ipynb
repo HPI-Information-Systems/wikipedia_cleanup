{
 "cells": [
  {
   "cell_type": "code",
   "execution_count": null,
   "id": "064e4146-c0b0-419e-adca-008aa93eee78",
   "metadata": {},
   "outputs": [],
   "source": [
    "import pandas as pd\n",
    "import numpy as np"
   ]
  },
  {
   "cell_type": "markdown",
   "id": "3e36d85e-9bee-436c-bc0d-2644418b4c0e",
   "metadata": {},
   "source": [
    "Load data"
   ]
  },
  {
   "cell_type": "code",
   "execution_count": null,
   "id": "b2739f37-a752-4132-9528-466c097c02d0",
   "metadata": {},
   "outputs": [],
   "source": [
    "data = pd.read_csv('../../data/popular_data_with_features.csv')"
   ]
  },
  {
   "cell_type": "code",
   "execution_count": null,
   "id": "961f02c3-78f0-4b7c-aabc-c6a3b6db4af0",
   "metadata": {},
   "outputs": [],
   "source": [
    "data[\"value_valid_from\"]=pd.to_datetime(data[\"value_valid_from\"]).dt.normalize().dt.tz_localize(None)"
   ]
  },
  {
   "cell_type": "code",
   "execution_count": null,
   "id": "f101c5c3-f73e-401f-869f-9dd94d195a23",
   "metadata": {},
   "outputs": [],
   "source": [
    "test_df = data[(data['infobox_key'] == '60103127-0') & (data['property_name'] == 'genre')]"
   ]
  },
  {
   "cell_type": "code",
   "execution_count": null,
   "id": "43dd47c4-0c21-41c7-8254-2b531eefc89b",
   "metadata": {},
   "outputs": [],
   "source": [
    "test_df['is_change'] = True"
   ]
  },
  {
   "cell_type": "code",
   "execution_count": null,
   "id": "c1e3a644-7c09-44b6-8484-217d57358a83",
   "metadata": {},
   "outputs": [],
   "source": [
    "ranges = test_df['days_since_last_change'].apply(lambda x: list(range(1, x+1)))"
   ]
  },
  {
   "cell_type": "code",
   "execution_count": null,
   "id": "7afbf7c8-dd40-4a0f-91a9-e18ce401da45",
   "metadata": {},
   "outputs": [],
   "source": [
    "revert_ranges = test_df['days_since_last_change'].apply(lambda x: list(range(x+1, 1, -1)))"
   ]
  },
  {
   "cell_type": "code",
   "execution_count": null,
   "id": "124021a0-f3e3-478b-8c84-65a0019b6c80",
   "metadata": {},
   "outputs": [],
   "source": [
    "ranges = np.append([0],np.concatenate(ranges.values).ravel())"
   ]
  },
  {
   "cell_type": "code",
   "execution_count": null,
   "id": "790653d9-0317-4ef8-b29f-35da9cd15dd0",
   "metadata": {},
   "outputs": [],
   "source": [
    "test_df = test_df.set_index('value_valid_from').apply(lambda x: x.reindex(pd.date_range(x.index.min(), x.index.max(), freq='D', name='value_valid_from'))).drop(['infobox_key', 'property_name', 'template'], axis=1).fillna(False)"
   ]
  },
  {
   "cell_type": "code",
   "execution_count": null,
   "id": "1b6807e4-1859-4461-885d-a42488d23307",
   "metadata": {},
   "outputs": [],
   "source": [
    "test_df = test_df.reset_index()"
   ]
  },
  {
   "cell_type": "code",
   "execution_count": null,
   "id": "d613e7c3-bdcc-4309-8172-93323a6f3792",
   "metadata": {},
   "outputs": [],
   "source": [
    "test_df"
   ]
  },
  {
   "cell_type": "code",
   "execution_count": null,
   "id": "57563e6a-30c2-47e4-903a-b1dda59f3502",
   "metadata": {},
   "outputs": [],
   "source": [
    "test_df[\"day_of_year\"] = test_df[\"value_valid_from\"].dt.dayofyear\n",
    "test_df[\"day_of_month\"] = test_df[\"value_valid_from\"].dt.day\n",
    "test_df[\"day_of_week\"] = test_df[\"value_valid_from\"].dt.dayofweek\n",
    "test_df[\"month_of_year\"] = test_df[\"value_valid_from\"].dt.month\n",
    "test_df[\"quarter_of_year\"] = test_df[\"value_valid_from\"].dt.quarter\n",
    "test_df[\"is_month_start\"] = test_df[\"value_valid_from\"].dt.is_month_start\n",
    "test_df[\"is_month_end\"] = test_df[\"value_valid_from\"].dt.is_month_end\n",
    "test_df[\"is_quarter_start\"] = test_df[\"value_valid_from\"].dt.is_quarter_start\n",
    "test_df[\"is_quarter_end\"] = test_df[\"value_valid_from\"].dt.is_quarter_end"
   ]
  },
  {
   "cell_type": "code",
   "execution_count": null,
   "id": "28fad9fc-f096-4fb2-b33a-9468e920468f",
   "metadata": {},
   "outputs": [],
   "source": [
    "test_df['days_since_last_change'] = ranges"
   ]
  },
  {
   "cell_type": "code",
   "execution_count": null,
   "id": "13399337-724b-491a-8a41-928d7cc8481f",
   "metadata": {},
   "outputs": [],
   "source": [
    "test_df['is_change'] = test_df[test_df['days_']]"
   ]
  },
  {
   "cell_type": "code",
   "execution_count": null,
   "id": "c1e3a644-7c09-44b6-8484-217d57358a83",
   "metadata": {},
   "outputs": [],
   "source": [
    "mydf = data[:100000].set_index('timestamp').groupby(['infobox_key', 'property_name', 'template']).apply(lambda x: x.reindex(pd.date_range(x.index.min(), x.index.max(), freq='D', name='timestamp'))).drop(['infobox_key', 'property_name', 'template'], axis=1).fillna(0)\n",
    "mydf = mydf.reset_index()"
   ]
  },
  {
   "cell_type": "code",
   "execution_count": null,
   "id": "def968b3-d640-47f2-8899-31675a9e72af",
   "metadata": {},
   "outputs": [],
   "source": [
    "mydf = data.set_index('timestamp').groupby(['infobox_key', 'property_name', 'template']).apply(lambda x: x.reindex(pd.date_range(x.index.min(), x.index.max(), freq='D', name='timestamp'))).drop(['infobox_key', 'property_name', 'template'], axis=1).fillna(0)\n",
    "mydf = mydf.reset_index()\n",
    "# crashed with >90 GB RAM usage --> not feasible"
   ]
  },
  {
   "cell_type": "code",
   "execution_count": null,
   "id": "6762be4a-b3db-47a6-ad68-483535d3194e",
   "metadata": {},
   "outputs": [],
   "source": []
  }
 ],
 "metadata": {
  "kernelspec": {
   "display_name": "Python 3.6.9 64-bit ('wikipedia': conda)",
   "language": "python",
   "name": "python369jvsc74a57bd0bace33a7ec15c3f432913ad302c35e35547eacd833f75b02739133af91cffda5"
  },
  "language_info": {
   "codemirror_mode": {
    "name": "ipython",
    "version": 3
   },
   "file_extension": ".py",
   "mimetype": "text/x-python",
   "name": "python",
   "nbconvert_exporter": "python",
   "pygments_lexer": "ipython3",
   "version": "3.6.9"
  }
 },
 "nbformat": 4,
 "nbformat_minor": 5
}
