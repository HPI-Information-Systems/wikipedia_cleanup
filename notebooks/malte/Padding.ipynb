{
 "cells": [
  {
   "cell_type": "code",
   "execution_count": null,
   "id": "064e4146-c0b0-419e-adca-008aa93eee78",
   "metadata": {},
   "outputs": [],
   "source": [
    "import pandas as pd\n",
    "import numpy as np"
   ]
  },
  {
   "cell_type": "markdown",
   "id": "3e36d85e-9bee-436c-bc0d-2644418b4c0e",
   "metadata": {},
   "source": [
    "Load data"
   ]
  },
  {
   "cell_type": "code",
   "execution_count": null,
   "id": "b2739f37-a752-4132-9528-466c097c02d0",
   "metadata": {},
   "outputs": [],
   "source": [
    "data = pd.read_csv('../../data/popular_data_with_features.csv')"
   ]
  },
  {
   "cell_type": "code",
   "execution_count": null,
   "id": "961f02c3-78f0-4b7c-aabc-c6a3b6db4af0",
   "metadata": {},
   "outputs": [],
   "source": [
    "data[\"timestamp\"]=pd.to_datetime(data[\"timestamp\"]).dt.normalize().dt.tz_localize(None)"
   ]
  },
  {
   "cell_type": "code",
   "execution_count": null,
   "id": "f101c5c3-f73e-401f-869f-9dd94d195a23",
   "metadata": {},
   "outputs": [],
   "source": [
    "data.drop(columns=['Unnamed: 0'], inplace=True)"
   ]
  },
  {
   "cell_type": "code",
   "execution_count": null,
   "id": "43dd47c4-0c21-41c7-8254-2b531eefc89b",
   "metadata": {},
   "outputs": [],
   "source": [
    "data"
   ]
  },
  {
   "cell_type": "code",
   "execution_count": null,
   "id": "c1e3a644-7c09-44b6-8484-217d57358a83",
   "metadata": {},
   "outputs": [],
   "source": [
    "mydf = data[:100000].set_index('timestamp').groupby(['infobox_key', 'property_name', 'template']).apply(lambda x: x.reindex(pd.date_range(x.index.min(), x.index.max(), freq='D', name='timestamp'))).drop(['infobox_key', 'property_name', 'template'], axis=1).fillna(0)\n",
    "mydf = mydf.reset_index()"
   ]
  },
  {
   "cell_type": "code",
   "execution_count": null,
   "id": "7afbf7c8-dd40-4a0f-91a9-e18ce401da45",
   "metadata": {},
   "outputs": [],
   "source": [
    "mydf"
   ]
  },
  {
   "cell_type": "code",
   "execution_count": null,
   "id": "def968b3-d640-47f2-8899-31675a9e72af",
   "metadata": {},
   "outputs": [],
   "source": [
    "mydf = data.set_index('timestamp').groupby(['infobox_key', 'property_name', 'template']).apply(lambda x: x.reindex(pd.date_range(x.index.min(), x.index.max(), freq='D', name='timestamp'))).drop(['infobox_key', 'property_name', 'template'], axis=1).fillna(0)\n",
    "mydf = mydf.reset_index()\n",
    "# crashed with >90 GB RAM usage --> not feasible"
   ]
  },
  {
   "cell_type": "code",
   "execution_count": null,
   "id": "6762be4a-b3db-47a6-ad68-483535d3194e",
   "metadata": {},
   "outputs": [],
   "source": []
  }
 ],
 "metadata": {
  "kernelspec": {
   "display_name": "Python 3.6.9 64-bit ('wikipedia': conda)",
   "language": "python",
   "name": "python369jvsc74a57bd0bace33a7ec15c3f432913ad302c35e35547eacd833f75b02739133af91cffda5"
  },
  "language_info": {
   "codemirror_mode": {
    "name": "ipython",
    "version": 3
   },
   "file_extension": ".py",
   "mimetype": "text/x-python",
   "name": "python",
   "nbconvert_exporter": "python",
   "pygments_lexer": "ipython3",
   "version": "3.6.9"
  }
 },
 "nbformat": 4,
 "nbformat_minor": 5
}
