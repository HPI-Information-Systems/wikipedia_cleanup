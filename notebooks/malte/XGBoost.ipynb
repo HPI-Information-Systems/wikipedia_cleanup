{
 "cells": [
  {
   "cell_type": "markdown",
   "id": "80b18a09-ca0c-453c-be0a-bdfe957d3642",
   "metadata": {},
   "source": [
    "# Prediction using XGBoost"
   ]
  },
  {
   "cell_type": "code",
   "execution_count": null,
   "id": "7d00de79-492d-4ca5-8974-7ad49becd3e9",
   "metadata": {},
   "outputs": [],
   "source": [
    "import xgboost as xgb\n",
    "import pandas as pd\n",
    "import numpy as np\n",
    "from sklearn.model_selection import train_test_split, GridSearchCV\n",
    "from sklearn.metrics import mean_absolute_error, balanced_accuracy_score, roc_auc_score, make_scorer\n",
    "from sklearn.metrics import confusion_matrix, plot_confusion_matrix"
   ]
  },
  {
   "cell_type": "markdown",
   "id": "22b42cae-57bc-44c8-81c2-f4b3be5d1637",
   "metadata": {},
   "source": [
    "## Telco churn data"
   ]
  },
  {
   "cell_type": "markdown",
   "id": "ae1082b8-8ad7-4917-89ed-89ad5ad86f0a",
   "metadata": {},
   "source": [
    "### Data loading and pre-processing"
   ]
  },
  {
   "cell_type": "code",
   "execution_count": null,
   "id": "c612f379-8418-4d45-b3d1-89d4ff0b4cc0",
   "metadata": {},
   "outputs": [],
   "source": [
    "df = pd.read_csv('Telco_customer_churn.csv', delimiter=';')"
   ]
  },
  {
   "cell_type": "code",
   "execution_count": null,
   "id": "7dab0adc-3f15-4685-8d90-41656d98f905",
   "metadata": {},
   "outputs": [],
   "source": [
    "df.head()"
   ]
  },
  {
   "cell_type": "markdown",
   "id": "554f57bd-8671-459e-831c-2ee0c2b01cd5",
   "metadata": {},
   "source": [
    "Drop unnecessary or unique columns"
   ]
  },
  {
   "cell_type": "code",
   "execution_count": null,
   "id": "16116509-338e-4f68-99bb-75dbdad20340",
   "metadata": {},
   "outputs": [],
   "source": [
    "df.drop(columns=['Count','Country','State','CustomerID','Lat Long','Churn Label', 'Churn Score', 'CLTV', 'Churn Reason'], inplace=True)"
   ]
  },
  {
   "cell_type": "markdown",
   "id": "5e11ee7a-9d2b-4cdd-a5cb-e09a767a8435",
   "metadata": {},
   "source": [
    "Remove whitespace in city names and column names"
   ]
  },
  {
   "cell_type": "code",
   "execution_count": null,
   "id": "5e95daa9-58ca-43b8-9ef4-827606cea48c",
   "metadata": {},
   "outputs": [],
   "source": [
    "df['City'].replace(' ', '_', regex=True, inplace=True)"
   ]
  },
  {
   "cell_type": "code",
   "execution_count": null,
   "id": "971c49bb-91a6-430f-b6d3-42921f5be05f",
   "metadata": {},
   "outputs": [],
   "source": [
    "df.columns = df.columns.str.replace(' ', '_')"
   ]
  },
  {
   "cell_type": "markdown",
   "id": "16dd01ed-84e5-4e3a-aafc-46af6f932828",
   "metadata": {},
   "source": [
    "Look at the datatypes"
   ]
  },
  {
   "cell_type": "code",
   "execution_count": null,
   "id": "1c5b76f5-42f5-4f57-857d-63a66d04fb45",
   "metadata": {},
   "outputs": [],
   "source": [
    "df.dtypes"
   ]
  },
  {
   "cell_type": "markdown",
   "id": "8aa2fe6d-63dc-4286-b421-94b7f49bf132",
   "metadata": {},
   "source": [
    "Set empty strings / spaces to 0"
   ]
  },
  {
   "cell_type": "code",
   "execution_count": null,
   "id": "9188a19b-3423-4118-a646-548361c5ed94",
   "metadata": {},
   "outputs": [],
   "source": [
    "df.loc[(df['Total_Charges']==' '),'Total_Charges'] = 0"
   ]
  },
  {
   "cell_type": "code",
   "execution_count": null,
   "id": "34fbbdc4-9ee7-40c2-ae4c-858104e5c7e7",
   "metadata": {},
   "outputs": [],
   "source": [
    "df['Total_Charges'] = pd.to_numeric(df['Total_Charges'].str.replace(',', '.'))"
   ]
  },
  {
   "cell_type": "code",
   "execution_count": null,
   "id": "e224a91b-96a3-4b1d-abe9-dde68df51712",
   "metadata": {},
   "outputs": [],
   "source": [
    "df['Latitude'] = pd.to_numeric(df['Latitude'].str.replace(',', '.'))\n",
    "df['Longitude'] = pd.to_numeric(df['Longitude'].str.replace(',', '.'))\n",
    "df['Monthly_Charges'] = pd.to_numeric(df['Monthly_Charges'].str.replace(',', '.'))"
   ]
  },
  {
   "cell_type": "markdown",
   "id": "054586c0-4ddb-4e6d-9a1d-ee8dee7a4425",
   "metadata": {},
   "source": [
    "Replace spaces in whole dataframe with _"
   ]
  },
  {
   "cell_type": "code",
   "execution_count": null,
   "id": "da6df00e-1295-43d2-97ce-bdfcbb1eb586",
   "metadata": {},
   "outputs": [],
   "source": [
    "df.replace(' ', '_', regex=True, inplace=True)"
   ]
  },
  {
   "cell_type": "code",
   "execution_count": null,
   "id": "8837072e-0ccd-48ec-86c3-1660c31dc4cd",
   "metadata": {},
   "outputs": [],
   "source": [
    "df"
   ]
  },
  {
   "cell_type": "markdown",
   "id": "85fec3f7-0e7d-421b-a783-81592b53b21d",
   "metadata": {},
   "source": [
    "### Split data into dependent and independent variables"
   ]
  },
  {
   "cell_type": "code",
   "execution_count": null,
   "id": "780f7f6f-2d5a-42d3-b23a-316341d32373",
   "metadata": {},
   "outputs": [],
   "source": [
    "X = df.drop('Churn_Value', axis=1).copy()\n",
    "y = df['Churn_Value'].copy()"
   ]
  },
  {
   "cell_type": "markdown",
   "id": "6cc4349d-6d7c-4946-a02f-c2e91b224831",
   "metadata": {},
   "source": [
    "### One-hot encoding"
   ]
  },
  {
   "cell_type": "code",
   "execution_count": null,
   "id": "bedd9200-c1a5-4b7d-8ef2-d42ccc5897e8",
   "metadata": {},
   "outputs": [],
   "source": [
    "X.dtypes"
   ]
  },
  {
   "cell_type": "markdown",
   "id": "d0d76584-cdcb-4542-a67d-0efdf6cadf92",
   "metadata": {},
   "source": [
    "All object columns need to be inspected and categorical data has to be encoded"
   ]
  },
  {
   "cell_type": "code",
   "execution_count": null,
   "id": "96d39fb3-ca12-4072-bbb1-54c34368f4ac",
   "metadata": {},
   "outputs": [],
   "source": [
    "X_encoded = pd.get_dummies(X, columns=['City', 'Gender','Partner', 'Dependents', 'Phone_Service', 'Multiple_Lines', \\\n",
    "                                      'Internet_Service', 'Online_Security', 'Online_Backup', 'Device_Protection',\\\n",
    "                                      'Tech_Support', 'Streaming_TV', 'Streaming_Movies', 'Contract', 'Paperless_Billing',\\\n",
    "                                      'Payment_Method', 'Senior_Citizen'])"
   ]
  },
  {
   "cell_type": "code",
   "execution_count": null,
   "id": "bf1eb984-e1db-41c8-8b8a-5fc2cbaf6eec",
   "metadata": {},
   "outputs": [],
   "source": [
    "X_encoded.head()"
   ]
  },
  {
   "cell_type": "markdown",
   "id": "6613a682-7743-4435-b1cd-9e2c2c90cedd",
   "metadata": {},
   "source": [
    "y should only contain 1s and 0s"
   ]
  },
  {
   "cell_type": "code",
   "execution_count": null,
   "id": "ed822e98-cebb-4b35-9a87-c215fbff8d10",
   "metadata": {},
   "outputs": [],
   "source": [
    "y.unique()"
   ]
  },
  {
   "cell_type": "markdown",
   "id": "f9574a8f-d86a-4adf-960c-84b99b3916e2",
   "metadata": {},
   "source": [
    "### Build preliminary XGBoost Model"
   ]
  },
  {
   "cell_type": "code",
   "execution_count": null,
   "id": "e1dcbc38-6dc1-4d04-a032-8fa67188d3e3",
   "metadata": {},
   "outputs": [],
   "source": [
    "sum(y)/len(y)"
   ]
  },
  {
   "cell_type": "markdown",
   "id": "062a95ef-6937-46d9-a71b-80e6bfb7ef5a",
   "metadata": {},
   "source": [
    "--> percentage of people that left the company\n",
    "\n",
    "--> we need to use stratification to ensure that the same percentage is present in both the train and test set"
   ]
  },
  {
   "cell_type": "code",
   "execution_count": null,
   "id": "f56554a3-9885-49f0-b7ce-044bb2a868a3",
   "metadata": {},
   "outputs": [],
   "source": [
    "X_train, X_test, y_train, y_test = train_test_split(X_encoded, y, random_state=42, stratify=y)"
   ]
  },
  {
   "cell_type": "markdown",
   "id": "1612851a-35bb-437e-a0fb-5ceba8eda8e1",
   "metadata": {},
   "source": [
    "Verify that stratify worked:"
   ]
  },
  {
   "cell_type": "code",
   "execution_count": null,
   "id": "8de32b5e-5e23-4886-9b5d-6f5db8668cb4",
   "metadata": {},
   "outputs": [],
   "source": [
    "print(sum(y_train)/len(y_train), sum(y_test)/len(y_test))"
   ]
  },
  {
   "cell_type": "code",
   "execution_count": null,
   "id": "7ddfea79-bad8-42c3-868c-3cd6658c01c6",
   "metadata": {},
   "outputs": [],
   "source": [
    "clf_xgb = xgb.XGBClassifier(objective='binary:logistic', missing=1, seed=42, use_label_encoder=False)"
   ]
  },
  {
   "cell_type": "code",
   "execution_count": null,
   "id": "9b506ce3-44d0-4329-8f47-f616952867d6",
   "metadata": {},
   "outputs": [],
   "source": [
    "clf_xgb.fit(X_train, y_train, verbose=True, early_stopping_rounds=10, eval_metric='aucpr', eval_set=[(X_test, y_test)])"
   ]
  },
  {
   "cell_type": "code",
   "execution_count": null,
   "id": "b225c5c6-c910-4c70-ad13-d6e87bd6dabd",
   "metadata": {},
   "outputs": [],
   "source": [
    "plot_confusion_matrix(clf_xgb, X_test, y_test, values_format='d', display_labels=['Did not leave', 'Left'])"
   ]
  },
  {
   "cell_type": "markdown",
   "id": "72008348-b092-4712-8fd8-b1ce445cb3a9",
   "metadata": {},
   "source": [
    "--> Not good because dataset is imbalanced!"
   ]
  },
  {
   "cell_type": "markdown",
   "id": "e9e3a697-eef8-4885-afd2-2f0a9ea5e7af",
   "metadata": {},
   "source": [
    "Use scale_pos_weight penalty for incorrectly labeling the "
   ]
  },
  {
   "cell_type": "markdown",
   "id": "8b6b0465-6fae-4a11-8a11-a7e96ba580fe",
   "metadata": {},
   "source": [
    "### Optimization using Cross Validation and GridSearch"
   ]
  },
  {
   "cell_type": "code",
   "execution_count": null,
   "id": "8d8d4b54-d8ae-4705-8648-6839437289c1",
   "metadata": {},
   "outputs": [],
   "source": [
    "#TODO: later"
   ]
  },
  {
   "cell_type": "markdown",
   "id": "c98a58d8-6214-40e0-9b5d-5f82a6e878af",
   "metadata": {},
   "source": [
    "### Draw first tree"
   ]
  },
  {
   "cell_type": "code",
   "execution_count": null,
   "id": "f9d4ab11-2c1d-49eb-b3d2-b16732d12a21",
   "metadata": {},
   "outputs": [],
   "source": [
    "clf_xgb = xgb.XGBRegressor(objective='binary:logistic', missing=None, seed=42, use_label_encoder=True, n_estimators=1)\n",
    "clf_xgb.fit(X_train, y_train)"
   ]
  },
  {
   "cell_type": "code",
   "execution_count": null,
   "id": "56dc81dc-eeb2-44b5-83c1-5dee522af873",
   "metadata": {},
   "outputs": [],
   "source": [
    "xgb.to_graphviz(clf_xgb, num_trees=0, size='10,10')"
   ]
  },
  {
   "cell_type": "markdown",
   "id": "fd7e6893-eff4-4109-8e8f-5eea3cd6025f",
   "metadata": {},
   "source": [
    "## Wikipedia data"
   ]
  },
  {
   "cell_type": "code",
   "execution_count": null,
   "id": "ef37a043-564d-410d-9c8a-6e0758fb5ca5",
   "metadata": {},
   "outputs": [],
   "source": [
    "df_pop = pd.read_csv('../../data/popular_data.csv')"
   ]
  },
  {
   "cell_type": "code",
   "execution_count": null,
   "id": "9f6b1b58-a4f0-48ca-ae1d-73d59df45984",
   "metadata": {},
   "outputs": [],
   "source": [
    "df_pop = df_pop[['infobox_key', 'property_name', 'template', 'days_diff']]"
   ]
  },
  {
   "cell_type": "code",
   "execution_count": null,
   "id": "e4c757b5-260c-472d-b5a8-0301adcf6f0a",
   "metadata": {},
   "outputs": [],
   "source": [
    "df_pop"
   ]
  },
  {
   "cell_type": "code",
   "execution_count": null,
   "id": "1b787c89-a3aa-4104-933b-ad17fd6551ca",
   "metadata": {},
   "outputs": [],
   "source": [
    "df_pop_many = df_pop.groupby('infobox_key')['property_name'].count().reset_index().rename(columns={'property_name':'count'})"
   ]
  },
  {
   "cell_type": "code",
   "execution_count": null,
   "id": "631169cd-25b6-472c-b5c9-bae665acab91",
   "metadata": {},
   "outputs": [],
   "source": [
    "pop_keys = df_pop_many[df_pop_many['count']>10]['infobox_key'].tolist()"
   ]
  },
  {
   "cell_type": "code",
   "execution_count": null,
   "id": "26bdbcd9-41fa-4f4e-9f91-3a28754ae835",
   "metadata": {},
   "outputs": [],
   "source": [
    "df_pop = df_pop[df_pop['infobox_key'].isin(pop_keys)]"
   ]
  },
  {
   "cell_type": "code",
   "execution_count": null,
   "id": "8ff82739-1c6f-4f21-8835-ff94462aea8b",
   "metadata": {},
   "outputs": [],
   "source": [
    "df_pop.loc[:,'time_til_next_change'] = df_pop.groupby(['infobox_key', 'property_name'])['days_diff'].shift(-1)"
   ]
  },
  {
   "cell_type": "code",
   "execution_count": null,
   "id": "bb1a4790-b7bf-4b68-b667-01bbbeb88af6",
   "metadata": {},
   "outputs": [],
   "source": [
    "df_pop.loc[:,'time_til_next_change'] = df_pop.loc[:,'time_til_next_change'].fillna(0)"
   ]
  },
  {
   "cell_type": "code",
   "execution_count": null,
   "id": "d2cafd1a-f059-432c-a237-14eb388164f4",
   "metadata": {},
   "outputs": [],
   "source": [
    "df_pop.loc[:,'time_til_next_change'] = df_pop.loc[:,'time_til_next_change'].apply(lambda x: pd.Timedelta(x).total_seconds()/(3600*24))"
   ]
  },
  {
   "cell_type": "code",
   "execution_count": null,
   "id": "c8bfee10-f0ae-457c-a95e-b386e54b7890",
   "metadata": {},
   "outputs": [],
   "source": [
    "df_pop.loc[:,'time_til_next_change'] = df_pop.loc[:,'time_til_next_change'].apply(lambda x: round(x))"
   ]
  },
  {
   "cell_type": "code",
   "execution_count": null,
   "id": "91261edc-b7ab-4d29-9a64-63edb5814f2a",
   "metadata": {},
   "outputs": [],
   "source": [
    "df_pop.replace(' ', '_', regex=True, inplace=True)"
   ]
  },
  {
   "cell_type": "code",
   "execution_count": null,
   "id": "226211d6-9448-4c13-bb76-613f7ceb9d6c",
   "metadata": {},
   "outputs": [],
   "source": [
    "df_pop['infobox_key'].replace('-','', regex=True, inplace=True)"
   ]
  },
  {
   "cell_type": "code",
   "execution_count": null,
   "id": "69a7d236-e479-45f1-8cc2-e509cb3d649a",
   "metadata": {},
   "outputs": [],
   "source": [
    "df_pop['infobox_key'] = pd.to_numeric(df_pop['infobox_key'])"
   ]
  },
  {
   "cell_type": "code",
   "execution_count": null,
   "id": "94ca22f1-4101-4dea-833d-69b33a80cfbe",
   "metadata": {},
   "outputs": [],
   "source": [
    "df_pop.drop(columns=['days_diff'], inplace=True)"
   ]
  },
  {
   "cell_type": "code",
   "execution_count": null,
   "id": "f2a95ca5-5e94-4c6d-bc1e-b4f7b6738520",
   "metadata": {},
   "outputs": [],
   "source": [
    "df_pop.dtypes"
   ]
  },
  {
   "cell_type": "code",
   "execution_count": null,
   "id": "5373f147-2be3-4f70-b65e-e5bd902ca870",
   "metadata": {},
   "outputs": [],
   "source": [
    "df_pop.groupby('infobox_key')['property_name'].count()"
   ]
  },
  {
   "cell_type": "code",
   "execution_count": null,
   "id": "cdc42c82-02c3-4dd5-ac15-ec14f4527529",
   "metadata": {},
   "outputs": [],
   "source": [
    "def __groupby_slice( _grp, start=0, stop=None, step=1):\n",
    "    '''\n",
    "    Applies a slice to a GroupBy object\n",
    "    '''\n",
    "    return _grp.apply( lambda _df : _df.iloc[start:stop:step]).reset_index(drop=True)"
   ]
  },
  {
   "cell_type": "code",
   "execution_count": null,
   "id": "7197b286-8b72-4ddb-ad96-e733615a31dc",
   "metadata": {},
   "outputs": [],
   "source": [
    "__groupby_slice(df_pop.groupby('infobox_key'), -2)"
   ]
  },
  {
   "cell_type": "code",
   "execution_count": null,
   "id": "9c665113-eb24-488b-b962-208b5e131dcd",
   "metadata": {},
   "outputs": [],
   "source": [
    "train_set = __groupby_slice(df_pop.groupby('infobox_key'), 0, -2)"
   ]
  },
  {
   "cell_type": "code",
   "execution_count": null,
   "id": "3686235e-403e-4aa1-8d70-bc2fc4dc7e8e",
   "metadata": {},
   "outputs": [],
   "source": [
    "train_set.shape"
   ]
  },
  {
   "cell_type": "code",
   "execution_count": null,
   "id": "7a75cb65-60e7-451a-9dee-781559da0ab6",
   "metadata": {},
   "outputs": [],
   "source": [
    "test_set = __groupby_slice(df_pop.groupby('infobox_key'), -2)"
   ]
  },
  {
   "cell_type": "code",
   "execution_count": null,
   "id": "4fbd3811-b985-48fd-94e6-99be7dcd5778",
   "metadata": {},
   "outputs": [],
   "source": [
    "test_set.shape"
   ]
  },
  {
   "cell_type": "code",
   "execution_count": null,
   "id": "71f7dcc4-1959-49ff-bb08-2af5ba789edd",
   "metadata": {},
   "outputs": [],
   "source": [
    "X_pop_train = train_set.drop('time_til_next_change', axis=1).copy()\n",
    "y_pop_train = train_set['time_til_next_change'].copy()\n",
    "X_pop_test = test_set.drop('time_til_next_change', axis=1).copy()\n",
    "y_pop_test = test_set['time_til_next_change'].copy()"
   ]
  },
  {
   "cell_type": "code",
   "execution_count": null,
   "id": "b5768f26-dc0f-4ed2-af7e-5c353431990e",
   "metadata": {},
   "outputs": [],
   "source": [
    "X_pop_train = pd.get_dummies(X_pop_train,columns=['property_name', 'template', 'infobox_key'])\n",
    "X_pop_test = pd.get_dummies(X_pop_test,columns=['property_name', 'template', 'infobox_key'])"
   ]
  },
  {
   "cell_type": "code",
   "execution_count": null,
   "id": "0ed52701-3148-4d37-a1ca-739d9f88bbbc",
   "metadata": {},
   "outputs": [],
   "source": [
    "X_pop_train"
   ]
  },
  {
   "cell_type": "markdown",
   "id": "8d32d71e-bcae-45ef-a567-def5f5315e7d",
   "metadata": {},
   "source": [
    "### Build model"
   ]
  },
  {
   "cell_type": "code",
   "execution_count": null,
   "id": "9c1122cf-4eeb-40cc-beaf-3e6ac3cb726e",
   "metadata": {},
   "outputs": [],
   "source": [
    "#X_pop_train, X_pop_test, y_pop_train, y_pop_test = train_test_split(X_pop_encoded, y_pop, random_state=42)"
   ]
  },
  {
   "cell_type": "code",
   "execution_count": null,
   "id": "777154cb-04f4-4250-9a66-83cea282e7d8",
   "metadata": {},
   "outputs": [],
   "source": [
    "clf_xgb_pop = xgb.XGBRegressor(objective='reg:squarederror', missing=0, seed=42, n_estimators=100)"
   ]
  },
  {
   "cell_type": "code",
   "execution_count": null,
   "id": "8bdbaa4b-6a0e-494a-9704-b573797ea95c",
   "metadata": {},
   "outputs": [],
   "source": [
    "clf_xgb_pop.fit(X_pop_train, y_pop_train, verbose=True, early_stopping_rounds=10, eval_set=[(X_pop_test, y_pop_test)])"
   ]
  },
  {
   "cell_type": "code",
   "execution_count": null,
   "id": "d43cb65c-e353-4507-ab51-245d3168b21e",
   "metadata": {},
   "outputs": [],
   "source": [
    "xgb.to_graphviz(clf_xgb_pop, num_trees=0, size='10,10')"
   ]
  },
  {
   "cell_type": "code",
   "execution_count": null,
   "id": "6ab1b091-b160-47fb-a82e-a0fbbd308bb8",
   "metadata": {},
   "outputs": [],
   "source": []
  },
  {
   "cell_type": "code",
   "execution_count": null,
   "id": "4557edfb-6c29-4863-b2cf-fe488ee118b4",
   "metadata": {},
   "outputs": [],
   "source": [
    "clf_xgb_pop.predict(X_pop_test.iloc[:2])"
   ]
  },
  {
   "cell_type": "code",
   "execution_count": null,
   "id": "a7b7a7f4-773d-4353-b1eb-acb8ef91046a",
   "metadata": {},
   "outputs": [],
   "source": [
    "y_pop_test.iloc[:2]"
   ]
  },
  {
   "cell_type": "code",
   "execution_count": null,
   "id": "f4af3975-aa47-426e-b3c6-975b13d6621a",
   "metadata": {},
   "outputs": [],
   "source": []
  }
 ],
 "metadata": {
  "kernelspec": {
   "display_name": "Python 3",
   "language": "python",
   "name": "python3"
  },
  "language_info": {
   "codemirror_mode": {
    "name": "ipython",
    "version": 3
   },
   "file_extension": ".py",
   "mimetype": "text/x-python",
   "name": "python",
   "nbconvert_exporter": "python",
   "pygments_lexer": "ipython3",
   "version": "3.6.9"
  }
 },
 "nbformat": 4,
 "nbformat_minor": 5
}
