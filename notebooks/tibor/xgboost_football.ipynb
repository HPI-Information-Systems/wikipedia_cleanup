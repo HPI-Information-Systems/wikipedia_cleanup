{
 "cells": [
  {
   "cell_type": "code",
   "execution_count": null,
   "metadata": {},
   "outputs": [],
   "source": [
    "import xgboost as xgb\n",
    "import pandas as pd\n",
    "import numpy as np\n",
    "import datetime"
   ]
  },
  {
   "cell_type": "code",
   "execution_count": null,
   "metadata": {},
   "outputs": [],
   "source": [
    "df_pop = pd.read_csv('../../../data/popular_data.csv')\n",
    "df_pop"
   ]
  },
  {
   "cell_type": "code",
   "execution_count": null,
   "metadata": {},
   "outputs": [],
   "source": [
    "df_pop = df_pop[['infobox_key', 'property_name', 'template', 'timestamp','days_diff']]\n",
    "df_pop.head(3)"
   ]
  },
  {
   "cell_type": "code",
   "execution_count": null,
   "metadata": {},
   "outputs": [],
   "source": [
    "df_pop[\"timestamp\"]=df_pop[\"timestamp\"].astype(\"datetime64\",copy=True)"
   ]
  },
  {
   "cell_type": "code",
   "execution_count": null,
   "metadata": {},
   "outputs": [],
   "source": [
    "df_pop.dtypes"
   ]
  },
  {
   "cell_type": "code",
   "execution_count": null,
   "metadata": {},
   "outputs": [],
   "source": [
    "df_pop = df_pop[df_pop[\"template\"] == \"football player infobox\"]\n",
    "df_pop = df_pop[df_pop[\"property_name\"] == \"caps(goals)\"]\n",
    "df_pop"
   ]
  },
  {
   "cell_type": "code",
   "execution_count": null,
   "metadata": {},
   "outputs": [],
   "source": [
    "# get boxes with >=10 changes\n",
    "df_pop_many = df_pop.groupby('infobox_key')['property_name'].count().reset_index().rename(columns={'property_name':'count'})\n",
    "pop_keys = df_pop_many[df_pop_many['count']>=10]['infobox_key'].tolist()"
   ]
  },
  {
   "cell_type": "code",
   "execution_count": null,
   "metadata": {},
   "outputs": [],
   "source": [
    "df_pop = df_pop[df_pop['infobox_key'].isin(pop_keys)]\n",
    "df_pop.groupby(\"infobox_key\").count()"
   ]
  },
  {
   "cell_type": "code",
   "execution_count": null,
   "metadata": {},
   "outputs": [],
   "source": [
    "# convert timestamp to day of year\n",
    "df_pop['day_of_year'] = df_pop['timestamp'].dt.dayofyear\n",
    "df_pop['day_of_month'] = df_pop['timestamp'].dt.day\n",
    "df_pop['day_of_week'] = df_pop['timestamp'].dt.dayofweek\n",
    "df_pop['month_of_year'] = df_pop['timestamp'].dt.month\n",
    "df_pop['quarter_of_year'] = df_pop['timestamp'].dt.quarter\n",
    "df_pop['is_quarter_start'] = df_pop['timestamp'].dt.is_quarter_start\n",
    "df_pop['is_quarter_end'] = df_pop['timestamp'].dt.is_quarter_end\n",
    "df_pop['is_month_start'] = df_pop['timestamp'].dt.is_month_start\n",
    "df_pop['is_month_end'] = df_pop['timestamp'].dt.is_month_end\n",
    "\n",
    "\n",
    "df_pop['days_since_last_change'] = df_pop[\"timestamp\"]-df_pop.groupby(['infobox_key', 'property_name'])['timestamp'].shift(+1).fillna(pd.Timestamp('20990101'))\n",
    "df_pop['days_since_last_change'] = df_pop['days_since_last_change'].apply(lambda x: round(pd.Timedelta(x).total_seconds()/(3600*24)))\n",
    "df_pop['days_since_last_change'][df_pop['days_since_last_change']<0]=-1\n",
    "df_pop['days_since_last_2_changes'] = df_pop[\"timestamp\"]-df_pop.groupby(['infobox_key', 'property_name'])['timestamp'].shift(+2).fillna(pd.Timestamp('20990101'))\n",
    "df_pop['days_since_last_2_changes'] = df_pop['days_since_last_2_changes'].apply(lambda x: round(pd.Timedelta(x).total_seconds()/(3600*24)))\n",
    "df_pop['days_since_last_2_changes'][df_pop['days_since_last_2_changes']<0]=-1\n",
    "df_pop['days_since_last_3_changes'] = df_pop[\"timestamp\"]-df_pop.groupby(['infobox_key', 'property_name'])['timestamp'].shift(+3).fillna(pd.Timestamp('20990101'))\n",
    "df_pop['days_since_last_3_changes'] = df_pop['days_since_last_3_changes'].apply(lambda x: round(pd.Timedelta(x).total_seconds()/(3600*24)))\n",
    "df_pop['days_since_last_3_changes'][df_pop['days_since_last_3_changes']<0]=-1\n",
    "\n",
    "df_pop['days_until_next_change'] = df_pop.groupby(['infobox_key', 'property_name'])['days_since_last_change'].shift(-1)\n",
    "df_pop['days_until_next_change'] = pd.to_numeric(df_pop['days_until_next_change'].fillna(-1),downcast=\"integer\")\n",
    "df_pop['days_between_last_and_2nd_to_last_change'] = df_pop.groupby(['infobox_key', 'property_name'])['days_since_last_change'].shift(+1)\n",
    "df_pop['days_between_last_and_2nd_to_last_change'] = pd.to_numeric(df_pop['days_between_last_and_2nd_to_last_change'].fillna(-1),downcast=\"integer\")\n",
    "df_pop['mean_change_frequency'] = df_pop.groupby(['infobox_key', 'property_name'])['days_since_last_change'].apply(lambda x: x.iloc[0:1].append(x.iloc[1:].expanding().mean()))\n",
    "df_pop"
   ]
  },
  {
   "cell_type": "code",
   "execution_count": null,
   "metadata": {},
   "outputs": [],
   "source": [
    "df_pop.head(20)"
   ]
  },
  {
   "cell_type": "code",
   "execution_count": null,
   "metadata": {},
   "outputs": [],
   "source": [
    "# used to slice last 2 entries per group\n",
    "def __groupby_slice( _grp, start=0, stop=None, step=1):\n",
    "    '''\n",
    "    Applies a slice to a GroupBy object\n",
    "    '''\n",
    "    return _grp.apply( lambda _df : _df.iloc[start:stop:step]).reset_index(drop=True)"
   ]
  },
  {
   "cell_type": "code",
   "execution_count": null,
   "metadata": {},
   "outputs": [],
   "source": [
    "train_set = __groupby_slice(df_pop.groupby('infobox_key'), 0, -2)\n",
    "train_set.shape"
   ]
  },
  {
   "cell_type": "code",
   "execution_count": null,
   "metadata": {},
   "outputs": [],
   "source": [
    "test_set = __groupby_slice(df_pop.groupby('infobox_key'), -2)\n",
    "test_set.shape"
   ]
  },
  {
   "cell_type": "code",
   "execution_count": null,
   "metadata": {},
   "outputs": [],
   "source": [
    "train_set.head(3)"
   ]
  },
  {
   "cell_type": "code",
   "execution_count": null,
   "metadata": {},
   "outputs": [],
   "source": [
    "# type(train_set.iloc[0][\"timestamp\"])\n",
    "dt=datetime.datetime.strptime(\"2007-01-22 19:17:53\",\"%Y-%m-%d %H:%M:%S\")\n",
    "dt.weekday()\n",
    "# dt.day\n",
    "# dt.month\n",
    "# dt.month%3\n",
    "train_set[\"timestamp\"].astype(\"datetime64\")"
   ]
  },
  {
   "cell_type": "code",
   "execution_count": null,
   "metadata": {},
   "outputs": [],
   "source": [
    "from math import ceil\n",
    "\n",
    "def week_of_month(dt):\n",
    "    \"\"\" Returns the week of the month for the specified date.\n",
    "    \"\"\"\n",
    "\n",
    "    first_day = dt.replace(day=1)\n",
    "\n",
    "    dom = dt.day\n",
    "    adjusted_dom = dom + first_day.weekday()\n",
    "\n",
    "    return int(ceil(adjusted_dom/7.0))\n",
    "\n",
    "dt=datetime.datetime.strptime(\"2021-08-02 9:17:53\",\"%Y-%m-%d %H:%M:%S\")\n",
    "week_of_month(dt)"
   ]
  },
  {
   "cell_type": "markdown",
   "metadata": {},
   "source": [
    "## Training"
   ]
  },
  {
   "cell_type": "code",
   "execution_count": null,
   "metadata": {},
   "outputs": [],
   "source": [
    "X_pop_train = pd.get_dummies(train_set[\"infobox_key\"])\n",
    "X_pop_train[\"time_from_prev_change\"] = train_set['time_from_prev_change'].copy()\n",
    "X_pop_train['day_of_year'] = train_set['day_of_year'].copy()\n",
    "\n",
    "y_pop_train = train_set['time_til_next_change'].copy()\n",
    "\n",
    "\n",
    "X_pop_test = pd.get_dummies(test_set[\"infobox_key\"])\n",
    "X_pop_test[\"time_from_prev_change\"] = test_set['time_from_prev_change'].copy()\n",
    "X_pop_test['day_of_year'] = test_set['day_of_year'].copy()\n",
    "\n",
    "y_pop_test = test_set['time_til_next_change'].copy()\n"
   ]
  },
  {
   "cell_type": "code",
   "execution_count": null,
   "metadata": {},
   "outputs": [],
   "source": [
    "X_pop_train"
   ]
  },
  {
   "cell_type": "code",
   "execution_count": null,
   "metadata": {},
   "outputs": [],
   "source": [
    "X_pop_train= pd.DataFrame(train_set['time_from_prev_change'].copy())\n",
    "X_pop_train['day_of_year'] = train_set['day_of_year'].copy()\n",
    "\n",
    "y_pop_train = train_set['time_til_next_change'].copy()\n",
    "\n",
    "\n",
    "X_pop_test = pd.DataFrame(test_set['time_from_prev_change'].copy())\n",
    "X_pop_test['day_of_year'] = test_set['day_of_year'].copy()\n",
    "\n",
    "y_pop_test = test_set['time_til_next_change'].copy()"
   ]
  },
  {
   "cell_type": "code",
   "execution_count": null,
   "metadata": {},
   "outputs": [],
   "source": [
    "clf_xgb_pop = xgb.XGBRegressor(objective='reg:squarederror', missing=0, seed=42, n_estimators=100,max_depth=10)\n",
    "clf_xgb_pop.fit(X_pop_train, y_pop_train, verbose=True, early_stopping_rounds=10, eval_set=[(X_pop_test, y_pop_test)])"
   ]
  },
  {
   "cell_type": "code",
   "execution_count": null,
   "metadata": {},
   "outputs": [],
   "source": [
    "xgb.to_graphviz(clf_xgb_pop, num_trees=0, size='10,10')"
   ]
  },
  {
   "cell_type": "code",
   "execution_count": null,
   "metadata": {},
   "outputs": [],
   "source": []
  }
 ],
 "metadata": {
  "interpreter": {
   "hash": "b8542ddd8e08f6336f5ffbf3e3a025210c12323a7f279b581b088d9e4799b8fb"
  },
  "kernelspec": {
   "display_name": "Python 3.6.9 64-bit ('mp': conda)",
   "language": "python",
   "name": "python3"
  },
  "language_info": {
   "codemirror_mode": {
    "name": "ipython",
    "version": 3
   },
   "file_extension": ".py",
   "mimetype": "text/x-python",
   "name": "python",
   "nbconvert_exporter": "python",
   "pygments_lexer": "ipython3",
   "version": "3.6.9"
  },
  "orig_nbformat": 4
 },
 "nbformat": 4,
 "nbformat_minor": 2
}
