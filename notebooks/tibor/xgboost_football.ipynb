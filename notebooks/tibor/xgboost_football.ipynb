{
 "cells": [
  {
   "cell_type": "code",
   "execution_count": null,
   "metadata": {},
   "outputs": [],
   "source": [
    "import xgboost as xgb\n",
    "import pandas as pd\n",
    "import numpy as np\n",
    "import datetime"
   ]
  },
  {
   "cell_type": "code",
   "execution_count": null,
   "metadata": {},
   "outputs": [],
   "source": [
    "df_pop = pd.read_csv('../../data/popular_data.csv')\n",
    "df_pop"
   ]
  },
  {
   "cell_type": "code",
   "execution_count": null,
   "metadata": {},
   "outputs": [],
   "source": [
    "df_pop[\"timestamp\"]=df_pop[\"timestamp\"].astype(\"datetime64\",copy=True)"
   ]
  },
  {
   "cell_type": "code",
   "execution_count": null,
   "metadata": {},
   "outputs": [],
   "source": [
    "import time\n",
    "start = time.time()\n",
    "\n",
    "df_pop['day_of_year'] = df_pop['timestamp'].dt.dayofyear\n",
    "df_pop['day_of_month'] = df_pop['timestamp'].dt.day\n",
    "df_pop['day_of_week'] = df_pop['timestamp'].dt.dayofweek\n",
    "df_pop['month_of_year'] = df_pop['timestamp'].dt.month\n",
    "df_pop['quarter_of_year'] = df_pop['timestamp'].dt.quarter\n",
    "df_pop['is_quarter_start'] = df_pop['timestamp'].dt.is_quarter_start\n",
    "df_pop['is_quarter_end'] = df_pop['timestamp'].dt.is_quarter_end\n",
    "df_pop['is_month_start'] = df_pop['timestamp'].dt.is_month_start\n",
    "df_pop['is_month_end'] = df_pop['timestamp'].dt.is_month_end\n",
    "\n",
    "print(\"first block\",time.time()-start)\n",
    "tmp=time.time()\n",
    "df_pop['days_since_last_change'] = df_pop[\"timestamp\"]-df_pop.groupby(['infobox_key', 'property_name'])['timestamp'].shift(+1).fillna(pd.Timestamp('20990101'))\n",
    "df_pop['days_since_last_change'] = df_pop['days_since_last_change'].apply(lambda x: round(pd.Timedelta(x).total_seconds()/(3600*24)))\n",
    "df_pop['days_since_last_change'][df_pop['days_since_last_change']<0]=-1\n",
    "print(\"days_since_last_change\",time.time()-tmp)\n",
    "tmp=time.time()\n",
    "df_pop['days_since_last_2_changes'] = df_pop[\"timestamp\"]-df_pop.groupby(['infobox_key', 'property_name'])['timestamp'].shift(+2).fillna(pd.Timestamp('20990101'))\n",
    "df_pop['days_since_last_2_changes'] = df_pop['days_since_last_2_changes'].apply(lambda x: round(pd.Timedelta(x).total_seconds()/(3600*24)))\n",
    "df_pop['days_since_last_2_changes'][df_pop['days_since_last_2_changes']<0]=-1\n",
    "print(\"days_since_last_2_change\",time.time()-tmp)\n",
    "tmp=time.time()\n",
    "df_pop['days_since_last_3_changes'] = df_pop[\"timestamp\"]-df_pop.groupby(['infobox_key', 'property_name'])['timestamp'].shift(+3).fillna(pd.Timestamp('20990101'))\n",
    "df_pop['days_since_last_3_changes'] = df_pop['days_since_last_3_changes'].apply(lambda x: round(pd.Timedelta(x).total_seconds()/(3600*24)))\n",
    "df_pop['days_since_last_3_changes'][df_pop['days_since_last_3_changes']<0]=-1\n",
    "print(\"days_since_last_3_change\",time.time()-tmp)\n",
    "tmp=time.time()\n",
    "\n",
    "df_pop['days_until_next_change'] = df_pop.groupby(['infobox_key', 'property_name'])['days_since_last_change'].shift(-1)\n",
    "df_pop['days_until_next_change'] = pd.to_numeric(df_pop['days_until_next_change'].fillna(-1),downcast=\"integer\")\n",
    "print(\"days_until_next_change\",time.time()-tmp)\n",
    "tmp=time.time()\n",
    "df_pop['days_between_last_and_2nd_to_last_change'] = df_pop.groupby(['infobox_key', 'property_name'])['days_since_last_change'].shift(+1)\n",
    "df_pop['days_between_last_and_2nd_to_last_change'] = pd.to_numeric(df_pop['days_between_last_and_2nd_to_last_change'].fillna(-1),downcast=\"integer\")\n",
    "print(\"days_between_last_and_2nd_to_last_change\",time.time()-tmp)\n",
    "tmp=time.time()\n",
    "df_pop['mean_change_frequency_all_previous'] = df_pop.groupby(['infobox_key', 'property_name'])['days_since_last_change'].apply(lambda x: x.iloc[0:1].append(x.iloc[1:].expanding().mean()))\n",
    "print(\"mean_change_frequency_all_previous\",time.time()-tmp)\n",
    "tmp=time.time()\n",
    "df_pop['mean_change_frequency_last_3'] = df_pop.groupby(['infobox_key', 'property_name'])['days_since_last_change'].apply(lambda x: x.iloc[0:1].append(x.iloc[1:].rolling(3).mean())).fillna(-1)\n",
    "print(\"mean_change_frequency_last_3\",time.time()-tmp)\n",
    "\n",
    "print(\"total\", time.time()-start)\n",
    "\n",
    "df_pop"
   ]
  },
  {
   "cell_type": "code",
   "execution_count": null,
   "metadata": {},
   "outputs": [],
   "source": [
    "df_pop.head(20)"
   ]
  },
  {
   "cell_type": "code",
   "execution_count": null,
   "metadata": {},
   "outputs": [],
   "source": []
  }
 ],
 "metadata": {
  "interpreter": {
   "hash": "b8542ddd8e08f6336f5ffbf3e3a025210c12323a7f279b581b088d9e4799b8fb"
  },
  "kernelspec": {
   "display_name": "Python 3",
   "language": "python",
   "name": "python3"
  },
  "language_info": {
   "codemirror_mode": {
    "name": "ipython",
    "version": 3
   },
   "file_extension": ".py",
   "mimetype": "text/x-python",
   "name": "python",
   "nbconvert_exporter": "python",
   "pygments_lexer": "ipython3",
   "version": "3.6.9"
  }
 },
 "nbformat": 4,
 "nbformat_minor": 4
}
