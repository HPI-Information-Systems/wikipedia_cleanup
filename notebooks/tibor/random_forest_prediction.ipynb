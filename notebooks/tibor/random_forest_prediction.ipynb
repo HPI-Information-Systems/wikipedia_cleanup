{
 "cells": [
  {
   "cell_type": "code",
   "execution_count": null,
   "metadata": {},
   "outputs": [],
   "source": [
    "from sklearn.ensemble import RandomForestClassifier\n",
    "import pandas as pd\n",
    "import numpy as np\n",
    "import datetime\n",
    "from tqdm import tqdm"
   ]
  },
  {
   "cell_type": "code",
   "execution_count": null,
   "metadata": {},
   "outputs": [],
   "source": [
    "df_pop= pd.read_csv('../../../data/popular_data_with_features3.csv', index_col=0)\n",
    "df_pop.head()"
   ]
  },
  {
   "cell_type": "code",
   "execution_count": null,
   "metadata": {},
   "outputs": [],
   "source": [
    "# get all keys\n",
    "ilocs = df_pop.groupby([\"infobox_key\",\"property_name\"],sort=False).count()[\"timestamp\"]\n",
    "ilocs=ilocs[:1000]"
   ]
  },
  {
   "cell_type": "code",
   "execution_count": null,
   "metadata": {},
   "outputs": [],
   "source": [
    "ilocs"
   ]
  },
  {
   "cell_type": "code",
   "execution_count": null,
   "metadata": {},
   "outputs": [],
   "source": [
    "import time\n",
    "\n",
    "def generate_predictions(ilocs):\n",
    "    predictions=[]\n",
    "    start=0\n",
    "    for iloc in tqdm(ilocs):\n",
    "        tmp = time.time()\n",
    "        # sample = df_pop[(df_pop['infobox_key']==key[0]) & (df_pop['property_name']==key[1])]\n",
    "        sample = df_pop.iloc[start:start+iloc]\n",
    "        start+=iloc\n",
    "        # print(1,time.time()-tmp)\n",
    "        tmp = time.time()\n",
    "        sample.drop(columns=[\"infobox_key\",\"page_title\",\"property_name\",\"template\"], inplace=True)\n",
    "        # print(2,time.time()-tmp)\n",
    "        tmp = time.time()\n",
    "        X = sample.iloc[:-1].drop(columns=['days_until_next_change','timestamp'])\n",
    "        # print(3,time.time()-tmp)\n",
    "        tmp = time.time()\n",
    "        y = sample.iloc[:-1]['days_until_next_change']\n",
    "        # print(4,time.time()-tmp)\n",
    "        tmp = time.time()\n",
    "        x_last = sample.iloc[-1].drop(['days_until_next_change','timestamp']).values.reshape(1,-1)\n",
    "        # print(5,time.time()-tmp)\n",
    "        tmp = time.time()\n",
    "        x_last_timestamp = datetime.datetime.strptime(sample.iloc[-1][\"timestamp\"],\"%Y-%m-%d\").date()\n",
    "        # print(6,time.time()-tmp)\n",
    "        tmp = time.time()\n",
    "        clf = RandomForestClassifier(random_state=0, n_estimators=10)\n",
    "        # print(7,time.time()-tmp)\n",
    "        tmp = time.time()\n",
    "        clf.fit(X, y)\n",
    "        # print(\"fit\",time.time()-tmp)\n",
    "        tmp = time.time()\n",
    "        predictions.append(clf.predict(x_last)[0])\n",
    "        print(\"pred\",time.time()-tmp)\n",
    "\n",
    "    return predictions"
   ]
  },
  {
   "cell_type": "code",
   "execution_count": null,
   "metadata": {},
   "outputs": [],
   "source": [
    "import warnings\n",
    "warnings.filterwarnings('ignore')\n",
    "\n",
    "preds=generate_predictions(ilocs)"
   ]
  },
  {
   "cell_type": "code",
   "execution_count": null,
   "metadata": {},
   "outputs": [],
   "source": [
    "abc=ilocs"
   ]
  },
  {
   "cell_type": "code",
   "execution_count": null,
   "metadata": {},
   "outputs": [],
   "source": [
    "preds_df=pd.DataFrame(abc.index.to_list(),columns=[\"infobox_key\",\"property_name\"])\n",
    "preds_df[\"pred\"]=preds\n",
    "preds_df"
   ]
  },
  {
   "cell_type": "code",
   "execution_count": null,
   "metadata": {},
   "outputs": [],
   "source": [
    "300000/15/360/100"
   ]
  },
  {
   "cell_type": "code",
   "execution_count": null,
   "metadata": {},
   "outputs": [],
   "source": []
  }
 ],
 "metadata": {
  "interpreter": {
   "hash": "b8542ddd8e08f6336f5ffbf3e3a025210c12323a7f279b581b088d9e4799b8fb"
  },
  "kernelspec": {
   "display_name": "Python 3.6.9 64-bit ('mp': conda)",
   "language": "python",
   "name": "python3"
  },
  "language_info": {
   "codemirror_mode": {
    "name": "ipython",
    "version": 3
   },
   "file_extension": ".py",
   "mimetype": "text/x-python",
   "name": "python",
   "nbconvert_exporter": "python",
   "pygments_lexer": "ipython3",
   "version": "3.6.9"
  },
  "orig_nbformat": 4
 },
 "nbformat": 4,
 "nbformat_minor": 2
}
