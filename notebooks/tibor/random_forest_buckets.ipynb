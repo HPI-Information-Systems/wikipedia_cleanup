{
 "cells": [
  {
   "cell_type": "code",
   "execution_count": null,
   "metadata": {},
   "outputs": [],
   "source": [
    "from sklearn.ensemble import RandomForestRegressor,RandomForestClassifier\n",
    "import pandas as pd\n",
    "import numpy as np\n",
    "import datetime\n",
    "from tqdm import tqdm\n",
    "import time\n",
    "\n",
    "#Ist time_since_last_change relevant\n",
    "# Was machen wir, wenn change überfällig ist"
   ]
  },
  {
   "cell_type": "code",
   "execution_count": null,
   "metadata": {},
   "outputs": [],
   "source": [
    "def calc_precision(preds,y,days_diff):\n",
    "    return np.sum(np.abs(np.floor(preds)-y)<=days_diff)/len(y)"
   ]
  },
  {
   "cell_type": "code",
   "execution_count": null,
   "metadata": {},
   "outputs": [],
   "source": [
    "df_pop= pd.read_csv('../../../data/popular_data_with_features3.csv', index_col=0)\n",
    "df_pop.head()"
   ]
  },
  {
   "cell_type": "code",
   "execution_count": null,
   "metadata": {},
   "outputs": [],
   "source": [
    "top_changes = df_pop.groupby(['infobox_key', 'property_name']).count()[\"day_of_year\"].sort_values(ascending=False)"
   ]
  },
  {
   "cell_type": "code",
   "execution_count": null,
   "metadata": {},
   "outputs": [],
   "source": [
    "buckets_sizes = [0,10,50,100,500,1000,99999]\n",
    "buckets = []\n",
    "for i in range(len(buckets_sizes)-1):\n",
    "    low=buckets_sizes[i]\n",
    "    high=buckets_sizes[i+1]\n",
    "    keys=top_changes.loc[(top_changes>=low) & (top_changes<high)].index.to_list()\n",
    "    buckets.append({\"low\":low,\"high\":high,\"size\":len(keys),\"keys\":keys})\n",
    "buckets"
   ]
  },
  {
   "cell_type": "code",
   "execution_count": null,
   "metadata": {},
   "outputs": [],
   "source": [
    "def generate_predictions(key_list):\n",
    "    predictions=[]\n",
    "    accuracys=[]\n",
    "    feature_importances=[]\n",
    "    for key in tqdm(key_list):\n",
    "        sample = df_pop[(df_pop['infobox_key']==key[0]) & (df_pop['property_name']==key[1])]\n",
    "        # sample = df_pop.iloc[start:start+iloc]\n",
    "        trainsize=round(len(sample)*0.8) # 20 % testdata\n",
    "        sample.drop(columns=[\"infobox_key\",\"page_title\",\"property_name\",\"template\"], inplace=True)\n",
    "\n",
    "        X_train = sample.iloc[:trainsize].drop(columns=['days_until_next_change','timestamp'])\n",
    "\n",
    "        y_train = sample.iloc[:trainsize]['days_until_next_change']\n",
    "\n",
    "        X_test = sample.iloc[trainsize:].drop(columns=['days_until_next_change','timestamp'])\n",
    "        y_test = sample.iloc[trainsize:]['days_until_next_change']\n",
    "        # x_last = sample.iloc[-1].drop(['days_until_next_change','timestamp']).values.reshape(1,-1)\n",
    "        \n",
    "        # x_last_timestamp = datetime.datetime.strptime(sample.iloc[-1][\"timestamp\"],\"%Y-%m-%d\").date()\n",
    "        clf = RandomForestClassifier(random_state=0, n_estimators=10)\n",
    "        clf.fit(X_train, y_train)\n",
    "        preds=clf.predict(X_test)\n",
    "        predictions.append(preds)\n",
    "        accuracys.append(calc_precision(preds,y_test,1))\n",
    "        feature_importances.append(clf.feature_importances_)\n",
    "\n",
    "    return predictions, accuracys, feature_importances"
   ]
  },
  {
   "cell_type": "code",
   "execution_count": null,
   "metadata": {},
   "outputs": [],
   "source": [
    "import warnings\n",
    "warnings.filterwarnings('ignore')\n",
    "predictions=[]\n",
    "accuracys=[]\n",
    "feature_importances=[]\n",
    "for key_list in tqdm(buckets[1:]):\n",
    "\n",
    "    preds,accs,feature_imps=generate_predictions(key_list[\"keys\"][:100])\n",
    "    predictions.append(preds)\n",
    "    accuracys.append(accs)\n",
    "    feature_importances.append(feature_imps)\n"
   ]
  },
  {
   "cell_type": "code",
   "execution_count": null,
   "metadata": {},
   "outputs": [],
   "source": [
    "import scipy\n",
    "for i,acc in enumerate(accuracys):\n",
    "\n",
    "    print(\"<\",buckets[i+1][\"high\"],scipy.stats.describe(acc))"
   ]
  },
  {
   "cell_type": "code",
   "execution_count": null,
   "metadata": {},
   "outputs": [],
   "source": [
    "columns=['day_of_year', 'day_of_month', 'day_of_week', 'month_of_year',\n",
    "       'quarter_of_year', 'is_month_start', 'is_month_end', 'is_quarter_start',\n",
    "       'is_quarter_end', 'days_since_last_change', 'days_since_last_2_changes',\n",
    "       'days_since_last_3_changes', 'days_between_last_and_2nd_to_last_change',\n",
    "       'mean_change_frequency_all_previous', 'mean_change_frequency_last_3']\n",
    "feature_importances_df=pd.DataFrame(feature_importances,columns=columns)\n",
    "feature_importances_df.describe()\n",
    "feature_importances_df.to_csv(\"rf_feature_importances_1000rfs.csv\")"
   ]
  },
  {
   "cell_type": "code",
   "execution_count": null,
   "metadata": {},
   "outputs": [],
   "source": [
    "preds_df=pd.DataFrame(ilocs.index.to_list(),columns=[\"infobox_key\",\"property_name\"])\n",
    "preds_df[\"pred\"]=preds\n",
    "preds_df"
   ]
  },
  {
   "cell_type": "code",
   "execution_count": null,
   "metadata": {},
   "outputs": [],
   "source": []
  }
 ],
 "metadata": {
  "interpreter": {
   "hash": "b8542ddd8e08f6336f5ffbf3e3a025210c12323a7f279b581b088d9e4799b8fb"
  },
  "kernelspec": {
   "display_name": "Python 3.6.9 64-bit ('mp': conda)",
   "language": "python",
   "name": "python3"
  },
  "language_info": {
   "codemirror_mode": {
    "name": "ipython",
    "version": 3
   },
   "file_extension": ".py",
   "mimetype": "text/x-python",
   "name": "python",
   "nbconvert_exporter": "python",
   "pygments_lexer": "ipython3",
   "version": "3.6.9"
  },
  "orig_nbformat": 4
 },
 "nbformat": 4,
 "nbformat_minor": 2
}
