{
 "cells": [
  {
   "cell_type": "code",
   "execution_count": 1,
   "source": [
    "%load_ext autoreload\n",
    "%autoreload 2"
   ],
   "outputs": [],
   "metadata": {}
  },
  {
   "cell_type": "code",
   "execution_count": 2,
   "source": [
    "import itertools\n",
    "import json\n",
    "from pathlib import Path\n",
    "from datetime import timedelta, datetime\n",
    "from scipy.sparse import csr_matrix, vstack\n",
    "\n",
    "\n",
    "import numpy as np\n",
    "import pandas as pd\n",
    "from tqdm.auto import tqdm\n",
    "import matplotlib.pyplot as plt"
   ],
   "outputs": [],
   "metadata": {}
  },
  {
   "cell_type": "code",
   "execution_count": 12,
   "source": [
    "# Path(\"/media/hpi_share/\")#Path(\"//FS23/projekte$/MP2021/MPWS2021/MPWS2021FN1\")\n",
    "mp_drive_dir = Path(\"../../../\")\n",
    "mp_plot_dir = mp_drive_dir / \"plots\"\n",
    "input_path = Path(\"../../matched-infoboxes-extracted/\")\n",
    "input_data = list(input_path.rglob(\"*.json\"))\n",
    "files = [x for x in input_data if x.is_file()]\n",
    "len(files)  # total 580\n"
   ],
   "outputs": [
    {
     "output_type": "execute_result",
     "data": {
      "text/plain": [
       "70"
      ]
     },
     "metadata": {},
     "execution_count": 12
    }
   ],
   "metadata": {}
  },
  {
   "cell_type": "code",
   "execution_count": 4,
   "source": [
    "# num_edits = 0\n",
    "# change_tuples = []\n",
    "# #np.random.seed(42)\n",
    "# for file in tqdm(np.random.choice(files, 70, replace=False)):\n",
    "#     with open(file, 'r', encoding='utf-8') as f:\n",
    "#         for jsonObj in f:\n",
    "#             single_edit = json.loads(jsonObj)\n",
    "#             #entries.append(single_edit)\n",
    "#             key = single_edit['key']\n",
    "#             pid = single_edit['pageID']\n",
    "#             user = single_edit['username'] if 'username' in single_edit.keys() else None\n",
    "#             title = single_edit['pageTitle']#['key']\n",
    "#             changes = single_edit['changes']\n",
    "#             timestamp = single_edit['validFrom']\n",
    "#             edit_type = single_edit['type']\n",
    "#             for change in changes:\n",
    "#                 name = change['property']['name']\n",
    "#                 if 'currentValue' in change.keys() and 'previousValue' in change.keys():\n",
    "#                     current_value = change['currentValue'] if 'currentValue' in change.keys() else None\n",
    "#                     previous_value = change['previousValue'] if 'previousValue' in change.keys() else None\n",
    "#                     if current_value != '' and previous_value != '':\n",
    "#                         change_tuples.append((key, pid, title, user, name, previous_value, current_value, timestamp, edit_type))"
   ],
   "outputs": [],
   "metadata": {}
  },
  {
   "cell_type": "code",
   "execution_count": 13,
   "source": [
    "num_iteratons = 1\n",
    "number_of_files =5\n",
    "number_of_files_start = 5\n",
    "num_edits = 0\n",
    "num_change_tuples = 0\n",
    "typo_lst = []\n",
    "for _ in range(num_iteratons):\n",
    "    change_tuples = []\n",
    "    for file in tqdm(files[number_of_files_start:number_of_files_start+number_of_files]):\n",
    "        with open(file, 'r', encoding='utf-8') as f:\n",
    "            for jsonObj in f:\n",
    "                single_edit = json.loads(jsonObj)\n",
    "                num_edits += 1\n",
    "                title = single_edit['pageTitle']\n",
    "                pageID = single_edit['pageID']\n",
    "                key = single_edit['key']\n",
    "                template = single_edit['template'] if 'template' in single_edit.keys(\n",
    "                ) else None\n",
    "                changes = single_edit['changes']\n",
    "                validFrom = single_edit['validFrom']\n",
    "                revisionId = single_edit['revisionId']\n",
    "                attributes = single_edit['attributes'] if 'attributes' in single_edit.keys(\n",
    "                ) else None\n",
    "                user_name = single_edit['user']['username'] if 'username' in single_edit['user'].keys(\n",
    "                ) else None\n",
    "                user_id = single_edit['user']['id'] if 'id' in single_edit['user'].keys(\n",
    "                ) else None\n",
    "                user_ip = single_edit['user']['ip'] if 'ip' in single_edit['user'].keys(\n",
    "                ) else None\n",
    "                for change in changes:\n",
    "                    num_change_tuples += 1\n",
    "                    name = change['property']['name']\n",
    "                    current_value = change['currentValue'] if 'currentValue' in change.keys(\n",
    "                    ) else None\n",
    "                    previous_value = change['previousValue'] if 'previousValue' in change.keys(\n",
    "                    ) else None\n",
    "                    validTo = change['valueValidTo'] if 'valueValidTo' in change.keys(\n",
    "                    ) else None\n",
    "                    change_tuples.append((title, pageID, key, template, name, previous_value,\n",
    "                                          current_value, validFrom, validTo, revisionId, user_name, user_id, user_ip, attributes))\n",
    "    number_of_files_start += number_of_files"
   ],
   "outputs": [
    {
     "output_type": "display_data",
     "data": {
      "text/plain": [
       "  0%|          | 0/5 [00:00<?, ?it/s]"
      ],
      "application/vnd.jupyter.widget-view+json": {
       "version_major": 2,
       "version_minor": 0,
       "model_id": "2f207bdc50af475eabd1d37c1d2d1b8b"
      }
     },
     "metadata": {}
    }
   ],
   "metadata": {}
  },
  {
   "cell_type": "code",
   "execution_count": 15,
   "source": [
    "# data = pd.DataFrame(change_tuples, columns=['key', 'pageID', 'title', 'user','name', 'previous_value', 'current_value', 'timestamp', 'edit_type'])\n",
    "# data['timestamp'] = pd.to_datetime(data['timestamp']).dt.tz_localize(None)\n",
    "data = pd.DataFrame(change_tuples, columns=['pageTitle', 'pageID', 'key', 'template', 'name', 'previous_value',\n",
    "                    'current_value', 'validFrom', 'validTo', 'revisionId', 'user_name', 'user_id', 'user_ip', 'attributes'])\n",
    "data['validFrom'] = pd.to_datetime(data['validFrom'])\n",
    "data['validTo'] = pd.to_datetime(data['validTo'])"
   ],
   "outputs": [],
   "metadata": {}
  },
  {
   "cell_type": "code",
   "execution_count": 17,
   "source": [
    "data.head(10)"
   ],
   "outputs": [
    {
     "output_type": "execute_result",
     "data": {
      "text/plain": [
       "                          pageTitle  pageID          key  \\\n",
       "0  Indonesian National Armed Forces   14650  119306865-0   \n",
       "1  Indonesian National Armed Forces   14650  119306865-0   \n",
       "2  Indonesian National Armed Forces   14650  119306865-0   \n",
       "3  Indonesian National Armed Forces   14650  119306865-0   \n",
       "4  Indonesian National Armed Forces   14650  119306865-0   \n",
       "5  Indonesian National Armed Forces   14650  119306865-0   \n",
       "6  Indonesian National Armed Forces   14650  119306865-0   \n",
       "7  Indonesian National Armed Forces   14650  119306865-0   \n",
       "8  Indonesian National Armed Forces   14650  119306865-0   \n",
       "9  Indonesian National Armed Forces   14650  119306865-0   \n",
       "\n",
       "                    template                name previous_value  \\\n",
       "0  infobox national military            reaching           None   \n",
       "1  infobox national military               image           None   \n",
       "2  infobox national military           available           None   \n",
       "3  infobox national military         percent_gdp           None   \n",
       "4  infobox national military             exports           None   \n",
       "5  infobox national military             reserve           None   \n",
       "6  infobox national military                 age           None   \n",
       "7  infobox national military  domestic_suppliers           None   \n",
       "8  infobox national military             history           None   \n",
       "9  infobox national military       manpower_data           None   \n",
       "\n",
       "                                      current_value                 validFrom  \\\n",
       "0                                         2,201,047 2007-03-31 18:02:53+00:00   \n",
       "1  {{border|[[Image:Flag of Indonesia.svg|110px]]}} 2007-03-31 18:02:53+00:00   \n",
       "2                                        60,543,028 2007-03-31 18:02:53+00:00   \n",
       "3                                                3% 2007-03-31 18:02:53+00:00   \n",
       "4                                                   2007-03-31 18:02:53+00:00   \n",
       "5                                                   2007-03-31 18:02:53+00:00   \n",
       "6                                                   2007-03-31 18:02:53+00:00   \n",
       "7                                                   2007-03-31 18:02:53+00:00   \n",
       "8                                                   2007-03-31 18:02:53+00:00   \n",
       "9                                         2005 est. 2007-03-31 18:02:53+00:00   \n",
       "\n",
       "                    validTo  revisionId user_name   user_id user_ip  \\\n",
       "0 2008-07-25 09:13:54+00:00   119306865    Octane  986956.0    None   \n",
       "1 2007-06-21 05:23:24+00:00   119306865    Octane  986956.0    None   \n",
       "2 2010-02-25 13:42:35+00:00   119306865    Octane  986956.0    None   \n",
       "3 2007-08-30 21:00:35+00:00   119306865    Octane  986956.0    None   \n",
       "4 2010-02-25 13:42:35+00:00   119306865    Octane  986956.0    None   \n",
       "5 2009-08-30 12:47:38+00:00   119306865    Octane  986956.0    None   \n",
       "6 2010-02-25 13:42:35+00:00   119306865    Octane  986956.0    None   \n",
       "7 2009-03-28 17:56:19+00:00   119306865    Octane  986956.0    None   \n",
       "8 2010-02-25 13:42:35+00:00   119306865    Octane  986956.0    None   \n",
       "9 2008-01-26 05:55:31+00:00   119306865    Octane  986956.0    None   \n",
       "\n",
       "                                          attributes  \n",
       "0  {'country': '[[Indonesia]]', 'domestic_supplie...  \n",
       "1  {'country': '[[Indonesia]]', 'domestic_supplie...  \n",
       "2  {'country': '[[Indonesia]]', 'domestic_supplie...  \n",
       "3  {'country': '[[Indonesia]]', 'domestic_supplie...  \n",
       "4  {'country': '[[Indonesia]]', 'domestic_supplie...  \n",
       "5  {'country': '[[Indonesia]]', 'domestic_supplie...  \n",
       "6  {'country': '[[Indonesia]]', 'domestic_supplie...  \n",
       "7  {'country': '[[Indonesia]]', 'domestic_supplie...  \n",
       "8  {'country': '[[Indonesia]]', 'domestic_supplie...  \n",
       "9  {'country': '[[Indonesia]]', 'domestic_supplie...  "
      ],
      "text/html": [
       "<div>\n",
       "<style scoped>\n",
       "    .dataframe tbody tr th:only-of-type {\n",
       "        vertical-align: middle;\n",
       "    }\n",
       "\n",
       "    .dataframe tbody tr th {\n",
       "        vertical-align: top;\n",
       "    }\n",
       "\n",
       "    .dataframe thead th {\n",
       "        text-align: right;\n",
       "    }\n",
       "</style>\n",
       "<table border=\"1\" class=\"dataframe\">\n",
       "  <thead>\n",
       "    <tr style=\"text-align: right;\">\n",
       "      <th></th>\n",
       "      <th>pageTitle</th>\n",
       "      <th>pageID</th>\n",
       "      <th>key</th>\n",
       "      <th>template</th>\n",
       "      <th>name</th>\n",
       "      <th>previous_value</th>\n",
       "      <th>current_value</th>\n",
       "      <th>validFrom</th>\n",
       "      <th>validTo</th>\n",
       "      <th>revisionId</th>\n",
       "      <th>user_name</th>\n",
       "      <th>user_id</th>\n",
       "      <th>user_ip</th>\n",
       "      <th>attributes</th>\n",
       "    </tr>\n",
       "  </thead>\n",
       "  <tbody>\n",
       "    <tr>\n",
       "      <th>0</th>\n",
       "      <td>Indonesian National Armed Forces</td>\n",
       "      <td>14650</td>\n",
       "      <td>119306865-0</td>\n",
       "      <td>infobox national military</td>\n",
       "      <td>reaching</td>\n",
       "      <td>None</td>\n",
       "      <td>2,201,047</td>\n",
       "      <td>2007-03-31 18:02:53+00:00</td>\n",
       "      <td>2008-07-25 09:13:54+00:00</td>\n",
       "      <td>119306865</td>\n",
       "      <td>Octane</td>\n",
       "      <td>986956.0</td>\n",
       "      <td>None</td>\n",
       "      <td>{'country': '[[Indonesia]]', 'domestic_supplie...</td>\n",
       "    </tr>\n",
       "    <tr>\n",
       "      <th>1</th>\n",
       "      <td>Indonesian National Armed Forces</td>\n",
       "      <td>14650</td>\n",
       "      <td>119306865-0</td>\n",
       "      <td>infobox national military</td>\n",
       "      <td>image</td>\n",
       "      <td>None</td>\n",
       "      <td>{{border|[[Image:Flag of Indonesia.svg|110px]]}}</td>\n",
       "      <td>2007-03-31 18:02:53+00:00</td>\n",
       "      <td>2007-06-21 05:23:24+00:00</td>\n",
       "      <td>119306865</td>\n",
       "      <td>Octane</td>\n",
       "      <td>986956.0</td>\n",
       "      <td>None</td>\n",
       "      <td>{'country': '[[Indonesia]]', 'domestic_supplie...</td>\n",
       "    </tr>\n",
       "    <tr>\n",
       "      <th>2</th>\n",
       "      <td>Indonesian National Armed Forces</td>\n",
       "      <td>14650</td>\n",
       "      <td>119306865-0</td>\n",
       "      <td>infobox national military</td>\n",
       "      <td>available</td>\n",
       "      <td>None</td>\n",
       "      <td>60,543,028</td>\n",
       "      <td>2007-03-31 18:02:53+00:00</td>\n",
       "      <td>2010-02-25 13:42:35+00:00</td>\n",
       "      <td>119306865</td>\n",
       "      <td>Octane</td>\n",
       "      <td>986956.0</td>\n",
       "      <td>None</td>\n",
       "      <td>{'country': '[[Indonesia]]', 'domestic_supplie...</td>\n",
       "    </tr>\n",
       "    <tr>\n",
       "      <th>3</th>\n",
       "      <td>Indonesian National Armed Forces</td>\n",
       "      <td>14650</td>\n",
       "      <td>119306865-0</td>\n",
       "      <td>infobox national military</td>\n",
       "      <td>percent_gdp</td>\n",
       "      <td>None</td>\n",
       "      <td>3%</td>\n",
       "      <td>2007-03-31 18:02:53+00:00</td>\n",
       "      <td>2007-08-30 21:00:35+00:00</td>\n",
       "      <td>119306865</td>\n",
       "      <td>Octane</td>\n",
       "      <td>986956.0</td>\n",
       "      <td>None</td>\n",
       "      <td>{'country': '[[Indonesia]]', 'domestic_supplie...</td>\n",
       "    </tr>\n",
       "    <tr>\n",
       "      <th>4</th>\n",
       "      <td>Indonesian National Armed Forces</td>\n",
       "      <td>14650</td>\n",
       "      <td>119306865-0</td>\n",
       "      <td>infobox national military</td>\n",
       "      <td>exports</td>\n",
       "      <td>None</td>\n",
       "      <td></td>\n",
       "      <td>2007-03-31 18:02:53+00:00</td>\n",
       "      <td>2010-02-25 13:42:35+00:00</td>\n",
       "      <td>119306865</td>\n",
       "      <td>Octane</td>\n",
       "      <td>986956.0</td>\n",
       "      <td>None</td>\n",
       "      <td>{'country': '[[Indonesia]]', 'domestic_supplie...</td>\n",
       "    </tr>\n",
       "    <tr>\n",
       "      <th>5</th>\n",
       "      <td>Indonesian National Armed Forces</td>\n",
       "      <td>14650</td>\n",
       "      <td>119306865-0</td>\n",
       "      <td>infobox national military</td>\n",
       "      <td>reserve</td>\n",
       "      <td>None</td>\n",
       "      <td></td>\n",
       "      <td>2007-03-31 18:02:53+00:00</td>\n",
       "      <td>2009-08-30 12:47:38+00:00</td>\n",
       "      <td>119306865</td>\n",
       "      <td>Octane</td>\n",
       "      <td>986956.0</td>\n",
       "      <td>None</td>\n",
       "      <td>{'country': '[[Indonesia]]', 'domestic_supplie...</td>\n",
       "    </tr>\n",
       "    <tr>\n",
       "      <th>6</th>\n",
       "      <td>Indonesian National Armed Forces</td>\n",
       "      <td>14650</td>\n",
       "      <td>119306865-0</td>\n",
       "      <td>infobox national military</td>\n",
       "      <td>age</td>\n",
       "      <td>None</td>\n",
       "      <td></td>\n",
       "      <td>2007-03-31 18:02:53+00:00</td>\n",
       "      <td>2010-02-25 13:42:35+00:00</td>\n",
       "      <td>119306865</td>\n",
       "      <td>Octane</td>\n",
       "      <td>986956.0</td>\n",
       "      <td>None</td>\n",
       "      <td>{'country': '[[Indonesia]]', 'domestic_supplie...</td>\n",
       "    </tr>\n",
       "    <tr>\n",
       "      <th>7</th>\n",
       "      <td>Indonesian National Armed Forces</td>\n",
       "      <td>14650</td>\n",
       "      <td>119306865-0</td>\n",
       "      <td>infobox national military</td>\n",
       "      <td>domestic_suppliers</td>\n",
       "      <td>None</td>\n",
       "      <td></td>\n",
       "      <td>2007-03-31 18:02:53+00:00</td>\n",
       "      <td>2009-03-28 17:56:19+00:00</td>\n",
       "      <td>119306865</td>\n",
       "      <td>Octane</td>\n",
       "      <td>986956.0</td>\n",
       "      <td>None</td>\n",
       "      <td>{'country': '[[Indonesia]]', 'domestic_supplie...</td>\n",
       "    </tr>\n",
       "    <tr>\n",
       "      <th>8</th>\n",
       "      <td>Indonesian National Armed Forces</td>\n",
       "      <td>14650</td>\n",
       "      <td>119306865-0</td>\n",
       "      <td>infobox national military</td>\n",
       "      <td>history</td>\n",
       "      <td>None</td>\n",
       "      <td></td>\n",
       "      <td>2007-03-31 18:02:53+00:00</td>\n",
       "      <td>2010-02-25 13:42:35+00:00</td>\n",
       "      <td>119306865</td>\n",
       "      <td>Octane</td>\n",
       "      <td>986956.0</td>\n",
       "      <td>None</td>\n",
       "      <td>{'country': '[[Indonesia]]', 'domestic_supplie...</td>\n",
       "    </tr>\n",
       "    <tr>\n",
       "      <th>9</th>\n",
       "      <td>Indonesian National Armed Forces</td>\n",
       "      <td>14650</td>\n",
       "      <td>119306865-0</td>\n",
       "      <td>infobox national military</td>\n",
       "      <td>manpower_data</td>\n",
       "      <td>None</td>\n",
       "      <td>2005 est.</td>\n",
       "      <td>2007-03-31 18:02:53+00:00</td>\n",
       "      <td>2008-01-26 05:55:31+00:00</td>\n",
       "      <td>119306865</td>\n",
       "      <td>Octane</td>\n",
       "      <td>986956.0</td>\n",
       "      <td>None</td>\n",
       "      <td>{'country': '[[Indonesia]]', 'domestic_supplie...</td>\n",
       "    </tr>\n",
       "  </tbody>\n",
       "</table>\n",
       "</div>"
      ]
     },
     "metadata": {},
     "execution_count": 17
    }
   ],
   "metadata": {}
  },
  {
   "cell_type": "markdown",
   "source": [
    "--------------------------------------------------------------------------------------------------------------------------------------------------"
   ],
   "metadata": {}
  },
  {
   "cell_type": "code",
   "execution_count": null,
   "source": [
    "data[data[['pageTitle', 'name', 'timestamp']].duplicated(keep=False)].sort_values(['pageTitle', 'name', 'timestamp']).head(50)"
   ],
   "outputs": [],
   "metadata": {}
  },
  {
   "cell_type": "code",
   "execution_count": null,
   "source": [
    "bins = pd.date_range(data['timestamp'].min().date(), data['timestamp'].max().date()+timedelta(1))\n",
    "total_days = len(bins)\n",
    "bins = pd.cut(data['timestamp'], bins, labels=False)\n",
    "data['bin_idx'] = bins"
   ],
   "outputs": [],
   "metadata": {}
  },
  {
   "cell_type": "code",
   "execution_count": null,
   "source": [
    "def create_time_series(a, duration):\n",
    "    series = np.zeros(duration)\n",
    "    uniques, counts = np.unique(a, return_counts=True)\n",
    "    series[uniques] = counts\n",
    "    return csr_matrix(series)\n",
    "\n",
    "def create_bool_time_series(a, duration):\n",
    "    series = np.zeros(duration, dtype=bool)\n",
    "    uniques, counts = np.unique(a, return_counts=True)\n",
    "    series[uniques] = 1\n",
    "    return series"
   ],
   "outputs": [],
   "metadata": {}
  },
  {
   "cell_type": "code",
   "execution_count": null,
   "source": [
    "print(f\"Num data points: {len(data)}\")"
   ],
   "outputs": [],
   "metadata": {}
  },
  {
   "cell_type": "code",
   "execution_count": null,
   "source": [
    "num_required_changes = 10\n",
    "groups = data.groupby(['key', 'name'])\n",
    "min_support_groups = data[groups['bin_idx'].transform('count') > num_required_changes].groupby(['key', 'name'])"
   ],
   "outputs": [],
   "metadata": {}
  },
  {
   "cell_type": "code",
   "execution_count": null,
   "source": [
    "%%time\n",
    "min_support_groups = min_support_groups['bin_idx'].apply(create_time_series, duration=total_days)"
   ],
   "outputs": [],
   "metadata": {}
  },
  {
   "cell_type": "code",
   "execution_count": null,
   "source": [
    "print(f\"Number of properties: {len(groups)}\")\n",
    "group_index = min_support_groups.index\n",
    "#x = groups.loc[\"100593997-0\"].values\n",
    "x = vstack(min_support_groups.to_numpy())\n",
    "print(f\"Len min support groups : {x.shape[0]}\")\n",
    "#x = csr_matrix(x)"
   ],
   "outputs": [],
   "metadata": {}
  },
  {
   "cell_type": "markdown",
   "source": [
    "## Nearest Neighbors\n",
    "Probably more suited than clustering methods"
   ],
   "metadata": {}
  },
  {
   "cell_type": "code",
   "execution_count": null,
   "source": [
    "import numpy as np\n",
    "from sklearn.neighbors import NearestNeighbors\n",
    "max_dist = 2\n",
    "neigh = NearestNeighbors(radius=max_dist, p=1)\n",
    "neigh.fit(x)"
   ],
   "outputs": [],
   "metadata": {}
  },
  {
   "cell_type": "code",
   "execution_count": null,
   "source": [
    "%%time\n",
    "dist, ind = neigh.radius_neighbors()"
   ],
   "outputs": [],
   "metadata": {}
  },
  {
   "cell_type": "code",
   "execution_count": null,
   "source": [
    "a = group_index.values\n",
    "same_infobox = []\n",
    "for i, indices in enumerate(ind):\n",
    "    infobox = group_index[i][0]\n",
    "    if len(indices) > 0:\n",
    "        matching_pages = np.array([key[0] for key in group_index[indices]])\n",
    "        same_infobox.append(infobox == matching_pages)\n",
    "n_total = len(ind)\n",
    "n_matched = len(same_infobox)"
   ],
   "outputs": [],
   "metadata": {
    "tags": []
   }
  },
  {
   "cell_type": "code",
   "execution_count": null,
   "source": [
    "print(f\"number of pages considered: {data['pageID'].nunique()}\")"
   ],
   "outputs": [],
   "metadata": {}
  },
  {
   "cell_type": "code",
   "execution_count": null,
   "source": [
    "num_matches = []\n",
    "percent_same_matched = []\n",
    "max_num_matches = 100\n",
    "for i in range(1, max_num_matches):\n",
    "    num_matches.append(np.sum(np.fromiter( (len(a) for a in same_infobox), dtype=int) == i))\n",
    "    percent_same_matched.append(np.mean([np.sum(entry) / i for entry in same_infobox if len(entry) == i]))\n",
    "percent_same_infobox = np.multiply(num_matches, percent_same_matched)\n",
    "plt.bar(range(1, max_num_matches), percent_same_infobox, label='Same infobox')\n",
    "plt.bar(range(1, max_num_matches), num_matches-percent_same_infobox, bottom = percent_same_infobox, label='Different Infobox')\n",
    "plt.legend(loc='upper right')\n",
    "plt.title(f\"Number of properties with #matches == x (#considered: {len(groups)})\")\n",
    "plt.figtext(0.1, 0, \"Color represents the % of matches that are not from the same infobox\")"
   ],
   "outputs": [],
   "metadata": {}
  },
  {
   "cell_type": "code",
   "execution_count": null,
   "source": [
    "#0.963084495488105\n",
    "# 95 93 87 87 95\n",
    "# 93 91 84 93 87\n",
    "# 94 91 80 90 88\n",
    "percent_same_matched"
   ],
   "outputs": [],
   "metadata": {}
  },
  {
   "cell_type": "markdown",
   "source": [
    "Look at some of the examples\n",
    " - Many examples have just creation / deletion\n",
    " - When filtering these out, some examples are:\n",
    "     - batting averages (247568784-0), box2..., Statistics in general\n",
    "     - Temperature reading for cities (infoboxes that are basically plots) - https://de.wikipedia.org/wiki/Ottawa\n",
    "     - Uniforms for soccer games and stuff https://en.wikipedia.org/wiki/FC_Bayern_Munich_(women)\n",
    "     - Perfect synchronous data https://en.wikipedia.org/wiki/Delta_County_Airport\n",
    "     - Career listings and other list elements - https://en.wikipedia.org/wiki/Akaki_Khubutia\n",
    "     - Stuff that is updated real time, once (Elections https://en.wikipedia.org/wiki/2019_European_Parliament_election_in_the_United_Kingdom)\n",
    "     - railway stations , passenger numbers (https://en.wikipedia.org/wiki/Windsor_station_(Vermont))\n",
    "     - Vandalism"
   ],
   "metadata": {}
  },
  {
   "cell_type": "code",
   "execution_count": null,
   "source": [
    "a = group_index[ind[np.array([len(g) for g in ind]) > 2][70]]\n",
    "print(a)\n",
    "a = a[6]\n",
    "data[(data['name'] == a[1]) & (data['key'] == a[0])]"
   ],
   "outputs": [],
   "metadata": {
    "tags": []
   }
  },
  {
   "cell_type": "code",
   "execution_count": null,
   "source": [
    "data[data['key'] == '131458332-1']"
   ],
   "outputs": [],
   "metadata": {}
  },
  {
   "cell_type": "code",
   "execution_count": null,
   "source": [
    "data[data['key'] == '131458332-2']"
   ],
   "outputs": [],
   "metadata": {}
  },
  {
   "cell_type": "code",
   "execution_count": null,
   "source": [
    "data[(data['name'] == 'ability') & (data['key'] == '131458332-2')]"
   ],
   "outputs": [],
   "metadata": {}
  },
  {
   "cell_type": "code",
   "execution_count": null,
   "source": [
    "ind[np.array([len(g) for g in ind]) > 20]"
   ],
   "outputs": [],
   "metadata": {}
  },
  {
   "cell_type": "code",
   "execution_count": null,
   "source": [
    "group_index[ind[np.array([len(g) for g in ind]) > 20][123]]\n",
    "data[(data['key'] == '110474295-0') & (data['name'] == 'area_rank')]"
   ],
   "outputs": [],
   "metadata": {}
  },
  {
   "cell_type": "markdown",
   "source": [
    "## KShape, apparently good fast clustering\n",
    "Seems to be ill-suited for the job"
   ],
   "metadata": {}
  },
  {
   "cell_type": "code",
   "execution_count": null,
   "source": [
    "plt.figure(figsize=(100,2))\n",
    "for k, row in groups.loc[\"100593997-0\"].items():\n",
    "    plt.plot(row)"
   ],
   "outputs": [],
   "metadata": {}
  },
  {
   "cell_type": "code",
   "execution_count": null,
   "source": [
    "from tslearn.clustering import KShape\n",
    "n_clusters = 4\n",
    "classifier = KShape(n_clusters)\n",
    "classifier.fit(x)\n",
    "predictions = classifier.predict(x)"
   ],
   "outputs": [],
   "metadata": {}
  },
  {
   "cell_type": "code",
   "execution_count": null,
   "source": [
    "for i in range(n_clusters):\n",
    "    selected_data = x[predictions==i]\n",
    "    plt.figure(figsize=(100,2))\n",
    "    for j in range(len(selected_data)):\n",
    "        plt.plot(selected_data[j])\n",
    "    plt.show()"
   ],
   "outputs": [],
   "metadata": {}
  },
  {
   "cell_type": "markdown",
   "source": [
    "## DBScan"
   ],
   "metadata": {}
  },
  {
   "cell_type": "code",
   "execution_count": null,
   "source": [
    "from sklearn.cluster import DBSCAN"
   ],
   "outputs": [],
   "metadata": {}
  },
  {
   "cell_type": "code",
   "execution_count": null,
   "source": [
    "from dtaidistance import dtw"
   ],
   "outputs": [],
   "metadata": {}
  },
  {
   "cell_type": "code",
   "execution_count": null,
   "source": [
    "print(dtw.distance.__doc__)"
   ],
   "outputs": [],
   "metadata": {}
  },
  {
   "cell_type": "code",
   "execution_count": null,
   "source": [
    "def change_distance(a, b):\n",
    "    return dtw.distance(a, b, window=14, use_pruning=True, use_c=True)"
   ],
   "outputs": [],
   "metadata": {}
  },
  {
   "cell_type": "code",
   "execution_count": null,
   "source": [
    "x.shape"
   ],
   "outputs": [],
   "metadata": {}
  },
  {
   "cell_type": "code",
   "execution_count": null,
   "source": [
    "%%time\n",
    "clustering = DBSCAN(eps=1, min_samples=2, n_jobs=6, metric=change_distance).fit(x)"
   ],
   "outputs": [],
   "metadata": {}
  },
  {
   "cell_type": "code",
   "execution_count": null,
   "source": [
    "clusters = np.unique(clustering.labels_)\n",
    "n_clusters = len(clusters)\n",
    "if -1 in clusters:\n",
    "    n_clusters -=1"
   ],
   "outputs": [],
   "metadata": {}
  },
  {
   "cell_type": "code",
   "execution_count": null,
   "source": [
    "for i in range(n_clusters):\n",
    "    selected_data = x[clustering.labels_==i]\n",
    "    plt.figure(figsize=(100,2))\n",
    "    for j in range(len(selected_data)):\n",
    "        plt.plot(selected_data[j])\n",
    "    plt.show()"
   ],
   "outputs": [],
   "metadata": {}
  }
 ],
 "metadata": {
  "kernelspec": {
   "name": "python3",
   "display_name": "Python 3.6.9 64-bit ('mp': conda)"
  },
  "language_info": {
   "codemirror_mode": {
    "name": "ipython",
    "version": 3
   },
   "file_extension": ".py",
   "mimetype": "text/x-python",
   "name": "python",
   "nbconvert_exporter": "python",
   "pygments_lexer": "ipython3",
   "version": "3.6.9"
  },
  "interpreter": {
   "hash": "9d6890af0e7111529245105513a4571ecfc3e378a026bfe7b711a2eb3eb8eca5"
  }
 },
 "nbformat": 4,
 "nbformat_minor": 5
}