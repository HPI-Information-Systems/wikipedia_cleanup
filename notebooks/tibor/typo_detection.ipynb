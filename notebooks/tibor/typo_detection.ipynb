{
 "cells": [
  {
   "cell_type": "code",
   "execution_count": null,
   "source": [
    "import json\n",
    "from pathlib import Path\n",
    "\n",
    "import numpy as np\n",
    "import pandas as pd\n",
    "from tqdm import tqdm\n",
    "import Levenshtein\n",
    "import matplotlib.pyplot as plt\n",
    "import fastDamerauLevenshtein"
   ],
   "outputs": [],
   "metadata": {}
  },
  {
   "cell_type": "code",
   "execution_count": null,
   "source": [
    "# splits string in words\n",
    "def split_strings(str1, str2):\n",
    "    lst = [str1.split()]\n",
    "    lst.append(str2.split())\n",
    "    return lst\n",
    "\n",
    "# checks if wordcount in both strings is equal\n",
    "def same_wordcounts(lst1, lst2):\n",
    "    return (len(lst1) == len(lst2))\n",
    "\n",
    "# deletes non alphabetical characters from string\n",
    "def skip_no_alpha(string):\n",
    "    only_alpha = \"\"\n",
    "    for char in string:\n",
    "        if char.isalpha():\n",
    "            only_alpha += char\n",
    "    return only_alpha\n",
    "\n",
    "# checks in numbers are increments\n",
    "def is_increment(nr1, nr2):\n",
    "    return (nr1+1 == nr2 or nr1-1 == nr2)\n",
    "\n",
    "# checks if case (upper/loewr) of the first latter is switched\n",
    "def is_first_letter_caseswitch(str1,str2):\n",
    "    return (str1[0].isupper() and str2[0].islower() or str1[0].islower() and str2[0].isupper())\n"
   ],
   "outputs": [],
   "metadata": {}
  },
  {
   "cell_type": "code",
   "execution_count": null,
   "source": [
    "def get_levenshtein_dists(lst1, lst2, only_alpha=False):\n",
    "    if len(lst1) != len(lst2):\n",
    "        print(\"Difference words counts of lists!\")\n",
    "        return\n",
    "    dists = []\n",
    "    if only_alpha:\n",
    "        for i in range(len(lst1)):\n",
    "            dists.append(int(fastDamerauLevenshtein.damerauLevenshtein(\n",
    "                skip_no_alpha(lst1[i]), skip_no_alpha(lst2[i]), similarity=False)))\n",
    "    else:\n",
    "        for i in range(len(lst1)):\n",
    "            dists.append(int(fastDamerauLevenshtein.damerauLevenshtein(\n",
    "                lst1[i], lst2[i], similarity=False)))\n",
    "    return dists\n",
    "\n",
    "# splits strings in words\n",
    "\n",
    "\n",
    "def get_words_and_dists(str1, str2, skip_no_alpha=False):\n",
    "    words = split_strings(str1, str2)\n",
    "    if len(words[0]) == len(words[1]):\n",
    "        dists = get_levenshtein_dists(words[0], words[1], skip_no_alpha)\n",
    "    else:\n",
    "        dists = []\n",
    "    return words, dists\n"
   ],
   "outputs": [],
   "metadata": {}
  },
  {
   "cell_type": "code",
   "execution_count": null,
   "source": [
    "def word_in_dict(str1, words_dict):\n",
    "    return str1 in words_dict\n",
    "\n",
    "def is_typo_fixed(str1, str2, words_dict, lowercase=True):\n",
    "    \"\"\" Check if typo is fixed.\n",
    "        return 0: no other case is found\n",
    "        return 1: word was not in dict before (misspelled)\n",
    "        return 2: word with swapped first letter (and other changes depending on edit distance)\n",
    "    \"\"\"\n",
    "    # detects number errors (dreher,tippfehler), skippt increments\n",
    "    # TODO: problem bei editwars für date of birth\n",
    "    if str1.isdigit() and str2.isdigit() and not is_increment(int(str1),int(str2)):\n",
    "        return 3\n",
    "\n",
    "    # if is_first_letter_caseswitch(str1,str2):\n",
    "    #     return 2\n",
    "\n",
    "    # if lowercase:\n",
    "    #     str1=str1.lower()\n",
    "    #     str2=str2.lower()\n",
    "\n",
    "    # if (not word_in_dict(str1, words_dict) and word_in_dict(str2, words_dict)):\n",
    "    #     return 1\n",
    "        \n",
    "    return 0"
   ],
   "outputs": [],
   "metadata": {}
  },
  {
   "cell_type": "code",
   "execution_count": null,
   "source": [
    "def get_typo_type(str1, str2, words_dict, only_alpha=False):\n",
    "    words, levenshtein_dists = get_words_and_dists(\n",
    "        str1, str2, only_alpha)\n",
    "    typo_lst = []\n",
    "    for i in range(len(levenshtein_dists)):  # only loops if dists are found (word counts are equal)\n",
    "        if(levenshtein_dists[i] > 0 and levenshtein_dists[i] <= 2):  # only uses distances >0 <=2\n",
    "            typo_lst.append(is_typo_fixed(\n",
    "                words[0][i], words[1][i], words_dict))\n",
    "        # else:  # appends None if dist is <0 or >2\n",
    "        #     typo_lst.append(None)\n",
    "    return typo_lst\n"
   ],
   "outputs": [],
   "metadata": {}
  },
  {
   "cell_type": "code",
   "execution_count": null,
   "source": [
    "my_file = open(\"../../../words_alpha.txt\", \"r\")\n",
    "words_dict=set(my_file.read().split())\n",
    "\n",
    "testcase1 = [\"Hier sind kkeine Fheler\", \"Hier sind keine Fehler\"]\n",
    "testcase1_en = [\"There are nno erorrs\", \"There are no errors\"]\n",
    "typo_lst = get_typo_type(testcase1_en[0], testcase1_en[1], words_dict)\n",
    "print(typo_lst)"
   ],
   "outputs": [],
   "metadata": {}
  },
  {
   "cell_type": "code",
   "execution_count": null,
   "source": [
    "def typo_check(str1, str2, words_dict, skip_no_alpha=False):\n",
    "    \"\"\"Return True if typo\n",
    "       Return False if no typo\n",
    "    \"\"\"\n",
    "    typo_lst = get_typo_type(str1, str2, words_dict, skip_no_alpha)\n",
    "    for typo_type in typo_lst:\n",
    "        if typo_type > 0:  # 1 is previous not in dict, current is in dict, 2 case switch on first letter\n",
    "            return True\n",
    "    return False"
   ],
   "outputs": [],
   "metadata": {}
  },
  {
   "cell_type": "code",
   "execution_count": null,
   "source": [
    "input_data = Path(\"../../matched-infoboxes-extracted/\")\n",
    "inp = list(input_data.rglob('*.json'))\n",
    "files = [x for x in inp if x.is_file()]\n",
    "len(files) "
   ],
   "outputs": [],
   "metadata": {}
  },
  {
   "cell_type": "code",
   "execution_count": null,
   "source": [
    "number_of_files = 20\n",
    "num_edits = 0\n",
    "change_tuples = []\n",
    "for file in tqdm(files[:number_of_files]):\n",
    "    with open(file, 'r', encoding='utf-8') as f:\n",
    "        for jsonObj in f:\n",
    "            single_edit = json.loads(jsonObj)\n",
    "            num_edits += 1\n",
    "            title = single_edit['pageTitle']\n",
    "            pageID = single_edit['pageID']\n",
    "            key = single_edit['key']\n",
    "            template = single_edit['template'] if 'template' in single_edit.keys(\n",
    "            ) else None\n",
    "            changes = single_edit['changes']\n",
    "            timestamp = single_edit['validFrom']\n",
    "            revisionId = single_edit['revisionId']\n",
    "            attributes = single_edit['attributes'] if 'attributes' in single_edit.keys(\n",
    "            ) else None\n",
    "            # print(single_edit['user'])\n",
    "            user_name = single_edit['user']['username'] if 'username' in single_edit['user'].keys(\n",
    "            ) else None\n",
    "            user_id = single_edit['user']['id'] if 'id' in single_edit['user'].keys(\n",
    "            ) else None\n",
    "            user_ip = single_edit['user']['ip'] if 'ip' in single_edit['user'].keys(\n",
    "            ) else None\n",
    "            for change in changes:\n",
    "                name = change['property']['name']\n",
    "                current_value = change['currentValue'] if 'currentValue' in change.keys(\n",
    "                ) else None\n",
    "                previous_value = change['previousValue'] if 'previousValue' in change.keys(\n",
    "                ) else None\n",
    "                change_tuples.append((title, pageID, key, template, name, previous_value,\n",
    "                                     current_value, timestamp, revisionId, user_name, user_id, user_ip, attributes))\n",
    "print(\"Number of edits:\", num_edits)\n",
    "print(\"Number of change tuples:\", len(change_tuples))"
   ],
   "outputs": [],
   "metadata": {}
  },
  {
   "cell_type": "code",
   "execution_count": null,
   "source": [
    "my_file = open(\"../../../words_alpha.txt\", \"r\")\n",
    "words_dict=set(my_file.read().split())"
   ],
   "outputs": [],
   "metadata": {}
  },
  {
   "cell_type": "code",
   "execution_count": null,
   "source": [
    "typo_lst = []\n",
    "for i in tqdm(range(len(change_tuples))):\n",
    "    # Check only changes (no creations/deletions)\n",
    "    if(change_tuples[i][5] is not None and change_tuples[i][6] is not None):\n",
    "        typo_lst.append(typo_check(\n",
    "            change_tuples[i][5], change_tuples[i][6], words_dict, False))\n",
    "    else:\n",
    "        typo_lst.append(None)"
   ],
   "outputs": [],
   "metadata": {}
  },
  {
   "cell_type": "code",
   "execution_count": null,
   "source": [
    "counts = {\"typo fixed\": 0,\n",
    "          \"no typo\": 0,\n",
    "          \"not tested\": 0\n",
    "          }\n",
    "for typo in typo_lst:\n",
    "    if typo is True:\n",
    "        counts[\"typo fixed\"] += 1\n",
    "    if typo is False:\n",
    "        counts[\"no typo\"] += 1\n",
    "    if typo is None:\n",
    "        counts[\"not tested\"] += 1\n",
    "print(counts)\n",
    "print(counts[\"typo fixed\"]+counts[\"no typo\"]+counts[\"not tested\"])"
   ],
   "outputs": [],
   "metadata": {}
  },
  {
   "cell_type": "code",
   "execution_count": null,
   "source": [
    "print(\"typo fixed:\", counts[\"typo fixed\"])\n",
    "print(\"no typo:\", counts[\"no typo\"])\n",
    "print(\"not tested:\", counts[\"not tested\"])\n",
    "print(\"typo fix %:\",counts[\"typo fixed\"]/(counts[\"typo fixed\"]+counts[\"no typo\"]))"
   ],
   "outputs": [],
   "metadata": {}
  },
  {
   "cell_type": "code",
   "execution_count": null,
   "source": [
    "# get idx of all typos\n",
    "idx = []\n",
    "for i in range(len(typo_lst)):\n",
    "    if typo_lst[i] == True:\n",
    "        idx.append(i)"
   ],
   "outputs": [],
   "metadata": {}
  },
  {
   "cell_type": "markdown",
   "source": [
    "## Dataframe"
   ],
   "metadata": {}
  },
  {
   "cell_type": "code",
   "execution_count": null,
   "source": [
    "data = pd.DataFrame(change_tuples, columns=['pageTitle', 'pageID', 'key', 'template', 'name', 'previous_value', 'current_value', 'timestamp', 'revisionId', 'user_name', 'user_id', 'user_ip', 'attributes'])\n",
    "data['timestamp'] = pd.to_datetime(data['timestamp'])"
   ],
   "outputs": [],
   "metadata": {}
  },
  {
   "cell_type": "code",
   "execution_count": null,
   "source": [
    "data.iloc[idx].tail(20)"
   ],
   "outputs": [],
   "metadata": {}
  },
  {
   "cell_type": "markdown",
   "source": [
    "## Swear words"
   ],
   "metadata": {}
  },
  {
   "cell_type": "code",
   "execution_count": null,
   "source": [
    "def check_swear(str1, str2, words_dict, lowercase=True):\n",
    "    \"\"\" Check if swear got added or removed.\n",
    "        Input:\n",
    "            str1: prev string\n",
    "            str2: curr string\n",
    "        Output:\n",
    "        prev false , curr true : 1 (swear word added)\n",
    "        prev true , curr false : 2 (swear word removed)\n",
    "    \"\"\"\n",
    "    if lowercase:\n",
    "        str1=str1.lower()\n",
    "        str2=str2.lower()\n",
    "\n",
    "    str1_lst=str1.split()\n",
    "    str2_lst=str2.split()\n",
    "\n",
    "    prev_swear=False\n",
    "    curr_swear=False\n",
    "    for string in str1_lst:\n",
    "        if word_in_dict(string, words_dict):\n",
    "            prev_swear=True\n",
    "            break\n",
    "\n",
    "    for string in str2_lst:\n",
    "        if word_in_dict(string, words_dict):\n",
    "            curr_swear=True\n",
    "            break\n",
    "\n",
    "    if (not prev_swear and curr_swear):\n",
    "        # swear word added\n",
    "        return 1\n",
    "    if (prev_swear and not curr_swear):\n",
    "        # swear word removed\n",
    "        return 2\n",
    "    if (prev_swear and  curr_swear):\n",
    "        # swear word in both\n",
    "        return 3\n",
    "    if (not prev_swear and not curr_swear):\n",
    "        # swear word in none\n",
    "        return 0"
   ],
   "outputs": [],
   "metadata": {}
  },
  {
   "cell_type": "code",
   "execution_count": null,
   "source": [
    "swear_file = open(\"../../../words_swear.txt\", \"r\")\n",
    "swear_dict = set(swear_file.read().split())\n",
    "\n",
    "swear_lst = []\n",
    "for i in tqdm(range(len(change_tuples))):\n",
    "    if(change_tuples[i][5] is not None and change_tuples[i][6] is not None):\n",
    "        swear_lst.append(check_swear(\n",
    "            change_tuples[i][5], change_tuples[i][6], swear_dict))\n",
    "    else:\n",
    "        swear_lst.append(None)\n",
    "\n",
    "\n",
    "counts_swear = {\"Swearwords added\": 0,\n",
    "                \"Swearwords removed\": 0,\n",
    "                \"Swearwords not touched\": 0,\n",
    "                \"Swearwords not found\": 0,\n",
    "                \"create or delete (skipped)\": 0}\n",
    "for test in swear_lst:\n",
    "    if test is 1:\n",
    "        counts_swear[\"Swearwords added\"] += 1\n",
    "    if test is 2:\n",
    "        counts_swear[\"Swearwords removed\"] += 1\n",
    "    if test is 3:\n",
    "        counts_swear[\"Swearwords not touched\"] += 1\n",
    "    if test is 0:\n",
    "        counts_swear[\"Swearwords not found\"] += 1\n",
    "    if test is None:\n",
    "        # prev or curr is None\n",
    "        counts_swear[\"create or delete (skipped)\"] += 1\n",
    "print(counts_swear)\n",
    "\n",
    "idx_swear = [[], []]\n",
    "for i in range(len(swear_lst)):\n",
    "    if swear_lst[i] == 1:\n",
    "        idx_swear[0].append(i)\n",
    "    if swear_lst[i] == 2:\n",
    "        idx_swear[1].append(i)\n"
   ],
   "outputs": [],
   "metadata": {}
  },
  {
   "cell_type": "code",
   "execution_count": null,
   "source": [
    "print(\"Swearwords added:\", counts_swear[\"Swearwords added\"])\n",
    "print(\"Swearwords removed:\", counts_swear[\"Swearwords removed\"])\n",
    "print(\"Swearwords not touched:\", counts_swear[\"Swearwords not touched\"])\n",
    "print(\"Swearwords not found:\", counts_swear[\"Swearwords not found\"])\n",
    "print(\"create or delete (skipped):\", counts_swear[\"create or delete (skipped)\"])\n",
    "edit_count=0\n",
    "for i, (k, v) in enumerate(counts_swear.items()):\n",
    "    if i > 3:\n",
    "        break\n",
    "    edit_count += v\n",
    "print(\"Toal words (without create/delete):\", edit_count)\n",
    "print(\"Percentage of swear words in edits added and removed:\",\n",
    "      counts_swear[\"Swearwords added\"]/edit_count, counts_swear[\"Swearwords removed\"]/edit_count)\n"
   ],
   "outputs": [],
   "metadata": {}
  },
  {
   "cell_type": "markdown",
   "source": [
    "## Swear words added"
   ],
   "metadata": {}
  },
  {
   "cell_type": "code",
   "execution_count": null,
   "source": [
    "# todo: how handle empty strings?\n",
    "data.iloc[idx_swear[0]].head(50)"
   ],
   "outputs": [],
   "metadata": {}
  },
  {
   "cell_type": "markdown",
   "source": [
    "## Swear words removed"
   ],
   "metadata": {}
  },
  {
   "cell_type": "code",
   "execution_count": null,
   "source": [
    "data.iloc[idx_swear[1]].head(50)"
   ],
   "outputs": [],
   "metadata": {}
  }
 ],
 "metadata": {
  "orig_nbformat": 4,
  "language_info": {
   "name": "python",
   "version": "3.6.9",
   "mimetype": "text/x-python",
   "codemirror_mode": {
    "name": "ipython",
    "version": 3
   },
   "pygments_lexer": "ipython3",
   "nbconvert_exporter": "python",
   "file_extension": ".py"
  },
  "kernelspec": {
   "name": "python3",
   "display_name": "Python 3.6.9 64-bit ('mp': conda)"
  },
  "interpreter": {
   "hash": "9d6890af0e7111529245105513a4571ecfc3e378a026bfe7b711a2eb3eb8eca5"
  }
 },
 "nbformat": 4,
 "nbformat_minor": 2
}