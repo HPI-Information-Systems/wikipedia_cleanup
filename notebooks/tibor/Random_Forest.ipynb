{
 "cells": [
  {
   "cell_type": "markdown",
   "id": "34c7623d-aace-4c48-bd7f-59d837d4fdf6",
   "metadata": {},
   "source": [
    "# Random Forest"
   ]
  },
  {
   "cell_type": "code",
   "execution_count": null,
   "id": "b7ac590d-d8d1-4237-a135-0664553fb40b",
   "metadata": {},
   "outputs": [],
   "source": [
    "from sklearn.ensemble import RandomForestClassifier\n",
    "import pandas as pd\n",
    "import numpy as np"
   ]
  },
  {
   "cell_type": "markdown",
   "id": "08503ece-fb06-44d6-b596-283bb7b673dd",
   "metadata": {},
   "source": [
    "Using our data"
   ]
  },
  {
   "cell_type": "code",
   "execution_count": null,
   "id": "b2be655f",
   "metadata": {},
   "outputs": [],
   "source": [
    "df_pop= pd.read_csv('../../../data/popular_data_with_features2.csv')"
   ]
  },
  {
   "cell_type": "code",
   "execution_count": null,
   "id": "25ac192b",
   "metadata": {},
   "outputs": [],
   "source": [
    "df_pop.head()"
   ]
  },
  {
   "cell_type": "code",
   "execution_count": null,
   "id": "fc95bb7a",
   "metadata": {},
   "outputs": [],
   "source": [
    "df_grouped = df_pop.groupby([\"infobox_key\",\"property_name\"]).count()"
   ]
  },
  {
   "cell_type": "code",
   "execution_count": null,
   "id": "395563cc",
   "metadata": {},
   "outputs": [],
   "source": [
    "keys = df_grouped.index.tolist()"
   ]
  },
  {
   "cell_type": "code",
   "execution_count": null,
   "id": "9f5b7105",
   "metadata": {},
   "outputs": [],
   "source": [
    "import random\n",
    "import datetime\n",
    "\n",
    "\n",
    "def mock_evaluation(keys, random=True):\n",
    "    if random:\n",
    "        k = random.choice(keys)\n",
    "        return k[0], k[1], datetime.date(2020, 11, 11)\n",
    "    return \"254442624-0\", \"num_episodes\", datetime.date(2020, 11, 11)\n"
   ]
  },
  {
   "cell_type": "code",
   "execution_count": null,
   "id": "d5e10897",
   "metadata": {},
   "outputs": [],
   "source": [
    "infobox_key,property_name,date_to_predict=mock_evaluation(keys,random=False)"
   ]
  },
  {
   "cell_type": "code",
   "execution_count": null,
   "id": "646e3628-b4c8-4ad5-8fd8-52136ae8b4f2",
   "metadata": {},
   "outputs": [],
   "source": [
    "sample = df_pop[(df_pop['infobox_key']==infobox_key) & (df_pop['property_name']==property_name)]"
   ]
  },
  {
   "cell_type": "code",
   "execution_count": null,
   "id": "7972f8c5",
   "metadata": {},
   "outputs": [],
   "source": [
    "sample"
   ]
  },
  {
   "cell_type": "code",
   "execution_count": null,
   "id": "2666e8ef",
   "metadata": {},
   "outputs": [],
   "source": [
    "sample.drop(columns=[\"Unnamed: 0\",\"infobox_key\",\"page_title\",\"property_name\",\"template\"], inplace=True)"
   ]
  },
  {
   "cell_type": "code",
   "execution_count": null,
   "id": "73b784ee",
   "metadata": {},
   "outputs": [],
   "source": [
    "sample"
   ]
  },
  {
   "cell_type": "code",
   "execution_count": null,
   "id": "f0859cce",
   "metadata": {},
   "outputs": [],
   "source": [
    "X = sample[:-1].drop(columns=['days_until_next_change','timestamp'])\n",
    "y = sample[:-1]['days_until_next_change']\n",
    "x_last = sample.iloc[-1].drop(['days_until_next_change','timestamp']).values.reshape(1,-1)\n",
    "x_last_timestamp = datetime.datetime.strptime(sample.iloc[-1][\"timestamp\"],\"%Y-%m-%d\").date()"
   ]
  },
  {
   "cell_type": "markdown",
   "id": "77f9d739",
   "metadata": {},
   "source": [
    "Fitting + predictions"
   ]
  },
  {
   "cell_type": "code",
   "execution_count": null,
   "id": "42f774dd",
   "metadata": {},
   "outputs": [],
   "source": [
    "clf = RandomForestClassifier(random_state=0, n_estimators=1000)\n",
    "clf.fit(X, y)"
   ]
  },
  {
   "cell_type": "code",
   "execution_count": null,
   "id": "3cb37a9d",
   "metadata": {},
   "outputs": [],
   "source": [
    "preds = clf.predict(x_last)\n",
    "preds[0]"
   ]
  },
  {
   "cell_type": "code",
   "execution_count": null,
   "id": "75d1a703",
   "metadata": {},
   "outputs": [],
   "source": [
    "pred_date = x_last_timestamp+datetime.timedelta(days=preds[0].item())\n",
    "print(\"predicted date:\",pred_date)\n",
    "print(\"date to predict:\",date_to_predict)\n",
    "predicions = {\n",
    "    \"day\": pred_date <= date_to_predict,\n",
    "    \"week\": pred_date <= date_to_predict+datetime.timedelta(days=7),\n",
    "    \"month\": pred_date <= date_to_predict+datetime.timedelta(days=30),\n",
    "    \"year\": pred_date <= date_to_predict+datetime.timedelta(days=365)\n",
    "}\n",
    "predicions\n"
   ]
  },
  {
   "cell_type": "code",
   "execution_count": null,
   "id": "6b283295",
   "metadata": {},
   "outputs": [],
   "source": []
  }
 ],
 "metadata": {
  "kernelspec": {
   "display_name": "Python 3",
   "language": "python",
   "name": "python3"
  },
  "language_info": {
   "codemirror_mode": {
    "name": "ipython",
    "version": 3
   },
   "file_extension": ".py",
   "mimetype": "text/x-python",
   "name": "python",
   "nbconvert_exporter": "python",
   "pygments_lexer": "ipython3",
   "version": "3.6.9"
  }
 },
 "nbformat": 4,
 "nbformat_minor": 5
}
