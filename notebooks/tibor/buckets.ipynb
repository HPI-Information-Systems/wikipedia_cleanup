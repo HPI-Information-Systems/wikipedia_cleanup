{
 "cells": [
  {
   "cell_type": "code",
   "execution_count": null,
   "id": "7d20b310",
   "metadata": {},
   "outputs": [],
   "source": [
    "%load_ext autoreload\n",
    "%autoreload 2\n",
    "%config Completer.use_jedi = False"
   ]
  },
  {
   "cell_type": "code",
   "execution_count": null,
   "id": "c36734d8",
   "metadata": {},
   "outputs": [],
   "source": [
    "from pathlib import Path\n",
    "\n",
    "from wikipedia_cleanup.data_filter import KeepAttributesDataFilter, generate_default_filters\n",
    "from wikipedia_cleanup.predict import TrainAndPredictFramework\n",
    "from wikipedia_cleanup.predictor import ZeroPredictor, OnePredictor, MeanPredictor, RandomPredictor\n",
    "from wikipedia_cleanup.property_correlation import PropertyCorrelationPredictor\n",
    "from wikipedia_cleanup.random_forest import RandomForestPredictor\n",
    "\n",
    "import pandas as pd"
   ]
  },
  {
   "cell_type": "code",
   "execution_count": null,
   "id": "3e1626ec-9b02-423e-8a04-7dc59da2f7d2",
   "metadata": {},
   "outputs": [],
   "source": [
    "n_files = 2\n",
    "n_jobs = 8\n",
    "#input_path = Path(\"../data/test\")\n",
    "#input_path = Path(\"../../data/custom-format-default-filtered/\")\n",
    "#input_path = Path(\"/run/media/secret/manjaro-home/secret/mp-data/custom-format-default-filtered\")\n",
    "model = RandomForestPredictor(use_cache=False)\n",
    "framework = TrainAndPredictFramework(model, group_key=['infobox_key', 'property_name'])"
   ]
  },
  {
   "cell_type": "code",
   "execution_count": null,
   "id": "1a1506fa",
   "metadata": {},
   "outputs": [],
   "source": [
    "framework.data = pd.read_csv('../../../data/popular_data_with_features2.csv')[:100000]"
   ]
  },
  {
   "cell_type": "code",
   "execution_count": null,
   "id": "f65913d5",
   "metadata": {},
   "outputs": [],
   "source": [
    "framework.data[\"value_valid_from\"] = pd.to_datetime(framework.data[\"timestamp\"]).dt.tz_localize(None)\n",
    "data_df = framework.data"
   ]
  },
  {
   "cell_type": "code",
   "execution_count": null,
   "id": "bf5950a6",
   "metadata": {},
   "outputs": [],
   "source": [
    "from datetime import datetime\n",
    "df=framework.data\n",
    "test = df[df[\"value_valid_from\"]<datetime(2018, 9, 1)].groupby(['infobox_key', 'property_name'],sort=False).count()[\"value_valid_from\"]\n",
    "test.sort_values()"
   ]
  },
  {
   "cell_type": "code",
   "execution_count": null,
   "id": "360f722c",
   "metadata": {},
   "outputs": [],
   "source": [
    "# keys = test[((5<test) & (test<=10))].index.to_list()\n",
    "# bucket_df = data_df[(data_df['infobox_key'] == keys[0][0]) & (data_df['property_name'] == keys[0][1])]\n",
    "# for key in keys[1:]:\n",
    "#     bucket_df = bucket_df.append(\n",
    "#         data_df[(data_df['infobox_key'] == key[0]) & (data_df['property_name'] == key[1])])\n",
    "# framework.data = bucket_df\n",
    "# group_key=['infobox_key', 'property_name']\n",
    "# framework.data[\"key\"] = list(\n",
    "#             zip(*[framework.data[group_key] for group_key in framework.group_key])\n",
    "#         )\n",
    "# framework.fit_model()\n",
    "# framework.test_model(randomize=False, predict_subset=0.5)"
   ]
  },
  {
   "cell_type": "code",
   "execution_count": null,
   "id": "d79d21cf",
   "metadata": {},
   "outputs": [],
   "source": [
    "from tqdm import tqdm\n",
    "import numpy as np\n",
    "from sklearn.ensemble import RandomForestClassifier\n",
    "from sklearn.metrics import precision_recall_fscore_support\n",
    "\n",
    "def calc_precision(preds,y,days_diff):\n",
    "    # return np.sum(np.abs(np.floor(preds)-y)<=days_diff)/len(y)\n",
    "    # print(precision_recall_fscore_support(preds,y)[0])\n",
    "    tp=np.sum((preds-y)==0)\n",
    "    fp=np.sum((preds-y)!=0)\n",
    "    return tp/(tp+fp)\n",
    "\n",
    "\n",
    "def generate_predictions(key_list):\n",
    "    predictions = []\n",
    "    accuracys = []\n",
    "    feature_importances = []\n",
    "    for key in tqdm(key_list):\n",
    "        sample = df[(df['infobox_key'] == key[0]) &\n",
    "                        (df['property_name'] == key[1])]\n",
    "        # sample = df_pop.iloc[start:start+iloc]\n",
    "        # trainsize=round(len(sample)*0.8) # 20 % testdata\n",
    "        sample.drop(columns=[\"infobox_key\", \"page_title\",\n",
    "                    \"property_name\", \"template\",\"Unnamed: 0\",\"mean_change_frequency_all_previous\"], inplace=True)\n",
    "\n",
    "        trainset = sample[sample[\"value_valid_from\"] < datetime(2018, 8, 31)]\n",
    "        testset = sample[sample[\"value_valid_from\"] >= datetime(2018, 8, 31)]\n",
    "        testset = testset[testset[\"value_valid_from\"] < datetime(2019, 9, 1)]\n",
    "        if len(trainset) == 0 or len(testset) == 0:\n",
    "            continue\n",
    "        X_train = trainset.drop(columns=['days_until_next_change', 'timestamp','value_valid_from'])\n",
    "        y_train = trainset['days_until_next_change']\n",
    "\n",
    "        X_test = testset.drop(columns=['days_until_next_change', 'timestamp','value_valid_from'])\n",
    "        y_test = testset['days_until_next_change']\n",
    "        # x_last = sample.iloc[-1].drop(['days_until_next_change','timestamp']).values.reshape(1,-1)\n",
    "\n",
    "        # x_last_timestamp = datetime.datetime.strptime(sample.iloc[-1][\"timestamp\"],\"%Y-%m-%d\").date()\n",
    "        clf = RandomForestClassifier(random_state=0, n_estimators=10,max_features=\"auto\")\n",
    "        clf.fit(X_train, y_train)\n",
    "        preds = clf.predict(X_test)\n",
    "        predictions.append(preds)\n",
    "        # predictions.append(len(y_test))\n",
    "        accuracys.append(calc_precision(preds, y_test, 0))\n",
    "        feature_importances.append(clf.feature_importances_)\n",
    "\n",
    "    return predictions,y_test, accuracys, feature_importances\n",
    "\n",
    "def generate_predictions_fw(key_list,clf):\n",
    "    predictions = []\n",
    "    accuracys = []\n",
    "    feature_importances = []\n",
    "    for key in tqdm(key_list):\n",
    "        sample = df[(df['infobox_key'] == key[0]) &\n",
    "                        (df['property_name'] == key[1])]\n",
    "        # sample = df_pop.iloc[start:start+iloc]\n",
    "        # trainsize=round(len(sample)*0.8) # 20 % testdata\n",
    "        sample.drop(columns=[\"infobox_key\", \"page_title\",\n",
    "                    \"property_name\", \"template\",\"Unnamed: 0\",\"mean_change_frequency_all_previous\"], inplace=True)\n",
    "\n",
    "        trainset = sample[sample[\"value_valid_from\"] < datetime(2018, 8, 31)]\n",
    "        testset = sample[sample[\"value_valid_from\"] >= datetime(2018, 8, 31)]\n",
    "        testset = testset[testset[\"value_valid_from\"] < datetime(2019, 9, 1)]\n",
    "        print(trainset.shape,testset.shape)\n",
    "        if len(trainset) == 0 or len(testset) == 0:\n",
    "            continue\n",
    "        X_train = trainset.drop(columns=['days_until_next_change', 'timestamp','value_valid_from'])\n",
    "        y_train = trainset['days_until_next_change']\n",
    "\n",
    "        X_test = testset.drop(columns=['days_until_next_change', 'timestamp','value_valid_from'])\n",
    "        y_test = testset['days_until_next_change']\n",
    "        # x_last = sample.iloc[-1].drop(['days_until_next_change','timestamp']).values.reshape(1,-1)\n",
    "\n",
    "        # x_last_timestamp = datetime.datetime.strptime(sample.iloc[-1][\"timestamp\"],\"%Y-%m-%d\").date()\n",
    "        preds = clf.predict(X_test)\n",
    "        predictions.append(preds)\n",
    "        # predictions.append(len(y_test))\n",
    "        accuracys.append(calc_precision(preds, y_test, 0))\n",
    "        feature_importances.append(clf.feature_importances_)\n",
    "\n",
    "    return predictions,y_test, accuracys, feature_importances\n",
    "\n"
   ]
  },
  {
   "cell_type": "code",
   "execution_count": null,
   "id": "dd31cf10",
   "metadata": {},
   "outputs": [],
   "source": [
    "# keys = [(\"254442624-0\",\"num_episodes\")]\n",
    "keys = [(\"12241251-0\" ,\"num_episodes\"),(\"254442624-0\",\"num_episodes\")]\n",
    "cols=['day_of_year', 'day_of_month', 'day_of_week', 'month_of_year',\n",
    "       'quarter_of_year', 'is_month_start', 'is_month_end', 'is_quarter_start',\n",
    "       'is_quarter_end', 'days_since_last_change', 'days_since_last_2_changes',\n",
    "       'days_since_last_3_changes', 'days_between_last_and_2nd_to_last_change', 'mean_change_frequency_last_3']\n",
    "preds,y_test, precs,feat_imps=generate_predictions(keys)\n",
    "print(precs)\n",
    "# pd.Series(feat_imps[0],index=cols).sort_values(ascending=False)"
   ]
  },
  {
   "cell_type": "code",
   "execution_count": null,
   "id": "37e24e72",
   "metadata": {},
   "outputs": [],
   "source": [
    "# # np.average(precs,weights=weights)\n",
    "# preds\n",
    "# y_test.to_numpy()\n",
    "# ((preds[0]-y_test.to_numpy())==0).sum()#/len(y_test)\n",
    "# # len(preds[0])"
   ]
  },
  {
   "cell_type": "code",
   "execution_count": null,
   "id": "725ba65c",
   "metadata": {},
   "outputs": [],
   "source": [
    "# ttt=[3,1,1,1,1,3,1,2,4,1,3,1,1,1,1,3,1,1,1,1,3,1,1,2,1,2,2,1,1,1,1,1,4,1,1,2,1,4,1,1,1,1,1,2,2,1,1,2,2,1,3,1,1,2,1,3,1,1,2,1,3,1,2,2,1,2,2,1,1,1,1,1,1,1,1,5,1,1,1,2,1,1,4,3,1,1,1,3,1,1,1,3,1,1,4,1,1,3,3,1,1,2,1,5,1,1,1,1,3,1,1,1,3,1,1,1,3,1,1,1,1,3,1,1,1,3,1,1,2,3,3,1,1,1,3,1,3,1,1,1,2,1,1,1,1,1,1,4,2,1,1,1,3,2,1,1,1,1,1,1,2,1,1,1,3,1,1,1,1,3,1,1,1,1,3,1,1,1,3,3,1,1,3,1,1,7,1,1,1,1,3,1,1,1,1,3,1,1,1,1,3,1,1,3,1,1,3,3,1,1,1]\n",
    "# ((ttt-y_test.to_numpy()[:-1])==0).sum()/len(y_test)\n",
    "# framework.data[\"value_valid_from\"] = pd.to_datetime(framework.data[\"value_valid_from\"]).dt.tz_localize(None)"
   ]
  },
  {
   "cell_type": "code",
   "execution_count": null,
   "id": "77dd1b71",
   "metadata": {},
   "outputs": [],
   "source": [
    "# keys = test[2000<test].index.to_list()<\n",
    "# bucket_df = data_df[(data_df['infobox_key'] == keys[0][0]) & (data_df['property_name'] == keys[0][1])]\n",
    "bucket_df=framework.data[:10000]\n",
    "for key in keys:\n",
    "    bucket_df = bucket_df.append(\n",
    "        data_df[(data_df['infobox_key'] == key[0]) & (data_df['property_name'] == key[1])])\n",
    "framework.data = bucket_df\n",
    "group_key=['infobox_key', 'property_name']\n",
    "framework.data[\"key\"] = list(\n",
    "            zip(*[framework.data[group_key] for group_key in framework.group_key])\n",
    "        )\n",
    "framework.fit_model()\n",
    "framework.test_model(randomize=False, predict_subset=1)"
   ]
  },
  {
   "cell_type": "code",
   "execution_count": null,
   "id": "a9a9bc71",
   "metadata": {},
   "outputs": [],
   "source": [
    "fw_model=framework.predictor.regressors[keys[0]]\n",
    "preds_fw,y_test_fw, precs_fw,feat_imps_fw=generate_predictions_fw(keys,fw_model)\n",
    "print(precs_fw)"
   ]
  },
  {
   "cell_type": "code",
   "execution_count": null,
   "id": "80d93e22",
   "metadata": {},
   "outputs": [],
   "source": [
    "print(preds_fw)\n",
    "print(preds)"
   ]
  },
  {
   "cell_type": "code",
   "execution_count": null,
   "id": "b6542500",
   "metadata": {},
   "outputs": [],
   "source": [
    "group_key=['infobox_key', 'property_name']\n",
    "framework.data[\"key\"] = list(\n",
    "            zip(*[framework.data[group_key] for group_key in framework.group_key])\n",
    "        )"
   ]
  },
  {
   "cell_type": "code",
   "execution_count": null,
   "id": "4b978981-a40b-475d-936f-6a8983d740d0",
   "metadata": {},
   "outputs": [],
   "source": [
    "framework.fit_model()"
   ]
  },
  {
   "cell_type": "code",
   "execution_count": null,
   "id": "026aa247-3a30-482c-ab30-dc3c24a883eb",
   "metadata": {},
   "outputs": [],
   "source": [
    "framework.test_model(randomize=False, predict_subset=0.5)"
   ]
  },
  {
   "cell_type": "code",
   "execution_count": null,
   "id": "a84a90de",
   "metadata": {},
   "outputs": [],
   "source": []
  },
  {
   "cell_type": "code",
   "execution_count": null,
   "id": "1619c914",
   "metadata": {},
   "outputs": [],
   "source": [
    "# test = df.groupby(['infobox_key', 'property_name']).count()[\"day_of_year\"].sort_values(ascending=False)"
   ]
  },
  {
   "cell_type": "code",
   "execution_count": null,
   "id": "158f42d6",
   "metadata": {},
   "outputs": [],
   "source": [
    "# len(test)"
   ]
  },
  {
   "cell_type": "code",
   "execution_count": null,
   "id": "60dbe213",
   "metadata": {},
   "outputs": [],
   "source": [
    "from datetime import datetime\n",
    "df=framework.data\n",
    "test = df[df[\"value_valid_from\"]<datetime(2018, 9, 1)].groupby(['infobox_key', 'property_name'],sort=False).count()[\"day_of_year\"]"
   ]
  },
  {
   "cell_type": "code",
   "execution_count": null,
   "id": "81d0a644",
   "metadata": {},
   "outputs": [],
   "source": [
    "keys = test[((0<test) & (test<=10))].index.to_list()\n",
    "bucket_df = data_df[(data_df['infobox_key'] == keys[0][0]) & (data_df['property_name'] == keys[0][1])]\n",
    "for key in keys[1:]:\n",
    "    bucket_df = bucket_df.append(\n",
    "        data_df[(data_df['infobox_key'] == key[0]) & (data_df['property_name'] == key[1])])\n",
    "framework.data = bucket_df\n",
    "framework.fit_model()\n",
    "framework.test_model(randomize=False, predict_subset=0.5)\n"
   ]
  },
  {
   "cell_type": "code",
   "execution_count": null,
   "id": "41c6e7d4",
   "metadata": {},
   "outputs": [],
   "source": [
    "framework.test_model(randomize=False, predict_subset=0.5)"
   ]
  },
  {
   "cell_type": "code",
   "execution_count": null,
   "id": "e17cb32f",
   "metadata": {},
   "outputs": [],
   "source": [
    "importances = pd.read_csv('../../../data/rf_feature_importances_1000rfs.csv',index_col=0)"
   ]
  },
  {
   "cell_type": "code",
   "execution_count": null,
   "id": "9787f639",
   "metadata": {},
   "outputs": [],
   "source": [
    "importances.describe()"
   ]
  },
  {
   "cell_type": "code",
   "execution_count": null,
   "id": "f231d53e",
   "metadata": {},
   "outputs": [],
   "source": []
  }
 ],
 "metadata": {
  "kernelspec": {
   "display_name": "Python 3",
   "language": "python",
   "name": "python3"
  },
  "language_info": {
   "codemirror_mode": {
    "name": "ipython",
    "version": 3
   },
   "file_extension": ".py",
   "mimetype": "text/x-python",
   "name": "python",
   "nbconvert_exporter": "python",
   "pygments_lexer": "ipython3",
   "version": "3.6.9"
  }
 },
 "nbformat": 4,
 "nbformat_minor": 5
}
