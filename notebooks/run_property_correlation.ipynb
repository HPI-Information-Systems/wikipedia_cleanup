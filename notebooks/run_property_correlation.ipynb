{
 "cells": [
  {
   "cell_type": "code",
   "execution_count": null,
   "id": "7d20b310",
   "metadata": {},
   "outputs": [],
   "source": [
    "%load_ext autoreload\n",
    "%autoreload 2\n",
    "%config Completer.use_jedi = False"
   ]
  },
  {
   "cell_type": "code",
   "execution_count": null,
   "id": "c36734d8",
   "metadata": {},
   "outputs": [],
   "source": [
    "from pathlib import Path\n",
    "\n",
    "from wikipedia_cleanup.data_filter import KeepAttributesDataFilter, generate_default_filters\n",
    "from wikipedia_cleanup.predict import TrainAndPredictFramework\n",
    "from wikipedia_cleanup.predictor import ZeroPredictor, OnePredictor, MeanPredictor, RandomPredictor\n",
    "from wikipedia_cleanup.property_correlation import PropertyCorrelationPredictor"
   ]
  },
  {
   "cell_type": "code",
   "execution_count": null,
   "id": "3e1626ec-9b02-423e-8a04-7dc59da2f7d2",
   "metadata": {},
   "outputs": [],
   "source": [
    "n_files = 2\n",
    "n_jobs = 4\n",
    "input_path = Path(\"../../data/custom-format-default-filtered/\")\n",
    "#input_path = Path(\"/run/media/secret/manjaro-home/secret/mp-data/custom-format-default-filtered\")\n",
    "model = PropertyCorrelationPredictor(use_cache=True)\n",
    "framework = TrainAndPredictFramework(model, group_key=['infobox_key', 'property_name'])"
   ]
  },
  {
   "cell_type": "code",
   "execution_count": null,
   "id": "0d688f42-ed87-493a-ab89-888805dee8c6",
   "metadata": {},
   "outputs": [],
   "source": [
    "framework.load_data(input_path, n_files, n_jobs)"
   ]
  },
  {
   "cell_type": "code",
   "execution_count": null,
   "id": "4b978981-a40b-475d-936f-6a8983d740d0",
   "metadata": {},
   "outputs": [],
   "source": [
    "framework.fit_model()"
   ]
  },
  {
   "cell_type": "code",
   "execution_count": null,
   "id": "026aa247-3a30-482c-ab30-dc3c24a883eb",
   "metadata": {},
   "outputs": [],
   "source": [
    "framework.test_model()"
   ]
  },
  {
   "cell_type": "code",
   "execution_count": null,
   "id": "0a274d74-fe0a-4faf-94c9-a06908d85bfd",
   "metadata": {},
   "outputs": [],
   "source": [
    "n_files=8\n",
    "n_jobs=4\n",
    "input_path = Path(\"../../data/custom-format-default-filtered/\")\n",
    "keep_filter = KeepAttributesDataFilter(['infobox_key', 'property_name', 'page_id', 'value_valid_from'])\n",
    "\n",
    "data = get_data(input_path,n_files=n_files, n_jobs=n_jobs, filters=[keep_filter])"
   ]
  },
  {
   "cell_type": "code",
   "execution_count": null,
   "id": "5a8db5a2-3bbf-451a-a8f9-f57e7e1db206",
   "metadata": {},
   "outputs": [],
   "source": [
    "    "
   ]
  },
  {
   "cell_type": "code",
   "execution_count": null,
   "id": "974aa915-b059-4c75-b005-4374b1f2014f",
   "metadata": {},
   "outputs": [],
   "source": [
    "data['value_valid_from'] = data['value_valid_from'].dt.tz_localize(None)"
   ]
  },
  {
   "cell_type": "code",
   "execution_count": null,
   "id": "d8eee5a7-ac2f-4bad-9775-ced691ae814f",
   "metadata": {},
   "outputs": [],
   "source": [
    "test_dates = pd.date_range(datetime(2015,1,1), datetime(2015,1,20) + timedelta(days=5))\n"
   ]
  },
  {
   "cell_type": "code",
   "execution_count": null,
   "id": "a7e20521-32f8-4c88-a4e1-c6ab91eb618f",
   "metadata": {},
   "outputs": [],
   "source": [
    "[date in data[data['page_id'] == 650095]['value_valid_from'] for date in test_dates]"
   ]
  },
  {
   "cell_type": "code",
   "execution_count": null,
   "id": "7f119607-851b-4494-9da1-5324bd880d25",
   "metadata": {},
   "outputs": [],
   "source": [
    "data[data['page_id'] == 650095]"
   ]
  },
  {
   "cell_type": "code",
   "execution_count": null,
   "id": "133d3ff5",
   "metadata": {},
   "outputs": [],
   "source": [
    "testset_start = datetime(2018,9,1)\n",
    "testset_duration = 365\n",
    "total_time_window = timedelta(testset_duration)#days\n",
    "testset_end = testset_start + total_time_window\n",
    "time_offset = timedelta(1)"
   ]
  },
  {
   "cell_type": "code",
   "execution_count": null,
   "id": "363de13c",
   "metadata": {},
   "outputs": [],
   "source": [
    "class ZeroPredictor:\n",
    "    def predict_day(self, change_data, current_day):\n",
    "        return False\n",
    "    def predict_week(self, change_data, current_day):\n",
    "        return self.predict_day(change_data, current_day)\n",
    "    def predict_month(self, change_data, current_day):\n",
    "        return self.predict_day(change_data, current_day)\n",
    "    def predict_year(self, change_data, current_day):\n",
    "        return self.predict_day(change_data, current_day)\n",
    "\n",
    "class DummyPredictor(ZeroPredictor):\n",
    "    def predict_day(self, change_data, current_day):\n",
    "        pred = next_change(change_data)\n",
    "        if pred is None:\n",
    "            return False\n",
    "        return pred - current_day <= timedelta(1)"
   ]
  },
  {
   "cell_type": "code",
   "execution_count": null,
   "id": "b51838aa-9061-40a9-90e6-f0e4d2b80eef",
   "metadata": {},
   "outputs": [],
   "source": [
    "# number of changes in our testing period\n",
    "((data['value_valid_from'] > testset_start) & (data['value_valid_from'] < (testset_start+total_time_window))).sum()"
   ]
  },
  {
   "cell_type": "code",
   "execution_count": null,
   "id": "877edffa-4d59-467c-9b2c-c29f3ad736cc",
   "metadata": {},
   "outputs": [],
   "source": [
    "class Predictor:\n",
    "    @staticmethod\n",
    "    def get_relevant_attributes():\n",
    "        return\n",
    "    \n",
    "    def fit(self, train_data, last_day):\n",
    "        pass\n",
    "    \n",
    "    def predict_day(self, data, current_day):\n",
    "        return False\n",
    "    \n",
    "    def predict_week(self, data, current_day):\n",
    "        return False\n",
    "\n",
    "    def predict_month(self, data, current_day):\n",
    "        return False\n",
    "\n",
    "    def get_relevant_ids(self, identifier):\n",
    "        return list(identifier)"
   ]
  },
  {
   "cell_type": "code",
   "execution_count": null,
   "id": "a14cb3f7-7afb-48bf-a195-0c22c92b46bb",
   "metadata": {},
   "outputs": [],
   "source": [
    "class TrainAndPredictFramework:\n",
    "    \n",
    "    def start_pipeline(self):\n",
    "        \n",
    "        "
   ]
  },
  {
   "cell_type": "code",
   "execution_count": null,
   "id": "b5b71505-3f79-4d10-a6cc-6ff063bf56e5",
   "metadata": {},
   "outputs": [],
   "source": [
    "data[data['value_valid_from'] < testset_start]"
   ]
  },
  {
   "cell_type": "code",
   "execution_count": null,
   "id": "0894b707-0fd2-404a-97c2-43389dde221a",
   "metadata": {},
   "outputs": [],
   "source": [
    "#property_change_history = data.groupby(['infobox_key', 'property_name'])[\"value_valid_from\"].agg(list)+\n",
    "property_change_history = data.groupby(['page_id'])[\"value_valid_from\"].agg(list)"
   ]
  }
 ],
 "metadata": {
  "kernelspec": {
   "display_name": "Python 3",
   "language": "python",
   "name": "python3"
  },
  "language_info": {
   "codemirror_mode": {
    "name": "ipython",
    "version": 3
   },
   "file_extension": ".py",
   "mimetype": "text/x-python",
   "name": "python",
   "nbconvert_exporter": "python",
   "pygments_lexer": "ipython3",
   "version": "3.6.9"
  }
 },
 "nbformat": 4,
 "nbformat_minor": 5
}
