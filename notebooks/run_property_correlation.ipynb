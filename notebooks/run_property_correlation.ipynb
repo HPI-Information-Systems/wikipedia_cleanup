{
 "cells": [
  {
   "cell_type": "code",
   "execution_count": 40,
   "id": "7d20b310",
   "metadata": {},
   "outputs": [
    {
     "name": "stdout",
     "output_type": "stream",
     "text": [
      "The autoreload extension is already loaded. To reload it, use:\n",
      "  %reload_ext autoreload\n"
     ]
    }
   ],
   "source": [
    "%load_ext autoreload\n",
    "%autoreload 2\n",
    "%config Completer.use_jedi = False"
   ]
  },
  {
   "cell_type": "code",
   "execution_count": 60,
   "id": "c36734d8",
   "metadata": {},
   "outputs": [],
   "source": [
    "from pathlib import Path\n",
    "\n",
    "from wikipedia_cleanup.data_filter import KeepAttributesDataFilter, generate_default_filters\n",
    "from wikipedia_cleanup.predict import TrainAndPredictFramework\n",
    "from wikipedia_cleanup.predictor import ZeroPredictor, OnePredictor, MeanPredictor, RandomPredictor\n",
    "from wikipedia_cleanup.property_correlation import PropertyCorrelationPredictor\n",
    "from wikipedia_cleanup.random_forest import RandomForestPredictor\n",
    "\n",
    "import pandas as pd"
   ]
  },
  {
   "cell_type": "code",
   "execution_count": 131,
   "id": "3e1626ec-9b02-423e-8a04-7dc59da2f7d2",
   "metadata": {},
   "outputs": [],
   "source": [
    "n_files = 2\n",
    "n_jobs = 8\n",
    "#input_path = Path(\"../data/test\")\n",
    "#input_path = Path(\"../../data/custom-format-default-filtered/\")\n",
    "#input_path = Path(\"/run/media/secret/manjaro-home/secret/mp-data/custom-format-default-filtered\")\n",
    "model = RandomForestPredictor(use_cache=False)\n",
    "framework = TrainAndPredictFramework(model, group_key=['infobox_key', 'property_name'])"
   ]
  },
  {
   "cell_type": "code",
   "execution_count": 157,
   "id": "1a1506fa",
   "metadata": {},
   "outputs": [],
   "source": [
    "framework.data = pd.read_csv('../data/popular_data_with_features.csv')[:10000]"
   ]
  },
  {
   "cell_type": "code",
   "execution_count": 158,
   "id": "f65913d5",
   "metadata": {},
   "outputs": [],
   "source": [
    "framework.data[\"value_valid_from\"] = pd.to_datetime(framework.data[\"value_valid_from\"]).dt.tz_localize(None)"
   ]
  },
  {
   "cell_type": "code",
   "execution_count": 159,
   "id": "a9a9bc71",
   "metadata": {},
   "outputs": [],
   "source": [
    "framework.data.drop(columns='template', inplace=True)"
   ]
  },
  {
   "cell_type": "code",
   "execution_count": 160,
   "id": "b6542500",
   "metadata": {},
   "outputs": [],
   "source": [
    "group_key=['infobox_key', 'property_name']\n",
    "framework.data[\"key\"] = list(\n",
    "            zip(*[framework.data[group_key] for group_key in framework.group_key])\n",
    "        )"
   ]
  },
  {
   "cell_type": "code",
   "execution_count": 161,
   "id": "4b978981-a40b-475d-936f-6a8983d740d0",
   "metadata": {},
   "outputs": [
    {
     "name": "stderr",
     "output_type": "stream",
     "text": [
      "100%|██████████| 1002/1002 [01:14<00:00, 13.47it/s]\n"
     ]
    }
   ],
   "source": [
    "framework.fit_model()"
   ]
  },
  {
   "cell_type": "code",
   "execution_count": 167,
   "id": "026aa247-3a30-482c-ab30-dc3c24a883eb",
   "metadata": {},
   "outputs": [
    {
     "name": "stdout",
     "output_type": "stream",
     "text": [
      "Predicting only 1.00% percent of the data.\n"
     ]
    },
    {
     "name": "stderr",
     "output_type": "stream",
     "text": [
      "100%|██████████| 11/11 [00:30<00:00,  2.77s/it]"
     ]
    },
    {
     "name": "stdout",
     "output_type": "stream",
     "text": [
      "day \t\t\tchanges \tno changes\n",
      "Precision:\t\t0.1579 \t\t0.998\n",
      "Recall:\t\t\t0.2727 \t\t0.996\n",
      "F1score:\t\t0.2 \t\t0.997\n",
      "Changes of Data:\t0.2740%, \tTotal: 11\n",
      "Changes of Pred:\t0.4732%, \tTotal: 19\n",
      "\n",
      "week \t\t\tchanges \tno changes\n",
      "Precision:\t\t0.3 \t\t0.9878\n",
      "Recall:\t\t\t0.3 \t\t0.9878\n",
      "F1score:\t\t0.3 \t\t0.9878\n",
      "Changes of Data:\t1.7153%, \tTotal: 10\n",
      "Changes of Pred:\t1.7153%, \tTotal: 10\n",
      "\n",
      "month \t\t\tchanges \tno changes\n",
      "Precision:\t\t0.625 \t\t0.9704\n",
      "Recall:\t\t\t0.5556 \t\t0.9776\n",
      "F1score:\t\t0.5882 \t\t0.974\n",
      "Changes of Data:\t6.2937%, \tTotal: 9\n",
      "Changes of Pred:\t5.5944%, \tTotal: 8\n",
      "\n",
      "year \t\t\tchanges \tno changes\n",
      "Precision:\t\t0.75 \t\t1.0\n",
      "Recall:\t\t\t1.0 \t\t0.875\n",
      "F1score:\t\t0.8571 \t\t0.9333\n",
      "Changes of Data:\t27.2727%, \tTotal: 3\n",
      "Changes of Pred:\t36.3636%, \tTotal: 4\n",
      "\n"
     ]
    },
    {
     "name": "stderr",
     "output_type": "stream",
     "text": [
      "\n"
     ]
    },
    {
     "data": {
      "text/plain": [
       "[(array([0.997998  , 0.15789474]),\n",
       "  array([0.996004  , 0.27272727]),\n",
       "  array([0.997, 0.2  ]),\n",
       "  array([4004,   11])),\n",
       " (array([0.9877836, 0.3      ]),\n",
       "  array([0.9877836, 0.3      ]),\n",
       "  array([0.9877836, 0.3      ]),\n",
       "  array([573,  10])),\n",
       " (array([0.97037037, 0.625     ]),\n",
       "  array([0.97761194, 0.55555556]),\n",
       "  array([0.9739777 , 0.58823529]),\n",
       "  array([134,   9])),\n",
       " (array([1.  , 0.75]),\n",
       "  array([0.875, 1.   ]),\n",
       "  array([0.93333333, 0.85714286]),\n",
       "  array([8, 3]))]"
      ]
     },
     "execution_count": 167,
     "metadata": {},
     "output_type": "execute_result"
    }
   ],
   "source": [
    "framework.test_model(randomize=True, predict_subset=0.01)"
   ]
  },
  {
   "cell_type": "code",
   "execution_count": null,
   "id": "36727360",
   "metadata": {},
   "outputs": [],
   "source": []
  },
  {
   "cell_type": "code",
   "execution_count": null,
   "id": "a84a90de",
   "metadata": {},
   "outputs": [],
   "source": []
  },
  {
   "cell_type": "code",
   "execution_count": null,
   "id": "1619c914",
   "metadata": {},
   "outputs": [],
   "source": []
  }
 ],
 "metadata": {
  "kernelspec": {
   "display_name": "Python 3",
   "language": "python",
   "name": "python3"
  },
  "language_info": {
   "codemirror_mode": {
    "name": "ipython",
    "version": 3
   },
   "file_extension": ".py",
   "mimetype": "text/x-python",
   "name": "python",
   "nbconvert_exporter": "python",
   "pygments_lexer": "ipython3",
   "version": "3.6.9"
  }
 },
 "nbformat": 4,
 "nbformat_minor": 5
}
