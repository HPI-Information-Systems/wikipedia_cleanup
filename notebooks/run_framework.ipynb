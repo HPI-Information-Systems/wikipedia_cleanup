{
 "cells": [
  {
   "cell_type": "code",
   "execution_count": null,
   "id": "7d20b310",
   "metadata": {},
   "outputs": [],
   "source": [
    "%load_ext autoreload\n",
    "%autoreload 2\n",
    "%config Completer.use_jedi = False"
   ]
  },
  {
   "cell_type": "code",
   "execution_count": null,
   "id": "c36734d8",
   "metadata": {},
   "outputs": [],
   "source": [
    "from pathlib import Path\n",
    "\n",
    "from wikipedia_cleanup.data_filter import KeepAttributesDataFilter, generate_default_filters\n",
    "from wikipedia_cleanup.predict import TrainAndPredictFramework\n",
    "from wikipedia_cleanup.predictor import ZeroPredictor, OnePredictor, MeanPredictor, RandomPredictor, LastChangePredictor\n",
    "from wikipedia_cleanup.property_correlation import PropertyCorrelationPredictor\n",
    "from wikipedia_cleanup.random_forest import RandomForestPredictor\n",
    "from wikipedia_cleanup.ensemble import OrEnsemble, AndEnsemble, AverageEnsemble\n",
    "from wikipedia_cleanup.ar import AssociationRulesTemplatePredictor, AssociationRulesPredictor, AssociationRulesInfoboxPredictor"
   ]
  },
  {
   "cell_type": "code",
   "execution_count": null,
   "id": "3e1626ec-9b02-423e-8a04-7dc59da2f7d2",
   "metadata": {},
   "outputs": [],
   "source": [
    "n_files = 30\n",
    "n_jobs = 6\n",
    "input_path = Path(\"/run/media/secret/manjaro-home/secret/mp-data/new_costum_filtered_format_with_features\")\n",
    "input_path = Path(\"../../data/new_costum_filtered_format_with_features/\")\n",
    "#model = PropertyCorrelationPredictor(use_cache=True)\n",
    "#model = RandomForestPredictor(use_cache=True)\n",
    "# model = MeanPredictor()\n",
    "# MeanPredictor(), LastChangePredictor()\n",
    "predictors = [PropertyCorrelationPredictor(use_cache=True), AssociationRulesTemplatePredictor()]#, \n",
    "\n",
    "#model = AveragingEnsemble(predictors)\n",
    "model = OrEnsemble(predictors)\n",
    "#model = AndEnsemble(predictors)\n",
    "#model = AverageEnsemble(predictors)"
   ]
  },
  {
   "cell_type": "code",
   "execution_count": null,
   "id": "208701c7-9686-4b10-837b-e35eb3285734",
   "metadata": {},
   "outputs": [],
   "source": [
    "framework = TrainAndPredictFramework(model, group_key=['infobox_key', 'property_name'])"
   ]
  },
  {
   "cell_type": "code",
   "execution_count": null,
   "id": "0d688f42-ed87-493a-ab89-888805dee8c6",
   "metadata": {},
   "outputs": [],
   "source": [
    "framework.load_data(input_path, n_files, n_jobs, static_attribute_path=Path(\"../../data/avg_dynamic.csv\"))"
   ]
  },
  {
   "cell_type": "code",
   "execution_count": null,
   "id": "c974ab61-db1a-4adc-a70f-81f592c954be",
   "metadata": {},
   "outputs": [],
   "source": [
    "framework.fit_model()"
   ]
  },
  {
   "cell_type": "code",
   "execution_count": null,
   "id": "026aa247-3a30-482c-ab30-dc3c24a883eb",
   "metadata": {},
   "outputs": [],
   "source": [
    "x = framework.test_model(predict_subset=1, save_results=False)\n",
    "print(x)"
   ]
  },
  {
   "cell_type": "code",
   "execution_count": null,
   "id": "f8d0ea0a-eac5-41fc-bd34-34757f8d2ed9",
   "metadata": {},
   "outputs": [],
   "source": [
    "framework.generate_plots()"
   ]
  },
  {
   "cell_type": "code",
   "execution_count": null,
   "id": "b23dc19a-c1a2-4b74-a889-eb3aab1b0911",
   "metadata": {},
   "outputs": [],
   "source": []
  }
 ],
 "metadata": {
  "kernelspec": {
   "display_name": "Python 3",
   "language": "python",
   "name": "python3"
  },
  "language_info": {
   "codemirror_mode": {
    "name": "ipython",
    "version": 3
   },
   "file_extension": ".py",
   "mimetype": "text/x-python",
   "name": "python",
   "nbconvert_exporter": "python",
   "pygments_lexer": "ipython3",
   "version": "3.6.9"
  }
 },
 "nbformat": 4,
 "nbformat_minor": 5
}
